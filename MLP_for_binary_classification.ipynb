{
  "nbformat": 4,
  "nbformat_minor": 0,
  "metadata": {
    "colab": {
      "name": "MLP for binary classification.ipynb",
      "provenance": [],
      "include_colab_link": true
    },
    "kernelspec": {
      "name": "python3",
      "display_name": "Python 3"
    }
  },
  "cells": [
    {
      "cell_type": "markdown",
      "metadata": {
        "id": "view-in-github",
        "colab_type": "text"
      },
      "source": [
        "<a href=\"https://colab.research.google.com/github/amamra-abdenour/Deep_Learning_Python/blob/master/MLP_for_binary_classification.ipynb\" target=\"_parent\"><img src=\"https://colab.research.google.com/assets/colab-badge.svg\" alt=\"Open In Colab\"/></a>"
      ]
    },
    {
      "cell_type": "code",
      "metadata": {
        "id": "U-ZenQU9Qp6m",
        "colab_type": "code",
        "colab": {
          "base_uri": "https://localhost:8080/",
          "height": 887
        },
        "outputId": "91de55dc-3f8e-4d49-ba28-733b45175fff"
      },
      "source": [
        "import keras\n",
        "from keras import Sequential\n",
        "from keras.layers import Dense, Activation, Dropout\n",
        "from keras.optimizers import SGD\n",
        "import numpy as np\n",
        "#Step 1 Data preparation\n",
        "x_train = np.random.rand(1000,20)\n",
        "y_train = np.random.randint(10,size=(1000,1))\n",
        "y_train = keras.utils.to_categorical(y_train)\n",
        "print(x_train.shape,y_train.shape)\n",
        "x_test = np.random.rand(100,20)\n",
        "y_test = np.random.randint(10,size=(100,1))\n",
        "y_test = keras.utils.to_categorical(y_test)\n",
        "print(x_test.shape,y_test.shape)\n",
        "\n",
        "#Step 2 Network architectue\n",
        "model = Sequential()\n",
        "model.add(Dense(64,activation='relu',input_dim=20))\n",
        "model.add(Dropout(0.5))\n",
        "model.add(Dense(32,activation='relu'))\n",
        "model.add(Dropout(0.5))\n",
        "model.add(Dense(10,activation='sigmoid'))\n",
        "\n",
        "#Step 2 Network \n",
        "sgd = SGD(lr=0.01,decay=0.9,momentum=0.9,nesterov=True)\n",
        "model.compile(optimizer=sgd,\n",
        "              loss = \"binary_crossentropy\",\n",
        "              metrics=['accuracy'])\n",
        "\n",
        "#Step 3 Network training\n",
        "model.fit(x_train, y_train, epochs=20, batch_size=128)\n",
        "\n",
        "#Step 4 Evaluate\n",
        "model.evaluate(x_test,y_test,batch_size=128)"
      ],
      "execution_count": 8,
      "outputs": [
        {
          "output_type": "stream",
          "text": [
            "(1000, 20) (1000, 10)\n",
            "(100, 20) (100, 10)\n",
            "WARNING:tensorflow:From /usr/local/lib/python3.6/dist-packages/keras/backend/tensorflow_backend.py:3657: The name tf.log is deprecated. Please use tf.math.log instead.\n",
            "\n",
            "WARNING:tensorflow:From /usr/local/lib/python3.6/dist-packages/tensorflow/python/ops/nn_impl.py:180: add_dispatch_support.<locals>.wrapper (from tensorflow.python.ops.array_ops) is deprecated and will be removed in a future version.\n",
            "Instructions for updating:\n",
            "Use tf.where in 2.0, which has the same broadcast rule as np.where\n",
            "Epoch 1/20\n",
            "1000/1000 [==============================] - 1s 743us/step - loss: 0.7112 - acc: 0.5354\n",
            "Epoch 2/20\n",
            "1000/1000 [==============================] - 0s 17us/step - loss: 0.7033 - acc: 0.5426\n",
            "Epoch 3/20\n",
            "1000/1000 [==============================] - 0s 16us/step - loss: 0.6866 - acc: 0.5635\n",
            "Epoch 4/20\n",
            "1000/1000 [==============================] - 0s 17us/step - loss: 0.6834 - acc: 0.5721\n",
            "Epoch 5/20\n",
            "1000/1000 [==============================] - 0s 16us/step - loss: 0.6722 - acc: 0.5826\n",
            "Epoch 6/20\n",
            "1000/1000 [==============================] - 0s 17us/step - loss: 0.6698 - acc: 0.5916\n",
            "Epoch 7/20\n",
            "1000/1000 [==============================] - 0s 16us/step - loss: 0.6684 - acc: 0.5862\n",
            "Epoch 8/20\n",
            "1000/1000 [==============================] - 0s 16us/step - loss: 0.6662 - acc: 0.5894\n",
            "Epoch 9/20\n",
            "1000/1000 [==============================] - 0s 17us/step - loss: 0.6658 - acc: 0.5988\n",
            "Epoch 10/20\n",
            "1000/1000 [==============================] - 0s 18us/step - loss: 0.6658 - acc: 0.5911\n",
            "Epoch 11/20\n",
            "1000/1000 [==============================] - 0s 20us/step - loss: 0.6603 - acc: 0.6029\n",
            "Epoch 12/20\n",
            "1000/1000 [==============================] - 0s 16us/step - loss: 0.6624 - acc: 0.6016\n",
            "Epoch 13/20\n",
            "1000/1000 [==============================] - 0s 18us/step - loss: 0.6596 - acc: 0.6066\n",
            "Epoch 14/20\n",
            "1000/1000 [==============================] - 0s 16us/step - loss: 0.6607 - acc: 0.6007\n",
            "Epoch 15/20\n",
            "1000/1000 [==============================] - 0s 16us/step - loss: 0.6606 - acc: 0.6031\n",
            "Epoch 16/20\n",
            "1000/1000 [==============================] - 0s 15us/step - loss: 0.6565 - acc: 0.6128\n",
            "Epoch 17/20\n",
            "1000/1000 [==============================] - 0s 16us/step - loss: 0.6602 - acc: 0.6001\n",
            "Epoch 18/20\n",
            "1000/1000 [==============================] - 0s 17us/step - loss: 0.6571 - acc: 0.6007\n",
            "Epoch 19/20\n",
            "1000/1000 [==============================] - 0s 15us/step - loss: 0.6518 - acc: 0.6126\n",
            "Epoch 20/20\n",
            "1000/1000 [==============================] - 0s 17us/step - loss: 0.6571 - acc: 0.6122\n",
            "100/100 [==============================] - 0s 394us/step\n"
          ],
          "name": "stdout"
        },
        {
          "output_type": "execute_result",
          "data": {
            "text/plain": [
              "[0.6218167543411255, 0.671999990940094]"
            ]
          },
          "metadata": {
            "tags": []
          },
          "execution_count": 8
        }
      ]
    }
  ]
}