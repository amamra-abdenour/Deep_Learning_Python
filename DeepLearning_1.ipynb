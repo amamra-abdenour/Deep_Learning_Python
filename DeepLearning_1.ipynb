{
  "nbformat": 4,
  "nbformat_minor": 0,
  "metadata": {
    "colab": {
      "name": "DeepLearning_1.ipynb",
      "provenance": [],
      "collapsed_sections": [],
      "include_colab_link": true
    },
    "kernelspec": {
      "name": "python3",
      "display_name": "Python 3"
    },
    "accelerator": "GPU"
  },
  "cells": [
    {
      "cell_type": "markdown",
      "metadata": {
        "id": "view-in-github",
        "colab_type": "text"
      },
      "source": [
        "<a href=\"https://colab.research.google.com/github/amamra-abdenour/Deep_Learning_Python/blob/master/DeepLearning_1.ipynb\" target=\"_parent\"><img src=\"https://colab.research.google.com/assets/colab-badge.svg\" alt=\"Open In Colab\"/></a>"
      ]
    },
    {
      "cell_type": "code",
      "metadata": {
        "id": "ecLIFlaSFADd",
        "colab_type": "code",
        "colab": {}
      },
      "source": [
        "from keras import *\n",
        "from keras.layers import Dense, Activation, Flatten\n",
        "from keras.models import Sequential\n",
        "from keras.datasets import mnist\n",
        "from keras.optimizers import SGD\n",
        "from keras.losses import categorical_crossentropy, binary_crossentropy,mean_squared_error\n"
      ],
      "execution_count": 0,
      "outputs": []
    },
    {
      "cell_type": "code",
      "metadata": {
        "id": "-rkRYTvkKbvA",
        "colab_type": "code",
        "outputId": "af028154-524e-4588-e0dd-ce1364b4b5af",
        "colab": {
          "base_uri": "https://localhost:8080/",
          "height": 87
        }
      },
      "source": [
        "(x_train, y_train),(x_test,y_test) = mnist.load_data()\n",
        "print(x_train.shape)\n",
        "print(y_train.shape)"
      ],
      "execution_count": 0,
      "outputs": [
        {
          "output_type": "stream",
          "text": [
            "(60000, 28, 28)\n",
            "(60000,)\n",
            "(60000, 28, 28)\n",
            "(60000,)\n"
          ],
          "name": "stdout"
        }
      ]
    },
    {
      "cell_type": "code",
      "metadata": {
        "id": "DCObxTkFOxLG",
        "colab_type": "code",
        "outputId": "ba1cdaa5-a294-49f3-d80a-9d6cfb6b7ab4",
        "colab": {
          "base_uri": "https://localhost:8080/",
          "height": 87
        }
      },
      "source": [
        "from keras.utils import to_categorical\n",
        "y_train = to_categorical(y_train)\n",
        "y_test = to_categorical(y_test)\n",
        "print(y_train.shape)\n",
        "print(y_test.shape)"
      ],
      "execution_count": 0,
      "outputs": [
        {
          "output_type": "stream",
          "text": [
            "(60000, 10)\n",
            "(10000, 10)\n",
            "(60000, 10)\n",
            "(10000, 10)\n"
          ],
          "name": "stdout"
        }
      ]
    },
    {
      "cell_type": "code",
      "metadata": {
        "id": "C12CTCf_KkEk",
        "colab_type": "code",
        "outputId": "3882619e-537c-4aab-d7da-dc419b431042",
        "colab": {
          "base_uri": "https://localhost:8080/",
          "height": 661
        }
      },
      "source": [
        "model = Sequential()\n",
        "model.add(Flatten(input_shape=(28, 28)))\n",
        "model.add(Dense( 64, activation = 'relu'))\n",
        "model.add(Dense( 10, activation='softmax'))\n",
        "print(model.summary())"
      ],
      "execution_count": 0,
      "outputs": [
        {
          "output_type": "stream",
          "text": [
            "WARNING:tensorflow:From /usr/local/lib/python3.6/dist-packages/keras/backend/tensorflow_backend.py:66: The name tf.get_default_graph is deprecated. Please use tf.compat.v1.get_default_graph instead.\n",
            "\n",
            "WARNING:tensorflow:From /usr/local/lib/python3.6/dist-packages/keras/backend/tensorflow_backend.py:541: The name tf.placeholder is deprecated. Please use tf.compat.v1.placeholder instead.\n",
            "\n",
            "WARNING:tensorflow:From /usr/local/lib/python3.6/dist-packages/keras/backend/tensorflow_backend.py:4432: The name tf.random_uniform is deprecated. Please use tf.random.uniform instead.\n",
            "\n",
            "Model: \"sequential_1\"\n",
            "_________________________________________________________________\n",
            "Layer (type)                 Output Shape              Param #   \n",
            "=================================================================\n",
            "flatten_1 (Flatten)          (None, 784)               0         \n",
            "_________________________________________________________________\n",
            "dense_1 (Dense)              (None, 64)                50240     \n",
            "_________________________________________________________________\n",
            "dense_2 (Dense)              (None, 10)                650       \n",
            "=================================================================\n",
            "Total params: 50,890\n",
            "Trainable params: 50,890\n",
            "Non-trainable params: 0\n",
            "_________________________________________________________________\n",
            "None\n",
            "Model: \"sequential_2\"\n",
            "_________________________________________________________________\n",
            "Layer (type)                 Output Shape              Param #   \n",
            "=================================================================\n",
            "flatten_2 (Flatten)          (None, 784)               0         \n",
            "_________________________________________________________________\n",
            "dense_3 (Dense)              (None, 64)                50240     \n",
            "_________________________________________________________________\n",
            "dense_4 (Dense)              (None, 10)                650       \n",
            "=================================================================\n",
            "Total params: 50,890\n",
            "Trainable params: 50,890\n",
            "Non-trainable params: 0\n",
            "_________________________________________________________________\n",
            "None\n"
          ],
          "name": "stdout"
        }
      ]
    },
    {
      "cell_type": "code",
      "metadata": {
        "id": "bTYsO4bHKnRj",
        "colab_type": "code",
        "outputId": "f32ada8a-0524-4b44-f56f-fb0916c5fbc5",
        "colab": {
          "base_uri": "https://localhost:8080/",
          "height": 107
        }
      },
      "source": [
        "model.compile(loss=categorical_crossentropy ,\n",
        "              optimizer=SGD(lr=0.01,momentum=0.9,nesterov=True),\n",
        "              metrics=['accuracy'])"
      ],
      "execution_count": 0,
      "outputs": [
        {
          "output_type": "stream",
          "text": [
            "WARNING:tensorflow:From /usr/local/lib/python3.6/dist-packages/keras/optimizers.py:793: The name tf.train.Optimizer is deprecated. Please use tf.compat.v1.train.Optimizer instead.\n",
            "\n",
            "WARNING:tensorflow:From /usr/local/lib/python3.6/dist-packages/keras/backend/tensorflow_backend.py:3576: The name tf.log is deprecated. Please use tf.math.log instead.\n",
            "\n"
          ],
          "name": "stdout"
        }
      ]
    },
    {
      "cell_type": "code",
      "metadata": {
        "id": "fqy29PnXKrCL",
        "colab_type": "code",
        "colab": {}
      },
      "source": [
        "#model.fit(x_train, y_train, epochs=5, batch_size=32)"
      ],
      "execution_count": 0,
      "outputs": []
    },
    {
      "cell_type": "code",
      "metadata": {
        "id": "uOBd7GL5lxgO",
        "colab_type": "code",
        "outputId": "7305c1d2-4d87-44aa-ea60-02e63f221ea2",
        "colab": {
          "base_uri": "https://localhost:8080/",
          "height": 89
        }
      },
      "source": [
        "model2= Sequential()\n",
        "model2.add(Dense(10, input_shape=(100,)))\n",
        "# For a multi-class classification problem\n",
        "model2.compile(optimizer='SGD',\n",
        "               loss='categorical_crossentropy',\n",
        "               metrics = ['accuracy'])\n",
        "\n",
        "model2.compile(optimizer='Adam',\n",
        "               loss='binary_crossentropy',\n",
        "               metrics=['binary_accuracy']    \n",
        ")\n",
        "\n",
        "model2.compile(optimizer='RMSprop',\n",
        "               loss='mean_squared_error',\n",
        "               metrics=['categorical_accuracy']\n",
        ")"
      ],
      "execution_count": 0,
      "outputs": [
        {
          "output_type": "stream",
          "text": [
            "WARNING:tensorflow:From /usr/local/lib/python3.6/dist-packages/tensorflow/python/ops/nn_impl.py:180: add_dispatch_support.<locals>.wrapper (from tensorflow.python.ops.array_ops) is deprecated and will be removed in a future version.\n",
            "Instructions for updating:\n",
            "Use tf.where in 2.0, which has the same broadcast rule as np.where\n"
          ],
          "name": "stdout"
        }
      ]
    },
    {
      "cell_type": "code",
      "metadata": {
        "id": "gDcQ0VawJHvv",
        "colab_type": "code",
        "colab": {}
      },
      "source": [
        "import keras.backend as K\n",
        "def mean_pred(y_true, y_pred):\n",
        "  return K.mean(y_true - y_pred)\n",
        "  \n",
        "model2.compile(optimizer='RMSprop',\n",
        "               loss='binary_crossentropy',\n",
        "               metrics=['accuracy',mean_pred]\n",
        ")"
      ],
      "execution_count": 0,
      "outputs": []
    },
    {
      "cell_type": "code",
      "metadata": {
        "id": "qU14iW_aJnMQ",
        "colab_type": "code",
        "outputId": "34d919f0-5cfb-4d89-cc87-f8d66d73ba85",
        "colab": {
          "base_uri": "https://localhost:8080/",
          "height": 69
        }
      },
      "source": [
        "import numpy as np\n",
        "N = 10\n",
        "x_train = np.random.rand(N)\n",
        "y_train=[]\n",
        "for i in range(N):\n",
        "  if x_train[i] > 0.5:\n",
        "    y_train.append(1)\n",
        "  else:\n",
        "    y_train.append(0)\n",
        "print(x_train, x_train.shape)\n",
        "y_train = np.array(y_train)\n",
        "print(y_train, y_train.shape)"
      ],
      "execution_count": 0,
      "outputs": [
        {
          "output_type": "stream",
          "text": [
            "[0.62155168 0.49013158 0.21686191 0.6406932  0.78244877 0.46553026\n",
            " 0.64854271 0.26781705 0.58642232 0.09924778] (10,)\n",
            "[1 0 0 1 1 0 1 0 1 0] (10,)\n"
          ],
          "name": "stdout"
        }
      ]
    },
    {
      "cell_type": "code",
      "metadata": {
        "id": "RZtSocL0LGg3",
        "colab_type": "code",
        "outputId": "3e1c7b41-0c35-4419-8016-c6a8186c0f6c",
        "colab": {
          "base_uri": "https://localhost:8080/",
          "height": 1000
        }
      },
      "source": [
        "model = Sequential()\n",
        "model.add(Dense(5, activation='relu', input_shape=(1,)))\n",
        "model.add(Dense(1,activation='sigmoid'))\n",
        "model.compile(optimizer = 'RMSprop',\n",
        "              loss = 'binary_crossentropy',\n",
        "              metrics=['accuracy']\n",
        ")\n",
        "model.fit(x_train,y_train,epochs=100)"
      ],
      "execution_count": 0,
      "outputs": [
        {
          "output_type": "stream",
          "text": [
            "Epoch 1/100\n",
            "\r10/10 [==============================] - 0s 20ms/step - loss: 0.6488 - acc: 0.5000\n",
            "Epoch 2/100\n",
            "10/10 [==============================] - 0s 800us/step - loss: 0.6473 - acc: 0.5000\n",
            "Epoch 3/100\n",
            "10/10 [==============================] - 0s 408us/step - loss: 0.6462 - acc: 0.5000\n",
            "Epoch 4/100\n",
            "10/10 [==============================] - 0s 473us/step - loss: 0.6453 - acc: 0.5000\n",
            "Epoch 5/100\n",
            "10/10 [==============================] - 0s 531us/step - loss: 0.6445 - acc: 0.5000\n",
            "Epoch 6/100\n",
            "10/10 [==============================] - 0s 562us/step - loss: 0.6437 - acc: 0.5000\n",
            "Epoch 7/100\n",
            "10/10 [==============================] - 0s 446us/step - loss: 0.6430 - acc: 0.5000\n",
            "Epoch 8/100\n",
            "10/10 [==============================] - 0s 512us/step - loss: 0.6424 - acc: 0.5000\n",
            "Epoch 9/100\n",
            "10/10 [==============================] - 0s 488us/step - loss: 0.6417 - acc: 0.5000\n",
            "Epoch 10/100\n",
            "10/10 [==============================] - 0s 541us/step - loss: 0.6411 - acc: 0.5000\n",
            "Epoch 11/100\n",
            "10/10 [==============================] - 0s 370us/step - loss: 0.6406 - acc: 0.5000\n",
            "Epoch 12/100\n",
            "10/10 [==============================] - 0s 586us/step - loss: 0.6401 - acc: 0.5000\n",
            "Epoch 13/100\n",
            "10/10 [==============================] - 0s 499us/step - loss: 0.6396 - acc: 0.5000\n",
            "Epoch 14/100\n",
            "10/10 [==============================] - 0s 680us/step - loss: 0.6391 - acc: 0.5000\n",
            "Epoch 15/100\n",
            "10/10 [==============================] - 0s 558us/step - loss: 0.6386 - acc: 0.5000\n",
            "Epoch 16/100\n",
            "10/10 [==============================] - 0s 458us/step - loss: 0.6381 - acc: 0.5000\n",
            "Epoch 17/100\n",
            "10/10 [==============================] - 0s 396us/step - loss: 0.6377 - acc: 0.5000\n",
            "Epoch 18/100\n",
            "10/10 [==============================] - 0s 434us/step - loss: 0.6372 - acc: 0.6000\n",
            "Epoch 19/100\n",
            "10/10 [==============================] - 0s 347us/step - loss: 0.6368 - acc: 0.6000\n",
            "Epoch 20/100\n",
            "10/10 [==============================] - 0s 646us/step - loss: 0.6363 - acc: 0.6000\n",
            "Epoch 21/100\n",
            "10/10 [==============================] - 0s 373us/step - loss: 0.6358 - acc: 0.6000\n",
            "Epoch 22/100\n",
            "10/10 [==============================] - 0s 400us/step - loss: 0.6354 - acc: 0.6000\n",
            "Epoch 23/100\n",
            "10/10 [==============================] - 0s 421us/step - loss: 0.6349 - acc: 0.6000\n",
            "Epoch 24/100\n",
            "10/10 [==============================] - 0s 418us/step - loss: 0.6345 - acc: 0.6000\n",
            "Epoch 25/100\n",
            "10/10 [==============================] - 0s 431us/step - loss: 0.6341 - acc: 0.6000\n",
            "Epoch 26/100\n",
            "10/10 [==============================] - 0s 514us/step - loss: 0.6336 - acc: 0.6000\n",
            "Epoch 27/100\n",
            "10/10 [==============================] - 0s 423us/step - loss: 0.6332 - acc: 0.6000\n",
            "Epoch 28/100\n",
            "10/10 [==============================] - 0s 576us/step - loss: 0.6327 - acc: 0.6000\n",
            "Epoch 29/100\n",
            "10/10 [==============================] - 0s 495us/step - loss: 0.6323 - acc: 0.6000\n",
            "Epoch 30/100\n",
            "10/10 [==============================] - 0s 672us/step - loss: 0.6318 - acc: 0.6000\n",
            "Epoch 31/100\n",
            "10/10 [==============================] - 0s 872us/step - loss: 0.6314 - acc: 0.6000\n",
            "Epoch 32/100\n",
            "10/10 [==============================] - 0s 427us/step - loss: 0.6310 - acc: 0.6000\n",
            "Epoch 33/100\n",
            "10/10 [==============================] - 0s 536us/step - loss: 0.6306 - acc: 0.6000\n",
            "Epoch 34/100\n",
            "10/10 [==============================] - 0s 622us/step - loss: 0.6302 - acc: 0.6000\n",
            "Epoch 35/100\n",
            "10/10 [==============================] - 0s 404us/step - loss: 0.6298 - acc: 0.6000\n",
            "Epoch 36/100\n",
            "10/10 [==============================] - 0s 402us/step - loss: 0.6294 - acc: 0.6000\n",
            "Epoch 37/100\n",
            "10/10 [==============================] - 0s 363us/step - loss: 0.6290 - acc: 0.6000\n",
            "Epoch 38/100\n",
            "10/10 [==============================] - 0s 515us/step - loss: 0.6286 - acc: 0.6000\n",
            "Epoch 39/100\n",
            "10/10 [==============================] - 0s 784us/step - loss: 0.6282 - acc: 0.6000\n",
            "Epoch 40/100\n",
            "10/10 [==============================] - 0s 720us/step - loss: 0.6278 - acc: 0.6000\n",
            "Epoch 41/100\n",
            "10/10 [==============================] - 0s 632us/step - loss: 0.6274 - acc: 0.6000\n",
            "Epoch 42/100\n",
            "10/10 [==============================] - 0s 482us/step - loss: 0.6270 - acc: 0.6000\n",
            "Epoch 43/100\n",
            "10/10 [==============================] - 0s 536us/step - loss: 0.6266 - acc: 0.6000\n",
            "Epoch 44/100\n",
            "10/10 [==============================] - 0s 503us/step - loss: 0.6262 - acc: 0.6000\n",
            "Epoch 45/100\n",
            "10/10 [==============================] - 0s 661us/step - loss: 0.6258 - acc: 0.6000\n",
            "Epoch 46/100\n",
            "10/10 [==============================] - 0s 435us/step - loss: 0.6255 - acc: 0.6000\n",
            "Epoch 47/100\n",
            "10/10 [==============================] - 0s 533us/step - loss: 0.6251 - acc: 0.6000\n",
            "Epoch 48/100\n",
            "10/10 [==============================] - 0s 603us/step - loss: 0.6247 - acc: 0.6000\n",
            "Epoch 49/100\n",
            "10/10 [==============================] - 0s 464us/step - loss: 0.6244 - acc: 0.6000\n",
            "Epoch 50/100\n",
            "10/10 [==============================] - 0s 588us/step - loss: 0.6240 - acc: 0.6000\n",
            "Epoch 51/100\n",
            "10/10 [==============================] - 0s 458us/step - loss: 0.6236 - acc: 0.6000\n",
            "Epoch 52/100\n",
            "10/10 [==============================] - 0s 584us/step - loss: 0.6233 - acc: 0.6000\n",
            "Epoch 53/100\n",
            "10/10 [==============================] - 0s 514us/step - loss: 0.6229 - acc: 0.6000\n",
            "Epoch 54/100\n",
            "10/10 [==============================] - 0s 457us/step - loss: 0.6226 - acc: 0.6000\n",
            "Epoch 55/100\n",
            "10/10 [==============================] - 0s 471us/step - loss: 0.6222 - acc: 0.6000\n",
            "Epoch 56/100\n",
            "10/10 [==============================] - 0s 449us/step - loss: 0.6219 - acc: 0.6000\n",
            "Epoch 57/100\n",
            "10/10 [==============================] - 0s 507us/step - loss: 0.6215 - acc: 0.6000\n",
            "Epoch 58/100\n",
            "10/10 [==============================] - 0s 465us/step - loss: 0.6211 - acc: 0.6000\n",
            "Epoch 59/100\n",
            "10/10 [==============================] - 0s 467us/step - loss: 0.6208 - acc: 0.6000\n",
            "Epoch 60/100\n",
            "10/10 [==============================] - 0s 543us/step - loss: 0.6204 - acc: 0.6000\n",
            "Epoch 61/100\n",
            "10/10 [==============================] - 0s 457us/step - loss: 0.6201 - acc: 0.6000\n",
            "Epoch 62/100\n",
            "10/10 [==============================] - 0s 600us/step - loss: 0.6197 - acc: 0.6000\n",
            "Epoch 63/100\n",
            "10/10 [==============================] - 0s 513us/step - loss: 0.6193 - acc: 0.6000\n",
            "Epoch 64/100\n",
            "10/10 [==============================] - 0s 491us/step - loss: 0.6190 - acc: 0.6000\n",
            "Epoch 65/100\n",
            "10/10 [==============================] - 0s 578us/step - loss: 0.6186 - acc: 0.7000\n",
            "Epoch 66/100\n",
            "10/10 [==============================] - 0s 543us/step - loss: 0.6182 - acc: 0.7000\n",
            "Epoch 67/100\n",
            "10/10 [==============================] - 0s 512us/step - loss: 0.6179 - acc: 0.7000\n",
            "Epoch 68/100\n",
            "10/10 [==============================] - 0s 654us/step - loss: 0.6175 - acc: 0.7000\n",
            "Epoch 69/100\n",
            "10/10 [==============================] - 0s 657us/step - loss: 0.6171 - acc: 0.7000\n",
            "Epoch 70/100\n",
            "10/10 [==============================] - 0s 523us/step - loss: 0.6168 - acc: 0.7000\n",
            "Epoch 71/100\n",
            "10/10 [==============================] - 0s 487us/step - loss: 0.6164 - acc: 0.7000\n",
            "Epoch 72/100\n",
            "10/10 [==============================] - 0s 582us/step - loss: 0.6160 - acc: 0.7000\n",
            "Epoch 73/100\n",
            "10/10 [==============================] - 0s 479us/step - loss: 0.6157 - acc: 0.7000\n",
            "Epoch 74/100\n",
            "10/10 [==============================] - 0s 510us/step - loss: 0.6153 - acc: 0.7000\n",
            "Epoch 75/100\n",
            "10/10 [==============================] - 0s 483us/step - loss: 0.6149 - acc: 0.7000\n",
            "Epoch 76/100\n",
            "10/10 [==============================] - 0s 861us/step - loss: 0.6146 - acc: 0.7000\n",
            "Epoch 77/100\n",
            "10/10 [==============================] - 0s 855us/step - loss: 0.6142 - acc: 0.7000\n",
            "Epoch 78/100\n",
            "10/10 [==============================] - 0s 830us/step - loss: 0.6139 - acc: 0.7000\n",
            "Epoch 79/100\n",
            "10/10 [==============================] - 0s 565us/step - loss: 0.6135 - acc: 0.7000\n",
            "Epoch 80/100\n",
            "10/10 [==============================] - 0s 546us/step - loss: 0.6132 - acc: 0.7000\n",
            "Epoch 81/100\n",
            "10/10 [==============================] - 0s 547us/step - loss: 0.6128 - acc: 0.7000\n",
            "Epoch 82/100\n",
            "10/10 [==============================] - 0s 462us/step - loss: 0.6125 - acc: 0.7000\n",
            "Epoch 83/100\n",
            "10/10 [==============================] - 0s 520us/step - loss: 0.6121 - acc: 0.7000\n",
            "Epoch 84/100\n",
            "10/10 [==============================] - 0s 489us/step - loss: 0.6118 - acc: 0.7000\n",
            "Epoch 85/100\n",
            "10/10 [==============================] - 0s 470us/step - loss: 0.6114 - acc: 0.7000\n",
            "Epoch 86/100\n",
            "10/10 [==============================] - 0s 600us/step - loss: 0.6111 - acc: 0.7000\n",
            "Epoch 87/100\n",
            "10/10 [==============================] - 0s 455us/step - loss: 0.6107 - acc: 0.7000\n",
            "Epoch 88/100\n",
            "10/10 [==============================] - 0s 513us/step - loss: 0.6104 - acc: 0.7000\n",
            "Epoch 89/100\n",
            "10/10 [==============================] - 0s 467us/step - loss: 0.6100 - acc: 0.7000\n",
            "Epoch 90/100\n",
            "10/10 [==============================] - 0s 485us/step - loss: 0.6096 - acc: 0.7000\n",
            "Epoch 91/100\n",
            "10/10 [==============================] - 0s 501us/step - loss: 0.6093 - acc: 0.7000\n",
            "Epoch 92/100\n",
            "10/10 [==============================] - 0s 547us/step - loss: 0.6089 - acc: 0.7000\n",
            "Epoch 93/100\n",
            "10/10 [==============================] - 0s 493us/step - loss: 0.6086 - acc: 0.7000\n",
            "Epoch 94/100\n",
            "10/10 [==============================] - 0s 542us/step - loss: 0.6082 - acc: 0.7000\n",
            "Epoch 95/100\n",
            "10/10 [==============================] - 0s 463us/step - loss: 0.6079 - acc: 0.7000\n",
            "Epoch 96/100\n",
            "10/10 [==============================] - 0s 524us/step - loss: 0.6075 - acc: 0.7000\n",
            "Epoch 97/100\n",
            "10/10 [==============================] - 0s 412us/step - loss: 0.6072 - acc: 0.7000\n",
            "Epoch 98/100\n",
            "10/10 [==============================] - 0s 571us/step - loss: 0.6068 - acc: 0.7000\n",
            "Epoch 99/100\n",
            "10/10 [==============================] - 0s 442us/step - loss: 0.6064 - acc: 0.8000\n",
            "Epoch 100/100\n",
            "10/10 [==============================] - 0s 400us/step - loss: 0.6061 - acc: 0.8000\n"
          ],
          "name": "stdout"
        },
        {
          "output_type": "execute_result",
          "data": {
            "text/plain": [
              "<keras.callbacks.History at 0x7f87611ce048>"
            ]
          },
          "metadata": {
            "tags": []
          },
          "execution_count": 23
        }
      ]
    },
    {
      "cell_type": "code",
      "metadata": {
        "id": "EprpsyswMNXn",
        "colab_type": "code",
        "outputId": "267e39f9-ee01-4f75-ef22-3e8ec7584495",
        "colab": {
          "base_uri": "https://localhost:8080/",
          "height": 72
        }
      },
      "source": [
        "x_test = np.random.rand(10)\n",
        "y_pred = model.predict(x_test)\n",
        "result=[]\n",
        "print(type(y_pred))\n",
        "for x,y in  zip(x_test, y_pred):\n",
        "  result.append((x,y))\n",
        "print(result )"
      ],
      "execution_count": 0,
      "outputs": [
        {
          "output_type": "stream",
          "text": [
            "<class 'numpy.ndarray'>\n",
            "[(0.43417980021710345, array([0.55065453], dtype=float32)), (0.5140139375921804, array([0.5752198], dtype=float32)), (0.7639183619745716, array([0.6492597], dtype=float32)), (0.23545780463634902, array([0.48868537], dtype=float32)), (0.7098103553459264, array([0.6336953], dtype=float32)), (0.4321882405190285, array([0.55003804], dtype=float32)), (0.7490077198893565, array([0.6450005], dtype=float32)), (0.6076483041953589, array([0.60355693], dtype=float32)), (0.871058944804096, array([0.6791371], dtype=float32)), (0.4926130097232251, array([0.56866586], dtype=float32))]\n"
          ],
          "name": "stdout"
        }
      ]
    }
  ]
}