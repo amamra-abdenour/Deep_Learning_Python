{
  "nbformat": 4,
  "nbformat_minor": 0,
  "metadata": {
    "colab": {
      "name": "Sequence with 1D CNN.ipynb",
      "provenance": [],
      "include_colab_link": true
    },
    "kernelspec": {
      "name": "python3",
      "display_name": "Python 3"
    }
  },
  "cells": [
    {
      "cell_type": "markdown",
      "metadata": {
        "id": "view-in-github",
        "colab_type": "text"
      },
      "source": [
        "<a href=\"https://colab.research.google.com/github/amamra-abdenour/Deep_Learning_Python/blob/master/Sequence_with_1D_CNN.ipynb\" target=\"_parent\"><img src=\"https://colab.research.google.com/assets/colab-badge.svg\" alt=\"Open In Colab\"/></a>"
      ]
    },
    {
      "cell_type": "code",
      "metadata": {
        "id": "V1nGqi83WvpE",
        "colab_type": "code",
        "colab": {
          "base_uri": "https://localhost:8080/",
          "height": 745
        },
        "outputId": "e3abf658-919c-44e3-a346-4173212a2d6c"
      },
      "source": [
        "import keras\n",
        "from keras.models import Sequential\n",
        "from keras.layers import Dense, Conv1D, Dropout, MaxPooling1D, GlobalAveragePooling1D\n",
        "import numpy as np\n",
        "\n",
        "time_steps = 32\n",
        "data_dim = 5\n",
        "\n",
        "x_train = np.random.random((1000,time_steps,data_dim))\n",
        "y_train = np.random.random((1000))\n",
        "\n",
        "x_val = np.random.random((100,time_steps,data_dim))\n",
        "y_val = np.random.random((100))\n",
        "\n",
        "model = Sequential()\n",
        "\n",
        "model.add(Conv1D(time_steps,(3), activation='relu', input_shape = (time_steps,data_dim)))\n",
        "model.add(Conv1D(time_steps,(3), activation='relu'))\n",
        "model.add(MaxPooling1D(3))\n",
        "\n",
        "model.add(Conv1D(128,(3), activation='relu'))\n",
        "model.add(Conv1D(128,(3), activation='relu'))\n",
        "model.add(GlobalAveragePooling1D())\n",
        "model.add(Dropout(0.25))\n",
        "\n",
        "model.add(Dense(1,activation='sigmoid'))\n",
        "\n",
        "model.compile(optimizer='rmsprop',\n",
        "              loss = 'binary_crossentropy',\n",
        "              metrics = ['accuracy']\n",
        ")\n",
        "\n",
        "model.fit(x_train, y_train, \n",
        "          validation_data = (x_val, y_val),\n",
        "          epochs=5, batch_size=32)"
      ],
      "execution_count": 6,
      "outputs": [
        {
          "output_type": "stream",
          "text": [
            "Train on 1000 samples, validate on 100 samples\n",
            "Epoch 1/20\n",
            "1000/1000 [==============================] - 1s 1ms/step - loss: 0.6947 - acc: 0.0000e+00 - val_loss: 0.6933 - val_acc: 0.0000e+00\n",
            "Epoch 2/20\n",
            "1000/1000 [==============================] - 0s 246us/step - loss: 0.6930 - acc: 0.0000e+00 - val_loss: 0.6937 - val_acc: 0.0000e+00\n",
            "Epoch 3/20\n",
            "1000/1000 [==============================] - 0s 267us/step - loss: 0.6938 - acc: 0.0000e+00 - val_loss: 0.6966 - val_acc: 0.0000e+00\n",
            "Epoch 4/20\n",
            "1000/1000 [==============================] - 0s 256us/step - loss: 0.6924 - acc: 0.0000e+00 - val_loss: 0.7133 - val_acc: 0.0000e+00\n",
            "Epoch 5/20\n",
            "1000/1000 [==============================] - 0s 262us/step - loss: 0.6911 - acc: 0.0000e+00 - val_loss: 0.7100 - val_acc: 0.0000e+00\n",
            "Epoch 6/20\n",
            "1000/1000 [==============================] - 0s 248us/step - loss: 0.6919 - acc: 0.0000e+00 - val_loss: 0.6965 - val_acc: 0.0000e+00\n",
            "Epoch 7/20\n",
            "1000/1000 [==============================] - 0s 263us/step - loss: 0.6893 - acc: 0.0000e+00 - val_loss: 0.7092 - val_acc: 0.0000e+00\n",
            "Epoch 8/20\n",
            "1000/1000 [==============================] - 0s 254us/step - loss: 0.6858 - acc: 0.0000e+00 - val_loss: 0.7561 - val_acc: 0.0000e+00\n",
            "Epoch 9/20\n",
            "1000/1000 [==============================] - 0s 255us/step - loss: 0.6850 - acc: 0.0000e+00 - val_loss: 0.7011 - val_acc: 0.0000e+00\n",
            "Epoch 10/20\n",
            "1000/1000 [==============================] - 0s 257us/step - loss: 0.6844 - acc: 0.0000e+00 - val_loss: 0.7286 - val_acc: 0.0000e+00\n",
            "Epoch 11/20\n",
            "1000/1000 [==============================] - 0s 263us/step - loss: 0.6809 - acc: 0.0000e+00 - val_loss: 0.7008 - val_acc: 0.0000e+00\n",
            "Epoch 12/20\n",
            "1000/1000 [==============================] - 0s 245us/step - loss: 0.6787 - acc: 0.0000e+00 - val_loss: 0.7266 - val_acc: 0.0000e+00\n",
            "Epoch 13/20\n",
            "1000/1000 [==============================] - 0s 262us/step - loss: 0.6749 - acc: 0.0000e+00 - val_loss: 0.7077 - val_acc: 0.0000e+00\n",
            "Epoch 14/20\n",
            "1000/1000 [==============================] - 0s 302us/step - loss: 0.6743 - acc: 0.0000e+00 - val_loss: 0.7553 - val_acc: 0.0000e+00\n",
            "Epoch 15/20\n",
            "1000/1000 [==============================] - 0s 254us/step - loss: 0.6692 - acc: 0.0000e+00 - val_loss: 0.7019 - val_acc: 0.0000e+00\n",
            "Epoch 16/20\n",
            "1000/1000 [==============================] - 0s 256us/step - loss: 0.6667 - acc: 0.0000e+00 - val_loss: 0.7342 - val_acc: 0.0000e+00\n",
            "Epoch 17/20\n",
            "1000/1000 [==============================] - 0s 248us/step - loss: 0.6603 - acc: 0.0000e+00 - val_loss: 0.7815 - val_acc: 0.0000e+00\n",
            "Epoch 18/20\n",
            "1000/1000 [==============================] - 0s 264us/step - loss: 0.6576 - acc: 0.0000e+00 - val_loss: 0.7866 - val_acc: 0.0000e+00\n",
            "Epoch 19/20\n",
            "1000/1000 [==============================] - 0s 263us/step - loss: 0.6546 - acc: 0.0000e+00 - val_loss: 0.7036 - val_acc: 0.0000e+00\n",
            "Epoch 20/20\n",
            "1000/1000 [==============================] - 0s 270us/step - loss: 0.6509 - acc: 0.0000e+00 - val_loss: 0.7095 - val_acc: 0.0000e+00\n"
          ],
          "name": "stdout"
        },
        {
          "output_type": "execute_result",
          "data": {
            "text/plain": [
              "<keras.callbacks.History at 0x7f60f49302e8>"
            ]
          },
          "metadata": {
            "tags": []
          },
          "execution_count": 6
        }
      ]
    }
  ]
}