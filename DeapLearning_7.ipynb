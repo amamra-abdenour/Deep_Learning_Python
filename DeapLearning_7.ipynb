{
  "nbformat": 4,
  "nbformat_minor": 0,
  "metadata": {
    "colab": {
      "name": "DeapLearning_7.ipynb",
      "provenance": [],
      "include_colab_link": true
    },
    "kernelspec": {
      "name": "python3",
      "display_name": "Python 3"
    }
  },
  "cells": [
    {
      "cell_type": "markdown",
      "metadata": {
        "id": "view-in-github",
        "colab_type": "text"
      },
      "source": [
        "<a href=\"https://colab.research.google.com/github/amamra-abdenour/Deep_Learning_Python/blob/master/DeapLearning_7.ipynb\" target=\"_parent\"><img src=\"https://colab.research.google.com/assets/colab-badge.svg\" alt=\"Open In Colab\"/></a>"
      ]
    },
    {
      "cell_type": "code",
      "metadata": {
        "id": "STDp3kRTyrCI",
        "colab_type": "code",
        "colab": {
          "base_uri": "https://localhost:8080/",
          "height": 1000
        },
        "outputId": "ddbbb6b8-0dad-4170-9ccc-1560262e3665"
      },
      "source": [
        "from keras.applications import VGG16\n",
        "\n",
        "conv_base = VGG16(weights='imagenet',\n",
        "                  include_top= False,\n",
        "                  input_shape=(150,150,3)\n",
        ")\n",
        "conv_base.summary()"
      ],
      "execution_count": 1,
      "outputs": [
        {
          "output_type": "stream",
          "text": [
            "WARNING:tensorflow:From /usr/local/lib/python3.6/dist-packages/keras/backend/tensorflow_backend.py:66: The name tf.get_default_graph is deprecated. Please use tf.compat.v1.get_default_graph instead.\n",
            "\n",
            "WARNING:tensorflow:From /usr/local/lib/python3.6/dist-packages/keras/backend/tensorflow_backend.py:541: The name tf.placeholder is deprecated. Please use tf.compat.v1.placeholder instead.\n",
            "\n",
            "WARNING:tensorflow:From /usr/local/lib/python3.6/dist-packages/keras/backend/tensorflow_backend.py:4432: The name tf.random_uniform is deprecated. Please use tf.random.uniform instead.\n",
            "\n",
            "WARNING:tensorflow:From /usr/local/lib/python3.6/dist-packages/keras/backend/tensorflow_backend.py:4267: The name tf.nn.max_pool is deprecated. Please use tf.nn.max_pool2d instead.\n",
            "\n",
            "Downloading data from https://github.com/fchollet/deep-learning-models/releases/download/v0.1/vgg16_weights_tf_dim_ordering_tf_kernels_notop.h5\n",
            "58892288/58889256 [==============================] - 2s 0us/step\n",
            "WARNING:tensorflow:From /usr/local/lib/python3.6/dist-packages/keras/backend/tensorflow_backend.py:190: The name tf.get_default_session is deprecated. Please use tf.compat.v1.get_default_session instead.\n",
            "\n",
            "WARNING:tensorflow:From /usr/local/lib/python3.6/dist-packages/keras/backend/tensorflow_backend.py:197: The name tf.ConfigProto is deprecated. Please use tf.compat.v1.ConfigProto instead.\n",
            "\n",
            "Model: \"vgg16\"\n",
            "_________________________________________________________________\n",
            "Layer (type)                 Output Shape              Param #   \n",
            "=================================================================\n",
            "input_1 (InputLayer)         (None, 150, 150, 3)       0         \n",
            "_________________________________________________________________\n",
            "block1_conv1 (Conv2D)        (None, 150, 150, 64)      1792      \n",
            "_________________________________________________________________\n",
            "block1_conv2 (Conv2D)        (None, 150, 150, 64)      36928     \n",
            "_________________________________________________________________\n",
            "block1_pool (MaxPooling2D)   (None, 75, 75, 64)        0         \n",
            "_________________________________________________________________\n",
            "block2_conv1 (Conv2D)        (None, 75, 75, 128)       73856     \n",
            "_________________________________________________________________\n",
            "block2_conv2 (Conv2D)        (None, 75, 75, 128)       147584    \n",
            "_________________________________________________________________\n",
            "block2_pool (MaxPooling2D)   (None, 37, 37, 128)       0         \n",
            "_________________________________________________________________\n",
            "block3_conv1 (Conv2D)        (None, 37, 37, 256)       295168    \n",
            "_________________________________________________________________\n",
            "block3_conv2 (Conv2D)        (None, 37, 37, 256)       590080    \n",
            "_________________________________________________________________\n",
            "block3_conv3 (Conv2D)        (None, 37, 37, 256)       590080    \n",
            "_________________________________________________________________\n",
            "block3_pool (MaxPooling2D)   (None, 18, 18, 256)       0         \n",
            "_________________________________________________________________\n",
            "block4_conv1 (Conv2D)        (None, 18, 18, 512)       1180160   \n",
            "_________________________________________________________________\n",
            "block4_conv2 (Conv2D)        (None, 18, 18, 512)       2359808   \n",
            "_________________________________________________________________\n",
            "block4_conv3 (Conv2D)        (None, 18, 18, 512)       2359808   \n",
            "_________________________________________________________________\n",
            "block4_pool (MaxPooling2D)   (None, 9, 9, 512)         0         \n",
            "_________________________________________________________________\n",
            "block5_conv1 (Conv2D)        (None, 9, 9, 512)         2359808   \n",
            "_________________________________________________________________\n",
            "block5_conv2 (Conv2D)        (None, 9, 9, 512)         2359808   \n",
            "_________________________________________________________________\n",
            "block5_conv3 (Conv2D)        (None, 9, 9, 512)         2359808   \n",
            "_________________________________________________________________\n",
            "block5_pool (MaxPooling2D)   (None, 4, 4, 512)         0         \n",
            "=================================================================\n",
            "Total params: 14,714,688\n",
            "Trainable params: 14,714,688\n",
            "Non-trainable params: 0\n",
            "_________________________________________________________________\n"
          ],
          "name": "stdout"
        }
      ]
    },
    {
      "cell_type": "code",
      "metadata": {
        "id": "l2wvM2TBEaOq",
        "colab_type": "code",
        "colab": {
          "base_uri": "https://localhost:8080/",
          "height": 208
        },
        "outputId": "bbec5928-0409-4f15-ab44-db810cc03773"
      },
      "source": [
        "!wget --no-check-certificate \\\n",
        "    https://storage.googleapis.com/mledu-datasets/cats_and_dogs_filtered.zip \\\n",
        "    -O /tmp/cats_and_dogs_filtered.zip"
      ],
      "execution_count": 2,
      "outputs": [
        {
          "output_type": "stream",
          "text": [
            "--2019-10-02 20:03:09--  https://storage.googleapis.com/mledu-datasets/cats_and_dogs_filtered.zip\n",
            "Resolving storage.googleapis.com (storage.googleapis.com)... 74.125.195.128, 2607:f8b0:400e:c06::80\n",
            "Connecting to storage.googleapis.com (storage.googleapis.com)|74.125.195.128|:443... connected.\n",
            "HTTP request sent, awaiting response... 200 OK\n",
            "Length: 68606236 (65M) [application/zip]\n",
            "Saving to: ‘/tmp/cats_and_dogs_filtered.zip’\n",
            "\n",
            "\r          /tmp/cats   0%[                    ]       0  --.-KB/s               \r         /tmp/cats_  13%[=>                  ]   8.78M  43.9MB/s               \r        /tmp/cats_a  48%[========>           ]  32.01M  66.1MB/s               \r/tmp/cats_and_dogs_ 100%[===================>]  65.43M   111MB/s    in 0.6s    \n",
            "\n",
            "2019-10-02 20:03:10 (111 MB/s) - ‘/tmp/cats_and_dogs_filtered.zip’ saved [68606236/68606236]\n",
            "\n"
          ],
          "name": "stdout"
        }
      ]
    },
    {
      "cell_type": "code",
      "metadata": {
        "id": "uFN6ox7iEeoP",
        "colab_type": "code",
        "colab": {}
      },
      "source": [
        "import zipfile\n",
        "with zipfile.ZipFile('/tmp/cats_and_dogs_filtered.zip', 'r') as zip_ref:\n",
        "    zip_ref.extractall('/content')"
      ],
      "execution_count": 0,
      "outputs": []
    },
    {
      "cell_type": "code",
      "metadata": {
        "id": "cilPAWRGF6-4",
        "colab_type": "code",
        "colab": {
          "base_uri": "https://localhost:8080/",
          "height": 235
        },
        "outputId": "826dc329-24ee-428e-e62b-2aed1284908c"
      },
      "source": [
        "import os\n",
        "import shutil\n",
        "\n",
        "dataset_dir = '/content/cats_and_dogs_filtered/'\n",
        "base_dir ='/content/cats_and_dogs_small/'\n",
        "os.mkdir(base_dir)\n",
        "\n"
      ],
      "execution_count": 5,
      "outputs": [
        {
          "output_type": "error",
          "ename": "FileExistsError",
          "evalue": "ignored",
          "traceback": [
            "\u001b[0;31m---------------------------------------------------------------------------\u001b[0m",
            "\u001b[0;31mFileExistsError\u001b[0m                           Traceback (most recent call last)",
            "\u001b[0;32m<ipython-input-5-bc52b7606f59>\u001b[0m in \u001b[0;36m<module>\u001b[0;34m()\u001b[0m\n\u001b[1;32m      4\u001b[0m \u001b[0mdataset_dir\u001b[0m \u001b[0;34m=\u001b[0m \u001b[0;34m'/content/cats_and_dogs_filtered/'\u001b[0m\u001b[0;34m\u001b[0m\u001b[0;34m\u001b[0m\u001b[0m\n\u001b[1;32m      5\u001b[0m \u001b[0mbase_dir\u001b[0m \u001b[0;34m=\u001b[0m\u001b[0;34m'/content/cats_and_dogs_small/'\u001b[0m\u001b[0;34m\u001b[0m\u001b[0;34m\u001b[0m\u001b[0m\n\u001b[0;32m----> 6\u001b[0;31m \u001b[0mos\u001b[0m\u001b[0;34m.\u001b[0m\u001b[0mmkdir\u001b[0m\u001b[0;34m(\u001b[0m\u001b[0mbase_dir\u001b[0m\u001b[0;34m)\u001b[0m\u001b[0;34m\u001b[0m\u001b[0;34m\u001b[0m\u001b[0m\n\u001b[0m\u001b[1;32m      7\u001b[0m \u001b[0;34m\u001b[0m\u001b[0m\n\u001b[1;32m      8\u001b[0m \u001b[0mtrain_dir\u001b[0m \u001b[0;34m=\u001b[0m \u001b[0mos\u001b[0m\u001b[0;34m.\u001b[0m\u001b[0mpath\u001b[0m\u001b[0;34m.\u001b[0m\u001b[0mjoin\u001b[0m\u001b[0;34m(\u001b[0m\u001b[0mbase_dir\u001b[0m\u001b[0;34m,\u001b[0m \u001b[0;34m'train'\u001b[0m\u001b[0;34m)\u001b[0m\u001b[0;34m\u001b[0m\u001b[0;34m\u001b[0m\u001b[0m\n",
            "\u001b[0;31mFileExistsError\u001b[0m: [Errno 17] File exists: '/content/cats_and_dogs_small/'"
          ]
        }
      ]
    },
    {
      "cell_type": "code",
      "metadata": {
        "id": "EZI76ZJ6LJuo",
        "colab_type": "code",
        "colab": {
          "base_uri": "https://localhost:8080/",
          "height": 131
        },
        "outputId": "0ace63dc-7564-4fa5-f0c5-b143b0867236"
      },
      "source": [
        "from os import listdir\n",
        "print(len(listdir(dataset_dir+'train/cats/')))\n",
        "listdir(dataset_dir+'train/cats/')"
      ],
      "execution_count": 26,
      "outputs": [
        {
          "output_type": "error",
          "ename": "SyntaxError",
          "evalue": "ignored",
          "traceback": [
            "\u001b[0;36m  File \u001b[0;32m\"<ipython-input-26-621301096593>\"\u001b[0;36m, line \u001b[0;32m2\u001b[0m\n\u001b[0;31m    print(len(listdir(4dataset_dir+'train/cats/')))\u001b[0m\n\u001b[0m                                 ^\u001b[0m\n\u001b[0;31mSyntaxError\u001b[0m\u001b[0;31m:\u001b[0m invalid syntax\n"
          ]
        }
      ]
    },
    {
      "cell_type": "code",
      "metadata": {
        "id": "GAJKEoH8GrNz",
        "colab_type": "code",
        "colab": {}
      },
      "source": [
        "train_dir = os.path.join(base_dir, 'train')\n",
        "os.mkdir(train_dir)\n",
        "\n",
        "validation_dir = os.path.join(base_dir, 'validation')\n",
        "os.mkdir(validation_dir)\n",
        "\n",
        "test_dir = os.path.join(base_dir, 'test')\n",
        "os.mkdir(test_dir)"
      ],
      "execution_count": 0,
      "outputs": []
    },
    {
      "cell_type": "code",
      "metadata": {
        "id": "Ch7TlbpxJZ-F",
        "colab_type": "code",
        "colab": {}
      },
      "source": [
        "validation_dir_cats = os.path.join(validation_dir, 'cats')\n",
        "os.mkdir(validation_dir_cats)\n",
        "\n",
        "validation_dir_dogs = os.path.join(validation_dir, 'dogs')\n",
        "os.mkdir(validation_dir_dogs)"
      ],
      "execution_count": 0,
      "outputs": []
    },
    {
      "cell_type": "code",
      "metadata": {
        "id": "1ElkDD_RHWif",
        "colab_type": "code",
        "colab": {}
      },
      "source": [
        "test_dir_cats = os.path.join(test_dir, 'cats')\n",
        "os.mkdir(test_dir_cats)\n",
        "\n",
        "test_dir_dogs = os.path.join(test_dir, 'dogs')\n",
        "os.mkdir(test_dir_dogs)\n"
      ],
      "execution_count": 0,
      "outputs": []
    },
    {
      "cell_type": "code",
      "metadata": {
        "id": "EcFXt9EMH3Gl",
        "colab_type": "code",
        "colab": {}
      },
      "source": [
        "train_dir_cats = os.path.join(train_dir, 'cats')\n",
        "os.mkdir(train_dir_cats)\n",
        "\n",
        "train_dir_dogs = os.path.join(train_dir, 'dogs')\n",
        "os.mkdir(train_dir_dogs)\n"
      ],
      "execution_count": 0,
      "outputs": []
    },
    {
      "cell_type": "code",
      "metadata": {
        "id": "P98BS9ceJvGT",
        "colab_type": "code",
        "colab": {}
      },
      "source": [
        "frames = listdir(dataset_dir+'train/cats/')\n",
        "for frame in frames:\n",
        "  src = os.path.join(dataset_dir+'train/cats/', frame)\n",
        "  dst = os.path.join(train_dir_cats,frame)\n",
        "  shutil.copyfile(src,dst)"
      ],
      "execution_count": 0,
      "outputs": []
    },
    {
      "cell_type": "code",
      "metadata": {
        "id": "7FZsgKNHL6dC",
        "colab_type": "code",
        "colab": {}
      },
      "source": [
        "frames = listdir(dataset_dir+'train/dogs/')\n",
        "for frame in frames:\n",
        "  src = os.path.join(dataset_dir+'train/dogs/', frame)\n",
        "  dst = os.path.join(train_dir_dogs,frame)\n",
        "  shutil.copyfile(src,dst)"
      ],
      "execution_count": 0,
      "outputs": []
    },
    {
      "cell_type": "code",
      "metadata": {
        "id": "p2pTCnynMFAP",
        "colab_type": "code",
        "colab": {}
      },
      "source": [
        "frames = listdir(dataset_dir+'validation/cats/')\n",
        "for frame in frames:\n",
        "  src = os.path.join(dataset_dir+'validation/cats/', frame)\n",
        "  dst = os.path.join(validation_dir_cats,frame)\n",
        "  shutil.copyfile(src,dst)"
      ],
      "execution_count": 0,
      "outputs": []
    },
    {
      "cell_type": "code",
      "metadata": {
        "id": "3ZoCy702MUGa",
        "colab_type": "code",
        "colab": {}
      },
      "source": [
        "frames = listdir(dataset_dir+'validation/dogs/')\n",
        "for frame in frames:\n",
        "  src = os.path.join(dataset_dir+'validation/dogs/', frame)\n",
        "  dst = os.path.join(validation_dir_dogs,frame)\n",
        "  shutil.copyfile(src,dst)"
      ],
      "execution_count": 0,
      "outputs": []
    },
    {
      "cell_type": "code",
      "metadata": {
        "id": "TZl_iuReMa4i",
        "colab_type": "code",
        "colab": {
          "base_uri": "https://localhost:8080/",
          "height": 87
        },
        "outputId": "499f3eff-f9b7-4f46-859c-195783d6c8f9"
      },
      "source": [
        "#sanity check\n",
        "print(len(listdir(train_dir_cats)))\n",
        "print(len(listdir(train_dir_dogs)))\n",
        "print(len(listdir(validation_dir_cats)))\n",
        "print(len(listdir(validation_dir_dogs)))"
      ],
      "execution_count": 25,
      "outputs": [
        {
          "output_type": "stream",
          "text": [
            "1000\n",
            "1000\n",
            "500\n",
            "500\n"
          ],
          "name": "stdout"
        }
      ]
    },
    {
      "cell_type": "code",
      "metadata": {
        "id": "vFf4vnv2EFw3",
        "colab_type": "code",
        "colab": {}
      },
      "source": [
        "import os\n",
        "import numpy as np\n",
        "from keras.preprocessing.image import ImageDataGenerator\n",
        "\n",
        "datagen = ImageDataGenerator(rescale=1./255)\n",
        "batch_size=20\n",
        "def extract_features(directory, sample_count):\n",
        "    features = np.zeros(shape = (sample_count,4, 4, 512))\n",
        "    labels = np.zeros(shape =  (sample_count))\n",
        "    generator = datagen.flow_from_directory(\n",
        "        directory,\n",
        "        target_size=(150,150),\n",
        "        batch_size=batch_size,\n",
        "        class_mode='binary'\n",
        "    )\n",
        "    i=0\n",
        "    for input_batch, label_batch in generator:\n",
        "      features_batch = conv_base.predict(input_batch)\n",
        "      print(i * batch_size , (i+1) * batch_size )\n",
        "      features[i * batch_size : (i + 1) * batch_size] = features_batch\n",
        "      labels[i * batch_size : (i + 1) * batch_size] = label_batch\n",
        "      i += 1\n",
        "      if i * batch_size >= sample_count:\n",
        "        break\n",
        "    return features, labels\n"
      ],
      "execution_count": 0,
      "outputs": []
    },
    {
      "cell_type": "code",
      "metadata": {
        "id": "TfcFIXl-Qe9A",
        "colab_type": "code",
        "colab": {
          "base_uri": "https://localhost:8080/",
          "height": 87
        },
        "outputId": "145653a1-4de2-4f3f-b169-3539f5938fea"
      },
      "source": [
        "train_features, train_labels = extract_features(train_dir,20)\n",
        "validation_features, validation_labels = extract_features(validation_dir,20)"
      ],
      "execution_count": 39,
      "outputs": [
        {
          "output_type": "stream",
          "text": [
            "Found 2000 images belonging to 2 classes.\n",
            "0 20\n",
            "Found 1000 images belonging to 2 classes.\n",
            "0 20\n"
          ],
          "name": "stdout"
        }
      ]
    },
    {
      "cell_type": "code",
      "metadata": {
        "id": "LUFiqdieQ3sj",
        "colab_type": "code",
        "colab": {
          "base_uri": "https://localhost:8080/",
          "height": 87
        },
        "outputId": "d51ac5f6-274d-4234-8c84-33be9b45e9c2"
      },
      "source": [
        "print(train_features.shape)\n",
        "print(train_labels.shape)\n",
        "print(validation_features.shape)\n",
        "print(validation_labels.shape)"
      ],
      "execution_count": 42,
      "outputs": [
        {
          "output_type": "stream",
          "text": [
            "(20, 4, 4, 512)\n",
            "(20,)\n",
            "(20, 4, 4, 512)\n",
            "(20,)\n"
          ],
          "name": "stdout"
        }
      ]
    },
    {
      "cell_type": "code",
      "metadata": {
        "id": "QAwsejSuRdjF",
        "colab_type": "code",
        "colab": {}
      },
      "source": [
        "train_features = np.reshape(train_features,(20, 4 * 4 * 512))\n",
        "validation_features = np.reshape(validation_features,(20, 4 * 4 * 512))"
      ],
      "execution_count": 0,
      "outputs": []
    },
    {
      "cell_type": "code",
      "metadata": {
        "id": "C_6So4OPRyS9",
        "colab_type": "code",
        "colab": {
          "base_uri": "https://localhost:8080/",
          "height": 748
        },
        "outputId": "aad68f81-76d7-4c71-8f12-5fdc32603617"
      },
      "source": [
        "import keras\n",
        "from keras.models import Sequential\n",
        "from keras.layers import Dense, Dropout\n",
        "from keras.losses import binary_crossentropy\n",
        "from keras.optimizers import rmsprop\n",
        "from keras.activations import relu, sigmoid\n",
        "\n",
        "model = Sequential()\n",
        "model.add(Dense(256, activation = relu, input_dim =(4*4*512)))\n",
        "model.add(Dropout(0.5))\n",
        "model.add(Dense(1,activation = sigmoid))\n",
        "\n",
        "model.compile (optimizer = rmsprop(lr=1e-5),\n",
        "               loss=binary_crossentropy,\n",
        "               metrics=['acc'])\n",
        "\n",
        "history = model.fit(train_features, train_labels, \n",
        "          epochs = 20, \n",
        "          batch_size = 20, \n",
        "          validation_data = (validation_features, validation_labels)\n",
        "          )\n",
        "model.save('VGG16_convbase_cats_dogs_1.h5')"
      ],
      "execution_count": 55,
      "outputs": [
        {
          "output_type": "stream",
          "text": [
            "Train on 20 samples, validate on 20 samples\n",
            "Epoch 1/20\n",
            "20/20 [==============================] - 1s 38ms/step - loss: 0.7670 - acc: 0.5500 - val_loss: 0.7684 - val_acc: 0.3000\n",
            "Epoch 2/20\n",
            "20/20 [==============================] - 0s 2ms/step - loss: 0.9059 - acc: 0.4000 - val_loss: 0.7497 - val_acc: 0.4000\n",
            "Epoch 3/20\n",
            "20/20 [==============================] - 0s 2ms/step - loss: 0.5907 - acc: 0.6500 - val_loss: 0.7379 - val_acc: 0.4000\n",
            "Epoch 4/20\n",
            "20/20 [==============================] - 0s 2ms/step - loss: 0.7076 - acc: 0.6500 - val_loss: 0.7317 - val_acc: 0.5500\n",
            "Epoch 5/20\n",
            "20/20 [==============================] - 0s 2ms/step - loss: 0.6839 - acc: 0.6000 - val_loss: 0.7284 - val_acc: 0.5500\n",
            "Epoch 6/20\n",
            "20/20 [==============================] - 0s 2ms/step - loss: 0.5126 - acc: 0.7500 - val_loss: 0.7262 - val_acc: 0.5500\n",
            "Epoch 7/20\n",
            "20/20 [==============================] - 0s 2ms/step - loss: 0.6607 - acc: 0.7000 - val_loss: 0.7243 - val_acc: 0.5500\n",
            "Epoch 8/20\n",
            "20/20 [==============================] - 0s 2ms/step - loss: 0.6829 - acc: 0.5000 - val_loss: 0.7240 - val_acc: 0.6000\n",
            "Epoch 9/20\n",
            "20/20 [==============================] - 0s 2ms/step - loss: 0.8272 - acc: 0.4500 - val_loss: 0.7237 - val_acc: 0.6500\n",
            "Epoch 10/20\n",
            "20/20 [==============================] - 0s 2ms/step - loss: 0.4947 - acc: 0.7000 - val_loss: 0.7253 - val_acc: 0.6500\n",
            "Epoch 11/20\n",
            "20/20 [==============================] - 0s 2ms/step - loss: 0.5379 - acc: 0.6500 - val_loss: 0.7258 - val_acc: 0.6500\n",
            "Epoch 12/20\n",
            "20/20 [==============================] - 0s 2ms/step - loss: 0.6063 - acc: 0.6500 - val_loss: 0.7247 - val_acc: 0.6000\n",
            "Epoch 13/20\n",
            "20/20 [==============================] - 0s 2ms/step - loss: 0.6132 - acc: 0.6500 - val_loss: 0.7261 - val_acc: 0.6000\n",
            "Epoch 14/20\n",
            "20/20 [==============================] - 0s 2ms/step - loss: 0.6129 - acc: 0.6500 - val_loss: 0.7286 - val_acc: 0.6000\n",
            "Epoch 15/20\n",
            "20/20 [==============================] - 0s 2ms/step - loss: 0.4089 - acc: 0.9500 - val_loss: 0.7281 - val_acc: 0.6000\n",
            "Epoch 16/20\n",
            "20/20 [==============================] - 0s 2ms/step - loss: 0.5820 - acc: 0.7000 - val_loss: 0.7242 - val_acc: 0.6000\n",
            "Epoch 17/20\n",
            "20/20 [==============================] - 0s 2ms/step - loss: 0.4819 - acc: 0.7500 - val_loss: 0.7236 - val_acc: 0.6000\n",
            "Epoch 18/20\n",
            "20/20 [==============================] - 0s 2ms/step - loss: 0.3820 - acc: 0.8500 - val_loss: 0.7261 - val_acc: 0.6000\n",
            "Epoch 19/20\n",
            "20/20 [==============================] - 0s 2ms/step - loss: 0.4121 - acc: 0.8500 - val_loss: 0.7282 - val_acc: 0.6000\n",
            "Epoch 20/20\n",
            "20/20 [==============================] - 0s 2ms/step - loss: 0.4282 - acc: 0.7500 - val_loss: 0.7251 - val_acc: 0.6000\n"
          ],
          "name": "stdout"
        }
      ]
    }
  ]
}