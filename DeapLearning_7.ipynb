{
  "nbformat": 4,
  "nbformat_minor": 0,
  "metadata": {
    "colab": {
      "name": "DeapLearning_7.ipynb",
      "provenance": [],
      "collapsed_sections": [],
      "include_colab_link": true
    },
    "kernelspec": {
      "name": "python3",
      "display_name": "Python 3"
    },
    "accelerator": "GPU"
  },
  "cells": [
    {
      "cell_type": "markdown",
      "metadata": {
        "id": "view-in-github",
        "colab_type": "text"
      },
      "source": [
        "<a href=\"https://colab.research.google.com/github/amamra-abdenour/Deep_Learning_Python/blob/master/DeapLearning_7.ipynb\" target=\"_parent\"><img src=\"https://colab.research.google.com/assets/colab-badge.svg\" alt=\"Open In Colab\"/></a>"
      ]
    },
    {
      "cell_type": "code",
      "metadata": {
        "id": "STDp3kRTyrCI",
        "colab_type": "code",
        "outputId": "6bd201cc-4879-4026-88d0-5b052eb14a54",
        "colab": {
          "base_uri": "https://localhost:8080/",
          "height": 1000
        }
      },
      "source": [
        "from keras.applications import VGG16\n",
        "\n",
        "conv_base = VGG16(weights='imagenet',\n",
        "                  include_top= False,\n",
        "                  input_shape=(150,150,3)\n",
        ")\n",
        "conv_base.summary()"
      ],
      "execution_count": 3,
      "outputs": [
        {
          "output_type": "stream",
          "text": [
            "Using TensorFlow backend.\n"
          ],
          "name": "stderr"
        },
        {
          "output_type": "stream",
          "text": [
            "WARNING:tensorflow:From /usr/local/lib/python3.6/dist-packages/keras/backend/tensorflow_backend.py:66: The name tf.get_default_graph is deprecated. Please use tf.compat.v1.get_default_graph instead.\n",
            "\n",
            "WARNING:tensorflow:From /usr/local/lib/python3.6/dist-packages/keras/backend/tensorflow_backend.py:541: The name tf.placeholder is deprecated. Please use tf.compat.v1.placeholder instead.\n",
            "\n",
            "WARNING:tensorflow:From /usr/local/lib/python3.6/dist-packages/keras/backend/tensorflow_backend.py:4432: The name tf.random_uniform is deprecated. Please use tf.random.uniform instead.\n",
            "\n",
            "WARNING:tensorflow:From /usr/local/lib/python3.6/dist-packages/keras/backend/tensorflow_backend.py:4267: The name tf.nn.max_pool is deprecated. Please use tf.nn.max_pool2d instead.\n",
            "\n",
            "Downloading data from https://github.com/fchollet/deep-learning-models/releases/download/v0.1/vgg16_weights_tf_dim_ordering_tf_kernels_notop.h5\n",
            "58892288/58889256 [==============================] - 6s 0us/step\n",
            "WARNING:tensorflow:From /usr/local/lib/python3.6/dist-packages/keras/backend/tensorflow_backend.py:190: The name tf.get_default_session is deprecated. Please use tf.compat.v1.get_default_session instead.\n",
            "\n",
            "WARNING:tensorflow:From /usr/local/lib/python3.6/dist-packages/keras/backend/tensorflow_backend.py:197: The name tf.ConfigProto is deprecated. Please use tf.compat.v1.ConfigProto instead.\n",
            "\n",
            "Model: \"vgg16\"\n",
            "_________________________________________________________________\n",
            "Layer (type)                 Output Shape              Param #   \n",
            "=================================================================\n",
            "input_1 (InputLayer)         (None, 150, 150, 3)       0         \n",
            "_________________________________________________________________\n",
            "block1_conv1 (Conv2D)        (None, 150, 150, 64)      1792      \n",
            "_________________________________________________________________\n",
            "block1_conv2 (Conv2D)        (None, 150, 150, 64)      36928     \n",
            "_________________________________________________________________\n",
            "block1_pool (MaxPooling2D)   (None, 75, 75, 64)        0         \n",
            "_________________________________________________________________\n",
            "block2_conv1 (Conv2D)        (None, 75, 75, 128)       73856     \n",
            "_________________________________________________________________\n",
            "block2_conv2 (Conv2D)        (None, 75, 75, 128)       147584    \n",
            "_________________________________________________________________\n",
            "block2_pool (MaxPooling2D)   (None, 37, 37, 128)       0         \n",
            "_________________________________________________________________\n",
            "block3_conv1 (Conv2D)        (None, 37, 37, 256)       295168    \n",
            "_________________________________________________________________\n",
            "block3_conv2 (Conv2D)        (None, 37, 37, 256)       590080    \n",
            "_________________________________________________________________\n",
            "block3_conv3 (Conv2D)        (None, 37, 37, 256)       590080    \n",
            "_________________________________________________________________\n",
            "block3_pool (MaxPooling2D)   (None, 18, 18, 256)       0         \n",
            "_________________________________________________________________\n",
            "block4_conv1 (Conv2D)        (None, 18, 18, 512)       1180160   \n",
            "_________________________________________________________________\n",
            "block4_conv2 (Conv2D)        (None, 18, 18, 512)       2359808   \n",
            "_________________________________________________________________\n",
            "block4_conv3 (Conv2D)        (None, 18, 18, 512)       2359808   \n",
            "_________________________________________________________________\n",
            "block4_pool (MaxPooling2D)   (None, 9, 9, 512)         0         \n",
            "_________________________________________________________________\n",
            "block5_conv1 (Conv2D)        (None, 9, 9, 512)         2359808   \n",
            "_________________________________________________________________\n",
            "block5_conv2 (Conv2D)        (None, 9, 9, 512)         2359808   \n",
            "_________________________________________________________________\n",
            "block5_conv3 (Conv2D)        (None, 9, 9, 512)         2359808   \n",
            "_________________________________________________________________\n",
            "block5_pool (MaxPooling2D)   (None, 4, 4, 512)         0         \n",
            "=================================================================\n",
            "Total params: 14,714,688\n",
            "Trainable params: 14,714,688\n",
            "Non-trainable params: 0\n",
            "_________________________________________________________________\n"
          ],
          "name": "stdout"
        }
      ]
    },
    {
      "cell_type": "code",
      "metadata": {
        "id": "l2wvM2TBEaOq",
        "colab_type": "code",
        "outputId": "57a67283-33dd-4453-bcf6-d5f1c648a1f7",
        "colab": {
          "base_uri": "https://localhost:8080/",
          "height": 230
        }
      },
      "source": [
        "!wget --no-check-certificate \\\n",
        "    https://storage.googleapis.com/mledu-datasets/cats_and_dogs_filtered.zip \\\n",
        "    -O /tmp/cats_and_dogs_filtered.zip"
      ],
      "execution_count": 4,
      "outputs": [
        {
          "output_type": "stream",
          "text": [
            "--2019-10-04 09:37:47--  https://storage.googleapis.com/mledu-datasets/cats_and_dogs_filtered.zip\n",
            "Resolving storage.googleapis.com (storage.googleapis.com)... 74.125.204.128, 2404:6800:4008:c03::80\n",
            "Connecting to storage.googleapis.com (storage.googleapis.com)|74.125.204.128|:443... connected.\n",
            "HTTP request sent, awaiting response... 200 OK\n",
            "Length: 68606236 (65M) [application/zip]\n",
            "Saving to: ‘/tmp/cats_and_dogs_filtered.zip’\n",
            "\n",
            "\r          /tmp/cats   0%[                    ]       0  --.-KB/s               \r         /tmp/cats_   6%[>                   ]   4.01M  14.4MB/s               \r        /tmp/cats_a  48%[========>           ]  32.01M  59.3MB/s               \r       /tmp/cats_an  97%[==================> ]  63.66M  86.0MB/s               \r/tmp/cats_and_dogs_ 100%[===================>]  65.43M  87.9MB/s    in 0.7s    \n",
            "\n",
            "2019-10-04 09:37:48 (87.9 MB/s) - ‘/tmp/cats_and_dogs_filtered.zip’ saved [68606236/68606236]\n",
            "\n"
          ],
          "name": "stdout"
        }
      ]
    },
    {
      "cell_type": "code",
      "metadata": {
        "id": "uFN6ox7iEeoP",
        "colab_type": "code",
        "colab": {}
      },
      "source": [
        "import zipfile\n",
        "with zipfile.ZipFile('/tmp/cats_and_dogs_filtered.zip', 'r') as zip_ref:\n",
        "    zip_ref.extractall('/content')"
      ],
      "execution_count": 0,
      "outputs": []
    },
    {
      "cell_type": "code",
      "metadata": {
        "id": "cilPAWRGF6-4",
        "colab_type": "code",
        "colab": {}
      },
      "source": [
        "import os\n",
        "import shutil\n",
        "\n",
        "#shutil.rmtree('/content/cats_and_dogs_small/')\n",
        "dataset_dir = '/content/cats_and_dogs_filtered/'\n",
        "base_dir ='/content/cats_and_dogs_small/'\n",
        "os.mkdir(base_dir)\n",
        "\n"
      ],
      "execution_count": 0,
      "outputs": []
    },
    {
      "cell_type": "code",
      "metadata": {
        "id": "EZI76ZJ6LJuo",
        "colab_type": "code",
        "outputId": "2d162806-eaf2-449d-eac2-fedf4352edec",
        "colab": {
          "base_uri": "https://localhost:8080/",
          "height": 1000
        }
      },
      "source": [
        "from os import listdir\n",
        "print(len(listdir(dataset_dir+'train/cats/')))\n",
        "listdir(dataset_dir+'train/cats/')"
      ],
      "execution_count": 19,
      "outputs": [
        {
          "output_type": "stream",
          "text": [
            "1000\n"
          ],
          "name": "stdout"
        },
        {
          "output_type": "execute_result",
          "data": {
            "text/plain": [
              "['cat.833.jpg',\n",
              " 'cat.936.jpg',\n",
              " 'cat.381.jpg',\n",
              " 'cat.599.jpg',\n",
              " 'cat.462.jpg',\n",
              " 'cat.387.jpg',\n",
              " 'cat.399.jpg',\n",
              " 'cat.485.jpg',\n",
              " 'cat.70.jpg',\n",
              " 'cat.755.jpg',\n",
              " 'cat.821.jpg',\n",
              " 'cat.591.jpg',\n",
              " 'cat.1.jpg',\n",
              " 'cat.170.jpg',\n",
              " 'cat.722.jpg',\n",
              " 'cat.12.jpg',\n",
              " 'cat.737.jpg',\n",
              " 'cat.90.jpg',\n",
              " 'cat.55.jpg',\n",
              " 'cat.551.jpg',\n",
              " 'cat.742.jpg',\n",
              " 'cat.502.jpg',\n",
              " 'cat.715.jpg',\n",
              " 'cat.959.jpg',\n",
              " 'cat.161.jpg',\n",
              " 'cat.790.jpg',\n",
              " 'cat.929.jpg',\n",
              " 'cat.207.jpg',\n",
              " 'cat.993.jpg',\n",
              " 'cat.357.jpg',\n",
              " 'cat.446.jpg',\n",
              " 'cat.129.jpg',\n",
              " 'cat.995.jpg',\n",
              " 'cat.206.jpg',\n",
              " 'cat.594.jpg',\n",
              " 'cat.7.jpg',\n",
              " 'cat.272.jpg',\n",
              " 'cat.135.jpg',\n",
              " 'cat.237.jpg',\n",
              " 'cat.321.jpg',\n",
              " 'cat.383.jpg',\n",
              " 'cat.209.jpg',\n",
              " 'cat.364.jpg',\n",
              " 'cat.232.jpg',\n",
              " 'cat.210.jpg',\n",
              " 'cat.437.jpg',\n",
              " 'cat.617.jpg',\n",
              " 'cat.373.jpg',\n",
              " 'cat.515.jpg',\n",
              " 'cat.363.jpg',\n",
              " 'cat.580.jpg',\n",
              " 'cat.432.jpg',\n",
              " 'cat.631.jpg',\n",
              " 'cat.589.jpg',\n",
              " 'cat.553.jpg',\n",
              " 'cat.403.jpg',\n",
              " 'cat.8.jpg',\n",
              " 'cat.643.jpg',\n",
              " 'cat.785.jpg',\n",
              " 'cat.661.jpg',\n",
              " 'cat.176.jpg',\n",
              " 'cat.5.jpg',\n",
              " 'cat.18.jpg',\n",
              " 'cat.187.jpg',\n",
              " 'cat.276.jpg',\n",
              " 'cat.75.jpg',\n",
              " 'cat.344.jpg',\n",
              " 'cat.280.jpg',\n",
              " 'cat.827.jpg',\n",
              " 'cat.634.jpg',\n",
              " 'cat.949.jpg',\n",
              " 'cat.297.jpg',\n",
              " 'cat.667.jpg',\n",
              " 'cat.97.jpg',\n",
              " 'cat.200.jpg',\n",
              " 'cat.636.jpg',\n",
              " 'cat.992.jpg',\n",
              " 'cat.175.jpg',\n",
              " 'cat.927.jpg',\n",
              " 'cat.849.jpg',\n",
              " 'cat.902.jpg',\n",
              " 'cat.791.jpg',\n",
              " 'cat.332.jpg',\n",
              " 'cat.10.jpg',\n",
              " 'cat.753.jpg',\n",
              " 'cat.342.jpg',\n",
              " 'cat.748.jpg',\n",
              " 'cat.701.jpg',\n",
              " 'cat.339.jpg',\n",
              " 'cat.886.jpg',\n",
              " 'cat.91.jpg',\n",
              " 'cat.574.jpg',\n",
              " 'cat.443.jpg',\n",
              " 'cat.379.jpg',\n",
              " 'cat.805.jpg',\n",
              " 'cat.744.jpg',\n",
              " 'cat.557.jpg',\n",
              " 'cat.338.jpg',\n",
              " 'cat.771.jpg',\n",
              " 'cat.945.jpg',\n",
              " 'cat.648.jpg',\n",
              " 'cat.492.jpg',\n",
              " 'cat.376.jpg',\n",
              " 'cat.563.jpg',\n",
              " 'cat.438.jpg',\n",
              " 'cat.82.jpg',\n",
              " 'cat.368.jpg',\n",
              " 'cat.173.jpg',\n",
              " 'cat.244.jpg',\n",
              " 'cat.885.jpg',\n",
              " 'cat.950.jpg',\n",
              " 'cat.141.jpg',\n",
              " 'cat.366.jpg',\n",
              " 'cat.941.jpg',\n",
              " 'cat.600.jpg',\n",
              " 'cat.291.jpg',\n",
              " 'cat.257.jpg',\n",
              " 'cat.85.jpg',\n",
              " 'cat.489.jpg',\n",
              " 'cat.896.jpg',\n",
              " 'cat.524.jpg',\n",
              " 'cat.483.jpg',\n",
              " 'cat.208.jpg',\n",
              " 'cat.351.jpg',\n",
              " 'cat.724.jpg',\n",
              " 'cat.954.jpg',\n",
              " 'cat.398.jpg',\n",
              " 'cat.167.jpg',\n",
              " 'cat.358.jpg',\n",
              " 'cat.781.jpg',\n",
              " 'cat.409.jpg',\n",
              " 'cat.904.jpg',\n",
              " 'cat.961.jpg',\n",
              " 'cat.337.jpg',\n",
              " 'cat.687.jpg',\n",
              " 'cat.360.jpg',\n",
              " 'cat.842.jpg',\n",
              " 'cat.431.jpg',\n",
              " 'cat.380.jpg',\n",
              " 'cat.213.jpg',\n",
              " 'cat.294.jpg',\n",
              " 'cat.895.jpg',\n",
              " 'cat.789.jpg',\n",
              " 'cat.645.jpg',\n",
              " 'cat.608.jpg',\n",
              " 'cat.872.jpg',\n",
              " 'cat.312.jpg',\n",
              " 'cat.913.jpg',\n",
              " 'cat.68.jpg',\n",
              " 'cat.354.jpg',\n",
              " 'cat.434.jpg',\n",
              " 'cat.666.jpg',\n",
              " 'cat.472.jpg',\n",
              " 'cat.894.jpg',\n",
              " 'cat.924.jpg',\n",
              " 'cat.637.jpg',\n",
              " 'cat.614.jpg',\n",
              " 'cat.601.jpg',\n",
              " 'cat.837.jpg',\n",
              " 'cat.157.jpg',\n",
              " 'cat.688.jpg',\n",
              " 'cat.228.jpg',\n",
              " 'cat.544.jpg',\n",
              " 'cat.776.jpg',\n",
              " 'cat.355.jpg',\n",
              " 'cat.271.jpg',\n",
              " 'cat.590.jpg',\n",
              " 'cat.955.jpg',\n",
              " 'cat.920.jpg',\n",
              " 'cat.430.jpg',\n",
              " 'cat.420.jpg',\n",
              " 'cat.675.jpg',\n",
              " 'cat.216.jpg',\n",
              " 'cat.848.jpg',\n",
              " 'cat.346.jpg',\n",
              " 'cat.498.jpg',\n",
              " 'cat.644.jpg',\n",
              " 'cat.989.jpg',\n",
              " 'cat.476.jpg',\n",
              " 'cat.266.jpg',\n",
              " 'cat.629.jpg',\n",
              " 'cat.189.jpg',\n",
              " 'cat.978.jpg',\n",
              " 'cat.607.jpg',\n",
              " 'cat.101.jpg',\n",
              " 'cat.802.jpg',\n",
              " 'cat.641.jpg',\n",
              " 'cat.428.jpg',\n",
              " 'cat.579.jpg',\n",
              " 'cat.331.jpg',\n",
              " 'cat.47.jpg',\n",
              " 'cat.87.jpg',\n",
              " 'cat.468.jpg',\n",
              " 'cat.151.jpg',\n",
              " 'cat.221.jpg',\n",
              " 'cat.92.jpg',\n",
              " 'cat.411.jpg',\n",
              " 'cat.98.jpg',\n",
              " 'cat.106.jpg',\n",
              " 'cat.570.jpg',\n",
              " 'cat.669.jpg',\n",
              " 'cat.522.jpg',\n",
              " 'cat.505.jpg',\n",
              " 'cat.298.jpg',\n",
              " 'cat.377.jpg',\n",
              " 'cat.179.jpg',\n",
              " 'cat.329.jpg',\n",
              " 'cat.680.jpg',\n",
              " 'cat.36.jpg',\n",
              " 'cat.575.jpg',\n",
              " 'cat.308.jpg',\n",
              " 'cat.345.jpg',\n",
              " 'cat.899.jpg',\n",
              " 'cat.935.jpg',\n",
              " 'cat.220.jpg',\n",
              " 'cat.174.jpg',\n",
              " 'cat.198.jpg',\n",
              " 'cat.233.jpg',\n",
              " 'cat.662.jpg',\n",
              " 'cat.229.jpg',\n",
              " 'cat.103.jpg',\n",
              " 'cat.112.jpg',\n",
              " 'cat.611.jpg',\n",
              " 'cat.316.jpg',\n",
              " 'cat.335.jpg',\n",
              " 'cat.559.jpg',\n",
              " 'cat.348.jpg',\n",
              " 'cat.712.jpg',\n",
              " 'cat.139.jpg',\n",
              " 'cat.926.jpg',\n",
              " 'cat.120.jpg',\n",
              " 'cat.138.jpg',\n",
              " 'cat.81.jpg',\n",
              " 'cat.679.jpg',\n",
              " 'cat.516.jpg',\n",
              " 'cat.547.jpg',\n",
              " 'cat.942.jpg',\n",
              " 'cat.665.jpg',\n",
              " 'cat.597.jpg',\n",
              " 'cat.395.jpg',\n",
              " 'cat.684.jpg',\n",
              " 'cat.939.jpg',\n",
              " 'cat.692.jpg',\n",
              " 'cat.998.jpg',\n",
              " 'cat.870.jpg',\n",
              " 'cat.906.jpg',\n",
              " 'cat.528.jpg',\n",
              " 'cat.650.jpg',\n",
              " 'cat.577.jpg',\n",
              " 'cat.328.jpg',\n",
              " 'cat.523.jpg',\n",
              " 'cat.415.jpg',\n",
              " 'cat.433.jpg',\n",
              " 'cat.88.jpg',\n",
              " 'cat.223.jpg',\n",
              " 'cat.450.jpg',\n",
              " 'cat.595.jpg',\n",
              " 'cat.682.jpg',\n",
              " 'cat.273.jpg',\n",
              " 'cat.845.jpg',\n",
              " 'cat.500.jpg',\n",
              " 'cat.905.jpg',\n",
              " 'cat.540.jpg',\n",
              " 'cat.352.jpg',\n",
              " 'cat.493.jpg',\n",
              " 'cat.835.jpg',\n",
              " 'cat.649.jpg',\n",
              " 'cat.530.jpg',\n",
              " 'cat.761.jpg',\n",
              " 'cat.934.jpg',\n",
              " 'cat.797.jpg',\n",
              " 'cat.333.jpg',\n",
              " 'cat.400.jpg',\n",
              " 'cat.981.jpg',\n",
              " 'cat.704.jpg',\n",
              " 'cat.881.jpg',\n",
              " 'cat.460.jpg',\n",
              " 'cat.948.jpg',\n",
              " 'cat.960.jpg',\n",
              " 'cat.325.jpg',\n",
              " 'cat.148.jpg',\n",
              " 'cat.330.jpg',\n",
              " 'cat.512.jpg',\n",
              " 'cat.211.jpg',\n",
              " 'cat.140.jpg',\n",
              " 'cat.464.jpg',\n",
              " 'cat.718.jpg',\n",
              " 'cat.481.jpg',\n",
              " 'cat.264.jpg',\n",
              " 'cat.267.jpg',\n",
              " 'cat.327.jpg',\n",
              " 'cat.46.jpg',\n",
              " 'cat.114.jpg',\n",
              " 'cat.495.jpg',\n",
              " 'cat.829.jpg',\n",
              " 'cat.953.jpg',\n",
              " 'cat.558.jpg',\n",
              " 'cat.301.jpg',\n",
              " 'cat.261.jpg',\n",
              " 'cat.454.jpg',\n",
              " 'cat.508.jpg',\n",
              " 'cat.866.jpg',\n",
              " 'cat.670.jpg',\n",
              " 'cat.832.jpg',\n",
              " 'cat.105.jpg',\n",
              " 'cat.798.jpg',\n",
              " 'cat.812.jpg',\n",
              " 'cat.542.jpg',\n",
              " 'cat.815.jpg',\n",
              " 'cat.625.jpg',\n",
              " 'cat.41.jpg',\n",
              " 'cat.889.jpg',\n",
              " 'cat.642.jpg',\n",
              " 'cat.250.jpg',\n",
              " 'cat.62.jpg',\n",
              " 'cat.122.jpg',\n",
              " 'cat.908.jpg',\n",
              " 'cat.533.jpg',\n",
              " 'cat.938.jpg',\n",
              " 'cat.943.jpg',\n",
              " 'cat.685.jpg',\n",
              " 'cat.457.jpg',\n",
              " 'cat.568.jpg',\n",
              " 'cat.768.jpg',\n",
              " 'cat.537.jpg',\n",
              " 'cat.414.jpg',\n",
              " 'cat.892.jpg',\n",
              " 'cat.474.jpg',\n",
              " 'cat.673.jpg',\n",
              " 'cat.382.jpg',\n",
              " 'cat.390.jpg',\n",
              " 'cat.239.jpg',\n",
              " 'cat.183.jpg',\n",
              " 'cat.759.jpg',\n",
              " 'cat.898.jpg',\n",
              " 'cat.370.jpg',\n",
              " 'cat.653.jpg',\n",
              " 'cat.365.jpg',\n",
              " 'cat.900.jpg',\n",
              " 'cat.275.jpg',\n",
              " 'cat.751.jpg',\n",
              " 'cat.909.jpg',\n",
              " 'cat.721.jpg',\n",
              " 'cat.694.jpg',\n",
              " 'cat.410.jpg',\n",
              " 'cat.194.jpg',\n",
              " 'cat.506.jpg',\n",
              " 'cat.856.jpg',\n",
              " 'cat.30.jpg',\n",
              " 'cat.201.jpg',\n",
              " 'cat.726.jpg',\n",
              " 'cat.862.jpg',\n",
              " 'cat.480.jpg',\n",
              " 'cat.966.jpg',\n",
              " 'cat.49.jpg',\n",
              " 'cat.613.jpg',\n",
              " 'cat.313.jpg',\n",
              " 'cat.888.jpg',\n",
              " 'cat.6.jpg',\n",
              " 'cat.944.jpg',\n",
              " 'cat.606.jpg',\n",
              " 'cat.89.jpg',\n",
              " 'cat.576.jpg',\n",
              " 'cat.496.jpg',\n",
              " 'cat.9.jpg',\n",
              " 'cat.215.jpg',\n",
              " 'cat.491.jpg',\n",
              " 'cat.104.jpg',\n",
              " 'cat.240.jpg',\n",
              " 'cat.777.jpg',\n",
              " 'cat.192.jpg',\n",
              " 'cat.158.jpg',\n",
              " 'cat.119.jpg',\n",
              " 'cat.131.jpg',\n",
              " 'cat.843.jpg',\n",
              " 'cat.501.jpg',\n",
              " 'cat.448.jpg',\n",
              " 'cat.739.jpg',\n",
              " 'cat.19.jpg',\n",
              " 'cat.793.jpg',\n",
              " 'cat.33.jpg',\n",
              " 'cat.347.jpg',\n",
              " 'cat.999.jpg',\n",
              " 'cat.822.jpg',\n",
              " 'cat.490.jpg',\n",
              " 'cat.584.jpg',\n",
              " 'cat.854.jpg',\n",
              " 'cat.205.jpg',\n",
              " 'cat.592.jpg',\n",
              " 'cat.521.jpg',\n",
              " 'cat.94.jpg',\n",
              " 'cat.677.jpg',\n",
              " 'cat.503.jpg',\n",
              " 'cat.732.jpg',\n",
              " 'cat.199.jpg',\n",
              " 'cat.531.jpg',\n",
              " 'cat.868.jpg',\n",
              " 'cat.113.jpg',\n",
              " 'cat.564.jpg',\n",
              " 'cat.828.jpg',\n",
              " 'cat.258.jpg',\n",
              " 'cat.102.jpg',\n",
              " 'cat.452.jpg',\n",
              " 'cat.572.jpg',\n",
              " 'cat.922.jpg',\n",
              " 'cat.242.jpg',\n",
              " 'cat.319.jpg',\n",
              " 'cat.769.jpg',\n",
              " 'cat.873.jpg',\n",
              " 'cat.548.jpg',\n",
              " 'cat.799.jpg',\n",
              " 'cat.132.jpg',\n",
              " 'cat.566.jpg',\n",
              " 'cat.317.jpg',\n",
              " 'cat.71.jpg',\n",
              " 'cat.529.jpg',\n",
              " 'cat.43.jpg',\n",
              " 'cat.181.jpg',\n",
              " 'cat.988.jpg',\n",
              " 'cat.554.jpg',\n",
              " 'cat.154.jpg',\n",
              " 'cat.134.jpg',\n",
              " 'cat.876.jpg',\n",
              " 'cat.311.jpg',\n",
              " 'cat.72.jpg',\n",
              " 'cat.846.jpg',\n",
              " 'cat.695.jpg',\n",
              " 'cat.388.jpg',\n",
              " 'cat.795.jpg',\n",
              " 'cat.598.jpg',\n",
              " 'cat.39.jpg',\n",
              " 'cat.772.jpg',\n",
              " 'cat.806.jpg',\n",
              " 'cat.863.jpg',\n",
              " 'cat.967.jpg',\n",
              " 'cat.274.jpg',\n",
              " 'cat.622.jpg',\n",
              " 'cat.63.jpg',\n",
              " 'cat.243.jpg',\n",
              " 'cat.882.jpg',\n",
              " 'cat.22.jpg',\n",
              " 'cat.526.jpg',\n",
              " 'cat.262.jpg',\n",
              " 'cat.162.jpg',\n",
              " 'cat.532.jpg',\n",
              " 'cat.970.jpg',\n",
              " 'cat.534.jpg',\n",
              " 'cat.374.jpg',\n",
              " 'cat.552.jpg',\n",
              " 'cat.571.jpg',\n",
              " 'cat.671.jpg',\n",
              " 'cat.841.jpg',\n",
              " 'cat.963.jpg',\n",
              " 'cat.60.jpg',\n",
              " 'cat.550.jpg',\n",
              " 'cat.964.jpg',\n",
              " 'cat.918.jpg',\n",
              " 'cat.735.jpg',\n",
              " 'cat.149.jpg',\n",
              " 'cat.24.jpg',\n",
              " 'cat.219.jpg',\n",
              " 'cat.975.jpg',\n",
              " 'cat.786.jpg',\n",
              " 'cat.361.jpg',\n",
              " 'cat.259.jpg',\n",
              " 'cat.146.jpg',\n",
              " 'cat.658.jpg',\n",
              " 'cat.116.jpg',\n",
              " 'cat.733.jpg',\n",
              " 'cat.965.jpg',\n",
              " 'cat.729.jpg',\n",
              " 'cat.810.jpg',\n",
              " 'cat.497.jpg',\n",
              " 'cat.605.jpg',\n",
              " 'cat.0.jpg',\n",
              " 'cat.705.jpg',\n",
              " 'cat.359.jpg',\n",
              " 'cat.245.jpg',\n",
              " 'cat.510.jpg',\n",
              " 'cat.923.jpg',\n",
              " 'cat.323.jpg',\n",
              " 'cat.58.jpg',\n",
              " 'cat.890.jpg',\n",
              " 'cat.225.jpg',\n",
              " 'cat.520.jpg',\n",
              " 'cat.672.jpg',\n",
              " 'cat.678.jpg',\n",
              " 'cat.165.jpg',\n",
              " 'cat.618.jpg',\n",
              " 'cat.284.jpg',\n",
              " 'cat.640.jpg',\n",
              " 'cat.37.jpg',\n",
              " 'cat.461.jpg',\n",
              " 'cat.186.jpg',\n",
              " 'cat.384.jpg',\n",
              " 'cat.560.jpg',\n",
              " 'cat.539.jpg',\n",
              " 'cat.26.jpg',\n",
              " 'cat.861.jpg',\n",
              " 'cat.439.jpg',\n",
              " 'cat.204.jpg',\n",
              " 'cat.746.jpg',\n",
              " 'cat.322.jpg',\n",
              " 'cat.48.jpg',\n",
              " 'cat.253.jpg',\n",
              " 'cat.25.jpg',\n",
              " 'cat.318.jpg',\n",
              " 'cat.456.jpg',\n",
              " 'cat.107.jpg',\n",
              " 'cat.656.jpg',\n",
              " 'cat.779.jpg',\n",
              " 'cat.741.jpg',\n",
              " 'cat.660.jpg',\n",
              " 'cat.857.jpg',\n",
              " 'cat.788.jpg',\n",
              " 'cat.775.jpg',\n",
              " 'cat.334.jpg',\n",
              " 'cat.413.jpg',\n",
              " 'cat.128.jpg',\n",
              " 'cat.466.jpg',\n",
              " 'cat.445.jpg',\n",
              " 'cat.697.jpg',\n",
              " 'cat.602.jpg',\n",
              " 'cat.164.jpg',\n",
              " 'cat.991.jpg',\n",
              " 'cat.763.jpg',\n",
              " 'cat.289.jpg',\n",
              " 'cat.796.jpg',\n",
              " 'cat.836.jpg',\n",
              " 'cat.743.jpg',\n",
              " 'cat.754.jpg',\n",
              " 'cat.278.jpg',\n",
              " 'cat.710.jpg',\n",
              " 'cat.315.jpg',\n",
              " 'cat.543.jpg',\n",
              " 'cat.877.jpg',\n",
              " 'cat.356.jpg',\n",
              " 'cat.910.jpg',\n",
              " 'cat.28.jpg',\n",
              " 'cat.858.jpg',\n",
              " 'cat.353.jpg',\n",
              " 'cat.16.jpg',\n",
              " 'cat.74.jpg',\n",
              " 'cat.147.jpg',\n",
              " 'cat.326.jpg',\n",
              " 'cat.451.jpg',\n",
              " 'cat.50.jpg',\n",
              " 'cat.727.jpg',\n",
              " 'cat.647.jpg',\n",
              " 'cat.745.jpg',\n",
              " 'cat.59.jpg',\n",
              " 'cat.238.jpg',\n",
              " 'cat.385.jpg',\n",
              " 'cat.35.jpg',\n",
              " 'cat.21.jpg',\n",
              " 'cat.143.jpg',\n",
              " 'cat.78.jpg',\n",
              " 'cat.801.jpg',\n",
              " 'cat.340.jpg',\n",
              " 'cat.691.jpg',\n",
              " 'cat.626.jpg',\n",
              " 'cat.538.jpg',\n",
              " 'cat.230.jpg',\n",
              " 'cat.820.jpg',\n",
              " 'cat.987.jpg',\n",
              " 'cat.251.jpg',\n",
              " 'cat.717.jpg',\n",
              " 'cat.937.jpg',\n",
              " 'cat.182.jpg',\n",
              " 'cat.907.jpg',\n",
              " 'cat.202.jpg',\n",
              " 'cat.659.jpg',\n",
              " 'cat.40.jpg',\n",
              " 'cat.860.jpg',\n",
              " 'cat.172.jpg',\n",
              " 'cat.166.jpg',\n",
              " 'cat.747.jpg',\n",
              " 'cat.628.jpg',\n",
              " 'cat.263.jpg',\n",
              " 'cat.657.jpg',\n",
              " 'cat.423.jpg',\n",
              " 'cat.45.jpg',\n",
              " 'cat.394.jpg',\n",
              " 'cat.958.jpg',\n",
              " 'cat.375.jpg',\n",
              " 'cat.749.jpg',\n",
              " 'cat.507.jpg',\n",
              " 'cat.818.jpg',\n",
              " 'cat.303.jpg',\n",
              " 'cat.126.jpg',\n",
              " 'cat.20.jpg',\n",
              " 'cat.66.jpg',\n",
              " 'cat.115.jpg',\n",
              " 'cat.736.jpg',\n",
              " 'cat.738.jpg',\n",
              " 'cat.386.jpg',\n",
              " 'cat.817.jpg',\n",
              " 'cat.583.jpg',\n",
              " 'cat.265.jpg',\n",
              " 'cat.869.jpg',\n",
              " 'cat.804.jpg',\n",
              " 'cat.193.jpg',\n",
              " 'cat.362.jpg',\n",
              " 'cat.702.jpg',\n",
              " 'cat.482.jpg',\n",
              " 'cat.646.jpg',\n",
              " 'cat.425.jpg',\n",
              " 'cat.663.jpg',\n",
              " 'cat.513.jpg',\n",
              " 'cat.853.jpg',\n",
              " 'cat.917.jpg',\n",
              " 'cat.651.jpg',\n",
              " 'cat.716.jpg',\n",
              " 'cat.95.jpg',\n",
              " 'cat.864.jpg',\n",
              " 'cat.412.jpg',\n",
              " 'cat.144.jpg',\n",
              " 'cat.293.jpg',\n",
              " 'cat.689.jpg',\n",
              " 'cat.417.jpg',\n",
              " 'cat.865.jpg',\n",
              " 'cat.875.jpg',\n",
              " 'cat.774.jpg',\n",
              " 'cat.195.jpg',\n",
              " 'cat.277.jpg',\n",
              " 'cat.121.jpg',\n",
              " 'cat.956.jpg',\n",
              " 'cat.997.jpg',\n",
              " 'cat.596.jpg',\n",
              " 'cat.288.jpg',\n",
              " 'cat.444.jpg',\n",
              " 'cat.499.jpg',\n",
              " 'cat.447.jpg',\n",
              " 'cat.235.jpg',\n",
              " 'cat.473.jpg',\n",
              " 'cat.573.jpg',\n",
              " 'cat.212.jpg',\n",
              " 'cat.903.jpg',\n",
              " 'cat.951.jpg',\n",
              " 'cat.931.jpg',\n",
              " 'cat.593.jpg',\n",
              " 'cat.307.jpg',\n",
              " 'cat.441.jpg',\n",
              " 'cat.227.jpg',\n",
              " 'cat.17.jpg',\n",
              " 'cat.255.jpg',\n",
              " 'cat.778.jpg',\n",
              " 'cat.952.jpg',\n",
              " 'cat.178.jpg',\n",
              " 'cat.224.jpg',\n",
              " 'cat.487.jpg',\n",
              " 'cat.623.jpg',\n",
              " 'cat.880.jpg',\n",
              " 'cat.996.jpg',\n",
              " 'cat.96.jpg',\n",
              " 'cat.84.jpg',\n",
              " 'cat.290.jpg',\n",
              " 'cat.930.jpg',\n",
              " 'cat.883.jpg',\n",
              " 'cat.632.jpg',\n",
              " 'cat.757.jpg',\n",
              " 'cat.14.jpg',\n",
              " 'cat.588.jpg',\n",
              " 'cat.427.jpg',\n",
              " 'cat.690.jpg',\n",
              " 'cat.270.jpg',\n",
              " 'cat.730.jpg',\n",
              " 'cat.556.jpg',\n",
              " 'cat.421.jpg',\n",
              " 'cat.436.jpg',\n",
              " 'cat.652.jpg',\n",
              " 'cat.246.jpg',\n",
              " 'cat.389.jpg',\n",
              " 'cat.51.jpg',\n",
              " 'cat.281.jpg',\n",
              " 'cat.720.jpg',\n",
              " 'cat.813.jpg',\n",
              " 'cat.53.jpg',\n",
              " 'cat.831.jpg',\n",
              " 'cat.292.jpg',\n",
              " 'cat.699.jpg',\n",
              " 'cat.372.jpg',\n",
              " 'cat.728.jpg',\n",
              " 'cat.305.jpg',\n",
              " 'cat.260.jpg',\n",
              " 'cat.770.jpg',\n",
              " 'cat.442.jpg',\n",
              " 'cat.64.jpg',\n",
              " 'cat.555.jpg',\n",
              " 'cat.968.jpg',\n",
              " 'cat.282.jpg',\n",
              " 'cat.248.jpg',\n",
              " 'cat.567.jpg',\n",
              " 'cat.152.jpg',\n",
              " 'cat.709.jpg',\n",
              " 'cat.156.jpg',\n",
              " 'cat.879.jpg',\n",
              " 'cat.834.jpg',\n",
              " 'cat.707.jpg',\n",
              " 'cat.404.jpg',\n",
              " 'cat.698.jpg',\n",
              " 'cat.2.jpg',\n",
              " 'cat.159.jpg',\n",
              " 'cat.911.jpg',\n",
              " 'cat.188.jpg',\n",
              " 'cat.604.jpg',\n",
              " 'cat.127.jpg',\n",
              " 'cat.986.jpg',\n",
              " 'cat.565.jpg',\n",
              " 'cat.683.jpg',\n",
              " 'cat.13.jpg',\n",
              " 'cat.190.jpg',\n",
              " 'cat.750.jpg',\n",
              " 'cat.708.jpg',\n",
              " 'cat.27.jpg',\n",
              " 'cat.686.jpg',\n",
              " 'cat.787.jpg',\n",
              " 'cat.887.jpg',\n",
              " 'cat.52.jpg',\n",
              " 'cat.807.jpg',\n",
              " 'cat.578.jpg',\n",
              " 'cat.985.jpg',\n",
              " 'cat.324.jpg',\n",
              " 'cat.470.jpg',\n",
              " 'cat.912.jpg',\n",
              " 'cat.819.jpg',\n",
              " 'cat.609.jpg',\n",
              " 'cat.859.jpg',\n",
              " 'cat.762.jpg',\n",
              " 'cat.830.jpg',\n",
              " 'cat.300.jpg',\n",
              " 'cat.758.jpg',\n",
              " 'cat.56.jpg',\n",
              " 'cat.136.jpg',\n",
              " 'cat.99.jpg',\n",
              " 'cat.153.jpg',\n",
              " 'cat.309.jpg',\n",
              " 'cat.976.jpg',\n",
              " 'cat.231.jpg',\n",
              " 'cat.983.jpg',\n",
              " 'cat.145.jpg',\n",
              " 'cat.921.jpg',\n",
              " 'cat.254.jpg',\n",
              " 'cat.610.jpg',\n",
              " 'cat.302.jpg',\n",
              " 'cat.320.jpg',\n",
              " 'cat.919.jpg',\n",
              " 'cat.247.jpg',\n",
              " 'cat.569.jpg',\n",
              " 'cat.654.jpg',\n",
              " 'cat.393.jpg',\n",
              " 'cat.296.jpg',\n",
              " 'cat.306.jpg',\n",
              " 'cat.295.jpg',\n",
              " 'cat.314.jpg',\n",
              " 'cat.269.jpg',\n",
              " 'cat.236.jpg',\n",
              " 'cat.509.jpg',\n",
              " 'cat.455.jpg',\n",
              " 'cat.971.jpg',\n",
              " 'cat.756.jpg',\n",
              " 'cat.341.jpg',\n",
              " 'cat.844.jpg',\n",
              " 'cat.874.jpg',\n",
              " 'cat.794.jpg',\n",
              " 'cat.980.jpg',\n",
              " 'cat.86.jpg',\n",
              " 'cat.884.jpg',\n",
              " 'cat.169.jpg',\n",
              " 'cat.15.jpg',\n",
              " 'cat.850.jpg',\n",
              " 'cat.463.jpg',\n",
              " 'cat.811.jpg',\n",
              " 'cat.871.jpg',\n",
              " 'cat.484.jpg',\n",
              " 'cat.633.jpg',\n",
              " 'cat.77.jpg',\n",
              " 'cat.901.jpg',\n",
              " 'cat.725.jpg',\n",
              " 'cat.304.jpg',\n",
              " 'cat.80.jpg',\n",
              " 'cat.760.jpg',\n",
              " 'cat.711.jpg',\n",
              " 'cat.612.jpg',\n",
              " 'cat.241.jpg',\n",
              " 'cat.714.jpg',\n",
              " 'cat.401.jpg',\n",
              " 'cat.69.jpg',\n",
              " 'cat.703.jpg',\n",
              " 'cat.171.jpg',\n",
              " 'cat.391.jpg',\n",
              " 'cat.719.jpg',\n",
              " 'cat.504.jpg',\n",
              " 'cat.100.jpg',\n",
              " 'cat.435.jpg',\n",
              " 'cat.972.jpg',\n",
              " 'cat.397.jpg',\n",
              " 'cat.696.jpg',\n",
              " 'cat.32.jpg',\n",
              " 'cat.765.jpg',\n",
              " 'cat.535.jpg',\n",
              " 'cat.177.jpg',\n",
              " 'cat.416.jpg',\n",
              " 'cat.287.jpg',\n",
              " 'cat.83.jpg',\n",
              " 'cat.73.jpg',\n",
              " 'cat.545.jpg',\n",
              " 'cat.125.jpg',\n",
              " 'cat.517.jpg',\n",
              " 'cat.163.jpg',\n",
              " 'cat.486.jpg',\n",
              " 'cat.990.jpg',\n",
              " 'cat.615.jpg',\n",
              " 'cat.627.jpg',\n",
              " 'cat.982.jpg',\n",
              " 'cat.816.jpg',\n",
              " 'cat.518.jpg',\n",
              " 'cat.23.jpg',\n",
              " 'cat.31.jpg',\n",
              " 'cat.766.jpg',\n",
              " 'cat.286.jpg',\n",
              " 'cat.549.jpg',\n",
              " 'cat.638.jpg',\n",
              " 'cat.764.jpg',\n",
              " 'cat.693.jpg',\n",
              " 'cat.969.jpg',\n",
              " 'cat.962.jpg',\n",
              " 'cat.582.jpg',\n",
              " 'cat.196.jpg',\n",
              " 'cat.458.jpg',\n",
              " 'cat.824.jpg',\n",
              " 'cat.973.jpg',\n",
              " 'cat.268.jpg',\n",
              " 'cat.624.jpg',\n",
              " 'cat.252.jpg',\n",
              " 'cat.424.jpg',\n",
              " 'cat.700.jpg',\n",
              " 'cat.974.jpg',\n",
              " 'cat.79.jpg',\n",
              " 'cat.621.jpg',\n",
              " 'cat.803.jpg',\n",
              " 'cat.407.jpg',\n",
              " 'cat.349.jpg',\n",
              " 'cat.915.jpg',\n",
              " 'cat.957.jpg',\n",
              " 'cat.465.jpg',\n",
              " 'cat.11.jpg',\n",
              " 'cat.740.jpg',\n",
              " 'cat.840.jpg',\n",
              " 'cat.378.jpg',\n",
              " 'cat.630.jpg',\n",
              " 'cat.767.jpg',\n",
              " 'cat.562.jpg',\n",
              " 'cat.541.jpg',\n",
              " 'cat.222.jpg',\n",
              " 'cat.477.jpg',\n",
              " 'cat.603.jpg',\n",
              " 'cat.525.jpg',\n",
              " 'cat.214.jpg',\n",
              " 'cat.440.jpg',\n",
              " 'cat.406.jpg',\n",
              " 'cat.752.jpg',\n",
              " 'cat.396.jpg',\n",
              " 'cat.203.jpg',\n",
              " 'cat.426.jpg',\n",
              " 'cat.367.jpg',\n",
              " 'cat.61.jpg',\n",
              " 'cat.369.jpg',\n",
              " 'cat.249.jpg',\n",
              " 'cat.851.jpg',\n",
              " 'cat.65.jpg',\n",
              " 'cat.160.jpg',\n",
              " 'cat.826.jpg',\n",
              " 'cat.467.jpg',\n",
              " 'cat.109.jpg',\n",
              " 'cat.142.jpg',\n",
              " 'cat.780.jpg',\n",
              " 'cat.422.jpg',\n",
              " 'cat.734.jpg',\n",
              " 'cat.668.jpg',\n",
              " 'cat.527.jpg',\n",
              " 'cat.852.jpg',\n",
              " 'cat.453.jpg',\n",
              " 'cat.130.jpg',\n",
              " 'cat.402.jpg',\n",
              " 'cat.809.jpg',\n",
              " 'cat.825.jpg',\n",
              " 'cat.185.jpg',\n",
              " 'cat.44.jpg',\n",
              " 'cat.664.jpg',\n",
              " 'cat.891.jpg',\n",
              " 'cat.940.jpg',\n",
              " 'cat.299.jpg',\n",
              " 'cat.4.jpg',\n",
              " 'cat.111.jpg',\n",
              " 'cat.3.jpg',\n",
              " 'cat.459.jpg',\n",
              " 'cat.620.jpg',\n",
              " 'cat.350.jpg',\n",
              " 'cat.581.jpg',\n",
              " 'cat.616.jpg',\n",
              " 'cat.792.jpg',\n",
              " 'cat.285.jpg',\n",
              " 'cat.34.jpg',\n",
              " 'cat.893.jpg',\n",
              " 'cat.217.jpg',\n",
              " 'cat.184.jpg',\n",
              " 'cat.916.jpg',\n",
              " 'cat.713.jpg',\n",
              " 'cat.946.jpg',\n",
              " 'cat.706.jpg',\n",
              " 'cat.639.jpg',\n",
              " 'cat.54.jpg',\n",
              " 'cat.723.jpg',\n",
              " 'cat.932.jpg',\n",
              " 'cat.808.jpg',\n",
              " 'cat.38.jpg',\n",
              " 'cat.928.jpg',\n",
              " 'cat.897.jpg',\n",
              " 'cat.392.jpg',\n",
              " 'cat.180.jpg',\n",
              " 'cat.619.jpg',\n",
              " 'cat.867.jpg',\n",
              " 'cat.478.jpg',\n",
              " 'cat.979.jpg',\n",
              " 'cat.847.jpg',\n",
              " 'cat.782.jpg',\n",
              " 'cat.42.jpg',\n",
              " 'cat.546.jpg',\n",
              " 'cat.408.jpg',\n",
              " 'cat.57.jpg',\n",
              " 'cat.469.jpg',\n",
              " 'cat.587.jpg',\n",
              " 'cat.773.jpg',\n",
              " 'cat.731.jpg',\n",
              " 'cat.925.jpg',\n",
              " 'cat.561.jpg',\n",
              " 'cat.838.jpg',\n",
              " 'cat.823.jpg',\n",
              " 'cat.933.jpg',\n",
              " 'cat.681.jpg',\n",
              " 'cat.155.jpg',\n",
              " 'cat.76.jpg',\n",
              " 'cat.168.jpg',\n",
              " 'cat.994.jpg',\n",
              " 'cat.914.jpg',\n",
              " 'cat.800.jpg',\n",
              " 'cat.429.jpg',\n",
              " 'cat.310.jpg',\n",
              " 'cat.117.jpg',\n",
              " 'cat.586.jpg',\n",
              " 'cat.283.jpg',\n",
              " 'cat.108.jpg',\n",
              " 'cat.226.jpg',\n",
              " 'cat.449.jpg',\n",
              " 'cat.479.jpg',\n",
              " 'cat.655.jpg',\n",
              " 'cat.124.jpg',\n",
              " 'cat.674.jpg',\n",
              " 'cat.256.jpg',\n",
              " 'cat.67.jpg',\n",
              " 'cat.475.jpg',\n",
              " 'cat.511.jpg',\n",
              " 'cat.405.jpg',\n",
              " 'cat.218.jpg',\n",
              " 'cat.814.jpg',\n",
              " 'cat.519.jpg',\n",
              " 'cat.855.jpg',\n",
              " 'cat.279.jpg',\n",
              " 'cat.110.jpg',\n",
              " 'cat.947.jpg',\n",
              " 'cat.133.jpg',\n",
              " 'cat.471.jpg',\n",
              " 'cat.635.jpg',\n",
              " 'cat.137.jpg',\n",
              " 'cat.343.jpg',\n",
              " 'cat.118.jpg',\n",
              " 'cat.878.jpg',\n",
              " 'cat.191.jpg',\n",
              " 'cat.371.jpg',\n",
              " 'cat.494.jpg',\n",
              " 'cat.234.jpg',\n",
              " 'cat.514.jpg',\n",
              " 'cat.784.jpg',\n",
              " 'cat.585.jpg',\n",
              " 'cat.150.jpg',\n",
              " 'cat.839.jpg',\n",
              " 'cat.123.jpg',\n",
              " 'cat.419.jpg',\n",
              " 'cat.93.jpg',\n",
              " 'cat.984.jpg',\n",
              " 'cat.418.jpg',\n",
              " 'cat.783.jpg',\n",
              " 'cat.488.jpg',\n",
              " 'cat.977.jpg',\n",
              " 'cat.676.jpg',\n",
              " 'cat.536.jpg',\n",
              " 'cat.197.jpg',\n",
              " 'cat.29.jpg',\n",
              " 'cat.336.jpg']"
            ]
          },
          "metadata": {
            "tags": []
          },
          "execution_count": 19
        }
      ]
    },
    {
      "cell_type": "code",
      "metadata": {
        "id": "GAJKEoH8GrNz",
        "colab_type": "code",
        "colab": {}
      },
      "source": [
        "train_dir = os.path.join(base_dir, 'train')\n",
        "os.mkdir(train_dir)\n",
        "\n",
        "validation_dir = os.path.join(base_dir, 'validation')\n",
        "os.mkdir(validation_dir)\n",
        "\n",
        "test_dir = os.path.join(base_dir, 'test')\n",
        "os.mkdir(test_dir)"
      ],
      "execution_count": 0,
      "outputs": []
    },
    {
      "cell_type": "code",
      "metadata": {
        "id": "Ch7TlbpxJZ-F",
        "colab_type": "code",
        "colab": {}
      },
      "source": [
        "validation_dir_cats = os.path.join(validation_dir, 'cats')\n",
        "os.mkdir(validation_dir_cats)\n",
        "\n",
        "validation_dir_dogs = os.path.join(validation_dir, 'dogs')\n",
        "os.mkdir(validation_dir_dogs)"
      ],
      "execution_count": 0,
      "outputs": []
    },
    {
      "cell_type": "code",
      "metadata": {
        "id": "1ElkDD_RHWif",
        "colab_type": "code",
        "colab": {}
      },
      "source": [
        "test_dir_cats = os.path.join(test_dir, 'cats')\n",
        "os.mkdir(test_dir_cats)\n",
        "\n",
        "test_dir_dogs = os.path.join(test_dir, 'dogs')\n",
        "os.mkdir(test_dir_dogs)\n"
      ],
      "execution_count": 0,
      "outputs": []
    },
    {
      "cell_type": "code",
      "metadata": {
        "id": "EcFXt9EMH3Gl",
        "colab_type": "code",
        "colab": {}
      },
      "source": [
        "train_dir_cats = os.path.join(train_dir, 'cats')\n",
        "os.mkdir(train_dir_cats)\n",
        "\n",
        "train_dir_dogs = os.path.join(train_dir, 'dogs')\n",
        "os.mkdir(train_dir_dogs)\n"
      ],
      "execution_count": 0,
      "outputs": []
    },
    {
      "cell_type": "code",
      "metadata": {
        "id": "P98BS9ceJvGT",
        "colab_type": "code",
        "colab": {}
      },
      "source": [
        "frames = listdir(dataset_dir+'train/cats/')\n",
        "for frame in frames:\n",
        "  src = os.path.join(dataset_dir+'train/cats/', frame)\n",
        "  dst = os.path.join(train_dir_cats,frame)\n",
        "  shutil.copyfile(src,dst)"
      ],
      "execution_count": 0,
      "outputs": []
    },
    {
      "cell_type": "code",
      "metadata": {
        "id": "7FZsgKNHL6dC",
        "colab_type": "code",
        "colab": {}
      },
      "source": [
        "frames = listdir(dataset_dir+'train/dogs/')\n",
        "for frame in frames:\n",
        "  src = os.path.join(dataset_dir+'train/dogs/', frame)\n",
        "  dst = os.path.join(train_dir_dogs,frame)\n",
        "  shutil.copyfile(src,dst)"
      ],
      "execution_count": 0,
      "outputs": []
    },
    {
      "cell_type": "code",
      "metadata": {
        "id": "p2pTCnynMFAP",
        "colab_type": "code",
        "colab": {}
      },
      "source": [
        "frames = listdir(dataset_dir+'validation/cats/')\n",
        "for frame in frames:\n",
        "  src = os.path.join(dataset_dir+'validation/cats/', frame)\n",
        "  dst = os.path.join(validation_dir_cats,frame)\n",
        "  shutil.copyfile(src,dst)"
      ],
      "execution_count": 0,
      "outputs": []
    },
    {
      "cell_type": "code",
      "metadata": {
        "id": "3ZoCy702MUGa",
        "colab_type": "code",
        "colab": {}
      },
      "source": [
        "frames = listdir(dataset_dir+'validation/dogs/')\n",
        "for frame in frames:\n",
        "  src = os.path.join(dataset_dir+'validation/dogs/', frame)\n",
        "  dst = os.path.join(validation_dir_dogs,frame)\n",
        "  shutil.copyfile(src,dst)"
      ],
      "execution_count": 0,
      "outputs": []
    },
    {
      "cell_type": "code",
      "metadata": {
        "id": "TZl_iuReMa4i",
        "colab_type": "code",
        "outputId": "e52cd23d-765f-4f3c-e329-a9ac1b8aa0fb",
        "colab": {
          "base_uri": "https://localhost:8080/",
          "height": 87
        }
      },
      "source": [
        "#sanity check\n",
        "print(len(listdir(train_dir_cats)))\n",
        "print(len(listdir(train_dir_dogs)))\n",
        "print(len(listdir(validation_dir_cats)))\n",
        "print(len(listdir(validation_dir_dogs)))"
      ],
      "execution_count": 28,
      "outputs": [
        {
          "output_type": "stream",
          "text": [
            "1000\n",
            "1000\n",
            "500\n",
            "500\n"
          ],
          "name": "stdout"
        }
      ]
    },
    {
      "cell_type": "code",
      "metadata": {
        "id": "vFf4vnv2EFw3",
        "colab_type": "code",
        "colab": {}
      },
      "source": [
        "import os\n",
        "import numpy as np\n",
        "from keras.preprocessing.image import ImageDataGenerator\n",
        "\n",
        "datagen = ImageDataGenerator(rescale=1./255)\n",
        "batch_size=20\n",
        "def extract_features(directory, sample_count):\n",
        "    features = np.zeros(shape = (sample_count,4, 4, 512))\n",
        "    labels = np.zeros(shape =  (sample_count))\n",
        "    generator = datagen.flow_from_directory(\n",
        "        directory,\n",
        "        target_size=(150,150),\n",
        "        batch_size=batch_size,\n",
        "        class_mode='binary'\n",
        "    )\n",
        "    i=0\n",
        "    for input_batch, label_batch in generator:\n",
        "      features_batch = conv_base.predict(input_batch)\n",
        "      #print(i * batch_size , (i+1) * batch_size )\n",
        "      features[i * batch_size : (i + 1) * batch_size] = features_batch\n",
        "      labels[i * batch_size : (i + 1) * batch_size] = label_batch\n",
        "      i += 1\n",
        "      if i * batch_size >= sample_count:\n",
        "        break\n",
        "    return features, labels\n"
      ],
      "execution_count": 0,
      "outputs": []
    },
    {
      "cell_type": "code",
      "metadata": {
        "id": "TfcFIXl-Qe9A",
        "colab_type": "code",
        "outputId": "4937ff27-fba8-4407-99f6-a87bd63f0c63",
        "colab": {
          "base_uri": "https://localhost:8080/",
          "height": 52
        }
      },
      "source": [
        "train_features, train_labels = extract_features(train_dir,2000)\n",
        "validation_features, validation_labels = extract_features(validation_dir,1000)"
      ],
      "execution_count": 30,
      "outputs": [
        {
          "output_type": "stream",
          "text": [
            "Found 2000 images belonging to 2 classes.\n",
            "Found 1000 images belonging to 2 classes.\n"
          ],
          "name": "stdout"
        }
      ]
    },
    {
      "cell_type": "code",
      "metadata": {
        "id": "LUFiqdieQ3sj",
        "colab_type": "code",
        "outputId": "8f21e3e0-3e8d-4000-f52b-ef81ee282af1",
        "colab": {
          "base_uri": "https://localhost:8080/",
          "height": 87
        }
      },
      "source": [
        "print(train_features.shape)\n",
        "print(train_labels.shape)\n",
        "print(validation_features.shape)\n",
        "print(validation_labels.shape)"
      ],
      "execution_count": 31,
      "outputs": [
        {
          "output_type": "stream",
          "text": [
            "(2000, 4, 4, 512)\n",
            "(2000,)\n",
            "(1000, 4, 4, 512)\n",
            "(1000,)\n"
          ],
          "name": "stdout"
        }
      ]
    },
    {
      "cell_type": "code",
      "metadata": {
        "id": "QAwsejSuRdjF",
        "colab_type": "code",
        "colab": {}
      },
      "source": [
        "train_features = np.reshape(train_features,(2000, 4 * 4 * 512))\n",
        "validation_features = np.reshape(validation_features,(1000, 4 * 4 * 512))"
      ],
      "execution_count": 0,
      "outputs": []
    },
    {
      "cell_type": "code",
      "metadata": {
        "id": "C_6So4OPRyS9",
        "colab_type": "code",
        "outputId": "da83b72c-e6c7-46cc-d98d-6e64d72488dc",
        "colab": {
          "base_uri": "https://localhost:8080/",
          "height": 1000
        }
      },
      "source": [
        "import keras\n",
        "from keras.models import Sequential\n",
        "from keras.layers import Dense, Dropout\n",
        "from keras.losses import binary_crossentropy\n",
        "from keras.optimizers import rmsprop\n",
        "from keras.activations import relu, sigmoid\n",
        "\n",
        "model = Sequential()\n",
        "model.add(Dense(256, activation = relu, input_dim =(4*4*512)))\n",
        "model.add(Dropout(0.5))\n",
        "model.add(Dense(1,activation = sigmoid))\n",
        "\n",
        "model.compile (optimizer = rmsprop(lr=2e-5),\n",
        "               loss=binary_crossentropy,\n",
        "               metrics=['acc'])\n",
        "\n",
        "history = model.fit(train_features, train_labels, \n",
        "          epochs = 30, \n",
        "          batch_size = 20, \n",
        "          validation_data = (validation_features, validation_labels)\n",
        "          )\n",
        "model.save('VGG16_convbase_cats_dogs_1.h5')"
      ],
      "execution_count": 33,
      "outputs": [
        {
          "output_type": "stream",
          "text": [
            "Train on 2000 samples, validate on 1000 samples\n",
            "Epoch 1/30\n",
            "2000/2000 [==============================] - 2s 865us/step - loss: 0.5936 - acc: 0.6765 - val_loss: 0.4565 - val_acc: 0.7950\n",
            "Epoch 2/30\n",
            "2000/2000 [==============================] - 1s 391us/step - loss: 0.4375 - acc: 0.7990 - val_loss: 0.3655 - val_acc: 0.8520\n",
            "Epoch 3/30\n",
            "2000/2000 [==============================] - 1s 389us/step - loss: 0.3683 - acc: 0.8405 - val_loss: 0.3306 - val_acc: 0.8620\n",
            "Epoch 4/30\n",
            "2000/2000 [==============================] - 1s 406us/step - loss: 0.3139 - acc: 0.8650 - val_loss: 0.3106 - val_acc: 0.8760\n",
            "Epoch 5/30\n",
            "2000/2000 [==============================] - 1s 393us/step - loss: 0.2949 - acc: 0.8785 - val_loss: 0.2973 - val_acc: 0.8770\n",
            "Epoch 6/30\n",
            "2000/2000 [==============================] - 1s 416us/step - loss: 0.2636 - acc: 0.8975 - val_loss: 0.3015 - val_acc: 0.8720\n",
            "Epoch 7/30\n",
            "2000/2000 [==============================] - 1s 418us/step - loss: 0.2505 - acc: 0.9015 - val_loss: 0.2781 - val_acc: 0.8840\n",
            "Epoch 8/30\n",
            "2000/2000 [==============================] - 1s 417us/step - loss: 0.2348 - acc: 0.9100 - val_loss: 0.2717 - val_acc: 0.8880\n",
            "Epoch 9/30\n",
            "2000/2000 [==============================] - 1s 423us/step - loss: 0.2218 - acc: 0.9110 - val_loss: 0.2696 - val_acc: 0.8850\n",
            "Epoch 10/30\n",
            "2000/2000 [==============================] - 1s 417us/step - loss: 0.2094 - acc: 0.9165 - val_loss: 0.2663 - val_acc: 0.8870\n",
            "Epoch 11/30\n",
            "2000/2000 [==============================] - 1s 425us/step - loss: 0.2036 - acc: 0.9220 - val_loss: 0.2616 - val_acc: 0.8850\n",
            "Epoch 12/30\n",
            "2000/2000 [==============================] - 1s 418us/step - loss: 0.1857 - acc: 0.9340 - val_loss: 0.2620 - val_acc: 0.8870\n",
            "Epoch 13/30\n",
            "2000/2000 [==============================] - 1s 417us/step - loss: 0.1832 - acc: 0.9285 - val_loss: 0.2597 - val_acc: 0.8880\n",
            "Epoch 14/30\n",
            "2000/2000 [==============================] - 1s 424us/step - loss: 0.1693 - acc: 0.9360 - val_loss: 0.2665 - val_acc: 0.8860\n",
            "Epoch 15/30\n",
            "2000/2000 [==============================] - 1s 419us/step - loss: 0.1696 - acc: 0.9395 - val_loss: 0.2586 - val_acc: 0.8860\n",
            "Epoch 16/30\n",
            "2000/2000 [==============================] - 1s 421us/step - loss: 0.1579 - acc: 0.9430 - val_loss: 0.2635 - val_acc: 0.8890\n",
            "Epoch 17/30\n",
            "2000/2000 [==============================] - 1s 429us/step - loss: 0.1516 - acc: 0.9505 - val_loss: 0.2546 - val_acc: 0.8810\n",
            "Epoch 18/30\n",
            "2000/2000 [==============================] - 1s 414us/step - loss: 0.1424 - acc: 0.9520 - val_loss: 0.2555 - val_acc: 0.8880\n",
            "Epoch 19/30\n",
            "2000/2000 [==============================] - 1s 409us/step - loss: 0.1426 - acc: 0.9485 - val_loss: 0.2537 - val_acc: 0.8830\n",
            "Epoch 20/30\n",
            "2000/2000 [==============================] - 1s 418us/step - loss: 0.1327 - acc: 0.9550 - val_loss: 0.2547 - val_acc: 0.8860\n",
            "Epoch 21/30\n",
            "2000/2000 [==============================] - 1s 413us/step - loss: 0.1272 - acc: 0.9555 - val_loss: 0.2626 - val_acc: 0.8850\n",
            "Epoch 22/30\n",
            "2000/2000 [==============================] - 1s 420us/step - loss: 0.1185 - acc: 0.9585 - val_loss: 0.2554 - val_acc: 0.8850\n",
            "Epoch 23/30\n",
            "2000/2000 [==============================] - 1s 416us/step - loss: 0.1169 - acc: 0.9655 - val_loss: 0.2534 - val_acc: 0.8870\n",
            "Epoch 24/30\n",
            "2000/2000 [==============================] - 1s 426us/step - loss: 0.1130 - acc: 0.9610 - val_loss: 0.2583 - val_acc: 0.8840\n",
            "Epoch 25/30\n",
            "2000/2000 [==============================] - 1s 421us/step - loss: 0.1021 - acc: 0.9700 - val_loss: 0.2632 - val_acc: 0.8920\n",
            "Epoch 26/30\n",
            "2000/2000 [==============================] - 1s 421us/step - loss: 0.1031 - acc: 0.9700 - val_loss: 0.2557 - val_acc: 0.8850\n",
            "Epoch 27/30\n",
            "2000/2000 [==============================] - 1s 415us/step - loss: 0.1003 - acc: 0.9645 - val_loss: 0.2550 - val_acc: 0.8870\n",
            "Epoch 28/30\n",
            "2000/2000 [==============================] - 1s 427us/step - loss: 0.0933 - acc: 0.9735 - val_loss: 0.2572 - val_acc: 0.8890\n",
            "Epoch 29/30\n",
            "2000/2000 [==============================] - 1s 412us/step - loss: 0.0938 - acc: 0.9710 - val_loss: 0.2604 - val_acc: 0.8840\n",
            "Epoch 30/30\n",
            "2000/2000 [==============================] - 1s 422us/step - loss: 0.0920 - acc: 0.9725 - val_loss: 0.2581 - val_acc: 0.8890\n"
          ],
          "name": "stdout"
        }
      ]
    },
    {
      "cell_type": "code",
      "metadata": {
        "id": "UQYqSXGMg-uZ",
        "colab_type": "code",
        "outputId": "433de772-fc7f-462f-db04-c1f85df9e8e1",
        "colab": {
          "base_uri": "https://localhost:8080/",
          "height": 312
        }
      },
      "source": [
        "import matplotlib.pyplot as plt\n",
        "\n",
        "train_acc = history.history['acc']\n",
        "val_acc = history.history['val_acc']\n",
        "epochs = range(len(val_acc))\n",
        "plt.plot(epochs,train_acc,'bo',label=\"Training accuracy\")\n",
        "plt.plot(epochs,val_acc,'r-',label=\"Validation accuracy\")\n",
        "plt.xlabel('Epochs')\n",
        "plt.ylabel('Accuracy')\n",
        "plt.legend()\n",
        "plt.title('Training vs validation accuracy')"
      ],
      "execution_count": 34,
      "outputs": [
        {
          "output_type": "execute_result",
          "data": {
            "text/plain": [
              "Text(0.5, 1.0, 'Training vs validation accuracy')"
            ]
          },
          "metadata": {
            "tags": []
          },
          "execution_count": 34
        },
        {
          "output_type": "display_data",
          "data": {
            "image/png": "[encoded data removed]",
            "text/plain": [
              "<Figure size 432x288 with 1 Axes>"
            ]
          },
          "metadata": {
            "tags": []
          }
        }
      ]
    },
    {
      "cell_type": "code",
      "metadata": {
        "id": "e_6-Mwwlha5h",
        "colab_type": "code",
        "outputId": "6121b59b-7cf1-4ce2-cb8a-a79d9bb29408",
        "colab": {
          "base_uri": "https://localhost:8080/",
          "height": 312
        }
      },
      "source": [
        "train_loss = history.history['loss']\n",
        "val_loss = history.history['val_loss']\n",
        "epochs = range(len(val_loss))\n",
        "plt.plot(epochs,train_loss,'bo',label=\"Training loss\")\n",
        "plt.plot(epochs,val_loss,'r-',label=\"Validation loss\")\n",
        "plt.xlabel('Epochs')\n",
        "plt.ylabel('loss')\n",
        "plt.legend()\n",
        "plt.title('Training vs validation loss')"
      ],
      "execution_count": 35,
      "outputs": [
        {
          "output_type": "execute_result",
          "data": {
            "text/plain": [
              "Text(0.5, 1.0, 'Training vs validation loss')"
            ]
          },
          "metadata": {
            "tags": []
          },
          "execution_count": 35
        },
        {
          "output_type": "display_data",
          "data": {
            "image/png": "[encoded data removed]",
            "text/plain": [
              "<Figure size 432x288 with 1 Axes>"
            ]
          },
          "metadata": {
            "tags": []
          }
        }
      ]
    },
    {
      "cell_type": "code",
      "metadata": {
        "id": "iueWKggJjJTI",
        "colab_type": "code",
        "outputId": "d477b0cb-8bf6-4031-f6d4-836d9824b8ab",
        "colab": {
          "base_uri": "https://localhost:8080/",
          "height": 298
        }
      },
      "source": [
        "from keras.models import Sequential\n",
        "from keras import layers\n",
        "from keras import activations\n",
        "\n",
        "model = Sequential()\n",
        "model.add(conv_base)\n",
        "model.add(layers.Flatten())\n",
        "model.add(layers.Dense(256, activation='relu'))\n",
        "model.add(layers.Dense(1, activation='sigmoid'))\n",
        "model.summary()"
      ],
      "execution_count": 36,
      "outputs": [
        {
          "output_type": "stream",
          "text": [
            "Model: \"sequential_4\"\n",
            "_________________________________________________________________\n",
            "Layer (type)                 Output Shape              Param #   \n",
            "=================================================================\n",
            "vgg16 (Model)                (None, 4, 4, 512)         14714688  \n",
            "_________________________________________________________________\n",
            "flatten_2 (Flatten)          (None, 8192)              0         \n",
            "_________________________________________________________________\n",
            "dense_7 (Dense)              (None, 256)               2097408   \n",
            "_________________________________________________________________\n",
            "dense_8 (Dense)              (None, 1)                 257       \n",
            "=================================================================\n",
            "Total params: 16,812,353\n",
            "Trainable params: 2,097,665\n",
            "Non-trainable params: 14,714,688\n",
            "_________________________________________________________________\n"
          ],
          "name": "stdout"
        }
      ]
    },
    {
      "cell_type": "code",
      "metadata": {
        "id": "n_Rjxa84lRAe",
        "colab_type": "code",
        "outputId": "e6f562ce-3244-4410-dc5f-e60062b74f26",
        "colab": {
          "base_uri": "https://localhost:8080/",
          "height": 334
        }
      },
      "source": [
        "#freezing the conv_base weights\n",
        "print(len(model.trainable_weights))\n",
        "conv_base.trainable = False\n",
        "print(len(model.trainable_weights))\n",
        "model.summary()"
      ],
      "execution_count": 37,
      "outputs": [
        {
          "output_type": "stream",
          "text": [
            "4\n",
            "4\n",
            "Model: \"sequential_4\"\n",
            "_________________________________________________________________\n",
            "Layer (type)                 Output Shape              Param #   \n",
            "=================================================================\n",
            "vgg16 (Model)                (None, 4, 4, 512)         14714688  \n",
            "_________________________________________________________________\n",
            "flatten_2 (Flatten)          (None, 8192)              0         \n",
            "_________________________________________________________________\n",
            "dense_7 (Dense)              (None, 256)               2097408   \n",
            "_________________________________________________________________\n",
            "dense_8 (Dense)              (None, 1)                 257       \n",
            "=================================================================\n",
            "Total params: 16,812,353\n",
            "Trainable params: 2,097,665\n",
            "Non-trainable params: 14,714,688\n",
            "_________________________________________________________________\n"
          ],
          "name": "stdout"
        }
      ]
    },
    {
      "cell_type": "code",
      "metadata": {
        "id": "xxP-nBODr5Na",
        "colab_type": "code",
        "outputId": "8bffd663-a607-4f41-b9f5-003d174dab48",
        "colab": {
          "base_uri": "https://localhost:8080/",
          "height": 1000
        }
      },
      "source": [
        "from keras.preprocessing.image import ImageDataGenerator\n",
        "from keras import optimizers\n",
        "\n",
        "train_datagen = ImageDataGenerator(\n",
        "      rescale=1./255,\n",
        "      rotation_range=40,\n",
        "      width_shift_range=0.2,\n",
        "      height_shift_range=0.2,\n",
        "      shear_range=0.2,\n",
        "      zoom_range=0.2,\n",
        "      horizontal_flip=True,\n",
        "      fill_mode='nearest')\n",
        "\n",
        "# Note that the validation data should not be augmented!\n",
        "test_datagen = ImageDataGenerator(rescale=1./255)\n",
        "\n",
        "train_generator = train_datagen.flow_from_directory(\n",
        "        # This is the target directory\n",
        "        train_dir,\n",
        "        shuffle=True,\n",
        "        # All images will be resized to 150x150\n",
        "        target_size=(150, 150),\n",
        "        batch_size=10,\n",
        "        # Since we use binary_crossentropy loss, we need binary labels\n",
        "        class_mode='binary')\n",
        "\n",
        "validation_generator = test_datagen.flow_from_directory(\n",
        "        validation_dir,\n",
        "        target_size=(150, 150),\n",
        "        batch_size=10,\n",
        "        class_mode='binary')\n",
        "\n",
        "model.compile(loss='binary_crossentropy',\n",
        "              optimizer=optimizers.RMSprop(lr=2e-5),\n",
        "              metrics=['acc'])\n",
        "\n",
        "history = model.fit_generator(\n",
        "      train_generator,\n",
        "      steps_per_epoch=100,\n",
        "      epochs=30,\n",
        "      validation_data=validation_generator,\n",
        "      validation_steps=50,\n",
        "      verbose=2)"
      ],
      "execution_count": 38,
      "outputs": [
        {
          "output_type": "stream",
          "text": [
            "Found 2000 images belonging to 2 classes.\n",
            "Found 1000 images belonging to 2 classes.\n",
            "Epoch 1/30\n",
            " - 14s - loss: 0.6316 - acc: 0.6350 - val_loss: 0.5126 - val_acc: 0.7720\n",
            "Epoch 2/30\n",
            " - 13s - loss: 0.5278 - acc: 0.7600 - val_loss: 0.4290 - val_acc: 0.8020\n",
            "Epoch 3/30\n",
            " - 13s - loss: 0.4637 - acc: 0.7910 - val_loss: 0.3607 - val_acc: 0.8480\n",
            "Epoch 4/30\n",
            " - 13s - loss: 0.4371 - acc: 0.8140 - val_loss: 0.3609 - val_acc: 0.8360\n",
            "Epoch 5/30\n",
            " - 12s - loss: 0.4109 - acc: 0.8060 - val_loss: 0.3115 - val_acc: 0.8580\n",
            "Epoch 6/30\n",
            " - 12s - loss: 0.4178 - acc: 0.8150 - val_loss: 0.3297 - val_acc: 0.8620\n",
            "Epoch 7/30\n",
            " - 12s - loss: 0.3886 - acc: 0.8230 - val_loss: 0.3177 - val_acc: 0.8480\n",
            "Epoch 8/30\n",
            " - 13s - loss: 0.3496 - acc: 0.8540 - val_loss: 0.3141 - val_acc: 0.8680\n",
            "Epoch 9/30\n",
            " - 13s - loss: 0.3663 - acc: 0.8290 - val_loss: 0.2586 - val_acc: 0.8980\n",
            "Epoch 10/30\n",
            " - 13s - loss: 0.3594 - acc: 0.8340 - val_loss: 0.3055 - val_acc: 0.8460\n",
            "Epoch 11/30\n",
            " - 13s - loss: 0.3725 - acc: 0.8350 - val_loss: 0.2636 - val_acc: 0.8900\n",
            "Epoch 12/30\n",
            " - 13s - loss: 0.3528 - acc: 0.8500 - val_loss: 0.2929 - val_acc: 0.8740\n",
            "Epoch 13/30\n",
            " - 13s - loss: 0.3379 - acc: 0.8530 - val_loss: 0.2853 - val_acc: 0.8520\n",
            "Epoch 14/30\n",
            " - 13s - loss: 0.3321 - acc: 0.8510 - val_loss: 0.3123 - val_acc: 0.8760\n",
            "Epoch 15/30\n",
            " - 12s - loss: 0.3352 - acc: 0.8590 - val_loss: 0.2651 - val_acc: 0.8960\n",
            "Epoch 16/30\n",
            " - 13s - loss: 0.3327 - acc: 0.8540 - val_loss: 0.2806 - val_acc: 0.8740\n",
            "Epoch 17/30\n",
            " - 13s - loss: 0.3191 - acc: 0.8610 - val_loss: 0.2796 - val_acc: 0.8640\n",
            "Epoch 18/30\n",
            " - 13s - loss: 0.3209 - acc: 0.8690 - val_loss: 0.2640 - val_acc: 0.8900\n",
            "Epoch 19/30\n",
            " - 13s - loss: 0.3407 - acc: 0.8420 - val_loss: 0.2586 - val_acc: 0.8800\n",
            "Epoch 20/30\n",
            " - 13s - loss: 0.3009 - acc: 0.8800 - val_loss: 0.2655 - val_acc: 0.8880\n",
            "Epoch 21/30\n",
            " - 13s - loss: 0.3233 - acc: 0.8590 - val_loss: 0.2694 - val_acc: 0.8900\n",
            "Epoch 22/30\n",
            " - 13s - loss: 0.3273 - acc: 0.8510 - val_loss: 0.2690 - val_acc: 0.8800\n",
            "Epoch 23/30\n",
            " - 13s - loss: 0.3375 - acc: 0.8470 - val_loss: 0.2669 - val_acc: 0.8960\n",
            "Epoch 24/30\n",
            " - 13s - loss: 0.2857 - acc: 0.8740 - val_loss: 0.2672 - val_acc: 0.8760\n",
            "Epoch 25/30\n",
            " - 13s - loss: 0.3226 - acc: 0.8540 - val_loss: 0.2623 - val_acc: 0.8720\n",
            "Epoch 26/30\n",
            " - 13s - loss: 0.3201 - acc: 0.8550 - val_loss: 0.2562 - val_acc: 0.8880\n",
            "Epoch 27/30\n",
            " - 13s - loss: 0.3309 - acc: 0.8610 - val_loss: 0.2691 - val_acc: 0.8820\n",
            "Epoch 28/30\n",
            " - 13s - loss: 0.3043 - acc: 0.8630 - val_loss: 0.2436 - val_acc: 0.8800\n",
            "Epoch 29/30\n",
            " - 13s - loss: 0.3103 - acc: 0.8590 - val_loss: 0.2558 - val_acc: 0.8720\n",
            "Epoch 30/30\n",
            " - 13s - loss: 0.3047 - acc: 0.8630 - val_loss: 0.2525 - val_acc: 0.8840\n"
          ],
          "name": "stdout"
        }
      ]
    },
    {
      "cell_type": "code",
      "metadata": {
        "id": "Ncl0Yl2XEKoD",
        "colab_type": "code",
        "colab": {}
      },
      "source": [
        "conv_base.trainable = True\n",
        "set_trainable = False\n",
        "for layer in conv_base.layers:\n",
        "  if layer.name == 'block5_conv1':\n",
        "    set_trainable = True\n",
        "  if set_trainable:\n",
        "    layer.trainable = True\n",
        "  else:\n",
        "    layer.trainable = False\n"
      ],
      "execution_count": 0,
      "outputs": []
    },
    {
      "cell_type": "code",
      "metadata": {
        "id": "EGv4BAWZE8T5",
        "colab_type": "code",
        "outputId": "cb59eaf7-ae6a-47cc-ae79-671fa3d7d4ff",
        "colab": {
          "base_uri": "https://localhost:8080/",
          "height": 1000
        }
      },
      "source": [
        "model.compile(loss='binary_crossentropy',\n",
        "              optimizer=optimizers.RMSprop(lr=1e-5),\n",
        "              metrics=['acc'])\n",
        "\n",
        "history = model.fit_generator(\n",
        "      train_generator,\n",
        "      steps_per_epoch=100,\n",
        "      epochs=30,\n",
        "      validation_data=validation_generator,\n",
        "      validation_steps=50,\n",
        "      verbose=2)"
      ],
      "execution_count": 40,
      "outputs": [
        {
          "output_type": "stream",
          "text": [
            "Epoch 1/30\n",
            " - 16s - loss: 0.3255 - acc: 0.8570 - val_loss: 0.3860 - val_acc: 0.8520\n",
            "Epoch 2/30\n",
            " - 14s - loss: 0.2930 - acc: 0.8810 - val_loss: 0.2235 - val_acc: 0.9120\n",
            "Epoch 3/30\n",
            " - 14s - loss: 0.2598 - acc: 0.8900 - val_loss: 0.2075 - val_acc: 0.9200\n",
            "Epoch 4/30\n",
            " - 14s - loss: 0.2550 - acc: 0.8900 - val_loss: 0.2145 - val_acc: 0.9200\n",
            "Epoch 5/30\n",
            " - 14s - loss: 0.2546 - acc: 0.8940 - val_loss: 0.2833 - val_acc: 0.9040\n",
            "Epoch 6/30\n",
            " - 14s - loss: 0.2599 - acc: 0.8980 - val_loss: 0.2100 - val_acc: 0.9140\n",
            "Epoch 7/30\n",
            " - 14s - loss: 0.2163 - acc: 0.9080 - val_loss: 0.2168 - val_acc: 0.9260\n",
            "Epoch 8/30\n",
            " - 14s - loss: 0.2173 - acc: 0.8990 - val_loss: 0.1978 - val_acc: 0.9280\n",
            "Epoch 9/30\n",
            " - 14s - loss: 0.2031 - acc: 0.9210 - val_loss: 0.1477 - val_acc: 0.9340\n",
            "Epoch 10/30\n",
            " - 14s - loss: 0.2113 - acc: 0.9110 - val_loss: 0.2152 - val_acc: 0.9340\n",
            "Epoch 11/30\n",
            " - 14s - loss: 0.1692 - acc: 0.9290 - val_loss: 0.2667 - val_acc: 0.9120\n",
            "Epoch 12/30\n",
            " - 14s - loss: 0.1896 - acc: 0.9140 - val_loss: 0.1960 - val_acc: 0.9420\n",
            "Epoch 13/30\n",
            " - 14s - loss: 0.1938 - acc: 0.9230 - val_loss: 0.1708 - val_acc: 0.9380\n",
            "Epoch 14/30\n",
            " - 14s - loss: 0.1691 - acc: 0.9310 - val_loss: 0.2006 - val_acc: 0.9360\n",
            "Epoch 15/30\n",
            " - 14s - loss: 0.1578 - acc: 0.9370 - val_loss: 0.2174 - val_acc: 0.9320\n",
            "Epoch 16/30\n",
            " - 14s - loss: 0.1867 - acc: 0.9180 - val_loss: 0.1567 - val_acc: 0.9420\n",
            "Epoch 17/30\n",
            " - 14s - loss: 0.1512 - acc: 0.9480 - val_loss: 0.2278 - val_acc: 0.9280\n",
            "Epoch 18/30\n",
            " - 14s - loss: 0.1561 - acc: 0.9380 - val_loss: 0.1705 - val_acc: 0.9400\n",
            "Epoch 19/30\n",
            " - 14s - loss: 0.1770 - acc: 0.9300 - val_loss: 0.1504 - val_acc: 0.9540\n",
            "Epoch 20/30\n",
            " - 14s - loss: 0.1351 - acc: 0.9430 - val_loss: 0.2429 - val_acc: 0.9240\n",
            "Epoch 21/30\n",
            " - 14s - loss: 0.1473 - acc: 0.9490 - val_loss: 0.2372 - val_acc: 0.9120\n",
            "Epoch 22/30\n",
            " - 14s - loss: 0.1407 - acc: 0.9480 - val_loss: 0.2171 - val_acc: 0.9400\n",
            "Epoch 23/30\n",
            " - 14s - loss: 0.1696 - acc: 0.9330 - val_loss: 0.1805 - val_acc: 0.9420\n",
            "Epoch 24/30\n",
            " - 14s - loss: 0.1287 - acc: 0.9520 - val_loss: 0.2223 - val_acc: 0.9220\n",
            "Epoch 25/30\n",
            " - 14s - loss: 0.1354 - acc: 0.9520 - val_loss: 0.1849 - val_acc: 0.9500\n",
            "Epoch 26/30\n",
            " - 14s - loss: 0.1198 - acc: 0.9500 - val_loss: 0.2901 - val_acc: 0.9100\n",
            "Epoch 27/30\n",
            " - 14s - loss: 0.1270 - acc: 0.9490 - val_loss: 0.1912 - val_acc: 0.9280\n",
            "Epoch 28/30\n",
            " - 14s - loss: 0.1209 - acc: 0.9480 - val_loss: 0.2584 - val_acc: 0.9240\n",
            "Epoch 29/30\n",
            " - 14s - loss: 0.1098 - acc: 0.9620 - val_loss: 0.2273 - val_acc: 0.9360\n",
            "Epoch 30/30\n",
            " - 13s - loss: 0.1173 - acc: 0.9600 - val_loss: 0.2137 - val_acc: 0.9400\n"
          ],
          "name": "stdout"
        }
      ]
    },
    {
      "cell_type": "code",
      "metadata": {
        "id": "DxTKOnK-JPFG",
        "colab_type": "code",
        "outputId": "7e169cb8-ec31-4ffd-f358-4e91a4ed32b8",
        "colab": {
          "base_uri": "https://localhost:8080/",
          "height": 312
        }
      },
      "source": [
        "import matplotlib.pyplot as plt\n",
        "\n",
        "train_acc = history.history['acc']\n",
        "val_acc = history.history['val_acc']\n",
        "epochs = range(len(val_acc))\n",
        "plt.plot(epochs,train_acc,'bo',label=\"Training accuracy\")\n",
        "plt.plot(epochs,val_acc,'r-',label=\"Validation accuracy\")\n",
        "plt.xlabel('Epochs')\n",
        "plt.ylabel('Accuracy')\n",
        "plt.legend()\n",
        "plt.title('Training vs validation accuracy')"
      ],
      "execution_count": 41,
      "outputs": [
        {
          "output_type": "execute_result",
          "data": {
            "text/plain": [
              "Text(0.5, 1.0, 'Training vs validation accuracy')"
            ]
          },
          "metadata": {
            "tags": []
          },
          "execution_count": 41
        },
        {
          "output_type": "display_data",
          "data": {
            "image/png": "[encoded data removed]",
            "text/plain": [
              "<Figure size 432x288 with 1 Axes>"
            ]
          },
          "metadata": {
            "tags": []
          }
        }
      ]
    },
    {
      "cell_type": "code",
      "metadata": {
        "id": "iQzsdHkZJU_y",
        "colab_type": "code",
        "outputId": "143a8b2c-5ca2-4cb7-cc28-c2689f0cf436",
        "colab": {
          "base_uri": "https://localhost:8080/",
          "height": 312
        }
      },
      "source": [
        "train_loss = history.history['loss']\n",
        "val_loss = history.history['val_loss']\n",
        "epochs = range(len(val_loss))\n",
        "plt.plot(epochs,train_loss,'bo',label=\"Training loss\")\n",
        "plt.plot(epochs,val_loss,'r-',label=\"Validation loss\")\n",
        "plt.xlabel('Epochs')\n",
        "plt.ylabel('loss')\n",
        "plt.legend()\n",
        "plt.title('Training vs validation loss')"
      ],
      "execution_count": 42,
      "outputs": [
        {
          "output_type": "execute_result",
          "data": {
            "text/plain": [
              "Text(0.5, 1.0, 'Training vs validation loss')"
            ]
          },
          "metadata": {
            "tags": []
          },
          "execution_count": 42
        },
        {
          "output_type": "display_data",
          "data": {
            "image/png": "[encoded data removed]",
            "text/plain": [
              "<Figure size 432x288 with 1 Axes>"
            ]
          },
          "metadata": {
            "tags": []
          }
        }
      ]
    },
    {
      "cell_type": "code",
      "metadata": {
        "id": "CAxhFc_LNXvx",
        "colab_type": "code",
        "colab": {}
      },
      "source": [
        "def smooth_points(points, factor=0.8):\n",
        "  smoothed_points = []\n",
        "  for point in points:\n",
        "    if smoothed_points :\n",
        "      previous = smoothed_points[-1]\n",
        "      smoothed_points.append(previous * factor + point * (1-factor))\n",
        "    else:\n",
        "      smoothed_points.append(point)\n",
        "  return smoothed_points"
      ],
      "execution_count": 0,
      "outputs": []
    },
    {
      "cell_type": "code",
      "metadata": {
        "id": "dsUmi8vxH8aQ",
        "colab_type": "code",
        "colab": {}
      },
      "source": [
        "val_loss = smooth_points(val_loss)\n",
        "train_loss = smooth_points(train_loss)\n",
        "\n",
        "val_acc = smooth_points(val_acc)\n",
        "train_acc = smooth_points(train_acc)"
      ],
      "execution_count": 0,
      "outputs": []
    },
    {
      "cell_type": "code",
      "metadata": {
        "id": "rQ47byK5Vktq",
        "colab_type": "code",
        "colab": {
          "base_uri": "https://localhost:8080/",
          "height": 312
        },
        "outputId": "d39a5ccb-3d21-4d08-f1a4-9ebeb7f964e0"
      },
      "source": [
        "plt.plot(epochs, val_loss, 'b-', label = 'Validation loss')\n",
        "plt.plot(epochs, train_loss, 'ro', label = 'Training loss')\n",
        "plt.title('Validation vs training loss smoothed')\n",
        "plt.xlabel('Epochs')\n",
        "plt.ylabel('Loss')\n",
        "plt.legend()"
      ],
      "execution_count": 53,
      "outputs": [
        {
          "output_type": "execute_result",
          "data": {
            "text/plain": [
              "<matplotlib.legend.Legend at 0x7f8c33adfe10>"
            ]
          },
          "metadata": {
            "tags": []
          },
          "execution_count": 53
        },
        {
          "output_type": "display_data",
          "data": {
            "image/png": "[encoded data removed]",
            "text/plain": [
              "<Figure size 432x288 with 1 Axes>"
            ]
          },
          "metadata": {
            "tags": []
          }
        }
      ]
    },
    {
      "cell_type": "code",
      "metadata": {
        "id": "6Ol6sAUCWVOg",
        "colab_type": "code",
        "colab": {
          "base_uri": "https://localhost:8080/",
          "height": 312
        },
        "outputId": "b1963b62-2897-4e24-f6fb-db26ab9b8ff6"
      },
      "source": [
        "plt.plot(epochs, val_acc, 'b-', label = 'Validation acc')\n",
        "plt.plot(epochs, train_acc, 'ro', label = 'Training acc')\n",
        "plt.title('Validation vs training loss smoothed')\n",
        "plt.xlabel('Epochs')\n",
        "plt.ylabel('Accuracy')\n",
        "plt.legend()"
      ],
      "execution_count": 54,
      "outputs": [
        {
          "output_type": "execute_result",
          "data": {
            "text/plain": [
              "<matplotlib.legend.Legend at 0x7f8c33a56dd8>"
            ]
          },
          "metadata": {
            "tags": []
          },
          "execution_count": 54
        },
        {
          "output_type": "display_data",
          "data": {
            "image/png": "[encoded data removed]",
            "text/plain": [
              "<Figure size 432x288 with 1 Axes>"
            ]
          },
          "metadata": {
            "tags": []
          }
        }
      ]
    },
    {
      "cell_type": "code",
      "metadata": {
        "id": "-ftanVMeYOjj",
        "colab_type": "code",
        "colab": {}
      },
      "source": [
        "from google.colab import files\n",
        "!pip install -q kaggle"
      ],
      "execution_count": 0,
      "outputs": []
    },
    {
      "cell_type": "code",
      "metadata": {
        "id": "1UJPdeOOYfWR",
        "colab_type": "code",
        "colab": {
          "resources": {
            "http://localhost:8080/nbextensions/google.colab/files.js": {
              "data": "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",
              "ok": true,
              "headers": [
                [
                  "content-type",
                  "application/javascript"
                ]
              ],
              "status": 200,
              "status_text": ""
            }
          },
          "base_uri": "https://localhost:8080/",
          "height": 75
        },
        "outputId": "deef7350-034e-42e8-e285-1cc95479092c"
      },
      "source": [
        "uploaded = files.upload()"
      ],
      "execution_count": 58,
      "outputs": [
        {
          "output_type": "display_data",
          "data": {
            "text/html": [
              "\n",
              "     <input type=\"file\" id=\"files-c3e92c7f-6caa-4702-9a00-4065b47e91da\" name=\"files[]\" multiple disabled />\n",
              "     <output id=\"result-c3e92c7f-6caa-4702-9a00-4065b47e91da\">\n",
              "      Upload widget is only available when the cell has been executed in the\n",
              "      current browser session. Please rerun this cell to enable.\n",
              "      </output>\n",
              "      <script src=\"/nbextensions/google.colab/files.js\"></script> "
            ],
            "text/plain": [
              "<IPython.core.display.HTML object>"
            ]
          },
          "metadata": {
            "tags": []
          }
        },
        {
          "output_type": "stream",
          "text": [
            "Saving kaggle.json to kaggle.json\n"
          ],
          "name": "stdout"
        }
      ]
    },
    {
      "cell_type": "code",
      "metadata": {
        "id": "_xRprASgY79U",
        "colab_type": "code",
        "colab": {
          "base_uri": "https://localhost:8080/",
          "height": 52
        },
        "outputId": "9ce2eb58-9fe0-4a1a-e2e4-be1b8311c816"
      },
      "source": [
        "!cd ~\n",
        "!mkdir ~/.kaggle\n",
        "!cp /content/.kaggle/kaggle.json ~/.kaggle/kaggle.json"
      ],
      "execution_count": 66,
      "outputs": [
        {
          "output_type": "stream",
          "text": [
            "mkdir: cannot create directory ‘/root/.kaggle’: File exists\n",
            "cp: cannot stat '/content/.kaggle/kaggle.json': No such file or directory\n"
          ],
          "name": "stdout"
        }
      ]
    }
  ]
}