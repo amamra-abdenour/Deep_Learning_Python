{
  "nbformat": 4,
  "nbformat_minor": 0,
  "metadata": {
    "colab": {
      "name": "DeapLearning_7.ipynb",
      "provenance": [],
      "collapsed_sections": [],
      "include_colab_link": true
    },
    "kernelspec": {
      "name": "python3",
      "display_name": "Python 3"
    },
    "accelerator": "GPU"
  },
  "cells": [
    {
      "cell_type": "markdown",
      "metadata": {
        "id": "view-in-github",
        "colab_type": "text"
      },
      "source": [
        "<a href=\"https://colab.research.google.com/github/amamra-abdenour/Deep_Learning_Python/blob/master/DeapLearning_7.ipynb\" target=\"_parent\"><img src=\"https://colab.research.google.com/assets/colab-badge.svg\" alt=\"Open In Colab\"/></a>"
      ]
    },
    {
      "cell_type": "code",
      "metadata": {
        "id": "STDp3kRTyrCI",
        "colab_type": "code",
        "outputId": "c51e3cfd-76e7-4aea-c4cb-11ca643b4682",
        "colab": {
          "base_uri": "https://localhost:8080/",
          "height": 1000
        }
      },
      "source": [
        "from keras.applications import VGG16\n",
        "\n",
        "conv_base = VGG16(weights='imagenet',\n",
        "                  include_top= False,\n",
        "                  input_shape=(150,150,3)\n",
        ")\n",
        "conv_base.summary()"
      ],
      "execution_count": 2,
      "outputs": [
        {
          "output_type": "stream",
          "text": [
            "WARNING:tensorflow:From /usr/local/lib/python3.6/dist-packages/keras/backend/tensorflow_backend.py:66: The name tf.get_default_graph is deprecated. Please use tf.compat.v1.get_default_graph instead.\n",
            "\n",
            "WARNING:tensorflow:From /usr/local/lib/python3.6/dist-packages/keras/backend/tensorflow_backend.py:541: The name tf.placeholder is deprecated. Please use tf.compat.v1.placeholder instead.\n",
            "\n",
            "WARNING:tensorflow:From /usr/local/lib/python3.6/dist-packages/keras/backend/tensorflow_backend.py:4432: The name tf.random_uniform is deprecated. Please use tf.random.uniform instead.\n",
            "\n",
            "WARNING:tensorflow:From /usr/local/lib/python3.6/dist-packages/keras/backend/tensorflow_backend.py:4267: The name tf.nn.max_pool is deprecated. Please use tf.nn.max_pool2d instead.\n",
            "\n",
            "Downloading data from https://github.com/fchollet/deep-learning-models/releases/download/v0.1/vgg16_weights_tf_dim_ordering_tf_kernels_notop.h5\n",
            "58892288/58889256 [==============================] - 1s 0us/step\n",
            "WARNING:tensorflow:From /usr/local/lib/python3.6/dist-packages/keras/backend/tensorflow_backend.py:190: The name tf.get_default_session is deprecated. Please use tf.compat.v1.get_default_session instead.\n",
            "\n",
            "WARNING:tensorflow:From /usr/local/lib/python3.6/dist-packages/keras/backend/tensorflow_backend.py:197: The name tf.ConfigProto is deprecated. Please use tf.compat.v1.ConfigProto instead.\n",
            "\n",
            "Model: \"vgg16\"\n",
            "_________________________________________________________________\n",
            "Layer (type)                 Output Shape              Param #   \n",
            "=================================================================\n",
            "input_1 (InputLayer)         (None, 150, 150, 3)       0         \n",
            "_________________________________________________________________\n",
            "block1_conv1 (Conv2D)        (None, 150, 150, 64)      1792      \n",
            "_________________________________________________________________\n",
            "block1_conv2 (Conv2D)        (None, 150, 150, 64)      36928     \n",
            "_________________________________________________________________\n",
            "block1_pool (MaxPooling2D)   (None, 75, 75, 64)        0         \n",
            "_________________________________________________________________\n",
            "block2_conv1 (Conv2D)        (None, 75, 75, 128)       73856     \n",
            "_________________________________________________________________\n",
            "block2_conv2 (Conv2D)        (None, 75, 75, 128)       147584    \n",
            "_________________________________________________________________\n",
            "block2_pool (MaxPooling2D)   (None, 37, 37, 128)       0         \n",
            "_________________________________________________________________\n",
            "block3_conv1 (Conv2D)        (None, 37, 37, 256)       295168    \n",
            "_________________________________________________________________\n",
            "block3_conv2 (Conv2D)        (None, 37, 37, 256)       590080    \n",
            "_________________________________________________________________\n",
            "block3_conv3 (Conv2D)        (None, 37, 37, 256)       590080    \n",
            "_________________________________________________________________\n",
            "block3_pool (MaxPooling2D)   (None, 18, 18, 256)       0         \n",
            "_________________________________________________________________\n",
            "block4_conv1 (Conv2D)        (None, 18, 18, 512)       1180160   \n",
            "_________________________________________________________________\n",
            "block4_conv2 (Conv2D)        (None, 18, 18, 512)       2359808   \n",
            "_________________________________________________________________\n",
            "block4_conv3 (Conv2D)        (None, 18, 18, 512)       2359808   \n",
            "_________________________________________________________________\n",
            "block4_pool (MaxPooling2D)   (None, 9, 9, 512)         0         \n",
            "_________________________________________________________________\n",
            "block5_conv1 (Conv2D)        (None, 9, 9, 512)         2359808   \n",
            "_________________________________________________________________\n",
            "block5_conv2 (Conv2D)        (None, 9, 9, 512)         2359808   \n",
            "_________________________________________________________________\n",
            "block5_conv3 (Conv2D)        (None, 9, 9, 512)         2359808   \n",
            "_________________________________________________________________\n",
            "block5_pool (MaxPooling2D)   (None, 4, 4, 512)         0         \n",
            "=================================================================\n",
            "Total params: 14,714,688\n",
            "Trainable params: 14,714,688\n",
            "Non-trainable params: 0\n",
            "_________________________________________________________________\n"
          ],
          "name": "stdout"
        }
      ]
    },
    {
      "cell_type": "code",
      "metadata": {
        "id": "l2wvM2TBEaOq",
        "colab_type": "code",
        "outputId": "f4f9bfea-4ad9-4de0-c420-dc9b217ad07b",
        "colab": {
          "base_uri": "https://localhost:8080/",
          "height": 201
        }
      },
      "source": [
        "!wget --no-check-certificate \\\n",
        "    https://storage.googleapis.com/mledu-datasets/cats_and_dogs_filtered.zip \\\n",
        "    -O /tmp/cats_and_dogs_filtered.zip"
      ],
      "execution_count": 3,
      "outputs": [
        {
          "output_type": "stream",
          "text": [
            "--2019-10-04 21:20:58--  https://storage.googleapis.com/mledu-datasets/cats_and_dogs_filtered.zip\n",
            "Resolving storage.googleapis.com (storage.googleapis.com)... 74.125.141.128, 2607:f8b0:400c:c06::80\n",
            "Connecting to storage.googleapis.com (storage.googleapis.com)|74.125.141.128|:443... connected.\n",
            "HTTP request sent, awaiting response... 200 OK\n",
            "Length: 68606236 (65M) [application/zip]\n",
            "Saving to: ‘/tmp/cats_and_dogs_filtered.zip’\n",
            "\n",
            "\r          /tmp/cats   0%[                    ]       0  --.-KB/s               \r         /tmp/cats_  30%[=====>              ]  20.20M   101MB/s               \r/tmp/cats_and_dogs_ 100%[===================>]  65.43M   177MB/s    in 0.4s    \n",
            "\n",
            "2019-10-04 21:20:58 (177 MB/s) - ‘/tmp/cats_and_dogs_filtered.zip’ saved [68606236/68606236]\n",
            "\n"
          ],
          "name": "stdout"
        }
      ]
    },
    {
      "cell_type": "code",
      "metadata": {
        "id": "uFN6ox7iEeoP",
        "colab_type": "code",
        "colab": {}
      },
      "source": [
        "import zipfile\n",
        "with zipfile.ZipFile('/content/train.zip', 'r') as zip_ref:\n",
        "    zip_ref.extractall('/content')"
      ],
      "execution_count": 0,
      "outputs": []
    },
    {
      "cell_type": "code",
      "metadata": {
        "id": "cilPAWRGF6-4",
        "colab_type": "code",
        "colab": {}
      },
      "source": [
        "import os\n",
        "import shutil\n",
        "\n",
        "shutil.rmtree('/content/cats_and_dogs_small_2/')\n",
        "dataset_dir = '/content/train/'\n",
        "base_dir ='/content/cats_and_dogs_small_2/'\n",
        "os.mkdir(base_dir)\n"
      ],
      "execution_count": 0,
      "outputs": []
    },
    {
      "cell_type": "code",
      "metadata": {
        "id": "GAJKEoH8GrNz",
        "colab_type": "code",
        "colab": {}
      },
      "source": [
        "train_dir = os.path.join(base_dir, 'train')\n",
        "os.mkdir(train_dir)\n",
        "\n",
        "validation_dir = os.path.join(base_dir, 'validation')\n",
        "os.mkdir(validation_dir)\n",
        "\n",
        "test_dir = os.path.join(base_dir, 'test')\n",
        "os.mkdir(test_dir)"
      ],
      "execution_count": 0,
      "outputs": []
    },
    {
      "cell_type": "code",
      "metadata": {
        "id": "Ch7TlbpxJZ-F",
        "colab_type": "code",
        "colab": {}
      },
      "source": [
        "validation_dir_cats = os.path.join(validation_dir, 'cats')\n",
        "os.mkdir(validation_dir_cats)\n",
        "\n",
        "validation_dir_dogs = os.path.join(validation_dir, 'dogs')\n",
        "os.mkdir(validation_dir_dogs)"
      ],
      "execution_count": 0,
      "outputs": []
    },
    {
      "cell_type": "code",
      "metadata": {
        "id": "1ElkDD_RHWif",
        "colab_type": "code",
        "colab": {}
      },
      "source": [
        "test_dir_cats = os.path.join(test_dir, 'cats')\n",
        "os.mkdir(test_dir_cats)\n",
        "\n",
        "test_dir_dogs = os.path.join(test_dir, 'dogs')\n",
        "os.mkdir(test_dir_dogs)\n"
      ],
      "execution_count": 0,
      "outputs": []
    },
    {
      "cell_type": "code",
      "metadata": {
        "id": "EcFXt9EMH3Gl",
        "colab_type": "code",
        "colab": {}
      },
      "source": [
        "train_dir_cats = os.path.join(train_dir, 'cats')\n",
        "os.mkdir(train_dir_cats)\n",
        "\n",
        "train_dir_dogs = os.path.join(train_dir, 'dogs')\n",
        "os.mkdir(train_dir_dogs)\n"
      ],
      "execution_count": 0,
      "outputs": []
    },
    {
      "cell_type": "code",
      "metadata": {
        "id": "5KdCIuN11_rr",
        "colab_type": "code",
        "colab": {
          "base_uri": "https://localhost:8080/",
          "height": 33
        },
        "outputId": "54d3b510-4401-47d9-cead-ac62fd457c2d"
      },
      "source": [
        "#from train folder\n",
        "print(dataset_dir)\n",
        "frames = ['cat.{}.jpg'.format(i) for i in range(1000)]\n",
        "for frame in frames:\n",
        "  src = os.path.join(dataset_dir, frame)\n",
        "  dst = os.path.join(train_dir_cats,frame)\n",
        "  shutil.copyfile(src,dst)"
      ],
      "execution_count": 45,
      "outputs": [
        {
          "output_type": "stream",
          "text": [
            "/content/train/\n"
          ],
          "name": "stdout"
        }
      ]
    },
    {
      "cell_type": "code",
      "metadata": {
        "id": "9BLGj2Gi3Dg9",
        "colab_type": "code",
        "colab": {}
      },
      "source": [
        "frames = ['cat.{}.jpg'.format(i) for i in range(1000,1500)]\n",
        "for frame in frames:\n",
        "  src = os.path.join(dataset_dir, frame)\n",
        "  dst = os.path.join(validation_dir_cats,frame)\n",
        "  shutil.copyfile(src,dst)"
      ],
      "execution_count": 0,
      "outputs": []
    },
    {
      "cell_type": "code",
      "metadata": {
        "id": "vSHutIWI3SV2",
        "colab_type": "code",
        "colab": {}
      },
      "source": [
        "frames = ['cat.{}.jpg'.format(i) for i in range(1500,2000)]\n",
        "for frame in frames:\n",
        "  src = os.path.join(dataset_dir, frame)\n",
        "  dst = os.path.join(test_dir_cats,frame)\n",
        "  shutil.copyfile(src,dst)"
      ],
      "execution_count": 0,
      "outputs": []
    },
    {
      "cell_type": "code",
      "metadata": {
        "id": "veMV4Eub3kyY",
        "colab_type": "code",
        "colab": {}
      },
      "source": [
        "frames = ['dog.{}.jpg'.format(i) for i in range(1000)]\n",
        "for frame in frames:\n",
        "  src = os.path.join(dataset_dir, frame)\n",
        "  dst = os.path.join(train_dir_dogs,frame)\n",
        "  shutil.copyfile(src,dst)"
      ],
      "execution_count": 0,
      "outputs": []
    },
    {
      "cell_type": "code",
      "metadata": {
        "id": "F08X3iWT3zwH",
        "colab_type": "code",
        "colab": {}
      },
      "source": [
        "frames = ['dog.{}.jpg'.format(i) for i in range(1000,1500)]\n",
        "for frame in frames:\n",
        "  src = os.path.join(dataset_dir, frame)\n",
        "  dst = os.path.join(validation_dir_dogs,frame)\n",
        "  shutil.copyfile(src,dst)"
      ],
      "execution_count": 0,
      "outputs": []
    },
    {
      "cell_type": "code",
      "metadata": {
        "id": "lAN6e3ik3_wS",
        "colab_type": "code",
        "colab": {}
      },
      "source": [
        "frames = ['dog.{}.jpg'.format(i) for i in range(1500,2000)]\n",
        "for frame in frames:\n",
        "  src = os.path.join(dataset_dir, frame)\n",
        "  dst = os.path.join(test_dir_dogs,frame)\n",
        "  shutil.copyfile(src,dst)"
      ],
      "execution_count": 0,
      "outputs": []
    },
    {
      "cell_type": "code",
      "metadata": {
        "id": "uaq-ME4B4mQH",
        "colab_type": "code",
        "colab": {
          "base_uri": "https://localhost:8080/",
          "height": 117
        },
        "outputId": "12279247-59b0-4e6e-9cb2-ab28d4fbdd1c"
      },
      "source": [
        "print(train_dir_cats)\n",
        "print(train_dir_dogs)\n",
        "print(validation_dir_cats)\n",
        "print(validation_dir_dogs)\n",
        "print(test_dir_cats)\n",
        "print(test_dir_dogs)"
      ],
      "execution_count": 51,
      "outputs": [
        {
          "output_type": "stream",
          "text": [
            "/content/cats_and_dogs_small_2/train/cats\n",
            "/content/cats_and_dogs_small_2/train/dogs\n",
            "/content/cats_and_dogs_small_2/validation/cats\n",
            "/content/cats_and_dogs_small_2/validation/dogs\n",
            "/content/cats_and_dogs_small_2/test/cats\n",
            "/content/cats_and_dogs_small_2/test/dogs\n"
          ],
          "name": "stdout"
        }
      ]
    },
    {
      "cell_type": "code",
      "metadata": {
        "id": "TZl_iuReMa4i",
        "colab_type": "code",
        "outputId": "2d9b6a89-37a8-48cb-96b2-324888d65f5f",
        "colab": {
          "base_uri": "https://localhost:8080/",
          "height": 117
        }
      },
      "source": [
        "#sanity check\n",
        "print(len(listdir(train_dir_cats)))\n",
        "print(len(listdir(train_dir_dogs)))\n",
        "print(len(listdir(validation_dir_cats)))\n",
        "print(len(listdir(validation_dir_dogs)))\n",
        "print(len(listdir(test_dir_cats)))\n",
        "print(len(listdir(test_dir_dogs)))"
      ],
      "execution_count": 52,
      "outputs": [
        {
          "output_type": "stream",
          "text": [
            "1000\n",
            "1000\n",
            "500\n",
            "500\n",
            "500\n",
            "500\n"
          ],
          "name": "stdout"
        }
      ]
    },
    {
      "cell_type": "code",
      "metadata": {
        "id": "vFf4vnv2EFw3",
        "colab_type": "code",
        "colab": {}
      },
      "source": [
        "import os\n",
        "import numpy as np\n",
        "from keras.preprocessing.image import ImageDataGenerator\n",
        "\n",
        "datagen = ImageDataGenerator(rescale=1./255)\n",
        "batch_size=20\n",
        "def extract_features(directory, sample_count):\n",
        "    features = np.zeros(shape = (sample_count,4, 4, 512))\n",
        "    labels = np.zeros(shape =  (sample_count))\n",
        "    generator = datagen.flow_from_directory(\n",
        "        directory,\n",
        "        target_size=(150,150),\n",
        "        batch_size=batch_size,\n",
        "        class_mode='binary'\n",
        "    )\n",
        "    i=0\n",
        "    for input_batch, label_batch in generator:\n",
        "      features_batch = conv_base.predict(input_batch)\n",
        "      #print(i * batch_size , (i+1) * batch_size )\n",
        "      features[i * batch_size : (i + 1) * batch_size] = features_batch\n",
        "      labels[i * batch_size : (i + 1) * batch_size] = label_batch\n",
        "      i += 1\n",
        "      if i * batch_size >= sample_count:\n",
        "        break\n",
        "    return features, labels\n"
      ],
      "execution_count": 0,
      "outputs": []
    },
    {
      "cell_type": "code",
      "metadata": {
        "id": "TfcFIXl-Qe9A",
        "colab_type": "code",
        "colab": {}
      },
      "source": [
        "train_features, train_labels = extract_features(train_dir,2000)\n",
        "validation_features, validation_labels = extract_features(validation_dir,1000)"
      ],
      "execution_count": 0,
      "outputs": []
    },
    {
      "cell_type": "code",
      "metadata": {
        "id": "LUFiqdieQ3sj",
        "colab_type": "code",
        "colab": {}
      },
      "source": [
        "print(train_features.shape)\n",
        "print(train_labels.shape)\n",
        "print(validation_features.shape)\n",
        "print(validation_labels.shape)"
      ],
      "execution_count": 0,
      "outputs": []
    },
    {
      "cell_type": "code",
      "metadata": {
        "id": "QAwsejSuRdjF",
        "colab_type": "code",
        "colab": {}
      },
      "source": [
        "train_features = np.reshape(train_features,(2000, 4 * 4 * 512))\n",
        "validation_features = np.reshape(validation_features,(1000, 4 * 4 * 512))"
      ],
      "execution_count": 0,
      "outputs": []
    },
    {
      "cell_type": "code",
      "metadata": {
        "id": "C_6So4OPRyS9",
        "colab_type": "code",
        "colab": {}
      },
      "source": [
        "import keras\n",
        "from keras.models import Sequential\n",
        "from keras.layers import Dense, Dropout\n",
        "from keras.losses import binary_crossentropy\n",
        "from keras.optimizers import rmsprop\n",
        "from keras.activations import relu, sigmoid\n",
        "\n",
        "model = Sequential()\n",
        "model.add(Dense(256, activation = relu, input_dim =(4*4*512)))\n",
        "model.add(Dropout(0.5))\n",
        "model.add(Dense(1,activation = sigmoid))\n",
        "\n",
        "model.compile (optimizer = rmsprop(lr=2e-5),\n",
        "               loss=binary_crossentropy,\n",
        "               metrics=['acc'])\n",
        "\n",
        "history = model.fit(train_features, train_labels, \n",
        "          epochs = 30, \n",
        "          batch_size = 20, \n",
        "          validation_data = (validation_features, validation_labels)\n",
        "          )\n",
        "model.save('VGG16_convbase_cats_dogs_1.h5')"
      ],
      "execution_count": 0,
      "outputs": []
    },
    {
      "cell_type": "code",
      "metadata": {
        "id": "UQYqSXGMg-uZ",
        "colab_type": "code",
        "colab": {}
      },
      "source": [
        "import matplotlib.pyplot as plt\n",
        "\n",
        "train_acc = history.history['acc']\n",
        "val_acc = history.history['val_acc']\n",
        "epochs = range(len(val_acc))\n",
        "plt.plot(epochs,train_acc,'bo',label=\"Training accuracy\")\n",
        "plt.plot(epochs,val_acc,'r-',label=\"Validation accuracy\")\n",
        "plt.xlabel('Epochs')\n",
        "plt.ylabel('Accuracy')\n",
        "plt.legend()\n",
        "plt.title('Training vs validation accuracy')"
      ],
      "execution_count": 0,
      "outputs": []
    },
    {
      "cell_type": "code",
      "metadata": {
        "id": "e_6-Mwwlha5h",
        "colab_type": "code",
        "colab": {}
      },
      "source": [
        "train_loss = history.history['loss']\n",
        "val_loss = history.history['val_loss']\n",
        "epochs = range(len(val_loss))\n",
        "plt.plot(epochs,train_loss,'bo',label=\"Training loss\")\n",
        "plt.plot(epochs,val_loss,'r-',label=\"Validation loss\")\n",
        "plt.xlabel('Epochs')\n",
        "plt.ylabel('loss')\n",
        "plt.legend()\n",
        "plt.title('Training vs validation loss')"
      ],
      "execution_count": 0,
      "outputs": []
    },
    {
      "cell_type": "code",
      "metadata": {
        "id": "iueWKggJjJTI",
        "colab_type": "code",
        "outputId": "2d7b93a6-36e8-486e-d9d1-43e828b92a1a",
        "colab": {
          "base_uri": "https://localhost:8080/",
          "height": 284
        }
      },
      "source": [
        "from keras.models import Sequential\n",
        "from keras import layers\n",
        "from keras import activations\n",
        "\n",
        "model = Sequential()\n",
        "model.add(conv_base)\n",
        "model.add(layers.Flatten())\n",
        "model.add(layers.Dense(256, activation='relu'))\n",
        "model.add(layers.Dense(1, activation='sigmoid'))\n",
        "model.summary()"
      ],
      "execution_count": 54,
      "outputs": [
        {
          "output_type": "stream",
          "text": [
            "Model: \"sequential_2\"\n",
            "_________________________________________________________________\n",
            "Layer (type)                 Output Shape              Param #   \n",
            "=================================================================\n",
            "vgg16 (Model)                (None, 4, 4, 512)         14714688  \n",
            "_________________________________________________________________\n",
            "flatten_2 (Flatten)          (None, 8192)              0         \n",
            "_________________________________________________________________\n",
            "dense_3 (Dense)              (None, 256)               2097408   \n",
            "_________________________________________________________________\n",
            "dense_4 (Dense)              (None, 1)                 257       \n",
            "=================================================================\n",
            "Total params: 16,812,353\n",
            "Trainable params: 2,097,665\n",
            "Non-trainable params: 14,714,688\n",
            "_________________________________________________________________\n"
          ],
          "name": "stdout"
        }
      ]
    },
    {
      "cell_type": "code",
      "metadata": {
        "id": "n_Rjxa84lRAe",
        "colab_type": "code",
        "outputId": "fa58765e-b142-4426-8788-8355d796426f",
        "colab": {
          "base_uri": "https://localhost:8080/",
          "height": 318
        }
      },
      "source": [
        "#freezing the conv_base weights\n",
        "print(len(model.trainable_weights))\n",
        "conv_base.trainable = False\n",
        "print(len(model.trainable_weights))\n",
        "model.summary()"
      ],
      "execution_count": 55,
      "outputs": [
        {
          "output_type": "stream",
          "text": [
            "4\n",
            "4\n",
            "Model: \"sequential_2\"\n",
            "_________________________________________________________________\n",
            "Layer (type)                 Output Shape              Param #   \n",
            "=================================================================\n",
            "vgg16 (Model)                (None, 4, 4, 512)         14714688  \n",
            "_________________________________________________________________\n",
            "flatten_2 (Flatten)          (None, 8192)              0         \n",
            "_________________________________________________________________\n",
            "dense_3 (Dense)              (None, 256)               2097408   \n",
            "_________________________________________________________________\n",
            "dense_4 (Dense)              (None, 1)                 257       \n",
            "=================================================================\n",
            "Total params: 16,812,353\n",
            "Trainable params: 2,097,665\n",
            "Non-trainable params: 14,714,688\n",
            "_________________________________________________________________\n"
          ],
          "name": "stdout"
        }
      ]
    },
    {
      "cell_type": "code",
      "metadata": {
        "id": "xxP-nBODr5Na",
        "colab_type": "code",
        "outputId": "3ab87391-6b3f-4d7a-ad04-4af15702ba6c",
        "colab": {
          "base_uri": "https://localhost:8080/",
          "height": 1000
        }
      },
      "source": [
        "from keras.preprocessing.image import ImageDataGenerator\n",
        "from keras import optimizers\n",
        "\n",
        "train_datagen = ImageDataGenerator(\n",
        "      rescale=1./255,\n",
        "      rotation_range=40,\n",
        "      width_shift_range=0.2,\n",
        "      height_shift_range=0.2,\n",
        "      shear_range=0.2,\n",
        "      zoom_range=0.2,\n",
        "      horizontal_flip=True,\n",
        "      fill_mode='nearest')\n",
        "\n",
        "# Note that the validation data should not be augmented!\n",
        "test_datagen = ImageDataGenerator(rescale=1./255)\n",
        "\n",
        "train_generator = train_datagen.flow_from_directory(\n",
        "        # This is the target directory\n",
        "        train_dir,\n",
        "        #shuffle=True,\n",
        "        # All images will be resized to 150x150\n",
        "        target_size=(150, 150),\n",
        "        batch_size=10,\n",
        "        # Since we use binary_crossentropy loss, we need binary labels\n",
        "        class_mode='binary')\n",
        "\n",
        "validation_generator = test_datagen.flow_from_directory(\n",
        "        validation_dir,\n",
        "        target_size=(150, 150),\n",
        "        batch_size=10,\n",
        "        class_mode='binary')\n",
        "\n",
        "model.compile(loss='binary_crossentropy',\n",
        "              optimizer=optimizers.RMSprop(lr=2e-5),\n",
        "              metrics=['acc'])\n",
        "\n",
        "history = model.fit_generator(\n",
        "      train_generator,\n",
        "      steps_per_epoch=100,\n",
        "      epochs=30,\n",
        "      validation_data=validation_generator,\n",
        "      validation_steps=50,\n",
        "      verbose=2)"
      ],
      "execution_count": 56,
      "outputs": [
        {
          "output_type": "stream",
          "text": [
            "Found 2000 images belonging to 2 classes.\n",
            "Found 1000 images belonging to 2 classes.\n",
            "Epoch 1/30\n",
            " - 15s - loss: 0.6129 - acc: 0.6770 - val_loss: 0.4963 - val_acc: 0.7520\n",
            "Epoch 2/30\n",
            " - 13s - loss: 0.5327 - acc: 0.7250 - val_loss: 0.3983 - val_acc: 0.8460\n",
            "Epoch 3/30\n",
            " - 13s - loss: 0.4692 - acc: 0.7850 - val_loss: 0.3945 - val_acc: 0.8160\n",
            "Epoch 4/30\n",
            " - 13s - loss: 0.4249 - acc: 0.8150 - val_loss: 0.3426 - val_acc: 0.8640\n",
            "Epoch 5/30\n",
            " - 14s - loss: 0.4171 - acc: 0.8150 - val_loss: 0.3263 - val_acc: 0.8680\n",
            "Epoch 6/30\n",
            " - 14s - loss: 0.4049 - acc: 0.8180 - val_loss: 0.2939 - val_acc: 0.8920\n",
            "Epoch 7/30\n",
            " - 13s - loss: 0.3757 - acc: 0.8330 - val_loss: 0.3202 - val_acc: 0.8620\n",
            "Epoch 8/30\n",
            " - 13s - loss: 0.3856 - acc: 0.8340 - val_loss: 0.2840 - val_acc: 0.8880\n",
            "Epoch 9/30\n",
            " - 13s - loss: 0.3594 - acc: 0.8500 - val_loss: 0.2803 - val_acc: 0.8720\n",
            "Epoch 10/30\n",
            " - 13s - loss: 0.3815 - acc: 0.8280 - val_loss: 0.2904 - val_acc: 0.8820\n",
            "Epoch 11/30\n",
            " - 13s - loss: 0.3594 - acc: 0.8440 - val_loss: 0.2892 - val_acc: 0.8700\n",
            "Epoch 12/30\n",
            " - 13s - loss: 0.3432 - acc: 0.8440 - val_loss: 0.2522 - val_acc: 0.8960\n",
            "Epoch 13/30\n",
            " - 13s - loss: 0.3593 - acc: 0.8420 - val_loss: 0.2630 - val_acc: 0.8940\n",
            "Epoch 14/30\n",
            " - 13s - loss: 0.3544 - acc: 0.8470 - val_loss: 0.2658 - val_acc: 0.8760\n",
            "Epoch 15/30\n",
            " - 13s - loss: 0.3530 - acc: 0.8420 - val_loss: 0.2691 - val_acc: 0.8900\n",
            "Epoch 16/30\n",
            " - 13s - loss: 0.3552 - acc: 0.8470 - val_loss: 0.2484 - val_acc: 0.8960\n",
            "Epoch 17/30\n",
            " - 14s - loss: 0.3133 - acc: 0.8610 - val_loss: 0.2653 - val_acc: 0.8860\n",
            "Epoch 18/30\n",
            " - 13s - loss: 0.3344 - acc: 0.8470 - val_loss: 0.2468 - val_acc: 0.9000\n",
            "Epoch 19/30\n",
            " - 14s - loss: 0.3100 - acc: 0.8800 - val_loss: 0.2957 - val_acc: 0.8760\n",
            "Epoch 20/30\n",
            " - 13s - loss: 0.3343 - acc: 0.8490 - val_loss: 0.2014 - val_acc: 0.9160\n",
            "Epoch 21/30\n",
            " - 13s - loss: 0.3228 - acc: 0.8600 - val_loss: 0.2655 - val_acc: 0.8940\n",
            "Epoch 22/30\n",
            " - 14s - loss: 0.3255 - acc: 0.8520 - val_loss: 0.2312 - val_acc: 0.9020\n",
            "Epoch 23/30\n",
            " - 14s - loss: 0.3247 - acc: 0.8490 - val_loss: 0.2672 - val_acc: 0.8820\n",
            "Epoch 24/30\n",
            " - 13s - loss: 0.3158 - acc: 0.8640 - val_loss: 0.2318 - val_acc: 0.9020\n",
            "Epoch 25/30\n",
            " - 13s - loss: 0.3004 - acc: 0.8720 - val_loss: 0.2483 - val_acc: 0.9000\n",
            "Epoch 26/30\n",
            " - 13s - loss: 0.3041 - acc: 0.8640 - val_loss: 0.2331 - val_acc: 0.8960\n",
            "Epoch 27/30\n",
            " - 13s - loss: 0.3431 - acc: 0.8380 - val_loss: 0.2380 - val_acc: 0.9000\n",
            "Epoch 28/30\n",
            " - 14s - loss: 0.2890 - acc: 0.8760 - val_loss: 0.2495 - val_acc: 0.9000\n",
            "Epoch 29/30\n",
            " - 13s - loss: 0.2825 - acc: 0.8810 - val_loss: 0.2609 - val_acc: 0.8780\n",
            "Epoch 30/30\n",
            " - 14s - loss: 0.3181 - acc: 0.8630 - val_loss: 0.2625 - val_acc: 0.8880\n"
          ],
          "name": "stdout"
        }
      ]
    },
    {
      "cell_type": "code",
      "metadata": {
        "id": "e0lsma8kMd_d",
        "colab_type": "code",
        "colab": {
          "base_uri": "https://localhost:8080/",
          "height": 312
        },
        "outputId": "e98ef039-e13d-4cdc-f1e0-bad82db9f904"
      },
      "source": [
        "import matplotlib.pyplot as plt\n",
        "\n",
        "train_acc = history.history['acc']\n",
        "val_acc = history.history['val_acc']\n",
        "epochs = range(len(val_acc))\n",
        "plt.plot(epochs,train_acc,'bo',label=\"Training accuracy\")\n",
        "plt.plot(epochs,val_acc,'r-',label=\"Validation accuracy\")\n",
        "plt.xlabel('Epochs')\n",
        "plt.ylabel('Accuracy')\n",
        "plt.legend()\n",
        "plt.title('Training vs validation accuracy')\n",
        "\n"
      ],
      "execution_count": 57,
      "outputs": [
        {
          "output_type": "execute_result",
          "data": {
            "text/plain": [
              "Text(0.5, 1.0, 'Training vs validation accuracy')"
            ]
          },
          "metadata": {
            "tags": []
          },
          "execution_count": 57
        },
        {
          "output_type": "display_data",
          "data": {
            "image/png": "[encoded data removed]",
            "text/plain": [
              "<Figure size 432x288 with 1 Axes>"
            ]
          },
          "metadata": {
            "tags": []
          }
        }
      ]
    },
    {
      "cell_type": "code",
      "metadata": {
        "id": "9yUgB1QBMj71",
        "colab_type": "code",
        "colab": {
          "base_uri": "https://localhost:8080/",
          "height": 312
        },
        "outputId": "27b55ec5-a98f-4a07-be61-69cdbdc93254"
      },
      "source": [
        "train_loss = history.history['loss']\n",
        "val_loss = history.history['val_loss']\n",
        "epochs = range(len(val_loss))\n",
        "plt.plot(epochs,train_loss,'bo',label=\"Training loss\")\n",
        "plt.plot(epochs,val_loss,'r-',label=\"Validation loss\")\n",
        "plt.xlabel('Epochs')\n",
        "plt.ylabel('loss')\n",
        "plt.legend()\n",
        "plt.title('Training vs validation loss')"
      ],
      "execution_count": 58,
      "outputs": [
        {
          "output_type": "execute_result",
          "data": {
            "text/plain": [
              "Text(0.5, 1.0, 'Training vs validation loss')"
            ]
          },
          "metadata": {
            "tags": []
          },
          "execution_count": 58
        },
        {
          "output_type": "display_data",
          "data": {
            "image/png": "[encoded data removed]",
            "text/plain": [
              "<Figure size 432x288 with 1 Axes>"
            ]
          },
          "metadata": {
            "tags": []
          }
        }
      ]
    },
    {
      "cell_type": "code",
      "metadata": {
        "id": "Ncl0Yl2XEKoD",
        "colab_type": "code",
        "colab": {}
      },
      "source": [
        "conv_base.trainable = True\n",
        "set_trainable = False\n",
        "for layer in conv_base.layers:\n",
        "  if layer.name == 'block5_conv1':\n",
        "    set_trainable = True\n",
        "  if set_trainable:\n",
        "    layer.trainable = True\n",
        "  else:\n",
        "    layer.trainable = False\n"
      ],
      "execution_count": 0,
      "outputs": []
    },
    {
      "cell_type": "code",
      "metadata": {
        "id": "EGv4BAWZE8T5",
        "colab_type": "code",
        "outputId": "517cdbe1-d796-49ab-e1e4-8769a34ca4ba",
        "colab": {
          "base_uri": "https://localhost:8080/",
          "height": 1000
        }
      },
      "source": [
        "model.compile(loss='binary_crossentropy',\n",
        "              optimizer=optimizers.RMSprop(lr=1e-5),\n",
        "              metrics=['acc'])\n",
        "\n",
        "history = model.fit_generator(\n",
        "      train_generator,\n",
        "      steps_per_epoch=100,\n",
        "      epochs=30,\n",
        "      validation_data=validation_generator,\n",
        "      validation_steps=50,\n",
        "      verbose=2)"
      ],
      "execution_count": 60,
      "outputs": [
        {
          "output_type": "stream",
          "text": [
            "Epoch 1/30\n",
            " - 16s - loss: 0.3379 - acc: 0.8500 - val_loss: 0.2547 - val_acc: 0.8960\n",
            "Epoch 2/30\n",
            " - 14s - loss: 0.2795 - acc: 0.8790 - val_loss: 0.2302 - val_acc: 0.9000\n",
            "Epoch 3/30\n",
            " - 14s - loss: 0.2603 - acc: 0.8960 - val_loss: 0.2033 - val_acc: 0.9180\n",
            "Epoch 4/30\n",
            " - 14s - loss: 0.2904 - acc: 0.8630 - val_loss: 0.1929 - val_acc: 0.9200\n",
            "Epoch 5/30\n",
            " - 14s - loss: 0.2513 - acc: 0.8910 - val_loss: 0.2281 - val_acc: 0.9080\n",
            "Epoch 6/30\n",
            " - 14s - loss: 0.2597 - acc: 0.8940 - val_loss: 0.1581 - val_acc: 0.9260\n",
            "Epoch 7/30\n",
            " - 14s - loss: 0.2254 - acc: 0.9020 - val_loss: 0.2101 - val_acc: 0.9140\n",
            "Epoch 8/30\n",
            " - 14s - loss: 0.2129 - acc: 0.9180 - val_loss: 0.2370 - val_acc: 0.9040\n",
            "Epoch 9/30\n",
            " - 14s - loss: 0.1828 - acc: 0.9250 - val_loss: 0.1602 - val_acc: 0.9260\n",
            "Epoch 10/30\n",
            " - 14s - loss: 0.2047 - acc: 0.9200 - val_loss: 0.2303 - val_acc: 0.9160\n",
            "Epoch 11/30\n",
            " - 14s - loss: 0.1855 - acc: 0.9370 - val_loss: 0.2150 - val_acc: 0.9260\n",
            "Epoch 12/30\n",
            " - 14s - loss: 0.1934 - acc: 0.9150 - val_loss: 0.1698 - val_acc: 0.9200\n",
            "Epoch 13/30\n",
            " - 14s - loss: 0.1713 - acc: 0.9280 - val_loss: 0.2302 - val_acc: 0.9180\n",
            "Epoch 14/30\n",
            " - 14s - loss: 0.1918 - acc: 0.9160 - val_loss: 0.1754 - val_acc: 0.9300\n",
            "Epoch 15/30\n",
            " - 14s - loss: 0.1421 - acc: 0.9500 - val_loss: 0.1692 - val_acc: 0.9300\n",
            "Epoch 16/30\n",
            " - 14s - loss: 0.1753 - acc: 0.9210 - val_loss: 0.2327 - val_acc: 0.9200\n",
            "Epoch 17/30\n",
            " - 14s - loss: 0.1703 - acc: 0.9390 - val_loss: 0.2296 - val_acc: 0.9160\n",
            "Epoch 18/30\n",
            " - 14s - loss: 0.1471 - acc: 0.9430 - val_loss: 0.1672 - val_acc: 0.9320\n",
            "Epoch 19/30\n",
            " - 14s - loss: 0.1504 - acc: 0.9390 - val_loss: 0.1934 - val_acc: 0.9180\n",
            "Epoch 20/30\n",
            " - 14s - loss: 0.1585 - acc: 0.9360 - val_loss: 0.1851 - val_acc: 0.9320\n",
            "Epoch 21/30\n",
            " - 14s - loss: 0.1423 - acc: 0.9420 - val_loss: 0.2110 - val_acc: 0.9180\n",
            "Epoch 22/30\n",
            " - 15s - loss: 0.1427 - acc: 0.9380 - val_loss: 0.1648 - val_acc: 0.9440\n",
            "Epoch 23/30\n",
            " - 14s - loss: 0.1308 - acc: 0.9550 - val_loss: 0.2703 - val_acc: 0.9120\n",
            "Epoch 24/30\n",
            " - 14s - loss: 0.1437 - acc: 0.9470 - val_loss: 0.2976 - val_acc: 0.9080\n",
            "Epoch 25/30\n",
            " - 14s - loss: 0.1224 - acc: 0.9520 - val_loss: 0.2777 - val_acc: 0.9020\n",
            "Epoch 26/30\n",
            " - 14s - loss: 0.1275 - acc: 0.9480 - val_loss: 0.1342 - val_acc: 0.9460\n",
            "Epoch 27/30\n",
            " - 14s - loss: 0.1149 - acc: 0.9540 - val_loss: 0.1704 - val_acc: 0.9340\n",
            "Epoch 28/30\n",
            " - 14s - loss: 0.1075 - acc: 0.9520 - val_loss: 0.2757 - val_acc: 0.9060\n",
            "Epoch 29/30\n",
            " - 14s - loss: 0.1071 - acc: 0.9560 - val_loss: 0.1918 - val_acc: 0.9340\n",
            "Epoch 30/30\n",
            " - 14s - loss: 0.1095 - acc: 0.9540 - val_loss: 0.1624 - val_acc: 0.9360\n"
          ],
          "name": "stdout"
        }
      ]
    },
    {
      "cell_type": "code",
      "metadata": {
        "id": "DxTKOnK-JPFG",
        "colab_type": "code",
        "outputId": "17682090-410f-4670-c74e-06c5501df4a5",
        "colab": {
          "base_uri": "https://localhost:8080/",
          "height": 312
        }
      },
      "source": [
        "import matplotlib.pyplot as plt\n",
        "\n",
        "train_acc = history.history['acc']\n",
        "val_acc = history.history['val_acc']\n",
        "epochs = range(len(val_acc))\n",
        "plt.plot(epochs,train_acc,'bo',label=\"Training accuracy\")\n",
        "plt.plot(epochs,val_acc,'r-',label=\"Validation accuracy\")\n",
        "plt.xlabel('Epochs')\n",
        "plt.ylabel('Accuracy')\n",
        "plt.legend()\n",
        "plt.title('Training vs validation accuracy')"
      ],
      "execution_count": 61,
      "outputs": [
        {
          "output_type": "execute_result",
          "data": {
            "text/plain": [
              "Text(0.5, 1.0, 'Training vs validation accuracy')"
            ]
          },
          "metadata": {
            "tags": []
          },
          "execution_count": 61
        },
        {
          "output_type": "display_data",
          "data": {
            "image/png": "[encoded data removed]",
            "text/plain": [
              "<Figure size 432x288 with 1 Axes>"
            ]
          },
          "metadata": {
            "tags": []
          }
        }
      ]
    },
    {
      "cell_type": "code",
      "metadata": {
        "id": "iQzsdHkZJU_y",
        "colab_type": "code",
        "outputId": "b49d6d27-2ab1-4d8e-b69d-f7174a5596fc",
        "colab": {
          "base_uri": "https://localhost:8080/",
          "height": 312
        }
      },
      "source": [
        "train_loss = history.history['loss']\n",
        "val_loss = history.history['val_loss']\n",
        "epochs = range(len(val_loss))\n",
        "plt.plot(epochs,train_loss,'bo',label=\"Training loss\")\n",
        "plt.plot(epochs,val_loss,'r-',label=\"Validation loss\")\n",
        "plt.xlabel('Epochs')\n",
        "plt.ylabel('loss')\n",
        "plt.legend()\n",
        "plt.title('Training vs validation loss')"
      ],
      "execution_count": 62,
      "outputs": [
        {
          "output_type": "execute_result",
          "data": {
            "text/plain": [
              "Text(0.5, 1.0, 'Training vs validation loss')"
            ]
          },
          "metadata": {
            "tags": []
          },
          "execution_count": 62
        },
        {
          "output_type": "display_data",
          "data": {
            "image/png": "[encoded data removed]",
            "text/plain": [
              "<Figure size 432x288 with 1 Axes>"
            ]
          },
          "metadata": {
            "tags": []
          }
        }
      ]
    },
    {
      "cell_type": "code",
      "metadata": {
        "id": "CAxhFc_LNXvx",
        "colab_type": "code",
        "colab": {}
      },
      "source": [
        "def smooth_points(points, factor=0.8):\n",
        "  smoothed_points = []\n",
        "  for point in points:\n",
        "    if smoothed_points :\n",
        "      previous = smoothed_points[-1]\n",
        "      smoothed_points.append(previous * factor + point * (1-factor))\n",
        "    else:\n",
        "      smoothed_points.append(point)\n",
        "  return smoothed_points"
      ],
      "execution_count": 0,
      "outputs": []
    },
    {
      "cell_type": "code",
      "metadata": {
        "id": "dsUmi8vxH8aQ",
        "colab_type": "code",
        "colab": {}
      },
      "source": [
        "val_loss = smooth_points(val_loss)\n",
        "train_loss = smooth_points(train_loss)\n",
        "\n",
        "val_acc = smooth_points(val_acc)\n",
        "train_acc = smooth_points(train_acc)"
      ],
      "execution_count": 0,
      "outputs": []
    },
    {
      "cell_type": "code",
      "metadata": {
        "id": "rQ47byK5Vktq",
        "colab_type": "code",
        "outputId": "9a424de3-434a-48b2-eef7-a1cacec561a6",
        "colab": {
          "base_uri": "https://localhost:8080/",
          "height": 312
        }
      },
      "source": [
        "plt.plot(epochs, val_loss, 'b-', label = 'Validation loss')\n",
        "plt.plot(epochs, train_loss, 'ro', label = 'Training loss')\n",
        "plt.title('Validation vs training loss smoothed')\n",
        "plt.xlabel('Epochs')\n",
        "plt.ylabel('Loss')\n",
        "plt.legend()"
      ],
      "execution_count": 65,
      "outputs": [
        {
          "output_type": "execute_result",
          "data": {
            "text/plain": [
              "<matplotlib.legend.Legend at 0x7f489776ec88>"
            ]
          },
          "metadata": {
            "tags": []
          },
          "execution_count": 65
        },
        {
          "output_type": "display_data",
          "data": {
            "image/png": "[encoded data removed]",
            "text/plain": [
              "<Figure size 432x288 with 1 Axes>"
            ]
          },
          "metadata": {
            "tags": []
          }
        }
      ]
    },
    {
      "cell_type": "code",
      "metadata": {
        "id": "6Ol6sAUCWVOg",
        "colab_type": "code",
        "outputId": "e7745785-c84d-491f-ee78-4a18a48fd0f7",
        "colab": {
          "base_uri": "https://localhost:8080/",
          "height": 312
        }
      },
      "source": [
        "plt.plot(epochs, val_acc, 'b-', label = 'Validation acc')\n",
        "plt.plot(epochs, train_acc, 'ro', label = 'Training acc')\n",
        "plt.title('Validation vs training loss smoothed')\n",
        "plt.xlabel('Epochs')\n",
        "plt.ylabel('Accuracy')\n",
        "plt.legend()"
      ],
      "execution_count": 66,
      "outputs": [
        {
          "output_type": "execute_result",
          "data": {
            "text/plain": [
              "<matplotlib.legend.Legend at 0x7f48976d2588>"
            ]
          },
          "metadata": {
            "tags": []
          },
          "execution_count": 66
        },
        {
          "output_type": "display_data",
          "data": {
            "image/png": "[encoded data removed]",
            "text/plain": [
              "<Figure size 432x288 with 1 Axes>"
            ]
          },
          "metadata": {
            "tags": []
          }
        }
      ]
    },
    {
      "cell_type": "code",
      "metadata": {
        "id": "-ftanVMeYOjj",
        "colab_type": "code",
        "colab": {}
      },
      "source": [
        "from google.colab import files\n",
        "!pip install -q kaggle"
      ],
      "execution_count": 0,
      "outputs": []
    },
    {
      "cell_type": "code",
      "metadata": {
        "id": "1UJPdeOOYfWR",
        "colab_type": "code",
        "outputId": "85970013-06eb-4f15-c570-50107140068c",
        "colab": {
          "base_uri": "https://localhost:8080/",
          "height": 343
        }
      },
      "source": [
        "uploaded = files.upload()"
      ],
      "execution_count": 68,
      "outputs": [
        {
          "output_type": "display_data",
          "data": {
            "text/html": [
              "\n",
              "     <input type=\"file\" id=\"files-ec78b5fc-9191-4308-a02a-58b235dcbb67\" name=\"files[]\" multiple disabled />\n",
              "     <output id=\"result-ec78b5fc-9191-4308-a02a-58b235dcbb67\">\n",
              "      Upload widget is only available when the cell has been executed in the\n",
              "      current browser session. Please rerun this cell to enable.\n",
              "      </output>\n",
              "      <script src=\"/nbextensions/google.colab/files.js\"></script> "
            ],
            "text/plain": [
              "<IPython.core.display.HTML object>"
            ]
          },
          "metadata": {
            "tags": []
          }
        },
        {
          "output_type": "error",
          "ename": "MessageError",
          "evalue": "ignored",
          "traceback": [
            "\u001b[0;31m---------------------------------------------------------------------------\u001b[0m",
            "\u001b[0;31mMessageError\u001b[0m                              Traceback (most recent call last)",
            "\u001b[0;32m<ipython-input-68-ed2fd71b4a2f>\u001b[0m in \u001b[0;36m<module>\u001b[0;34m()\u001b[0m\n\u001b[0;32m----> 1\u001b[0;31m \u001b[0muploaded\u001b[0m \u001b[0;34m=\u001b[0m \u001b[0mfiles\u001b[0m\u001b[0;34m.\u001b[0m\u001b[0mupload\u001b[0m\u001b[0;34m(\u001b[0m\u001b[0;34m)\u001b[0m\u001b[0;34m\u001b[0m\u001b[0;34m\u001b[0m\u001b[0m\n\u001b[0m",
            "\u001b[0;32m/usr/local/lib/python3.6/dist-packages/google/colab/files.py\u001b[0m in \u001b[0;36mupload\u001b[0;34m()\u001b[0m\n\u001b[1;32m     62\u001b[0m   result = _output.eval_js(\n\u001b[1;32m     63\u001b[0m       'google.colab._files._uploadFiles(\"{input_id}\", \"{output_id}\")'.format(\n\u001b[0;32m---> 64\u001b[0;31m           input_id=input_id, output_id=output_id))\n\u001b[0m\u001b[1;32m     65\u001b[0m   \u001b[0mfiles\u001b[0m \u001b[0;34m=\u001b[0m \u001b[0m_collections\u001b[0m\u001b[0;34m.\u001b[0m\u001b[0mdefaultdict\u001b[0m\u001b[0;34m(\u001b[0m\u001b[0m_six\u001b[0m\u001b[0;34m.\u001b[0m\u001b[0mbinary_type\u001b[0m\u001b[0;34m)\u001b[0m\u001b[0;34m\u001b[0m\u001b[0;34m\u001b[0m\u001b[0m\n\u001b[1;32m     66\u001b[0m   \u001b[0;31m# Mapping from original filename to filename as saved locally.\u001b[0m\u001b[0;34m\u001b[0m\u001b[0;34m\u001b[0m\u001b[0;34m\u001b[0m\u001b[0m\n",
            "\u001b[0;32m/usr/local/lib/python3.6/dist-packages/google/colab/output/_js.py\u001b[0m in \u001b[0;36meval_js\u001b[0;34m(script, ignore_result)\u001b[0m\n\u001b[1;32m     37\u001b[0m   \u001b[0;32mif\u001b[0m \u001b[0mignore_result\u001b[0m\u001b[0;34m:\u001b[0m\u001b[0;34m\u001b[0m\u001b[0;34m\u001b[0m\u001b[0m\n\u001b[1;32m     38\u001b[0m     \u001b[0;32mreturn\u001b[0m\u001b[0;34m\u001b[0m\u001b[0;34m\u001b[0m\u001b[0m\n\u001b[0;32m---> 39\u001b[0;31m   \u001b[0;32mreturn\u001b[0m \u001b[0m_message\u001b[0m\u001b[0;34m.\u001b[0m\u001b[0mread_reply_from_input\u001b[0m\u001b[0;34m(\u001b[0m\u001b[0mrequest_id\u001b[0m\u001b[0;34m)\u001b[0m\u001b[0;34m\u001b[0m\u001b[0;34m\u001b[0m\u001b[0m\n\u001b[0m\u001b[1;32m     40\u001b[0m \u001b[0;34m\u001b[0m\u001b[0m\n\u001b[1;32m     41\u001b[0m \u001b[0;34m\u001b[0m\u001b[0m\n",
            "\u001b[0;32m/usr/local/lib/python3.6/dist-packages/google/colab/_message.py\u001b[0m in \u001b[0;36mread_reply_from_input\u001b[0;34m(message_id, timeout_sec)\u001b[0m\n\u001b[1;32m    104\u001b[0m         reply.get('colab_msg_id') == message_id):\n\u001b[1;32m    105\u001b[0m       \u001b[0;32mif\u001b[0m \u001b[0;34m'error'\u001b[0m \u001b[0;32min\u001b[0m \u001b[0mreply\u001b[0m\u001b[0;34m:\u001b[0m\u001b[0;34m\u001b[0m\u001b[0;34m\u001b[0m\u001b[0m\n\u001b[0;32m--> 106\u001b[0;31m         \u001b[0;32mraise\u001b[0m \u001b[0mMessageError\u001b[0m\u001b[0;34m(\u001b[0m\u001b[0mreply\u001b[0m\u001b[0;34m[\u001b[0m\u001b[0;34m'error'\u001b[0m\u001b[0;34m]\u001b[0m\u001b[0;34m)\u001b[0m\u001b[0;34m\u001b[0m\u001b[0;34m\u001b[0m\u001b[0m\n\u001b[0m\u001b[1;32m    107\u001b[0m       \u001b[0;32mreturn\u001b[0m \u001b[0mreply\u001b[0m\u001b[0;34m.\u001b[0m\u001b[0mget\u001b[0m\u001b[0;34m(\u001b[0m\u001b[0;34m'data'\u001b[0m\u001b[0;34m,\u001b[0m \u001b[0;32mNone\u001b[0m\u001b[0;34m)\u001b[0m\u001b[0;34m\u001b[0m\u001b[0;34m\u001b[0m\u001b[0m\n\u001b[1;32m    108\u001b[0m \u001b[0;34m\u001b[0m\u001b[0m\n",
            "\u001b[0;31mMessageError\u001b[0m: TypeError: Cannot read property '_uploadFiles' of undefined"
          ]
        }
      ]
    },
    {
      "cell_type": "code",
      "metadata": {
        "id": "_xRprASgY79U",
        "colab_type": "code",
        "colab": {}
      },
      "source": [
        "#!mkdir ~/.kaggle\n",
        "!cp /content/kaggle.json ~/.kaggle/kaggle.json\n"
      ],
      "execution_count": 0,
      "outputs": []
    },
    {
      "cell_type": "code",
      "metadata": {
        "id": "IAAxA-nYm7-z",
        "colab_type": "code",
        "colab": {}
      },
      "source": [
        "print(os.listdir('/root/.kaggle/'))"
      ],
      "execution_count": 0,
      "outputs": []
    },
    {
      "cell_type": "code",
      "metadata": {
        "id": "p595BHZUnLtJ",
        "colab_type": "code",
        "colab": {}
      },
      "source": [
        "!kaggle competitions download -c dogs-vs-cats -p /content/"
      ],
      "execution_count": 0,
      "outputs": []
    },
    {
      "cell_type": "code",
      "metadata": {
        "id": "svc8EilsoA9b",
        "colab_type": "code",
        "colab": {}
      },
      "source": [
        "import zipfile\n",
        "with zipfile.ZipFile('train.zip', 'r') as zip_ref:\n",
        "    zip_ref.extractall('/content')"
      ],
      "execution_count": 0,
      "outputs": []
    },
    {
      "cell_type": "code",
      "metadata": {
        "id": "DrquyzIkoU9X",
        "colab_type": "code",
        "colab": {}
      },
      "source": [
        "print(len(os.listdir('train/')))\n",
        "#with file.open('sampleSubmission.csv','r') as f:\n"
      ],
      "execution_count": 0,
      "outputs": []
    },
    {
      "cell_type": "code",
      "metadata": {
        "id": "Y3ED51ei0Fmy",
        "colab_type": "code",
        "colab": {}
      },
      "source": [
        "local_path = os.getcwd()\n",
        "L = os.listdir(os.path.join(local_path,'train/'))\n",
        "for i,l in enumerate(L):\n",
        "  print(l)\n",
        "  if i == 120:\n",
        "    break"
      ],
      "execution_count": 0,
      "outputs": []
    },
    {
      "cell_type": "code",
      "metadata": {
        "id": "Le3Bevth1b_b",
        "colab_type": "code",
        "colab": {}
      },
      "source": [
        "frames = listdir(dataset_dir+'test/cats/')\n",
        "for frame in frames:\n",
        "  src = os.path.join(dataset_dir+'train/cats/', frame)\n",
        "  dst = os.path.join(train_dir_cats,frame)\n",
        "  shutil.copyfile(src,dst)"
      ],
      "execution_count": 0,
      "outputs": []
    },
    {
      "cell_type": "code",
      "metadata": {
        "id": "rlqMK6ga_wpc",
        "colab_type": "code",
        "colab": {
          "base_uri": "https://localhost:8080/",
          "height": 50
        },
        "outputId": "a4c65ef2-91ea-4114-ea0c-722315ae148c"
      },
      "source": [
        "test_generator = test_datagen.flow_from_directory(\n",
        "    test_dir,\n",
        "    target_size = (150, 150),\n",
        "    batch_size = 20,\n",
        "    class_mode ='binary'\n",
        ")\n",
        "test_loss, test_accuracy = model.evaluate_generator(test_generator, steps = 50)\n",
        "print(test_accuracy, test_loss)"
      ],
      "execution_count": 69,
      "outputs": [
        {
          "output_type": "stream",
          "text": [
            "Found 1000 images belonging to 2 classes.\n",
            "0.9259999930858612 0.20488159330561756\n"
          ],
          "name": "stdout"
        }
      ]
    },
    {
      "cell_type": "code",
      "metadata": {
        "id": "rtpjDCodtoM0",
        "colab_type": "code",
        "colab": {}
      },
      "source": [
        "model.save('VGG16_convbase_cats_vs_dogs_final.h5')"
      ],
      "execution_count": 0,
      "outputs": []
    },
    {
      "cell_type": "code",
      "metadata": {
        "id": "jhbc6FPAuCv8",
        "colab_type": "code",
        "colab": {}
      },
      "source": [
        "print(os.listdir(os.path.join(test_dir,'cats')))\n",
        "#img_path = os.path.join(test_dir)"
      ],
      "execution_count": 0,
      "outputs": []
    },
    {
      "cell_type": "code",
      "metadata": {
        "id": "ngZxEgnRulwU",
        "colab_type": "code",
        "colab": {
          "base_uri": "https://localhost:8080/",
          "height": 33
        },
        "outputId": "faad0e8c-e885-46ed-d452-84c62688547d"
      },
      "source": [
        "img_file = os.path.join(test_dir,'cats/cat.1700.jpg')\n",
        "print(img_file)"
      ],
      "execution_count": 72,
      "outputs": [
        {
          "output_type": "stream",
          "text": [
            "/content/cats_and_dogs_small_2/test/cats/cat.1700.jpg\n"
          ],
          "name": "stdout"
        }
      ]
    },
    {
      "cell_type": "code",
      "metadata": {
        "id": "_0DCERjQu5MV",
        "colab_type": "code",
        "colab": {
          "base_uri": "https://localhost:8080/",
          "height": 84
        },
        "outputId": "94523d0c-559c-4945-e66d-aa1905c27154"
      },
      "source": [
        "from keras.preprocessing import image\n",
        "import numpy as np\n",
        "\n",
        "img = image.load_img(img_file,target_size=(150,150))\n",
        "print(type(img))\n",
        "img_tensor = image.img_to_array(img)\n",
        "print(img_tensor.shape)\n",
        "img_tensor = np.expand_dims(img_tensor, axis=0)\n",
        "print(img_tensor.shape)\n",
        "img_tensor /= 255.\n",
        "print(img_tensor.shape) "
      ],
      "execution_count": 73,
      "outputs": [
        {
          "output_type": "stream",
          "text": [
            "<class 'PIL.Image.Image'>\n",
            "(150, 150, 3)\n",
            "(1, 150, 150, 3)\n",
            "(1, 150, 150, 3)\n"
          ],
          "name": "stdout"
        }
      ]
    },
    {
      "cell_type": "code",
      "metadata": {
        "id": "4TWovtMZxEQF",
        "colab_type": "code",
        "colab": {
          "base_uri": "https://localhost:8080/",
          "height": 286
        },
        "outputId": "773fbe8d-467a-4a6a-e741-6552d98e9c41"
      },
      "source": [
        "plt.imshow(img_tensor[0])"
      ],
      "execution_count": 74,
      "outputs": [
        {
          "output_type": "execute_result",
          "data": {
            "text/plain": [
              "<matplotlib.image.AxesImage at 0x7f48976297b8>"
            ]
          },
          "metadata": {
            "tags": []
          },
          "execution_count": 74
        },
        {
          "output_type": "display_data",
          "data": {
            "image/png": "[encoded data removed]",
            "text/plain": [
              "<Figure size 432x288 with 1 Axes>"
            ]
          },
          "metadata": {
            "tags": []
          }
        }
      ]
    },
    {
      "cell_type": "code",
      "metadata": {
        "id": "pavOhJIYr_tk",
        "colab_type": "code",
        "colab": {}
      },
      "source": [
        "from keras.models import load_model\n",
        "\n",
        "# Returns a compiled model identical to the previous one\n",
        "model = load_model('VGG16_convbase_cats_vs_dogs_final.h5')"
      ],
      "execution_count": 0,
      "outputs": []
    },
    {
      "cell_type": "code",
      "metadata": {
        "id": "Naf2zL-Angpv",
        "colab_type": "code",
        "colab": {
          "base_uri": "https://localhost:8080/",
          "height": 373
        },
        "outputId": "1981a38f-91f3-46f9-d396-792186f704ed"
      },
      "source": [
        "from keras import models\n",
        "layer_outputs = [layer.output for layer in model.layers[:8]]\n",
        "activation_model =models.Model(inputs=model.input, outputs= layer_outputs)\n",
        "activations = activation_model.predict(img_tensor)"
      ],
      "execution_count": 79,
      "outputs": [
        {
          "output_type": "error",
          "ename": "AttributeError",
          "evalue": "ignored",
          "traceback": [
            "\u001b[0;31m---------------------------------------------------------------------------\u001b[0m",
            "\u001b[0;31mAttributeError\u001b[0m                            Traceback (most recent call last)",
            "\u001b[0;32m<ipython-input-79-e42275d6a69f>\u001b[0m in \u001b[0;36m<module>\u001b[0;34m()\u001b[0m\n\u001b[1;32m      1\u001b[0m \u001b[0;32mfrom\u001b[0m \u001b[0mkeras\u001b[0m \u001b[0;32mimport\u001b[0m \u001b[0mmodels\u001b[0m\u001b[0;34m\u001b[0m\u001b[0;34m\u001b[0m\u001b[0m\n\u001b[0;32m----> 2\u001b[0;31m \u001b[0mlayer_outputs\u001b[0m \u001b[0;34m=\u001b[0m \u001b[0;34m[\u001b[0m\u001b[0mlayer\u001b[0m\u001b[0;34m.\u001b[0m\u001b[0moutput\u001b[0m \u001b[0;32mfor\u001b[0m \u001b[0mlayer\u001b[0m \u001b[0;32min\u001b[0m \u001b[0mmodel\u001b[0m\u001b[0;34m.\u001b[0m\u001b[0mlayers\u001b[0m\u001b[0;34m[\u001b[0m\u001b[0;34m:\u001b[0m\u001b[0;36m8\u001b[0m\u001b[0;34m]\u001b[0m\u001b[0;34m]\u001b[0m\u001b[0;34m\u001b[0m\u001b[0;34m\u001b[0m\u001b[0m\n\u001b[0m\u001b[1;32m      3\u001b[0m \u001b[0mactivation_model\u001b[0m \u001b[0;34m=\u001b[0m\u001b[0mmodels\u001b[0m\u001b[0;34m.\u001b[0m\u001b[0mModel\u001b[0m\u001b[0;34m(\u001b[0m\u001b[0minputs\u001b[0m\u001b[0;34m=\u001b[0m\u001b[0mmodel\u001b[0m\u001b[0;34m.\u001b[0m\u001b[0minput\u001b[0m\u001b[0;34m,\u001b[0m \u001b[0moutputs\u001b[0m\u001b[0;34m=\u001b[0m \u001b[0mlayer_outputs\u001b[0m\u001b[0;34m)\u001b[0m\u001b[0;34m\u001b[0m\u001b[0;34m\u001b[0m\u001b[0m\n\u001b[1;32m      4\u001b[0m \u001b[0mactivations\u001b[0m \u001b[0;34m=\u001b[0m \u001b[0mactivation_model\u001b[0m\u001b[0;34m.\u001b[0m\u001b[0mpredict\u001b[0m\u001b[0;34m(\u001b[0m\u001b[0mimg_tensor\u001b[0m\u001b[0;34m)\u001b[0m\u001b[0;34m\u001b[0m\u001b[0;34m\u001b[0m\u001b[0m\n",
            "\u001b[0;32m<ipython-input-79-e42275d6a69f>\u001b[0m in \u001b[0;36m<listcomp>\u001b[0;34m(.0)\u001b[0m\n\u001b[1;32m      1\u001b[0m \u001b[0;32mfrom\u001b[0m \u001b[0mkeras\u001b[0m \u001b[0;32mimport\u001b[0m \u001b[0mmodels\u001b[0m\u001b[0;34m\u001b[0m\u001b[0;34m\u001b[0m\u001b[0m\n\u001b[0;32m----> 2\u001b[0;31m \u001b[0mlayer_outputs\u001b[0m \u001b[0;34m=\u001b[0m \u001b[0;34m[\u001b[0m\u001b[0mlayer\u001b[0m\u001b[0;34m.\u001b[0m\u001b[0moutput\u001b[0m \u001b[0;32mfor\u001b[0m \u001b[0mlayer\u001b[0m \u001b[0;32min\u001b[0m \u001b[0mmodel\u001b[0m\u001b[0;34m.\u001b[0m\u001b[0mlayers\u001b[0m\u001b[0;34m[\u001b[0m\u001b[0;34m:\u001b[0m\u001b[0;36m8\u001b[0m\u001b[0;34m]\u001b[0m\u001b[0;34m]\u001b[0m\u001b[0;34m\u001b[0m\u001b[0;34m\u001b[0m\u001b[0m\n\u001b[0m\u001b[1;32m      3\u001b[0m \u001b[0mactivation_model\u001b[0m \u001b[0;34m=\u001b[0m\u001b[0mmodels\u001b[0m\u001b[0;34m.\u001b[0m\u001b[0mModel\u001b[0m\u001b[0;34m(\u001b[0m\u001b[0minputs\u001b[0m\u001b[0;34m=\u001b[0m\u001b[0mmodel\u001b[0m\u001b[0;34m.\u001b[0m\u001b[0minput\u001b[0m\u001b[0;34m,\u001b[0m \u001b[0moutputs\u001b[0m\u001b[0;34m=\u001b[0m \u001b[0mlayer_outputs\u001b[0m\u001b[0;34m)\u001b[0m\u001b[0;34m\u001b[0m\u001b[0;34m\u001b[0m\u001b[0m\n\u001b[1;32m      4\u001b[0m \u001b[0mactivations\u001b[0m \u001b[0;34m=\u001b[0m \u001b[0mactivation_model\u001b[0m\u001b[0;34m.\u001b[0m\u001b[0mpredict\u001b[0m\u001b[0;34m(\u001b[0m\u001b[0mimg_tensor\u001b[0m\u001b[0;34m)\u001b[0m\u001b[0;34m\u001b[0m\u001b[0;34m\u001b[0m\u001b[0m\n",
            "\u001b[0;32m/usr/local/lib/python3.6/dist-packages/keras/engine/base_layer.py\u001b[0m in \u001b[0;36moutput\u001b[0;34m(self)\u001b[0m\n\u001b[1;32m    805\u001b[0m         \u001b[0;32mif\u001b[0m \u001b[0mlen\u001b[0m\u001b[0;34m(\u001b[0m\u001b[0mself\u001b[0m\u001b[0;34m.\u001b[0m\u001b[0m_inbound_nodes\u001b[0m\u001b[0;34m)\u001b[0m \u001b[0;34m>\u001b[0m \u001b[0;36m1\u001b[0m\u001b[0;34m:\u001b[0m\u001b[0;34m\u001b[0m\u001b[0;34m\u001b[0m\u001b[0m\n\u001b[1;32m    806\u001b[0m             raise AttributeError('Layer ' + self.name +\n\u001b[0;32m--> 807\u001b[0;31m                                  \u001b[0;34m' has multiple inbound nodes, '\u001b[0m\u001b[0;34m\u001b[0m\u001b[0;34m\u001b[0m\u001b[0m\n\u001b[0m\u001b[1;32m    808\u001b[0m                                  \u001b[0;34m'hence the notion of \"layer output\" '\u001b[0m\u001b[0;34m\u001b[0m\u001b[0;34m\u001b[0m\u001b[0m\n\u001b[1;32m    809\u001b[0m                                  \u001b[0;34m'is ill-defined. '\u001b[0m\u001b[0;34m\u001b[0m\u001b[0;34m\u001b[0m\u001b[0m\n",
            "\u001b[0;31mAttributeError\u001b[0m: Layer vgg16 has multiple inbound nodes, hence the notion of \"layer output\" is ill-defined. Use `get_output_at(node_index)` instead."
          ]
        }
      ]
    },
    {
      "cell_type": "code",
      "metadata": {
        "id": "B69GW7HgpFTS",
        "colab_type": "code",
        "colab": {}
      },
      "source": [
        "first_layer_activation = activations[0]\n",
        "print(first_layer_activation.shape)"
      ],
      "execution_count": 0,
      "outputs": []
    }
  ]
}