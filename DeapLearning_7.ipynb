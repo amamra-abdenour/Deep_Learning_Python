{
  "nbformat": 4,
  "nbformat_minor": 0,
  "metadata": {
    "colab": {
      "name": "DeapLearning_7.ipynb",
      "provenance": [],
      "collapsed_sections": [],
      "include_colab_link": true
    },
    "kernelspec": {
      "name": "python3",
      "display_name": "Python 3"
    },
    "accelerator": "GPU"
  },
  "cells": [
    {
      "cell_type": "markdown",
      "metadata": {
        "id": "view-in-github",
        "colab_type": "text"
      },
      "source": [
        "<a href=\"https://colab.research.google.com/github/amamra-abdenour/Deep_Learning_Python/blob/master/DeapLearning_7.ipynb\" target=\"_parent\"><img src=\"https://colab.research.google.com/assets/colab-badge.svg\" alt=\"Open In Colab\"/></a>"
      ]
    },
    {
      "cell_type": "code",
      "metadata": {
        "id": "STDp3kRTyrCI",
        "colab_type": "code",
        "outputId": "4a90620c-2dca-47d4-d273-61187778bb8e",
        "colab": {
          "base_uri": "https://localhost:8080/",
          "height": 1000
        }
      },
      "source": [
        "from keras.applications import VGG16\n",
        "\n",
        "conv_base = VGG16(weights='imagenet',\n",
        "                  include_top= False,\n",
        "                  input_shape=(150,150,3)\n",
        ")\n",
        "conv_base.summary()"
      ],
      "execution_count": 1,
      "outputs": [
        {
          "output_type": "stream",
          "text": [
            "Using TensorFlow backend.\n"
          ],
          "name": "stderr"
        },
        {
          "output_type": "stream",
          "text": [
            "WARNING:tensorflow:From /usr/local/lib/python3.6/dist-packages/keras/backend/tensorflow_backend.py:66: The name tf.get_default_graph is deprecated. Please use tf.compat.v1.get_default_graph instead.\n",
            "\n",
            "WARNING:tensorflow:From /usr/local/lib/python3.6/dist-packages/keras/backend/tensorflow_backend.py:541: The name tf.placeholder is deprecated. Please use tf.compat.v1.placeholder instead.\n",
            "\n",
            "WARNING:tensorflow:From /usr/local/lib/python3.6/dist-packages/keras/backend/tensorflow_backend.py:4432: The name tf.random_uniform is deprecated. Please use tf.random.uniform instead.\n",
            "\n",
            "WARNING:tensorflow:From /usr/local/lib/python3.6/dist-packages/keras/backend/tensorflow_backend.py:4267: The name tf.nn.max_pool is deprecated. Please use tf.nn.max_pool2d instead.\n",
            "\n",
            "Downloading data from https://github.com/fchollet/deep-learning-models/releases/download/v0.1/vgg16_weights_tf_dim_ordering_tf_kernels_notop.h5\n",
            "58892288/58889256 [==============================] - 2s 0us/step\n",
            "WARNING:tensorflow:From /usr/local/lib/python3.6/dist-packages/keras/backend/tensorflow_backend.py:190: The name tf.get_default_session is deprecated. Please use tf.compat.v1.get_default_session instead.\n",
            "\n",
            "WARNING:tensorflow:From /usr/local/lib/python3.6/dist-packages/keras/backend/tensorflow_backend.py:197: The name tf.ConfigProto is deprecated. Please use tf.compat.v1.ConfigProto instead.\n",
            "\n",
            "Model: \"vgg16\"\n",
            "_________________________________________________________________\n",
            "Layer (type)                 Output Shape              Param #   \n",
            "=================================================================\n",
            "input_1 (InputLayer)         (None, 150, 150, 3)       0         \n",
            "_________________________________________________________________\n",
            "block1_conv1 (Conv2D)        (None, 150, 150, 64)      1792      \n",
            "_________________________________________________________________\n",
            "block1_conv2 (Conv2D)        (None, 150, 150, 64)      36928     \n",
            "_________________________________________________________________\n",
            "block1_pool (MaxPooling2D)   (None, 75, 75, 64)        0         \n",
            "_________________________________________________________________\n",
            "block2_conv1 (Conv2D)        (None, 75, 75, 128)       73856     \n",
            "_________________________________________________________________\n",
            "block2_conv2 (Conv2D)        (None, 75, 75, 128)       147584    \n",
            "_________________________________________________________________\n",
            "block2_pool (MaxPooling2D)   (None, 37, 37, 128)       0         \n",
            "_________________________________________________________________\n",
            "block3_conv1 (Conv2D)        (None, 37, 37, 256)       295168    \n",
            "_________________________________________________________________\n",
            "block3_conv2 (Conv2D)        (None, 37, 37, 256)       590080    \n",
            "_________________________________________________________________\n",
            "block3_conv3 (Conv2D)        (None, 37, 37, 256)       590080    \n",
            "_________________________________________________________________\n",
            "block3_pool (MaxPooling2D)   (None, 18, 18, 256)       0         \n",
            "_________________________________________________________________\n",
            "block4_conv1 (Conv2D)        (None, 18, 18, 512)       1180160   \n",
            "_________________________________________________________________\n",
            "block4_conv2 (Conv2D)        (None, 18, 18, 512)       2359808   \n",
            "_________________________________________________________________\n",
            "block4_conv3 (Conv2D)        (None, 18, 18, 512)       2359808   \n",
            "_________________________________________________________________\n",
            "block4_pool (MaxPooling2D)   (None, 9, 9, 512)         0         \n",
            "_________________________________________________________________\n",
            "block5_conv1 (Conv2D)        (None, 9, 9, 512)         2359808   \n",
            "_________________________________________________________________\n",
            "block5_conv2 (Conv2D)        (None, 9, 9, 512)         2359808   \n",
            "_________________________________________________________________\n",
            "block5_conv3 (Conv2D)        (None, 9, 9, 512)         2359808   \n",
            "_________________________________________________________________\n",
            "block5_pool (MaxPooling2D)   (None, 4, 4, 512)         0         \n",
            "=================================================================\n",
            "Total params: 14,714,688\n",
            "Trainable params: 14,714,688\n",
            "Non-trainable params: 0\n",
            "_________________________________________________________________\n"
          ],
          "name": "stdout"
        }
      ]
    },
    {
      "cell_type": "code",
      "metadata": {
        "id": "l2wvM2TBEaOq",
        "colab_type": "code",
        "outputId": "2b4e76cb-edc2-441f-d0de-6889d0c120c2",
        "colab": {
          "resources": {
            "http://localhost:8080/nbextensions/google.colab/files.js": {
              "data": "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",
              "ok": true,
              "headers": [
                [
                  "content-type",
                  "application/javascript"
                ]
              ],
              "status": 200,
              "status_text": ""
            }
          },
          "base_uri": "https://localhost:8080/",
          "height": 556
        }
      },
      "source": [
        "import os\n",
        "from google.colab import files\n",
        "\n",
        "!pip install -q kaggle\n",
        "uploaded = files.upload()\n",
        "!mkdir ~/.kaggle\n",
        "!cp /content/kaggle.json ~/.kaggle/kaggle.json\n",
        "print(os.listdir('/root/.kaggle/'))\n",
        "!kaggle competitions download -c dogs-vs-cats -p /content/\n",
        "\n",
        "import zipfile\n",
        "with zipfile.ZipFile('train.zip', 'r') as zip_ref:\n",
        "    zip_ref.extractall('/content')"
      ],
      "execution_count": 6,
      "outputs": [
        {
          "output_type": "display_data",
          "data": {
            "text/html": [
              "\n",
              "     <input type=\"file\" id=\"files-701fe18d-dccd-41d5-89a8-3620863cd9ed\" name=\"files[]\" multiple disabled />\n",
              "     <output id=\"result-701fe18d-dccd-41d5-89a8-3620863cd9ed\">\n",
              "      Upload widget is only available when the cell has been executed in the\n",
              "      current browser session. Please rerun this cell to enable.\n",
              "      </output>\n",
              "      <script src=\"/nbextensions/google.colab/files.js\"></script> "
            ],
            "text/plain": [
              "<IPython.core.display.HTML object>"
            ]
          },
          "metadata": {
            "tags": []
          }
        },
        {
          "output_type": "stream",
          "text": [
            "Saving kaggle.json to kaggle (1).json\n",
            "mkdir: cannot create directory ‘/root/.kaggle’: File exists\n",
            "['kaggle.json']\n",
            "Warning: Your Kaggle API key is readable by other users on this system! To fix this, you can run 'chmod 600 /root/.kaggle/kaggle.json'\n",
            "Warning: Looks like you're using an outdated API Version, please consider updating (server 1.5.6 / client 1.5.4)\n",
            "Downloading sampleSubmission.csv to /content\n",
            "  0% 0.00/86.8k [00:00<?, ?B/s]\n",
            "100% 86.8k/86.8k [00:00<00:00, 35.1MB/s]\n",
            "Downloading test1.zip to /content\n",
            " 95% 257M/271M [00:06<00:00, 43.9MB/s]\n",
            "100% 271M/271M [00:06<00:00, 45.6MB/s]\n",
            "Downloading train.zip to /content\n",
            " 99% 537M/543M [00:10<00:00, 55.5MB/s]\n",
            "100% 543M/543M [00:10<00:00, 55.5MB/s]\n",
            "25000\n"
          ],
          "name": "stdout"
        },
        {
          "output_type": "error",
          "ename": "NameError",
          "evalue": "ignored",
          "traceback": [
            "\u001b[0;31m---------------------------------------------------------------------------\u001b[0m",
            "\u001b[0;31mNameError\u001b[0m                                 Traceback (most recent call last)",
            "\u001b[0;32m<ipython-input-6-de82554d561a>\u001b[0m in \u001b[0;36m<module>\u001b[0;34m()\u001b[0m\n\u001b[1;32m     15\u001b[0m \u001b[0mprint\u001b[0m\u001b[0;34m(\u001b[0m\u001b[0mlen\u001b[0m\u001b[0;34m(\u001b[0m\u001b[0mos\u001b[0m\u001b[0;34m.\u001b[0m\u001b[0mlistdir\u001b[0m\u001b[0;34m(\u001b[0m\u001b[0;34m'train/'\u001b[0m\u001b[0;34m)\u001b[0m\u001b[0;34m)\u001b[0m\u001b[0;34m)\u001b[0m\u001b[0;34m\u001b[0m\u001b[0;34m\u001b[0m\u001b[0m\n\u001b[1;32m     16\u001b[0m \u001b[0;34m\u001b[0m\u001b[0m\n\u001b[0;32m---> 17\u001b[0;31m \u001b[0mframes\u001b[0m \u001b[0;34m=\u001b[0m \u001b[0mlistdir\u001b[0m\u001b[0;34m(\u001b[0m\u001b[0mdataset_dir\u001b[0m\u001b[0;34m+\u001b[0m\u001b[0;34m'test/cats/'\u001b[0m\u001b[0;34m)\u001b[0m\u001b[0;34m\u001b[0m\u001b[0;34m\u001b[0m\u001b[0m\n\u001b[0m\u001b[1;32m     18\u001b[0m \u001b[0;32mfor\u001b[0m \u001b[0mframe\u001b[0m \u001b[0;32min\u001b[0m \u001b[0mframes\u001b[0m\u001b[0;34m:\u001b[0m\u001b[0;34m\u001b[0m\u001b[0;34m\u001b[0m\u001b[0m\n\u001b[1;32m     19\u001b[0m   \u001b[0msrc\u001b[0m \u001b[0;34m=\u001b[0m \u001b[0mos\u001b[0m\u001b[0;34m.\u001b[0m\u001b[0mpath\u001b[0m\u001b[0;34m.\u001b[0m\u001b[0mjoin\u001b[0m\u001b[0;34m(\u001b[0m\u001b[0mdataset_dir\u001b[0m\u001b[0;34m+\u001b[0m\u001b[0;34m'train/cats/'\u001b[0m\u001b[0;34m,\u001b[0m \u001b[0mframe\u001b[0m\u001b[0;34m)\u001b[0m\u001b[0;34m\u001b[0m\u001b[0;34m\u001b[0m\u001b[0m\n",
            "\u001b[0;31mNameError\u001b[0m: name 'listdir' is not defined"
          ]
        }
      ]
    },
    {
      "cell_type": "code",
      "metadata": {
        "id": "sAhQaxxHp9yt",
        "colab_type": "code",
        "colab": {
          "base_uri": "https://localhost:8080/",
          "height": 35
        },
        "outputId": "cea286f8-1b92-4416-d24d-01c19e936741"
      },
      "source": [
        "import os\n",
        "import shutil\n",
        "try:\n",
        "  shutil.rmtree('/content/cats_and_dogs_small/')\n",
        "except IOError:\n",
        "  print('file does not exist')\n",
        "dataset_dir = '/content/train/'\n",
        "base_dir ='/content/cats_and_dogs_small/'\n",
        "os.mkdir(base_dir)"
      ],
      "execution_count": 10,
      "outputs": [
        {
          "output_type": "stream",
          "text": [
            "file does not exist\n"
          ],
          "name": "stdout"
        }
      ]
    },
    {
      "cell_type": "code",
      "metadata": {
        "id": "GAJKEoH8GrNz",
        "colab_type": "code",
        "colab": {}
      },
      "source": [
        "train_dir = os.path.join(base_dir, 'train')\n",
        "os.mkdir(train_dir)\n",
        "\n",
        "validation_dir = os.path.join(base_dir, 'validation')\n",
        "os.mkdir(validation_dir)\n",
        "\n",
        "test_dir = os.path.join(base_dir, 'test')\n",
        "os.mkdir(test_dir)"
      ],
      "execution_count": 0,
      "outputs": []
    },
    {
      "cell_type": "code",
      "metadata": {
        "id": "Ch7TlbpxJZ-F",
        "colab_type": "code",
        "colab": {}
      },
      "source": [
        "validation_dir_cats = os.path.join(validation_dir, 'cats')\n",
        "os.mkdir(validation_dir_cats)\n",
        "\n",
        "validation_dir_dogs = os.path.join(validation_dir, 'dogs')\n",
        "os.mkdir(validation_dir_dogs)"
      ],
      "execution_count": 0,
      "outputs": []
    },
    {
      "cell_type": "code",
      "metadata": {
        "id": "1ElkDD_RHWif",
        "colab_type": "code",
        "colab": {}
      },
      "source": [
        "test_dir_cats = os.path.join(test_dir, 'cats')\n",
        "os.mkdir(test_dir_cats)\n",
        "\n",
        "test_dir_dogs = os.path.join(test_dir, 'dogs')\n",
        "os.mkdir(test_dir_dogs)\n"
      ],
      "execution_count": 0,
      "outputs": []
    },
    {
      "cell_type": "code",
      "metadata": {
        "id": "EcFXt9EMH3Gl",
        "colab_type": "code",
        "colab": {}
      },
      "source": [
        "train_dir_cats = os.path.join(train_dir, 'cats')\n",
        "os.mkdir(train_dir_cats)\n",
        "\n",
        "train_dir_dogs = os.path.join(train_dir, 'dogs')\n",
        "os.mkdir(train_dir_dogs)\n"
      ],
      "execution_count": 0,
      "outputs": []
    },
    {
      "cell_type": "code",
      "metadata": {
        "id": "5KdCIuN11_rr",
        "colab_type": "code",
        "outputId": "8548aece-b0ed-41b6-8019-5ec87f0cac48",
        "colab": {
          "base_uri": "https://localhost:8080/",
          "height": 35
        }
      },
      "source": [
        "#from train folder\n",
        "print(dataset_dir)\n",
        "frames = ['cat.{}.jpg'.format(i) for i in range(1000)]\n",
        "for frame in frames:\n",
        "  src = os.path.join(dataset_dir, frame)\n",
        "  dst = os.path.join(train_dir_cats,frame)\n",
        "  shutil.copyfile(src,dst)"
      ],
      "execution_count": 15,
      "outputs": [
        {
          "output_type": "stream",
          "text": [
            "/content/train/\n"
          ],
          "name": "stdout"
        }
      ]
    },
    {
      "cell_type": "code",
      "metadata": {
        "id": "9BLGj2Gi3Dg9",
        "colab_type": "code",
        "colab": {}
      },
      "source": [
        "frames = ['cat.{}.jpg'.format(i) for i in range(1000,1500)]\n",
        "for frame in frames:\n",
        "  src = os.path.join(dataset_dir, frame)\n",
        "  dst = os.path.join(validation_dir_cats,frame)\n",
        "  shutil.copyfile(src,dst)"
      ],
      "execution_count": 0,
      "outputs": []
    },
    {
      "cell_type": "code",
      "metadata": {
        "id": "vSHutIWI3SV2",
        "colab_type": "code",
        "colab": {}
      },
      "source": [
        "frames = ['cat.{}.jpg'.format(i) for i in range(1500,2000)]\n",
        "for frame in frames:\n",
        "  src = os.path.join(dataset_dir, frame)\n",
        "  dst = os.path.join(test_dir_cats,frame)\n",
        "  shutil.copyfile(src,dst)"
      ],
      "execution_count": 0,
      "outputs": []
    },
    {
      "cell_type": "code",
      "metadata": {
        "id": "veMV4Eub3kyY",
        "colab_type": "code",
        "colab": {}
      },
      "source": [
        "frames = ['dog.{}.jpg'.format(i) for i in range(1000)]\n",
        "for frame in frames:\n",
        "  src = os.path.join(dataset_dir, frame)\n",
        "  dst = os.path.join(train_dir_dogs,frame)\n",
        "  shutil.copyfile(src,dst)"
      ],
      "execution_count": 0,
      "outputs": []
    },
    {
      "cell_type": "code",
      "metadata": {
        "id": "F08X3iWT3zwH",
        "colab_type": "code",
        "colab": {}
      },
      "source": [
        "frames = ['dog.{}.jpg'.format(i) for i in range(1000,1500)]\n",
        "for frame in frames:\n",
        "  src = os.path.join(dataset_dir, frame)\n",
        "  dst = os.path.join(validation_dir_dogs,frame)\n",
        "  shutil.copyfile(src,dst)"
      ],
      "execution_count": 0,
      "outputs": []
    },
    {
      "cell_type": "code",
      "metadata": {
        "id": "lAN6e3ik3_wS",
        "colab_type": "code",
        "colab": {}
      },
      "source": [
        "frames = ['dog.{}.jpg'.format(i) for i in range(1500,2000)]\n",
        "for frame in frames:\n",
        "  src = os.path.join(dataset_dir, frame)\n",
        "  dst = os.path.join(test_dir_dogs,frame)\n",
        "  shutil.copyfile(src,dst)"
      ],
      "execution_count": 0,
      "outputs": []
    },
    {
      "cell_type": "code",
      "metadata": {
        "id": "uaq-ME4B4mQH",
        "colab_type": "code",
        "outputId": "b09149cd-3d6e-4d22-b8ea-7928a1d90df4",
        "colab": {
          "base_uri": "https://localhost:8080/",
          "height": 126
        }
      },
      "source": [
        "print(train_dir_cats)\n",
        "print(train_dir_dogs)\n",
        "print(validation_dir_cats)\n",
        "print(validation_dir_dogs)\n",
        "print(test_dir_cats)\n",
        "print(test_dir_dogs)"
      ],
      "execution_count": 21,
      "outputs": [
        {
          "output_type": "stream",
          "text": [
            "/content/cats_and_dogs_small/train/cats\n",
            "/content/cats_and_dogs_small/train/dogs\n",
            "/content/cats_and_dogs_small/validation/cats\n",
            "/content/cats_and_dogs_small/validation/dogs\n",
            "/content/cats_and_dogs_small/test/cats\n",
            "/content/cats_and_dogs_small/test/dogs\n"
          ],
          "name": "stdout"
        }
      ]
    },
    {
      "cell_type": "code",
      "metadata": {
        "id": "TZl_iuReMa4i",
        "colab_type": "code",
        "outputId": "55d6c596-ce99-4292-945e-f26e2943062a",
        "colab": {
          "base_uri": "https://localhost:8080/",
          "height": 126
        }
      },
      "source": [
        "from os import listdir\n",
        "#sanity check\n",
        "print(len(listdir(train_dir_cats)))\n",
        "print(len(listdir(train_dir_dogs)))\n",
        "print(len(listdir(validation_dir_cats)))\n",
        "print(len(listdir(validation_dir_dogs)))\n",
        "print(len(listdir(test_dir_cats)))\n",
        "print(len(listdir(test_dir_dogs)))"
      ],
      "execution_count": 23,
      "outputs": [
        {
          "output_type": "stream",
          "text": [
            "1000\n",
            "1000\n",
            "500\n",
            "500\n",
            "500\n",
            "500\n"
          ],
          "name": "stdout"
        }
      ]
    },
    {
      "cell_type": "code",
      "metadata": {
        "id": "vFf4vnv2EFw3",
        "colab_type": "code",
        "colab": {}
      },
      "source": [
        "import os\n",
        "import numpy as np\n",
        "from keras.preprocessing.image import ImageDataGenerator\n",
        "\n",
        "datagen = ImageDataGenerator(rescale=1./255)\n",
        "batch_size=20\n",
        "def extract_features(directory, sample_count):\n",
        "    features = np.zeros(shape = (sample_count,4, 4, 512))\n",
        "    labels = np.zeros(shape =  (sample_count))\n",
        "    generator = datagen.flow_from_directory(\n",
        "        directory,\n",
        "        target_size=(150,150),\n",
        "        batch_size=batch_size,\n",
        "        class_mode='binary'\n",
        "    )\n",
        "    i=0\n",
        "    for input_batch, label_batch in generator:\n",
        "      features_batch = conv_base.predict(input_batch)\n",
        "      #print(i * batch_size , (i+1) * batch_size )\n",
        "      features[i * batch_size : (i + 1) * batch_size] = features_batch\n",
        "      labels[i * batch_size : (i + 1) * batch_size] = label_batch\n",
        "      i += 1\n",
        "      if i * batch_size >= sample_count:\n",
        "        break\n",
        "    return features, labels\n"
      ],
      "execution_count": 0,
      "outputs": []
    },
    {
      "cell_type": "code",
      "metadata": {
        "id": "TfcFIXl-Qe9A",
        "colab_type": "code",
        "colab": {
          "base_uri": "https://localhost:8080/",
          "height": 54
        },
        "outputId": "af53f0f2-32df-49fe-e1de-ae8543aac3d1"
      },
      "source": [
        "train_features, train_labels = extract_features(train_dir,2000)\n",
        "validation_features, validation_labels = extract_features(validation_dir,1000)"
      ],
      "execution_count": 25,
      "outputs": [
        {
          "output_type": "stream",
          "text": [
            "Found 2000 images belonging to 2 classes.\n",
            "Found 1000 images belonging to 2 classes.\n"
          ],
          "name": "stdout"
        }
      ]
    },
    {
      "cell_type": "code",
      "metadata": {
        "id": "LUFiqdieQ3sj",
        "colab_type": "code",
        "colab": {
          "base_uri": "https://localhost:8080/",
          "height": 90
        },
        "outputId": "7d5255db-60cd-4058-e030-f6e5adaa5661"
      },
      "source": [
        "print(train_features.shape)\n",
        "print(train_labels.shape)\n",
        "print(validation_features.shape)\n",
        "print(validation_labels.shape)"
      ],
      "execution_count": 26,
      "outputs": [
        {
          "output_type": "stream",
          "text": [
            "(2000, 4, 4, 512)\n",
            "(2000,)\n",
            "(1000, 4, 4, 512)\n",
            "(1000,)\n"
          ],
          "name": "stdout"
        }
      ]
    },
    {
      "cell_type": "code",
      "metadata": {
        "id": "QAwsejSuRdjF",
        "colab_type": "code",
        "colab": {}
      },
      "source": [
        "train_features = np.reshape(train_features,(2000, 4 * 4 * 512))\n",
        "validation_features = np.reshape(validation_features,(1000, 4 * 4 * 512))"
      ],
      "execution_count": 0,
      "outputs": []
    },
    {
      "cell_type": "code",
      "metadata": {
        "id": "C_6So4OPRyS9",
        "colab_type": "code",
        "colab": {
          "base_uri": "https://localhost:8080/",
          "height": 1000
        },
        "outputId": "6b3c6efe-1e16-45e0-bc93-015919b03cdc"
      },
      "source": [
        "import keras\n",
        "from keras.models import Sequential\n",
        "from keras.layers import Dense, Dropout\n",
        "from keras.losses import binary_crossentropy\n",
        "from keras.optimizers import rmsprop\n",
        "from keras.activations import relu, sigmoid\n",
        "\n",
        "model = Sequential()\n",
        "model.add(Dense(256, activation = relu, input_dim =(4*4*512)))\n",
        "model.add(Dropout(0.5))\n",
        "model.add(Dense(1,activation = sigmoid))\n",
        "\n",
        "model.compile (optimizer = rmsprop(lr=2e-5),\n",
        "               loss=binary_crossentropy,\n",
        "               metrics=['acc'])\n",
        "\n",
        "history = model.fit(train_features, train_labels, \n",
        "          epochs = 30, \n",
        "          batch_size = 20, \n",
        "          validation_data = (validation_features, validation_labels)\n",
        "          )\n",
        "model.save('VGG16_convbase_cats_dogs_1.h5')"
      ],
      "execution_count": 28,
      "outputs": [
        {
          "output_type": "stream",
          "text": [
            "WARNING:tensorflow:From /usr/local/lib/python3.6/dist-packages/keras/backend/tensorflow_backend.py:3733: calling dropout (from tensorflow.python.ops.nn_ops) with keep_prob is deprecated and will be removed in a future version.\n",
            "Instructions for updating:\n",
            "Please use `rate` instead of `keep_prob`. Rate should be set to `rate = 1 - keep_prob`.\n",
            "WARNING:tensorflow:From /usr/local/lib/python3.6/dist-packages/keras/optimizers.py:793: The name tf.train.Optimizer is deprecated. Please use tf.compat.v1.train.Optimizer instead.\n",
            "\n",
            "WARNING:tensorflow:From /usr/local/lib/python3.6/dist-packages/tensorflow/python/ops/nn_impl.py:180: add_dispatch_support.<locals>.wrapper (from tensorflow.python.ops.array_ops) is deprecated and will be removed in a future version.\n",
            "Instructions for updating:\n",
            "Use tf.where in 2.0, which has the same broadcast rule as np.where\n",
            "Train on 2000 samples, validate on 1000 samples\n",
            "Epoch 1/30\n",
            "2000/2000 [==============================] - 2s 926us/step - loss: 0.6236 - acc: 0.6490 - val_loss: 0.4540 - val_acc: 0.8300\n",
            "Epoch 2/30\n",
            "2000/2000 [==============================] - 1s 418us/step - loss: 0.4356 - acc: 0.8120 - val_loss: 0.3606 - val_acc: 0.8780\n",
            "Epoch 3/30\n",
            "2000/2000 [==============================] - 1s 401us/step - loss: 0.3706 - acc: 0.8420 - val_loss: 0.3233 - val_acc: 0.8800\n",
            "Epoch 4/30\n",
            "2000/2000 [==============================] - 1s 427us/step - loss: 0.3238 - acc: 0.8630 - val_loss: 0.2958 - val_acc: 0.8910\n",
            "Epoch 5/30\n",
            "2000/2000 [==============================] - 1s 416us/step - loss: 0.2873 - acc: 0.8860 - val_loss: 0.2874 - val_acc: 0.8860\n",
            "Epoch 6/30\n",
            "2000/2000 [==============================] - 1s 397us/step - loss: 0.2639 - acc: 0.8915 - val_loss: 0.2668 - val_acc: 0.9000\n",
            "Epoch 7/30\n",
            "2000/2000 [==============================] - 1s 408us/step - loss: 0.2479 - acc: 0.9065 - val_loss: 0.2662 - val_acc: 0.8860\n",
            "Epoch 8/30\n",
            "2000/2000 [==============================] - 1s 415us/step - loss: 0.2273 - acc: 0.9150 - val_loss: 0.2534 - val_acc: 0.8920\n",
            "Epoch 9/30\n",
            "2000/2000 [==============================] - 1s 401us/step - loss: 0.2169 - acc: 0.9190 - val_loss: 0.2472 - val_acc: 0.9010\n",
            "Epoch 10/30\n",
            "2000/2000 [==============================] - 1s 408us/step - loss: 0.2160 - acc: 0.9205 - val_loss: 0.2430 - val_acc: 0.8990\n",
            "Epoch 11/30\n",
            "2000/2000 [==============================] - 1s 399us/step - loss: 0.1925 - acc: 0.9295 - val_loss: 0.2397 - val_acc: 0.9010\n",
            "Epoch 12/30\n",
            "2000/2000 [==============================] - 1s 415us/step - loss: 0.1917 - acc: 0.9305 - val_loss: 0.2368 - val_acc: 0.9020\n",
            "Epoch 13/30\n",
            "2000/2000 [==============================] - 1s 406us/step - loss: 0.1784 - acc: 0.9375 - val_loss: 0.2374 - val_acc: 0.9010\n",
            "Epoch 14/30\n",
            "2000/2000 [==============================] - 1s 409us/step - loss: 0.1706 - acc: 0.9390 - val_loss: 0.2338 - val_acc: 0.9050\n",
            "Epoch 15/30\n",
            "2000/2000 [==============================] - 1s 406us/step - loss: 0.1683 - acc: 0.9340 - val_loss: 0.2388 - val_acc: 0.9010\n",
            "Epoch 16/30\n",
            "2000/2000 [==============================] - 1s 392us/step - loss: 0.1589 - acc: 0.9475 - val_loss: 0.2324 - val_acc: 0.9030\n",
            "Epoch 17/30\n",
            "2000/2000 [==============================] - 1s 398us/step - loss: 0.1475 - acc: 0.9485 - val_loss: 0.2480 - val_acc: 0.8960\n",
            "Epoch 18/30\n",
            "2000/2000 [==============================] - 1s 412us/step - loss: 0.1389 - acc: 0.9520 - val_loss: 0.2386 - val_acc: 0.9050\n",
            "Epoch 19/30\n",
            "2000/2000 [==============================] - 1s 401us/step - loss: 0.1307 - acc: 0.9570 - val_loss: 0.2353 - val_acc: 0.9030\n",
            "Epoch 20/30\n",
            "2000/2000 [==============================] - 1s 408us/step - loss: 0.1294 - acc: 0.9520 - val_loss: 0.2334 - val_acc: 0.9040\n",
            "Epoch 21/30\n",
            "2000/2000 [==============================] - 1s 405us/step - loss: 0.1265 - acc: 0.9590 - val_loss: 0.2286 - val_acc: 0.9030\n",
            "Epoch 22/30\n",
            "2000/2000 [==============================] - 1s 394us/step - loss: 0.1182 - acc: 0.9615 - val_loss: 0.2339 - val_acc: 0.9050\n",
            "Epoch 23/30\n",
            "2000/2000 [==============================] - 1s 414us/step - loss: 0.1129 - acc: 0.9680 - val_loss: 0.2310 - val_acc: 0.9060\n",
            "Epoch 24/30\n",
            "2000/2000 [==============================] - 1s 411us/step - loss: 0.1104 - acc: 0.9615 - val_loss: 0.2399 - val_acc: 0.9050\n",
            "Epoch 25/30\n",
            "2000/2000 [==============================] - 1s 422us/step - loss: 0.1074 - acc: 0.9630 - val_loss: 0.2329 - val_acc: 0.9070\n",
            "Epoch 26/30\n",
            "2000/2000 [==============================] - 1s 412us/step - loss: 0.0993 - acc: 0.9670 - val_loss: 0.2386 - val_acc: 0.9040\n",
            "Epoch 27/30\n",
            "2000/2000 [==============================] - 1s 403us/step - loss: 0.0935 - acc: 0.9750 - val_loss: 0.2359 - val_acc: 0.9050\n",
            "Epoch 28/30\n",
            "2000/2000 [==============================] - 1s 406us/step - loss: 0.0947 - acc: 0.9695 - val_loss: 0.2338 - val_acc: 0.9020\n",
            "Epoch 29/30\n",
            "2000/2000 [==============================] - 1s 405us/step - loss: 0.0888 - acc: 0.9735 - val_loss: 0.2455 - val_acc: 0.8990\n",
            "Epoch 30/30\n",
            "2000/2000 [==============================] - 1s 411us/step - loss: 0.0898 - acc: 0.9705 - val_loss: 0.2432 - val_acc: 0.9010\n"
          ],
          "name": "stdout"
        }
      ]
    },
    {
      "cell_type": "code",
      "metadata": {
        "id": "UQYqSXGMg-uZ",
        "colab_type": "code",
        "colab": {
          "base_uri": "https://localhost:8080/",
          "height": 313
        },
        "outputId": "4466b0b1-56f4-482a-aa09-9647236ad26b"
      },
      "source": [
        "import matplotlib.pyplot as plt\n",
        "\n",
        "train_acc = history.history['acc']\n",
        "val_acc = history.history['val_acc']\n",
        "epochs = range(len(val_acc))\n",
        "plt.plot(epochs,train_acc,'bo',label=\"Training accuracy\")\n",
        "plt.plot(epochs,val_acc,'r-',label=\"Validation accuracy\")\n",
        "plt.xlabel('Epochs')\n",
        "plt.ylabel('Accuracy')\n",
        "plt.legend()\n",
        "plt.title('Training vs validation accuracy')"
      ],
      "execution_count": 29,
      "outputs": [
        {
          "output_type": "execute_result",
          "data": {
            "text/plain": [
              "Text(0.5, 1.0, 'Training vs validation accuracy')"
            ]
          },
          "metadata": {
            "tags": []
          },
          "execution_count": 29
        },
        {
          "output_type": "display_data",
          "data": {
            "image/png": "[encoded data removed]",
            "text/plain": [
              "<Figure size 432x288 with 1 Axes>"
            ]
          },
          "metadata": {
            "tags": []
          }
        }
      ]
    },
    {
      "cell_type": "code",
      "metadata": {
        "id": "e_6-Mwwlha5h",
        "colab_type": "code",
        "colab": {
          "base_uri": "https://localhost:8080/",
          "height": 313
        },
        "outputId": "5cb430e8-1717-4354-dc0b-a5529cb00aa4"
      },
      "source": [
        "train_loss = history.history['loss']\n",
        "val_loss = history.history['val_loss']\n",
        "epochs = range(len(val_loss))\n",
        "plt.plot(epochs,train_loss,'bo',label=\"Training loss\")\n",
        "plt.plot(epochs,val_loss,'r-',label=\"Validation loss\")\n",
        "plt.xlabel('Epochs')\n",
        "plt.ylabel('loss')\n",
        "plt.legend()\n",
        "plt.title('Training vs validation loss')"
      ],
      "execution_count": 30,
      "outputs": [
        {
          "output_type": "execute_result",
          "data": {
            "text/plain": [
              "Text(0.5, 1.0, 'Training vs validation loss')"
            ]
          },
          "metadata": {
            "tags": []
          },
          "execution_count": 30
        },
        {
          "output_type": "display_data",
          "data": {
            "image/png": "[encoded data removed]",
            "text/plain": [
              "<Figure size 432x288 with 1 Axes>"
            ]
          },
          "metadata": {
            "tags": []
          }
        }
      ]
    },
    {
      "cell_type": "code",
      "metadata": {
        "id": "iueWKggJjJTI",
        "colab_type": "code",
        "outputId": "ab63a529-0dc4-4b30-fa97-6ebcc1be9a02",
        "colab": {
          "base_uri": "https://localhost:8080/",
          "height": 308
        }
      },
      "source": [
        "from keras.models import Sequential\n",
        "from keras import layers\n",
        "from keras import activations\n",
        "\n",
        "model = Sequential()\n",
        "model.add(conv_base)\n",
        "model.add(layers.Flatten())\n",
        "model.add(layers.Dense(256, activation='relu'))\n",
        "model.add(layers.Dense(1, activation='sigmoid'))\n",
        "model.summary()"
      ],
      "execution_count": 31,
      "outputs": [
        {
          "output_type": "stream",
          "text": [
            "Model: \"sequential_2\"\n",
            "_________________________________________________________________\n",
            "Layer (type)                 Output Shape              Param #   \n",
            "=================================================================\n",
            "vgg16 (Model)                (None, 4, 4, 512)         14714688  \n",
            "_________________________________________________________________\n",
            "flatten_1 (Flatten)          (None, 8192)              0         \n",
            "_________________________________________________________________\n",
            "dense_3 (Dense)              (None, 256)               2097408   \n",
            "_________________________________________________________________\n",
            "dense_4 (Dense)              (None, 1)                 257       \n",
            "=================================================================\n",
            "Total params: 16,812,353\n",
            "Trainable params: 16,812,353\n",
            "Non-trainable params: 0\n",
            "_________________________________________________________________\n"
          ],
          "name": "stdout"
        }
      ]
    },
    {
      "cell_type": "code",
      "metadata": {
        "id": "n_Rjxa84lRAe",
        "colab_type": "code",
        "outputId": "a948f313-7a02-4b6d-9b43-eaecd67d5a16",
        "colab": {
          "base_uri": "https://localhost:8080/",
          "height": 345
        }
      },
      "source": [
        "#freezing the conv_base weights\n",
        "print(len(model.trainable_weights))\n",
        "conv_base.trainable = False\n",
        "print(len(model.trainable_weights))\n",
        "model.summary()"
      ],
      "execution_count": 32,
      "outputs": [
        {
          "output_type": "stream",
          "text": [
            "30\n",
            "4\n",
            "Model: \"sequential_2\"\n",
            "_________________________________________________________________\n",
            "Layer (type)                 Output Shape              Param #   \n",
            "=================================================================\n",
            "vgg16 (Model)                (None, 4, 4, 512)         14714688  \n",
            "_________________________________________________________________\n",
            "flatten_1 (Flatten)          (None, 8192)              0         \n",
            "_________________________________________________________________\n",
            "dense_3 (Dense)              (None, 256)               2097408   \n",
            "_________________________________________________________________\n",
            "dense_4 (Dense)              (None, 1)                 257       \n",
            "=================================================================\n",
            "Total params: 16,812,353\n",
            "Trainable params: 2,097,665\n",
            "Non-trainable params: 14,714,688\n",
            "_________________________________________________________________\n"
          ],
          "name": "stdout"
        }
      ]
    },
    {
      "cell_type": "code",
      "metadata": {
        "id": "xxP-nBODr5Na",
        "colab_type": "code",
        "outputId": "bd6674a6-f6a5-4984-f0e5-7da6e08ac9ab",
        "colab": {
          "base_uri": "https://localhost:8080/",
          "height": 1000
        }
      },
      "source": [
        "from keras.preprocessing.image import ImageDataGenerator\n",
        "from keras import optimizers\n",
        "\n",
        "train_datagen = ImageDataGenerator(\n",
        "      rescale=1./255,\n",
        "      rotation_range=40,\n",
        "      width_shift_range=0.2,\n",
        "      height_shift_range=0.2,\n",
        "      shear_range=0.2,\n",
        "      zoom_range=0.2,\n",
        "      horizontal_flip=True,\n",
        "      fill_mode='nearest')\n",
        "\n",
        "# Note that the validation data should not be augmented!\n",
        "test_datagen = ImageDataGenerator(rescale=1./255)\n",
        "\n",
        "train_generator = train_datagen.flow_from_directory(\n",
        "        # This is the target directory\n",
        "        train_dir,\n",
        "        #shuffle=True,\n",
        "        # All images will be resized to 150x150\n",
        "        target_size=(150, 150),\n",
        "        batch_size=10,\n",
        "        # Since we use binary_crossentropy loss, we need binary labels\n",
        "        class_mode='binary')\n",
        "\n",
        "validation_generator = test_datagen.flow_from_directory(\n",
        "        validation_dir,\n",
        "        target_size=(150, 150),\n",
        "        batch_size=10,\n",
        "        class_mode='binary')\n",
        "\n",
        "model.compile(loss='binary_crossentropy',\n",
        "              optimizer=optimizers.RMSprop(lr=2e-5),\n",
        "              metrics=['acc'])\n",
        "\n",
        "history = model.fit_generator(\n",
        "      train_generator,\n",
        "      steps_per_epoch=100,\n",
        "      epochs=30,\n",
        "      validation_data=validation_generator,\n",
        "      validation_steps=50,\n",
        "      verbose=2)"
      ],
      "execution_count": 33,
      "outputs": [
        {
          "output_type": "stream",
          "text": [
            "Found 2000 images belonging to 2 classes.\n",
            "Found 1000 images belonging to 2 classes.\n",
            "Epoch 1/30\n",
            " - 14s - loss: 0.5894 - acc: 0.7050 - val_loss: 0.4670 - val_acc: 0.8060\n",
            "Epoch 2/30\n",
            " - 13s - loss: 0.5263 - acc: 0.7540 - val_loss: 0.4031 - val_acc: 0.8300\n",
            "Epoch 3/30\n",
            " - 13s - loss: 0.4759 - acc: 0.7900 - val_loss: 0.3648 - val_acc: 0.8580\n",
            "Epoch 4/30\n",
            " - 12s - loss: 0.4434 - acc: 0.7900 - val_loss: 0.3435 - val_acc: 0.8680\n",
            "Epoch 5/30\n",
            " - 12s - loss: 0.4467 - acc: 0.7810 - val_loss: 0.3612 - val_acc: 0.8520\n",
            "Epoch 6/30\n",
            " - 13s - loss: 0.3925 - acc: 0.8350 - val_loss: 0.2711 - val_acc: 0.8860\n",
            "Epoch 7/30\n",
            " - 13s - loss: 0.3949 - acc: 0.8190 - val_loss: 0.2833 - val_acc: 0.8640\n",
            "Epoch 8/30\n",
            " - 12s - loss: 0.3706 - acc: 0.8370 - val_loss: 0.3185 - val_acc: 0.8700\n",
            "Epoch 9/30\n",
            " - 12s - loss: 0.3508 - acc: 0.8460 - val_loss: 0.2815 - val_acc: 0.8860\n",
            "Epoch 10/30\n",
            " - 13s - loss: 0.3691 - acc: 0.8430 - val_loss: 0.2871 - val_acc: 0.8720\n",
            "Epoch 11/30\n",
            " - 13s - loss: 0.3712 - acc: 0.8360 - val_loss: 0.2705 - val_acc: 0.8980\n",
            "Epoch 12/30\n",
            " - 13s - loss: 0.3483 - acc: 0.8430 - val_loss: 0.2676 - val_acc: 0.8920\n",
            "Epoch 13/30\n",
            " - 13s - loss: 0.3435 - acc: 0.8580 - val_loss: 0.2729 - val_acc: 0.8840\n",
            "Epoch 14/30\n",
            " - 13s - loss: 0.3335 - acc: 0.8460 - val_loss: 0.2654 - val_acc: 0.8860\n",
            "Epoch 15/30\n",
            " - 13s - loss: 0.3293 - acc: 0.8560 - val_loss: 0.2756 - val_acc: 0.8800\n",
            "Epoch 16/30\n",
            " - 12s - loss: 0.3348 - acc: 0.8420 - val_loss: 0.2380 - val_acc: 0.9040\n",
            "Epoch 17/30\n",
            " - 13s - loss: 0.3285 - acc: 0.8580 - val_loss: 0.2393 - val_acc: 0.9000\n",
            "Epoch 18/30\n",
            " - 13s - loss: 0.3537 - acc: 0.8460 - val_loss: 0.2680 - val_acc: 0.8940\n",
            "Epoch 19/30\n",
            " - 13s - loss: 0.3078 - acc: 0.8640 - val_loss: 0.2551 - val_acc: 0.8900\n",
            "Epoch 20/30\n",
            " - 13s - loss: 0.3354 - acc: 0.8420 - val_loss: 0.2502 - val_acc: 0.8860\n",
            "Epoch 21/30\n",
            " - 13s - loss: 0.3225 - acc: 0.8600 - val_loss: 0.2458 - val_acc: 0.9040\n",
            "Epoch 22/30\n",
            " - 13s - loss: 0.3208 - acc: 0.8530 - val_loss: 0.2692 - val_acc: 0.8780\n",
            "Epoch 23/30\n",
            " - 12s - loss: 0.3277 - acc: 0.8480 - val_loss: 0.2274 - val_acc: 0.9000\n",
            "Epoch 24/30\n",
            " - 12s - loss: 0.2983 - acc: 0.8740 - val_loss: 0.2631 - val_acc: 0.8820\n",
            "Epoch 25/30\n",
            " - 13s - loss: 0.2974 - acc: 0.8760 - val_loss: 0.2513 - val_acc: 0.8860\n",
            "Epoch 26/30\n",
            " - 13s - loss: 0.3031 - acc: 0.8730 - val_loss: 0.2373 - val_acc: 0.8960\n",
            "Epoch 27/30\n",
            " - 13s - loss: 0.3150 - acc: 0.8650 - val_loss: 0.2249 - val_acc: 0.9020\n",
            "Epoch 28/30\n",
            " - 13s - loss: 0.2977 - acc: 0.8800 - val_loss: 0.2606 - val_acc: 0.8820\n",
            "Epoch 29/30\n",
            " - 13s - loss: 0.2893 - acc: 0.8730 - val_loss: 0.2474 - val_acc: 0.9020\n",
            "Epoch 30/30\n",
            " - 13s - loss: 0.3160 - acc: 0.8590 - val_loss: 0.2347 - val_acc: 0.8940\n"
          ],
          "name": "stdout"
        }
      ]
    },
    {
      "cell_type": "code",
      "metadata": {
        "id": "e0lsma8kMd_d",
        "colab_type": "code",
        "outputId": "7f6cd15e-7687-45aa-cb91-d833f81835ed",
        "colab": {
          "base_uri": "https://localhost:8080/",
          "height": 313
        }
      },
      "source": [
        "import matplotlib.pyplot as plt\n",
        "\n",
        "train_acc = history.history['acc']\n",
        "val_acc = history.history['val_acc']\n",
        "epochs = range(len(val_acc))\n",
        "plt.plot(epochs,train_acc,'bo',label=\"Training accuracy\")\n",
        "plt.plot(epochs,val_acc,'r-',label=\"Validation accuracy\")\n",
        "plt.xlabel('Epochs')\n",
        "plt.ylabel('Accuracy')\n",
        "plt.legend()\n",
        "plt.title('Training vs validation accuracy')\n",
        "\n"
      ],
      "execution_count": 34,
      "outputs": [
        {
          "output_type": "execute_result",
          "data": {
            "text/plain": [
              "Text(0.5, 1.0, 'Training vs validation accuracy')"
            ]
          },
          "metadata": {
            "tags": []
          },
          "execution_count": 34
        },
        {
          "output_type": "display_data",
          "data": {
            "image/png": "[encoded data removed]",
            "text/plain": [
              "<Figure size 432x288 with 1 Axes>"
            ]
          },
          "metadata": {
            "tags": []
          }
        }
      ]
    },
    {
      "cell_type": "code",
      "metadata": {
        "id": "9yUgB1QBMj71",
        "colab_type": "code",
        "outputId": "53eb0451-3a04-4d83-a0a6-1f284f8d6ffd",
        "colab": {
          "base_uri": "https://localhost:8080/",
          "height": 313
        }
      },
      "source": [
        "train_loss = history.history['loss']\n",
        "val_loss = history.history['val_loss']\n",
        "epochs = range(len(val_loss))\n",
        "plt.plot(epochs,train_loss,'bo',label=\"Training loss\")\n",
        "plt.plot(epochs,val_loss,'r-',label=\"Validation loss\")\n",
        "plt.xlabel('Epochs')\n",
        "plt.ylabel('loss')\n",
        "plt.legend()\n",
        "plt.title('Training vs validation loss')"
      ],
      "execution_count": 35,
      "outputs": [
        {
          "output_type": "execute_result",
          "data": {
            "text/plain": [
              "Text(0.5, 1.0, 'Training vs validation loss')"
            ]
          },
          "metadata": {
            "tags": []
          },
          "execution_count": 35
        },
        {
          "output_type": "display_data",
          "data": {
            "image/png": "[encoded data removed]",
            "text/plain": [
              "<Figure size 432x288 with 1 Axes>"
            ]
          },
          "metadata": {
            "tags": []
          }
        }
      ]
    },
    {
      "cell_type": "code",
      "metadata": {
        "id": "Ncl0Yl2XEKoD",
        "colab_type": "code",
        "colab": {}
      },
      "source": [
        "conv_base.trainable = True\n",
        "set_trainable = False\n",
        "for layer in conv_base.layers:\n",
        "  if layer.name == 'block5_conv1':\n",
        "    set_trainable = True\n",
        "  if set_trainable:\n",
        "    layer.trainable = True\n",
        "  else:\n",
        "    layer.trainable = False\n"
      ],
      "execution_count": 0,
      "outputs": []
    },
    {
      "cell_type": "code",
      "metadata": {
        "id": "EGv4BAWZE8T5",
        "colab_type": "code",
        "outputId": "540956a4-2c2e-47bc-d10d-562e6ca24083",
        "colab": {
          "base_uri": "https://localhost:8080/",
          "height": 1000
        }
      },
      "source": [
        "model.compile(loss='binary_crossentropy',\n",
        "              optimizer=optimizers.RMSprop(lr=1e-5),\n",
        "              metrics=['acc'])\n",
        "\n",
        "history = model.fit_generator(\n",
        "      train_generator,\n",
        "      steps_per_epoch=100,\n",
        "      epochs=30,\n",
        "      validation_data=validation_generator,\n",
        "      validation_steps=50,\n",
        "      verbose=2)"
      ],
      "execution_count": 0,
      "outputs": [
        {
          "output_type": "stream",
          "text": [
            "Epoch 1/30\n",
            " - 15s - loss: 0.3034 - acc: 0.8650 - val_loss: 0.2257 - val_acc: 0.9060\n",
            "Epoch 2/30\n",
            " - 13s - loss: 0.3161 - acc: 0.8590 - val_loss: 0.2467 - val_acc: 0.9040\n",
            "Epoch 3/30\n",
            " - 13s - loss: 0.2630 - acc: 0.8910 - val_loss: 0.2027 - val_acc: 0.9040\n",
            "Epoch 4/30\n",
            " - 13s - loss: 0.2672 - acc: 0.8920 - val_loss: 0.2100 - val_acc: 0.9260\n",
            "Epoch 5/30\n",
            " - 13s - loss: 0.2278 - acc: 0.8990 - val_loss: 0.1907 - val_acc: 0.9180\n",
            "Epoch 6/30\n",
            " - 14s - loss: 0.2375 - acc: 0.9030 - val_loss: 0.2309 - val_acc: 0.9220\n",
            "Epoch 7/30\n",
            " - 14s - loss: 0.1972 - acc: 0.9200 - val_loss: 0.2007 - val_acc: 0.9240\n",
            "Epoch 8/30\n",
            " - 13s - loss: 0.2342 - acc: 0.9110 - val_loss: 0.1804 - val_acc: 0.9260\n",
            "Epoch 9/30\n",
            " - 14s - loss: 0.1558 - acc: 0.9410 - val_loss: 0.2016 - val_acc: 0.9280\n",
            "Epoch 10/30\n",
            " - 13s - loss: 0.2276 - acc: 0.9090 - val_loss: 0.1948 - val_acc: 0.9180\n",
            "Epoch 11/30\n",
            " - 13s - loss: 0.1913 - acc: 0.9190 - val_loss: 0.1827 - val_acc: 0.9260\n",
            "Epoch 12/30\n",
            " - 13s - loss: 0.1663 - acc: 0.9260 - val_loss: 0.2025 - val_acc: 0.9320\n",
            "Epoch 13/30\n",
            " - 13s - loss: 0.1743 - acc: 0.9320 - val_loss: 0.2358 - val_acc: 0.9160\n",
            "Epoch 14/30\n",
            " - 13s - loss: 0.1930 - acc: 0.9190 - val_loss: 0.1389 - val_acc: 0.9460\n",
            "Epoch 15/30\n",
            " - 13s - loss: 0.1810 - acc: 0.9270 - val_loss: 0.1681 - val_acc: 0.9360\n",
            "Epoch 16/30\n",
            " - 13s - loss: 0.1599 - acc: 0.9370 - val_loss: 0.1755 - val_acc: 0.9320\n",
            "Epoch 17/30\n",
            " - 13s - loss: 0.1370 - acc: 0.9420 - val_loss: 0.1386 - val_acc: 0.9520\n",
            "Epoch 18/30\n",
            " - 13s - loss: 0.1656 - acc: 0.9310 - val_loss: 0.2263 - val_acc: 0.9140\n",
            "Epoch 19/30\n",
            " - 13s - loss: 0.1756 - acc: 0.9230 - val_loss: 0.2851 - val_acc: 0.9080\n",
            "Epoch 20/30\n",
            " - 13s - loss: 0.1525 - acc: 0.9410 - val_loss: 0.1843 - val_acc: 0.9320\n",
            "Epoch 21/30\n",
            " - 13s - loss: 0.1472 - acc: 0.9460 - val_loss: 0.1897 - val_acc: 0.9400\n",
            "Epoch 22/30\n",
            " - 13s - loss: 0.1440 - acc: 0.9390 - val_loss: 0.2030 - val_acc: 0.9240\n",
            "Epoch 23/30\n",
            " - 13s - loss: 0.1293 - acc: 0.9560 - val_loss: 0.2112 - val_acc: 0.9320\n",
            "Epoch 24/30\n",
            " - 13s - loss: 0.1179 - acc: 0.9520 - val_loss: 0.1663 - val_acc: 0.9420\n",
            "Epoch 25/30\n",
            " - 13s - loss: 0.1435 - acc: 0.9410 - val_loss: 0.2013 - val_acc: 0.9320\n",
            "Epoch 26/30\n",
            " - 13s - loss: 0.1190 - acc: 0.9520 - val_loss: 0.1550 - val_acc: 0.9340\n",
            "Epoch 27/30\n",
            " - 13s - loss: 0.1225 - acc: 0.9470 - val_loss: 0.2229 - val_acc: 0.9240\n",
            "Epoch 28/30\n",
            " - 13s - loss: 0.1205 - acc: 0.9580 - val_loss: 0.1592 - val_acc: 0.9380\n",
            "Epoch 29/30\n"
          ],
          "name": "stdout"
        }
      ]
    },
    {
      "cell_type": "code",
      "metadata": {
        "id": "DxTKOnK-JPFG",
        "colab_type": "code",
        "colab": {}
      },
      "source": [
        "import matplotlib.pyplot as plt\n",
        "\n",
        "train_acc = history.history['acc']\n",
        "val_acc = history.history['val_acc']\n",
        "epochs = range(len(val_acc))\n",
        "plt.plot(epochs,train_acc,'bo',label=\"Training accuracy\")\n",
        "plt.plot(epochs,val_acc,'r-',label=\"Validation accuracy\")\n",
        "plt.xlabel('Epochs')\n",
        "plt.ylabel('Accuracy')\n",
        "plt.legend()\n",
        "plt.title('Training vs validation accuracy')"
      ],
      "execution_count": 0,
      "outputs": []
    },
    {
      "cell_type": "code",
      "metadata": {
        "id": "iQzsdHkZJU_y",
        "colab_type": "code",
        "colab": {}
      },
      "source": [
        "train_loss = history.history['loss']\n",
        "val_loss = history.history['val_loss']\n",
        "epochs = range(len(val_loss))\n",
        "plt.plot(epochs,train_loss,'bo',label=\"Training loss\")\n",
        "plt.plot(epochs,val_loss,'r-',label=\"Validation loss\")\n",
        "plt.xlabel('Epochs')\n",
        "plt.ylabel('loss')\n",
        "plt.legend()\n",
        "plt.title('Training vs validation loss')"
      ],
      "execution_count": 0,
      "outputs": []
    },
    {
      "cell_type": "code",
      "metadata": {
        "id": "CAxhFc_LNXvx",
        "colab_type": "code",
        "colab": {}
      },
      "source": [
        "def smooth_points(points, factor=0.8):\n",
        "  smoothed_points = []\n",
        "  for point in points:\n",
        "    if smoothed_points :\n",
        "      previous = smoothed_points[-1]\n",
        "      smoothed_points.append(previous * factor + point * (1-factor))\n",
        "    else:\n",
        "      smoothed_points.append(point)\n",
        "  return smoothed_points"
      ],
      "execution_count": 0,
      "outputs": []
    },
    {
      "cell_type": "code",
      "metadata": {
        "id": "dsUmi8vxH8aQ",
        "colab_type": "code",
        "colab": {}
      },
      "source": [
        "val_loss = smooth_points(val_loss)\n",
        "train_loss = smooth_points(train_loss)\n",
        "\n",
        "val_acc = smooth_points(val_acc)\n",
        "train_acc = smooth_points(train_acc)"
      ],
      "execution_count": 0,
      "outputs": []
    },
    {
      "cell_type": "code",
      "metadata": {
        "id": "rQ47byK5Vktq",
        "colab_type": "code",
        "colab": {}
      },
      "source": [
        "plt.plot(epochs, val_loss, 'b-', label = 'Validation loss')\n",
        "plt.plot(epochs, train_loss, 'ro', label = 'Training loss')\n",
        "plt.title('Validation vs training loss smoothed')\n",
        "plt.xlabel('Epochs')\n",
        "plt.ylabel('Loss')\n",
        "plt.legend()"
      ],
      "execution_count": 0,
      "outputs": []
    },
    {
      "cell_type": "code",
      "metadata": {
        "id": "6Ol6sAUCWVOg",
        "colab_type": "code",
        "colab": {}
      },
      "source": [
        "plt.plot(epochs, val_acc, 'b-', label = 'Validation acc')\n",
        "plt.plot(epochs, train_acc, 'ro', label = 'Training acc')\n",
        "plt.title('Validation vs training loss smoothed')\n",
        "plt.xlabel('Epochs')\n",
        "plt.ylabel('Accuracy')\n",
        "plt.legend()"
      ],
      "execution_count": 0,
      "outputs": []
    },
    {
      "cell_type": "code",
      "metadata": {
        "id": "rlqMK6ga_wpc",
        "colab_type": "code",
        "colab": {}
      },
      "source": [
        "test_generator = test_datagen.flow_from_directory(\n",
        "    test_dir,\n",
        "    target_size = (150, 150),\n",
        "    batch_size = 20,\n",
        "    class_mode ='binary'\n",
        ")\n",
        "test_loss, test_accuracy = model.evaluate_generator(test_generator, steps = 50)\n",
        "print(test_accuracy, test_loss)"
      ],
      "execution_count": 0,
      "outputs": []
    },
    {
      "cell_type": "code",
      "metadata": {
        "id": "rtpjDCodtoM0",
        "colab_type": "code",
        "colab": {}
      },
      "source": [
        "model.save('VGG16_convbase_cats_vs_dogs_final.h5')"
      ],
      "execution_count": 0,
      "outputs": []
    }
  ]
}