{
  "nbformat": 4,
  "nbformat_minor": 0,
  "metadata": {
    "colab": {
      "name": "DeepLearning_3.ipynb",
      "provenance": [],
      "include_colab_link": true
    },
    "kernelspec": {
      "name": "python3",
      "display_name": "Python 3"
    },
    "accelerator": "GPU"
  },
  "cells": [
    {
      "cell_type": "markdown",
      "metadata": {
        "id": "view-in-github",
        "colab_type": "text"
      },
      "source": [
        "<a href=\"https://colab.research.google.com/github/amamra-abdenour/Deep_Learning_Python/blob/master/DeepLearning_3.ipynb\" target=\"_parent\"><img src=\"https://colab.research.google.com/assets/colab-badge.svg\" alt=\"Open In Colab\"/></a>"
      ]
    },
    {
      "cell_type": "code",
      "metadata": {
        "id": "fwq9VkUaemBt",
        "colab_type": "code",
        "outputId": "d86456e7-c07a-4c6f-8ff9-7ad54f877619",
        "colab": {
          "base_uri": "https://localhost:8080/",
          "height": 89
        }
      },
      "source": [
        "import keras\n",
        "from keras.datasets import imdb\n",
        "(x_train, y_train), (x_test, y_test) = imdb.load_data(num_words = 10000)\n",
        "print(x_train[0])\n",
        "print(len(x_train[0]))\n",
        "print(y_train[0])"
      ],
      "execution_count": 4,
      "outputs": [
        {
          "output_type": "stream",
          "text": [
            "[1, 14, 22, 16, 43, 530, 973, 1622, 1385, 65, 458, 4468, 66, 3941, 4, 173, 36, 256, 5, 25, 100, 43, 838, 112, 50, 670, 2, 9, 35, 480, 284, 5, 150, 4, 172, 112, 167, 2, 336, 385, 39, 4, 172, 4536, 1111, 17, 546, 38, 13, 447, 4, 192, 50, 16, 6, 147, 2025, 19, 14, 22, 4, 1920, 4613, 469, 4, 22, 71, 87, 12, 16, 43, 530, 38, 76, 15, 13, 1247, 4, 22, 17, 515, 17, 12, 16, 626, 18, 2, 5, 62, 386, 12, 8, 316, 8, 106, 5, 4, 2223, 5244, 16, 480, 66, 3785, 33, 4, 130, 12, 16, 38, 619, 5, 25, 124, 51, 36, 135, 48, 25, 1415, 33, 6, 22, 12, 215, 28, 77, 52, 5, 14, 407, 16, 82, 2, 8, 4, 107, 117, 5952, 15, 256, 4, 2, 7, 3766, 5, 723, 36, 71, 43, 530, 476, 26, 400, 317, 46, 7, 4, 2, 1029, 13, 104, 88, 4, 381, 15, 297, 98, 32, 2071, 56, 26, 141, 6, 194, 7486, 18, 4, 226, 22, 21, 134, 476, 26, 480, 5, 144, 30, 5535, 18, 51, 36, 28, 224, 92, 25, 104, 4, 226, 65, 16, 38, 1334, 88, 12, 16, 283, 5, 16, 4472, 113, 103, 32, 15, 16, 5345, 19, 178, 32]\n",
            "218\n",
            "1\n"
          ],
          "name": "stdout"
        }
      ]
    },
    {
      "cell_type": "code",
      "metadata": {
        "id": "ca3Ycn-3fj-v",
        "colab_type": "code",
        "outputId": "3cb4438c-d78d-4397-a9e4-36c97de46ed2",
        "colab": {
          "base_uri": "https://localhost:8080/",
          "height": 89
        }
      },
      "source": [
        "print(x_train[1])\n",
        "print(len(x_train[1]))\n",
        "print(y_train[1])"
      ],
      "execution_count": 5,
      "outputs": [
        {
          "output_type": "stream",
          "text": [
            "[1, 194, 1153, 194, 8255, 78, 228, 5, 6, 1463, 4369, 5012, 134, 26, 4, 715, 8, 118, 1634, 14, 394, 20, 13, 119, 954, 189, 102, 5, 207, 110, 3103, 21, 14, 69, 188, 8, 30, 23, 7, 4, 249, 126, 93, 4, 114, 9, 2300, 1523, 5, 647, 4, 116, 9, 35, 8163, 4, 229, 9, 340, 1322, 4, 118, 9, 4, 130, 4901, 19, 4, 1002, 5, 89, 29, 952, 46, 37, 4, 455, 9, 45, 43, 38, 1543, 1905, 398, 4, 1649, 26, 6853, 5, 163, 11, 3215, 2, 4, 1153, 9, 194, 775, 7, 8255, 2, 349, 2637, 148, 605, 2, 8003, 15, 123, 125, 68, 2, 6853, 15, 349, 165, 4362, 98, 5, 4, 228, 9, 43, 2, 1157, 15, 299, 120, 5, 120, 174, 11, 220, 175, 136, 50, 9, 4373, 228, 8255, 5, 2, 656, 245, 2350, 5, 4, 9837, 131, 152, 491, 18, 2, 32, 7464, 1212, 14, 9, 6, 371, 78, 22, 625, 64, 1382, 9, 8, 168, 145, 23, 4, 1690, 15, 16, 4, 1355, 5, 28, 6, 52, 154, 462, 33, 89, 78, 285, 16, 145, 95]\n",
            "189\n",
            "0\n"
          ],
          "name": "stdout"
        }
      ]
    },
    {
      "cell_type": "code",
      "metadata": {
        "id": "qD2-XqxwfuCr",
        "colab_type": "code",
        "outputId": "e290c693-ee65-4ed7-e10e-891426a6a6c0",
        "colab": {
          "base_uri": "https://localhost:8080/",
          "height": 35
        }
      },
      "source": [
        "print(max(max(s) for s in x_train))\n"
      ],
      "execution_count": 6,
      "outputs": [
        {
          "output_type": "stream",
          "text": [
            "9999\n"
          ],
          "name": "stdout"
        }
      ]
    },
    {
      "cell_type": "code",
      "metadata": {
        "id": "vAJ-4GakghUn",
        "colab_type": "code",
        "outputId": "f9199731-67c4-46e0-ee8d-63acdeb92a6a",
        "colab": {
          "base_uri": "https://localhost:8080/",
          "height": 89
        }
      },
      "source": [
        "word_index = imdb.get_word_index()\n",
        "comment = ''\n",
        "c = x_train[0]\n",
        "reverse_word_index = dict((value, key) for (key, value) in word_index.items())\n",
        "for w in c:\n",
        "  #print(reverse_word_index[w])\n",
        "  comment = comment +' '+ str(reverse_word_index.get(w-3))\n",
        "print(comment)"
      ],
      "execution_count": 7,
      "outputs": [
        {
          "output_type": "stream",
          "text": [
            "Downloading data from https://s3.amazonaws.com/text-datasets/imdb_word_index.json\n",
            "1646592/1641221 [==============================] - 2s 1us/step\n",
            " None this film was just brilliant casting location scenery story direction everyone's really suited the part they played and you could just imagine being there robert None is an amazing actor and now the same being director None father came from the same scottish island as myself so i loved the fact there was a real connection with this film the witty remarks throughout the film were great it was just brilliant so much that i bought the film as soon as it was released for None and would recommend it to everyone to watch and the fly fishing was amazing really cried at the end it was so sad and you know what they say if you cry at a film it must have been good and this definitely was also None to the two little boy's that played the None of norman and paul they were just brilliant children are often left out of the None list i think because the stars that play them all grown up are such a big profile for the whole film but these children are amazing and should be praised for what they have done don't you think the whole story was so lovely because it was true and was someone's life after all that was shared with us all\n"
          ],
          "name": "stdout"
        }
      ]
    },
    {
      "cell_type": "code",
      "metadata": {
        "id": "90mfjcU8y9aR",
        "colab_type": "code",
        "colab": {}
      },
      "source": [
        "import numpy as np\n",
        "def vectorize_sequences(sequences, dimention = 10000):\n",
        "  res = np.zeros((len(sequences), dimention))\n",
        "  for i, sequence in enumerate(sequences):\n",
        "    res[i, sequence] = 1\n",
        "  return res\n",
        "\n",
        "x_train = vectorize_sequences(x_train)\n",
        "x_test = vectorize_sequences(x_test)\n"
      ],
      "execution_count": 0,
      "outputs": []
    },
    {
      "cell_type": "code",
      "metadata": {
        "id": "js6iAs5S0ExG",
        "colab_type": "code",
        "outputId": "992c183d-3abd-47a1-ee4d-ffa707b2730b",
        "colab": {
          "base_uri": "https://localhost:8080/",
          "height": 35
        }
      },
      "source": [
        "print(x_train[45])"
      ],
      "execution_count": 9,
      "outputs": [
        {
          "output_type": "stream",
          "text": [
            "[0. 1. 1. ... 0. 0. 0.]\n"
          ],
          "name": "stdout"
        }
      ]
    },
    {
      "cell_type": "code",
      "metadata": {
        "id": "Ufln6QLW0bEP",
        "colab_type": "code",
        "colab": {}
      },
      "source": [
        "y_train = np.asarray((y_train).astype('float32'))\n",
        "y_test = np.asarray((y_test).astype('float32'))"
      ],
      "execution_count": 0,
      "outputs": []
    },
    {
      "cell_type": "code",
      "metadata": {
        "id": "HA1tD2vo0wVW",
        "colab_type": "code",
        "outputId": "10d07272-aaf0-4353-fd7b-a032b2981872",
        "colab": {
          "base_uri": "https://localhost:8080/",
          "height": 35
        }
      },
      "source": [
        "print(y_train.shape)"
      ],
      "execution_count": 11,
      "outputs": [
        {
          "output_type": "stream",
          "text": [
            "(25000,)\n"
          ],
          "name": "stdout"
        }
      ]
    },
    {
      "cell_type": "code",
      "metadata": {
        "id": "plb0Dxi517DI",
        "colab_type": "code",
        "colab": {}
      },
      "source": [
        "from keras.models import Sequential\n",
        "from keras.layers import Dense\n",
        "from keras.losses import binary_crossentropy\n",
        "from keras.optimizers import RMSprop\n",
        "\n",
        "model = Sequential()\n",
        "model.add(Dense(16, activation='relu', input_shape = (10000,)))\n",
        "model.add(Dense(16, activation='relu'))\n",
        "model.add(Dense(1, activation='sigmoid'))\n"
      ],
      "execution_count": 0,
      "outputs": []
    },
    {
      "cell_type": "code",
      "metadata": {
        "id": "nbWiiaBC6vzR",
        "colab_type": "code",
        "outputId": "cb2e9b92-33df-4e74-9976-b67bea5d32e3",
        "colab": {
          "base_uri": "https://localhost:8080/",
          "height": 783
        }
      },
      "source": [
        "model.compile(optimizer = RMSprop(lr=0.001),\n",
        "              loss= binary_crossentropy,\n",
        "              metrics=['accuracy'])\n",
        "x_val = x_train[:10000]\n",
        "x_train = x_train[10000:]\n",
        "\n",
        "y_val = y_train[:10000]\n",
        "y_train = y_train[10000:]\n",
        "\n",
        "history = model.fit(x_train, y_train, epochs = 20, batch_size=512, validation_data=(x_val, y_val))"
      ],
      "execution_count": 13,
      "outputs": [
        {
          "output_type": "stream",
          "text": [
            "WARNING:tensorflow:From /usr/local/lib/python3.6/dist-packages/keras/backend/tensorflow_backend.py:1033: The name tf.assign_add is deprecated. Please use tf.compat.v1.assign_add instead.\n",
            "\n",
            "Train on 15000 samples, validate on 10000 samples\n",
            "Epoch 1/20\n",
            "15000/15000 [==============================] - 6s 418us/step - loss: 0.5284 - acc: 0.7710 - val_loss: 0.3890 - val_acc: 0.8695\n",
            "Epoch 2/20\n",
            "15000/15000 [==============================] - 2s 109us/step - loss: 0.3074 - acc: 0.9012 - val_loss: 0.3107 - val_acc: 0.8828\n",
            "Epoch 3/20\n",
            "15000/15000 [==============================] - 2s 107us/step - loss: 0.2223 - acc: 0.9275 - val_loss: 0.2977 - val_acc: 0.8801\n",
            "Epoch 4/20\n",
            "15000/15000 [==============================] - 2s 105us/step - loss: 0.1744 - acc: 0.9421 - val_loss: 0.2883 - val_acc: 0.8854\n",
            "Epoch 5/20\n",
            "15000/15000 [==============================] - 2s 108us/step - loss: 0.1397 - acc: 0.9554 - val_loss: 0.2825 - val_acc: 0.8868\n",
            "Epoch 6/20\n",
            "15000/15000 [==============================] - 2s 108us/step - loss: 0.1116 - acc: 0.9676 - val_loss: 0.3016 - val_acc: 0.8869\n",
            "Epoch 7/20\n",
            "15000/15000 [==============================] - 2s 107us/step - loss: 0.0934 - acc: 0.9721 - val_loss: 0.3332 - val_acc: 0.8793\n",
            "Epoch 8/20\n",
            "15000/15000 [==============================] - 2s 108us/step - loss: 0.0740 - acc: 0.9793 - val_loss: 0.3461 - val_acc: 0.8768\n",
            "Epoch 9/20\n",
            "15000/15000 [==============================] - 2s 109us/step - loss: 0.0592 - acc: 0.9849 - val_loss: 0.3583 - val_acc: 0.8784\n",
            "Epoch 10/20\n",
            "15000/15000 [==============================] - 2s 107us/step - loss: 0.0465 - acc: 0.9893 - val_loss: 0.3990 - val_acc: 0.8714\n",
            "Epoch 11/20\n",
            "15000/15000 [==============================] - 2s 107us/step - loss: 0.0363 - acc: 0.9918 - val_loss: 0.4224 - val_acc: 0.8783\n",
            "Epoch 12/20\n",
            "15000/15000 [==============================] - 2s 106us/step - loss: 0.0285 - acc: 0.9941 - val_loss: 0.4575 - val_acc: 0.8760\n",
            "Epoch 13/20\n",
            "15000/15000 [==============================] - 2s 106us/step - loss: 0.0224 - acc: 0.9959 - val_loss: 0.5035 - val_acc: 0.8631\n",
            "Epoch 14/20\n",
            "15000/15000 [==============================] - 2s 107us/step - loss: 0.0146 - acc: 0.9986 - val_loss: 0.5424 - val_acc: 0.8683\n",
            "Epoch 15/20\n",
            "15000/15000 [==============================] - 2s 107us/step - loss: 0.0121 - acc: 0.9986 - val_loss: 0.5461 - val_acc: 0.8726\n",
            "Epoch 16/20\n",
            "15000/15000 [==============================] - 2s 107us/step - loss: 0.0100 - acc: 0.9983 - val_loss: 0.5731 - val_acc: 0.8712\n",
            "Epoch 17/20\n",
            "15000/15000 [==============================] - 2s 106us/step - loss: 0.0049 - acc: 0.9998 - val_loss: 0.6176 - val_acc: 0.8680\n",
            "Epoch 18/20\n",
            "15000/15000 [==============================] - 2s 105us/step - loss: 0.0057 - acc: 0.9995 - val_loss: 0.6460 - val_acc: 0.8680\n",
            "Epoch 19/20\n",
            "15000/15000 [==============================] - 2s 109us/step - loss: 0.0028 - acc: 0.9999 - val_loss: 0.8423 - val_acc: 0.8519\n",
            "Epoch 20/20\n",
            "15000/15000 [==============================] - 2s 106us/step - loss: 0.0026 - acc: 0.9998 - val_loss: 0.7188 - val_acc: 0.8674\n"
          ],
          "name": "stdout"
        }
      ]
    },
    {
      "cell_type": "code",
      "metadata": {
        "id": "-ry1CYV172Ui",
        "colab_type": "code",
        "outputId": "54bd284e-e3e5-4a1f-cfb8-be87c093e196",
        "colab": {
          "base_uri": "https://localhost:8080/",
          "height": 35
        }
      },
      "source": [
        "history_dict = history.history\n",
        "print(history_dict.keys())"
      ],
      "execution_count": 14,
      "outputs": [
        {
          "output_type": "stream",
          "text": [
            "dict_keys(['val_loss', 'val_acc', 'loss', 'acc'])\n"
          ],
          "name": "stdout"
        }
      ]
    },
    {
      "cell_type": "code",
      "metadata": {
        "id": "JiEvALDv8Npj",
        "colab_type": "code",
        "outputId": "8a19bdef-bf33-48b1-915f-d1837d303266",
        "colab": {
          "base_uri": "https://localhost:8080/",
          "height": 295
        }
      },
      "source": [
        "import matplotlib.pyplot as plt\n",
        "val_loss = history.history['val_loss']\n",
        "loss = history.history['loss']\n",
        "epochs = range(1, len(loss)+1)\n",
        "plt.plot(epochs, loss,'bo',label='Training loss')\n",
        "plt.plot(epochs, val_loss,'b-',label='Validation loss')\n",
        "plt.title('Training vs validation loss')\n",
        "plt.xlabel('Epochs')\n",
        "plt.ylabel('Loss')\n",
        "plt.legend()\n",
        "plt.show()"
      ],
      "execution_count": 15,
      "outputs": [
        {
          "output_type": "display_data",
          "data": {
            "image/png": "[encoded data removed]",
            "text/plain": [
              "<Figure size 432x288 with 1 Axes>"
            ]
          },
          "metadata": {
            "tags": []
          }
        }
      ]
    },
    {
      "cell_type": "code",
      "metadata": {
        "id": "cddrpVBS9uFb",
        "colab_type": "code",
        "outputId": "8313250a-8089-40e6-f049-3475805752bb",
        "colab": {
          "base_uri": "https://localhost:8080/",
          "height": 295
        }
      },
      "source": [
        "plt.clf()\n",
        "acc = history.history['acc']\n",
        "val_acc = history.history['val_acc']\n",
        "epochs = range(1, len(acc)+1)\n",
        "plt.plot(epochs, acc, 'r*', label = 'Training accuracy')\n",
        "plt.plot(epochs, val_acc, 'r-', label = 'Validation accuracy')\n",
        "plt.title('Traning vs validation accuracy')\n",
        "plt.xlabel('Epochs')\n",
        "plt.ylabel('Accuracy')\n",
        "plt.legend()\n",
        "plt.show()"
      ],
      "execution_count": 16,
      "outputs": [
        {
          "output_type": "display_data",
          "data": {
            "image/png": "[encoded data removed]",
            "text/plain": [
              "<Figure size 432x288 with 1 Axes>"
            ]
          },
          "metadata": {
            "tags": []
          }
        }
      ]
    },
    {
      "cell_type": "code",
      "metadata": {
        "id": "AUrlzzex8tXZ",
        "colab_type": "code",
        "colab": {
          "base_uri": "https://localhost:8080/",
          "height": 225
        },
        "outputId": "515256e1-71f7-4b06-f528-8193d70bf4ad"
      },
      "source": [
        "from keras.models import Sequential\n",
        "from keras.layers import Dense\n",
        "from keras.losses import binary_crossentropy\n",
        "from keras.optimizers import RMSprop\n",
        "\n",
        "model = Sequential()\n",
        "model.add(Dense(16, activation='relu', input_shape = (10000,)))\n",
        "model.add(Dense(16, activation='relu'))\n",
        "model.add(Dense(1, activation='sigmoid'))\n",
        "model.compile(optimizer = RMSprop(lr=0.001),\n",
        "              loss= binary_crossentropy,\n",
        "              metrics=['accuracy'])\n",
        "\n",
        "history = model.fit(x_train, y_train, epochs = 6, batch_size=512)"
      ],
      "execution_count": 17,
      "outputs": [
        {
          "output_type": "stream",
          "text": [
            "Epoch 1/6\n",
            "15000/15000 [==============================] - 1s 80us/step - loss: 0.5106 - acc: 0.7871\n",
            "Epoch 2/6\n",
            "15000/15000 [==============================] - 1s 67us/step - loss: 0.3049 - acc: 0.9032\n",
            "Epoch 3/6\n",
            "15000/15000 [==============================] - 1s 66us/step - loss: 0.2242 - acc: 0.9267\n",
            "Epoch 4/6\n",
            "15000/15000 [==============================] - 1s 67us/step - loss: 0.1769 - acc: 0.9419\n",
            "Epoch 5/6\n",
            "15000/15000 [==============================] - 1s 66us/step - loss: 0.1449 - acc: 0.9539\n",
            "Epoch 6/6\n",
            "15000/15000 [==============================] - 1s 67us/step - loss: 0.1189 - acc: 0.9636\n"
          ],
          "name": "stdout"
        }
      ]
    },
    {
      "cell_type": "code",
      "metadata": {
        "id": "mkxTtNIs9o3Y",
        "colab_type": "code",
        "colab": {
          "base_uri": "https://localhost:8080/",
          "height": 295
        },
        "outputId": "cda0676d-649b-450a-c20c-3240fb3bb666"
      },
      "source": [
        "plt.clf()\n",
        "acc = history.history['acc']\n",
        "epochs = range(1, len(acc) + 1)\n",
        "plt.plot(epochs, acc,'bo',label='Training accuracy')\n",
        "plt.xlabel('Epochs')\n",
        "plt.ylabel('Accuracy')\n",
        "plt.legend()\n",
        "plt.title('Training accuracy')\n",
        "plt.show()"
      ],
      "execution_count": 19,
      "outputs": [
        {
          "output_type": "display_data",
          "data": {
            "image/png": "[encoded data removed]",
            "text/plain": [
              "<Figure size 432x288 with 1 Axes>"
            ]
          },
          "metadata": {
            "tags": []
          }
        }
      ]
    },
    {
      "cell_type": "code",
      "metadata": {
        "id": "gMN5YDo6-jNc",
        "colab_type": "code",
        "colab": {
          "base_uri": "https://localhost:8080/",
          "height": 35
        },
        "outputId": "5d20405f-fa47-498b-9044-6ad40e52b757"
      },
      "source": [
        "res = model.evaluate(x_test, y_test,batch_size=512)"
      ],
      "execution_count": 20,
      "outputs": [
        {
          "output_type": "stream",
          "text": [
            "25000/25000 [==============================] - 2s 64us/step\n"
          ],
          "name": "stdout"
        }
      ]
    },
    {
      "cell_type": "code",
      "metadata": {
        "id": "u2OlpuR--vhk",
        "colab_type": "code",
        "colab": {
          "base_uri": "https://localhost:8080/",
          "height": 299
        },
        "outputId": "3ce9047e-af0c-4aa5-f8ea-ebe992d243ea"
      },
      "source": [
        "print(res)\n",
        "#plt.clf()\n",
        "test_acc = res[1]\n",
        "epochs = [1]\n",
        "plt.plot(epochs, test_acc, 'r*', label = 'Test accuracy')\n",
        "plt.legend()\n",
        "plt.title('Training vs Test accuracy')\n",
        "plt.show()\n"
      ],
      "execution_count": 26,
      "outputs": [
        {
          "output_type": "stream",
          "text": [
            "[0.3490753617668152, 0.8650399997520447]\n"
          ],
          "name": "stdout"
        },
        {
          "output_type": "display_data",
          "data": {
            "image/png": "[encoded data removed]",
            "text/plain": [
              "<Figure size 432x288 with 1 Axes>"
            ]
          },
          "metadata": {
            "tags": []
          }
        }
      ]
    },
    {
      "cell_type": "code",
      "metadata": {
        "id": "p2tQ9-PHAiJn",
        "colab_type": "code",
        "colab": {
          "base_uri": "https://localhost:8080/",
          "height": 139
        },
        "outputId": "05af44ae-5ea7-4dc5-b7a4-4bd957f10c9b"
      },
      "source": [
        "res = model.predict(x_test)\n",
        "print(res)"
      ],
      "execution_count": 28,
      "outputs": [
        {
          "output_type": "stream",
          "text": [
            "[[0.11429989]\n",
            " [0.999681  ]\n",
            " [0.76722026]\n",
            " ...\n",
            " [0.03871137]\n",
            " [0.04729727]\n",
            " [0.45523307]]\n"
          ],
          "name": "stdout"
        }
      ]
    }
  ]
}