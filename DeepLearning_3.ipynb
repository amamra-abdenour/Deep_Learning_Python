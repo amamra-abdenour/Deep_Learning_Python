{
  "nbformat": 4,
  "nbformat_minor": 0,
  "metadata": {
    "colab": {
      "name": "DeepLearning_3.ipynb",
      "provenance": [],
      "include_colab_link": true
    },
    "kernelspec": {
      "name": "python3",
      "display_name": "Python 3"
    },
    "accelerator": "GPU"
  },
  "cells": [
    {
      "cell_type": "markdown",
      "metadata": {
        "id": "view-in-github",
        "colab_type": "text"
      },
      "source": [
        "<a href=\"https://colab.research.google.com/github/amamra-abdenour/Deep_Learning_Python/blob/master/DeepLearning_3.ipynb\" target=\"_parent\"><img src=\"https://colab.research.google.com/assets/colab-badge.svg\" alt=\"Open In Colab\"/></a>"
      ]
    },
    {
      "cell_type": "code",
      "metadata": {
        "id": "fwq9VkUaemBt",
        "colab_type": "code",
        "colab": {
          "base_uri": "https://localhost:8080/",
          "height": 89
        },
        "outputId": "7f683e34-ea1d-4bee-b1de-27a09c5c1cd4"
      },
      "source": [
        "import keras\n",
        "from keras.datasets import imdb\n",
        "(x_train, y_train), (x_test, y_test) = imdb.load_data(num_words = 10000)\n",
        "print(x_train[0])\n",
        "print(len(x_train[0]))\n",
        "print(y_train[0])"
      ],
      "execution_count": 25,
      "outputs": [
        {
          "output_type": "stream",
          "text": [
            "[1, 14, 22, 16, 43, 530, 973, 1622, 1385, 65, 458, 4468, 66, 3941, 4, 173, 36, 256, 5, 25, 100, 43, 838, 112, 50, 670, 2, 9, 35, 480, 284, 5, 150, 4, 172, 112, 167, 2, 336, 385, 39, 4, 172, 4536, 1111, 17, 546, 38, 13, 447, 4, 192, 50, 16, 6, 147, 2025, 19, 14, 22, 4, 1920, 4613, 469, 4, 22, 71, 87, 12, 16, 43, 530, 38, 76, 15, 13, 1247, 4, 22, 17, 515, 17, 12, 16, 626, 18, 2, 5, 62, 386, 12, 8, 316, 8, 106, 5, 4, 2223, 5244, 16, 480, 66, 3785, 33, 4, 130, 12, 16, 38, 619, 5, 25, 124, 51, 36, 135, 48, 25, 1415, 33, 6, 22, 12, 215, 28, 77, 52, 5, 14, 407, 16, 82, 2, 8, 4, 107, 117, 5952, 15, 256, 4, 2, 7, 3766, 5, 723, 36, 71, 43, 530, 476, 26, 400, 317, 46, 7, 4, 2, 1029, 13, 104, 88, 4, 381, 15, 297, 98, 32, 2071, 56, 26, 141, 6, 194, 7486, 18, 4, 226, 22, 21, 134, 476, 26, 480, 5, 144, 30, 5535, 18, 51, 36, 28, 224, 92, 25, 104, 4, 226, 65, 16, 38, 1334, 88, 12, 16, 283, 5, 16, 4472, 113, 103, 32, 15, 16, 5345, 19, 178, 32]\n",
            "218\n",
            "1\n"
          ],
          "name": "stdout"
        }
      ]
    },
    {
      "cell_type": "code",
      "metadata": {
        "id": "ca3Ycn-3fj-v",
        "colab_type": "code",
        "colab": {
          "base_uri": "https://localhost:8080/",
          "height": 89
        },
        "outputId": "8ad4646b-52cf-4f7d-be50-36a0603b3950"
      },
      "source": [
        "print(x_train[1])\n",
        "print(len(x_train[1]))\n",
        "print(y_train[1])"
      ],
      "execution_count": 26,
      "outputs": [
        {
          "output_type": "stream",
          "text": [
            "[1, 194, 1153, 194, 8255, 78, 228, 5, 6, 1463, 4369, 5012, 134, 26, 4, 715, 8, 118, 1634, 14, 394, 20, 13, 119, 954, 189, 102, 5, 207, 110, 3103, 21, 14, 69, 188, 8, 30, 23, 7, 4, 249, 126, 93, 4, 114, 9, 2300, 1523, 5, 647, 4, 116, 9, 35, 8163, 4, 229, 9, 340, 1322, 4, 118, 9, 4, 130, 4901, 19, 4, 1002, 5, 89, 29, 952, 46, 37, 4, 455, 9, 45, 43, 38, 1543, 1905, 398, 4, 1649, 26, 6853, 5, 163, 11, 3215, 2, 4, 1153, 9, 194, 775, 7, 8255, 2, 349, 2637, 148, 605, 2, 8003, 15, 123, 125, 68, 2, 6853, 15, 349, 165, 4362, 98, 5, 4, 228, 9, 43, 2, 1157, 15, 299, 120, 5, 120, 174, 11, 220, 175, 136, 50, 9, 4373, 228, 8255, 5, 2, 656, 245, 2350, 5, 4, 9837, 131, 152, 491, 18, 2, 32, 7464, 1212, 14, 9, 6, 371, 78, 22, 625, 64, 1382, 9, 8, 168, 145, 23, 4, 1690, 15, 16, 4, 1355, 5, 28, 6, 52, 154, 462, 33, 89, 78, 285, 16, 145, 95]\n",
            "189\n",
            "0\n"
          ],
          "name": "stdout"
        }
      ]
    },
    {
      "cell_type": "code",
      "metadata": {
        "id": "qD2-XqxwfuCr",
        "colab_type": "code",
        "colab": {
          "base_uri": "https://localhost:8080/",
          "height": 35
        },
        "outputId": "f3c8078d-b172-4fb3-ca66-0cff2779c48f"
      },
      "source": [
        "print(max(max(s) for s in x_train))\n"
      ],
      "execution_count": 27,
      "outputs": [
        {
          "output_type": "stream",
          "text": [
            "9999\n"
          ],
          "name": "stdout"
        }
      ]
    },
    {
      "cell_type": "code",
      "metadata": {
        "id": "vAJ-4GakghUn",
        "colab_type": "code",
        "colab": {
          "base_uri": "https://localhost:8080/",
          "height": 55
        },
        "outputId": "bbb82a95-ed2b-44d0-c7cf-4cf09d3d482f"
      },
      "source": [
        "word_index = imdb.get_word_index()\n",
        "comment = ''\n",
        "c = x_train[0]\n",
        "reverse_word_index = dict((value, key) for (key, value) in word_index.items())\n",
        "for w in c:\n",
        "  #print(reverse_word_index[w])\n",
        "  comment = comment +' '+ str(reverse_word_index.get(w-3))\n",
        "print(comment)"
      ],
      "execution_count": 28,
      "outputs": [
        {
          "output_type": "stream",
          "text": [
            " None this film was just brilliant casting location scenery story direction everyone's really suited the part they played and you could just imagine being there robert None is an amazing actor and now the same being director None father came from the same scottish island as myself so i loved the fact there was a real connection with this film the witty remarks throughout the film were great it was just brilliant so much that i bought the film as soon as it was released for None and would recommend it to everyone to watch and the fly fishing was amazing really cried at the end it was so sad and you know what they say if you cry at a film it must have been good and this definitely was also None to the two little boy's that played the None of norman and paul they were just brilliant children are often left out of the None list i think because the stars that play them all grown up are such a big profile for the whole film but these children are amazing and should be praised for what they have done don't you think the whole story was so lovely because it was true and was someone's life after all that was shared with us all\n"
          ],
          "name": "stdout"
        }
      ]
    },
    {
      "cell_type": "code",
      "metadata": {
        "id": "90mfjcU8y9aR",
        "colab_type": "code",
        "colab": {}
      },
      "source": [
        "import numpy as np\n",
        "def vectorize_sequences(sequences, dimention = 10000):\n",
        "  res = np.zeros((len(sequences), dimention))\n",
        "  for i, sequence in enumerate(sequences):\n",
        "    res[i, sequence] = 1\n",
        "  return res\n",
        "\n",
        "x_train = vectorize_sequences(x_train)\n",
        "x_test = vectorize_sequences(x_test)\n"
      ],
      "execution_count": 0,
      "outputs": []
    },
    {
      "cell_type": "code",
      "metadata": {
        "id": "js6iAs5S0ExG",
        "colab_type": "code",
        "colab": {
          "base_uri": "https://localhost:8080/",
          "height": 35
        },
        "outputId": "a9398e66-e4c9-40ba-f941-3dae38897041"
      },
      "source": [
        "print(x_train[45])"
      ],
      "execution_count": 30,
      "outputs": [
        {
          "output_type": "stream",
          "text": [
            "[0. 1. 1. ... 0. 0. 0.]\n"
          ],
          "name": "stdout"
        }
      ]
    },
    {
      "cell_type": "code",
      "metadata": {
        "id": "Ufln6QLW0bEP",
        "colab_type": "code",
        "colab": {}
      },
      "source": [
        "y_train = np.asarray((y_train).astype('float32'))\n",
        "y_test = np.asarray((y_test).astype('float32'))"
      ],
      "execution_count": 0,
      "outputs": []
    },
    {
      "cell_type": "code",
      "metadata": {
        "id": "HA1tD2vo0wVW",
        "colab_type": "code",
        "colab": {
          "base_uri": "https://localhost:8080/",
          "height": 35
        },
        "outputId": "64288228-8e94-4993-87b1-b8db620e85ee"
      },
      "source": [
        "print(y_train.shape)"
      ],
      "execution_count": 32,
      "outputs": [
        {
          "output_type": "stream",
          "text": [
            "(25000,)\n"
          ],
          "name": "stdout"
        }
      ]
    },
    {
      "cell_type": "code",
      "metadata": {
        "id": "plb0Dxi517DI",
        "colab_type": "code",
        "colab": {}
      },
      "source": [
        "from keras.models import Sequential\n",
        "from keras.layers import Dense\n",
        "from keras.losses import binary_crossentropy\n",
        "from keras.optimizers import RMSprop\n",
        "\n",
        "model = Sequential()\n",
        "model.add(Dense(16, activation='relu', input_shape = (10000,)))\n",
        "model.add(Dense(16, activation='relu'))\n",
        "model.add(Dense(1, activation='sigmoid'))\n"
      ],
      "execution_count": 0,
      "outputs": []
    },
    {
      "cell_type": "code",
      "metadata": {
        "id": "nbWiiaBC6vzR",
        "colab_type": "code",
        "colab": {
          "base_uri": "https://localhost:8080/",
          "height": 728
        },
        "outputId": "399943e0-4682-4262-abe7-c3b50b53e941"
      },
      "source": [
        "model.compile(optimizer = RMSprop(lr=0.001),\n",
        "              loss= binary_crossentropy,\n",
        "              metrics=['accuracy'])\n",
        "x_val = x_train[:10000]\n",
        "x_train = x_train[10000:]\n",
        "\n",
        "y_val = y_train[:10000]\n",
        "y_train = y_train[10000:]\n",
        "\n",
        "history = model.fit(x_train, y_train, epochs = 20, batch_size=512, validation_data=(x_val, y_val))"
      ],
      "execution_count": 34,
      "outputs": [
        {
          "output_type": "stream",
          "text": [
            "Train on 15000 samples, validate on 10000 samples\n",
            "Epoch 1/20\n",
            "15000/15000 [==============================] - 2s 145us/step - loss: 0.5156 - acc: 0.8001 - val_loss: 0.3934 - val_acc: 0.8701\n",
            "Epoch 2/20\n",
            "15000/15000 [==============================] - 1s 99us/step - loss: 0.3162 - acc: 0.9004 - val_loss: 0.3171 - val_acc: 0.8828\n",
            "Epoch 3/20\n",
            "15000/15000 [==============================] - 1s 99us/step - loss: 0.2296 - acc: 0.9280 - val_loss: 0.2794 - val_acc: 0.8918\n",
            "Epoch 4/20\n",
            "15000/15000 [==============================] - 1s 98us/step - loss: 0.1793 - acc: 0.9421 - val_loss: 0.3006 - val_acc: 0.8793\n",
            "Epoch 5/20\n",
            "15000/15000 [==============================] - 1s 98us/step - loss: 0.1451 - acc: 0.9538 - val_loss: 0.3119 - val_acc: 0.8729\n",
            "Epoch 6/20\n",
            "15000/15000 [==============================] - 1s 99us/step - loss: 0.1222 - acc: 0.9623 - val_loss: 0.2902 - val_acc: 0.8855\n",
            "Epoch 7/20\n",
            "15000/15000 [==============================] - 1s 99us/step - loss: 0.0986 - acc: 0.9718 - val_loss: 0.3165 - val_acc: 0.8798\n",
            "Epoch 8/20\n",
            "15000/15000 [==============================] - 1s 99us/step - loss: 0.0821 - acc: 0.9777 - val_loss: 0.3256 - val_acc: 0.8814\n",
            "Epoch 9/20\n",
            "15000/15000 [==============================] - 1s 98us/step - loss: 0.0691 - acc: 0.9809 - val_loss: 0.3501 - val_acc: 0.8793\n",
            "Epoch 10/20\n",
            "15000/15000 [==============================] - 1s 99us/step - loss: 0.0557 - acc: 0.9864 - val_loss: 0.3739 - val_acc: 0.8799\n",
            "Epoch 11/20\n",
            "15000/15000 [==============================] - 1s 99us/step - loss: 0.0462 - acc: 0.9892 - val_loss: 0.4263 - val_acc: 0.8695\n",
            "Epoch 12/20\n",
            "15000/15000 [==============================] - 1s 98us/step - loss: 0.0384 - acc: 0.9913 - val_loss: 0.4278 - val_acc: 0.8755\n",
            "Epoch 13/20\n",
            "15000/15000 [==============================] - 1s 99us/step - loss: 0.0299 - acc: 0.9942 - val_loss: 0.4550 - val_acc: 0.8750\n",
            "Epoch 14/20\n",
            "15000/15000 [==============================] - 1s 97us/step - loss: 0.0242 - acc: 0.9954 - val_loss: 0.4872 - val_acc: 0.8711\n",
            "Epoch 15/20\n",
            "15000/15000 [==============================] - 1s 99us/step - loss: 0.0182 - acc: 0.9974 - val_loss: 0.5371 - val_acc: 0.8616\n",
            "Epoch 16/20\n",
            "15000/15000 [==============================] - 1s 99us/step - loss: 0.0134 - acc: 0.9986 - val_loss: 0.5570 - val_acc: 0.8712\n",
            "Epoch 17/20\n",
            "15000/15000 [==============================] - 1s 98us/step - loss: 0.0127 - acc: 0.9981 - val_loss: 0.5876 - val_acc: 0.8690\n",
            "Epoch 18/20\n",
            "15000/15000 [==============================] - 1s 98us/step - loss: 0.0066 - acc: 0.9996 - val_loss: 0.6334 - val_acc: 0.8623\n",
            "Epoch 19/20\n",
            "15000/15000 [==============================] - 1s 99us/step - loss: 0.0092 - acc: 0.9982 - val_loss: 0.6548 - val_acc: 0.8660\n",
            "Epoch 20/20\n",
            "15000/15000 [==============================] - 1s 99us/step - loss: 0.0035 - acc: 0.9998 - val_loss: 0.6859 - val_acc: 0.8641\n"
          ],
          "name": "stdout"
        }
      ]
    },
    {
      "cell_type": "code",
      "metadata": {
        "id": "-ry1CYV172Ui",
        "colab_type": "code",
        "colab": {
          "base_uri": "https://localhost:8080/",
          "height": 35
        },
        "outputId": "2565a772-fba9-476e-fd62-c3028a28dce4"
      },
      "source": [
        "history_dict = history.history\n",
        "print(history_dict.keys())"
      ],
      "execution_count": 35,
      "outputs": [
        {
          "output_type": "stream",
          "text": [
            "dict_keys(['val_loss', 'val_acc', 'loss', 'acc'])\n"
          ],
          "name": "stdout"
        }
      ]
    },
    {
      "cell_type": "code",
      "metadata": {
        "id": "JiEvALDv8Npj",
        "colab_type": "code",
        "colab": {
          "base_uri": "https://localhost:8080/",
          "height": 295
        },
        "outputId": "2ac5198c-4e8a-4cc5-9e23-eb739018372b"
      },
      "source": [
        "import matplotlib.pyplot as plt\n",
        "val_loss = history.history['val_loss']\n",
        "loss = history.history['loss']\n",
        "epochs = range(1, len(loss)+1)\n",
        "plt.plot(epochs, loss,'bo',label='Training loss')\n",
        "plt.plot(epochs, val_loss,'b-',label='Validation loss')\n",
        "plt.title('Training vs validation loss')\n",
        "plt.xlabel('Epochs')\n",
        "plt.ylabel('Loss')\n",
        "plt.legend()\n",
        "plt.show()"
      ],
      "execution_count": 36,
      "outputs": [
        {
          "output_type": "display_data",
          "data": {
            "image/png": "[encoded data removed]",
            "text/plain": [
              "<Figure size 432x288 with 1 Axes>"
            ]
          },
          "metadata": {
            "tags": []
          }
        }
      ]
    },
    {
      "cell_type": "code",
      "metadata": {
        "id": "cddrpVBS9uFb",
        "colab_type": "code",
        "colab": {
          "base_uri": "https://localhost:8080/",
          "height": 295
        },
        "outputId": "b05ecc03-b3ba-4f80-af20-f588d4b2d695"
      },
      "source": [
        "plt.clf()\n",
        "acc = history.history['acc']\n",
        "val_acc = history.history['val_acc']\n",
        "epochs = range(1, len(acc)+1)\n",
        "plt.plot(epochs, acc, 'r*', label = 'Training accuracy')\n",
        "plt.plot(epochs, val_acc, 'r-', label = 'Validation accuracy')\n",
        "plt.title('Traning vs validation accuracy')\n",
        "plt.xlabel('Epochs')\n",
        "plt.ylabel('Accuracy')\n",
        "plt.legend()\n",
        "plt.show()"
      ],
      "execution_count": 37,
      "outputs": [
        {
          "output_type": "display_data",
          "data": {
            "image/png": "[encoded data removed]",
            "text/plain": [
              "<Figure size 432x288 with 1 Axes>"
            ]
          },
          "metadata": {
            "tags": []
          }
        }
      ]
    }
  ]
}