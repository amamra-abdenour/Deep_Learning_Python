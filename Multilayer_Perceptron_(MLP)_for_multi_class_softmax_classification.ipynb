{
  "nbformat": 4,
  "nbformat_minor": 0,
  "metadata": {
    "colab": {
      "name": "Multilayer Perceptron (MLP) for multi-class softmax classification.ipynb",
      "provenance": [],
      "include_colab_link": true
    },
    "kernelspec": {
      "name": "python3",
      "display_name": "Python 3"
    }
  },
  "cells": [
    {
      "cell_type": "markdown",
      "metadata": {
        "id": "view-in-github",
        "colab_type": "text"
      },
      "source": [
        "<a href=\"https://colab.research.google.com/github/amamra-abdenour/Deep_Learning_Python/blob/master/Multilayer_Perceptron_(MLP)_for_multi_class_softmax_classification.ipynb\" target=\"_parent\"><img src=\"https://colab.research.google.com/assets/colab-badge.svg\" alt=\"Open In Colab\"/></a>"
      ]
    },
    {
      "cell_type": "code",
      "metadata": {
        "id": "LUR7DN1tJ9dt",
        "colab_type": "code",
        "colab": {
          "base_uri": "https://localhost:8080/",
          "height": 936
        },
        "outputId": "fd8de7de-0336-4c2c-9c72-2f9cad2c8ca1"
      },
      "source": [
        "import keras\n",
        "from keras import Sequential\n",
        "from keras.layers import Dense, Dropout, Activation\n",
        "from keras.optimizers import SGD\n",
        "import numpy as np\n",
        "\n",
        "#step 0  data preparation\n",
        "x_train = np.random.rand(1000,20)\n",
        "y_train = np.random.randint(10, size=(1000,1))\n",
        "y_train = keras.utils.to_categorical(y_train,num_classes=10) \n",
        "\n",
        "x_test = np.random.rand(100,20)\n",
        "y_test = np.random.randint(10, size=(100,1))\n",
        "y_test = keras.utils.to_categorical(y_test,num_classes=10) \n",
        "\n",
        "for i in range(10):\n",
        "  print(y_test[i])\n",
        "#step 1 network architecture\n",
        "model = Sequential()\n",
        "model.add(Dense(64, activation='relu', input_dim=20))\n",
        "model.add(Dropout(0.5))\n",
        "model.add(Dense(64, activation='relu'))\n",
        "model.add(Dropout(0.5))\n",
        "model.add(Dense(10,activation='softmax'))\n",
        "#step 2 optimizer setting\n",
        "sgd= SGD(lr=0.01,decay=1e-6, momentum=0.9, nesterov=True)\n",
        "model.compile(optimizer=sgd,\n",
        "              loss='categorical_crossentropy',\n",
        "              metrics=['accuracy'])\n",
        "#setp 3 train\n",
        "model.fit(x_train,y_train,epochs=20,batch_size=128)\n",
        "#step 4 test\n",
        "print(model.metrics_names)\n",
        "model.evaluate(x_test,y_test,batch_size=128)"
      ],
      "execution_count": 20,
      "outputs": [
        {
          "output_type": "stream",
          "text": [
            "[0. 0. 0. 1. 0. 0. 0. 0. 0. 0.]\n",
            "[0. 1. 0. 0. 0. 0. 0. 0. 0. 0.]\n",
            "[1. 0. 0. 0. 0. 0. 0. 0. 0. 0.]\n",
            "[0. 0. 0. 0. 0. 1. 0. 0. 0. 0.]\n",
            "[0. 0. 0. 1. 0. 0. 0. 0. 0. 0.]\n",
            "[0. 0. 0. 0. 0. 0. 0. 0. 1. 0.]\n",
            "[0. 1. 0. 0. 0. 0. 0. 0. 0. 0.]\n",
            "[0. 0. 0. 0. 0. 1. 0. 0. 0. 0.]\n",
            "[0. 0. 0. 1. 0. 0. 0. 0. 0. 0.]\n",
            "[0. 0. 0. 0. 1. 0. 0. 0. 0. 0.]\n",
            "Epoch 1/20\n",
            "1000/1000 [==============================] - 0s 416us/step - loss: 2.4090 - acc: 0.1060\n",
            "Epoch 2/20\n",
            "1000/1000 [==============================] - 0s 21us/step - loss: 2.3607 - acc: 0.1040\n",
            "Epoch 3/20\n",
            "1000/1000 [==============================] - 0s 24us/step - loss: 2.3371 - acc: 0.1250\n",
            "Epoch 4/20\n",
            "1000/1000 [==============================] - 0s 26us/step - loss: 2.3261 - acc: 0.0940\n",
            "Epoch 5/20\n",
            "1000/1000 [==============================] - 0s 23us/step - loss: 2.3189 - acc: 0.1140\n",
            "Epoch 6/20\n",
            "1000/1000 [==============================] - 0s 23us/step - loss: 2.3124 - acc: 0.1030\n",
            "Epoch 7/20\n",
            "1000/1000 [==============================] - 0s 22us/step - loss: 2.3124 - acc: 0.1140\n",
            "Epoch 8/20\n",
            "1000/1000 [==============================] - 0s 22us/step - loss: 2.3074 - acc: 0.1040\n",
            "Epoch 9/20\n",
            "1000/1000 [==============================] - 0s 24us/step - loss: 2.3104 - acc: 0.1070\n",
            "Epoch 10/20\n",
            "1000/1000 [==============================] - 0s 26us/step - loss: 2.3075 - acc: 0.1190\n",
            "Epoch 11/20\n",
            "1000/1000 [==============================] - 0s 27us/step - loss: 2.3018 - acc: 0.1210\n",
            "Epoch 12/20\n",
            "1000/1000 [==============================] - 0s 23us/step - loss: 2.3010 - acc: 0.1160\n",
            "Epoch 13/20\n",
            "1000/1000 [==============================] - 0s 25us/step - loss: 2.3050 - acc: 0.1310\n",
            "Epoch 14/20\n",
            "1000/1000 [==============================] - 0s 26us/step - loss: 2.3099 - acc: 0.1040\n",
            "Epoch 15/20\n",
            "1000/1000 [==============================] - 0s 27us/step - loss: 2.3056 - acc: 0.1120\n",
            "Epoch 16/20\n",
            "1000/1000 [==============================] - 0s 27us/step - loss: 2.3031 - acc: 0.1130\n",
            "Epoch 17/20\n",
            "1000/1000 [==============================] - 0s 22us/step - loss: 2.2998 - acc: 0.1100\n",
            "Epoch 18/20\n",
            "1000/1000 [==============================] - 0s 28us/step - loss: 2.3094 - acc: 0.0990\n",
            "Epoch 19/20\n",
            "1000/1000 [==============================] - 0s 23us/step - loss: 2.2934 - acc: 0.1260\n",
            "Epoch 20/20\n",
            "1000/1000 [==============================] - 0s 22us/step - loss: 2.3033 - acc: 0.1330\n",
            "['loss', 'acc']\n",
            "100/100 [==============================] - 0s 1ms/step\n"
          ],
          "name": "stdout"
        },
        {
          "output_type": "execute_result",
          "data": {
            "text/plain": [
              "[2.3018434047698975, 0.05999999865889549]"
            ]
          },
          "metadata": {
            "tags": []
          },
          "execution_count": 20
        }
      ]
    }
  ]
}