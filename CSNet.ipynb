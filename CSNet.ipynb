{
  "nbformat": 4,
  "nbformat_minor": 0,
  "metadata": {
    "colab": {
      "name": "CSNet.ipynb",
      "provenance": [],
      "collapsed_sections": [],
      "include_colab_link": true
    },
    "kernelspec": {
      "name": "python3",
      "display_name": "Python 3"
    },
    "accelerator": "GPU"
  },
  "cells": [
    {
      "cell_type": "markdown",
      "metadata": {
        "id": "view-in-github",
        "colab_type": "text"
      },
      "source": [
        "<a href=\"https://colab.research.google.com/github/amamra-abdenour/Deep_Learning_Python/blob/master/CSNet.ipynb\" target=\"_parent\"><img src=\"https://colab.research.google.com/assets/colab-badge.svg\" alt=\"Open In Colab\"/></a>"
      ]
    },
    {
      "cell_type": "code",
      "metadata": {
        "id": "ntef6c0IIMSf",
        "colab_type": "code",
        "colab": {
          "base_uri": "https://localhost:8080/",
          "height": 34
        },
        "outputId": "b44658b4-1631-4081-f7b6-3f7f8d714002"
      },
      "source": [
        "import tensorflow as tf\n",
        "from tensorflow.keras.datasets import mnist\n",
        "from tensorflow.keras.layers  import Conv2D\n",
        "from tensorflow.keras.models import Sequential\n",
        "import math\n",
        "import numpy as np\n",
        "from keras import backend as K\n",
        "\n"
      ],
      "execution_count": 82,
      "outputs": [
        {
          "output_type": "stream",
          "text": [
            "5\n"
          ],
          "name": "stdout"
        }
      ]
    },
    {
      "cell_type": "code",
      "metadata": {
        "id": "FwnNg25-LelK",
        "colab_type": "code",
        "colab": {
          "base_uri": "https://localhost:8080/",
          "height": 67
        },
        "outputId": "ddbac256-d249-419e-d264-ce5f589b05d7"
      },
      "source": [
        "(x_train, y_train), (x_test, y_test) = mnist.load_data()\n",
        "\n",
        "if K.image_data_format() == 'channels_first':\n",
        "    x_train = x_train.reshape(x_train.shape[0], 1, h, w)\n",
        "    x_test = x_test.reshape(x_test.shape[0], 1, h, w)\n",
        "    input_shape = (1, img_rows, img_cols)\n",
        "else:\n",
        "    x_train = x_train.reshape(x_train.shape[0], h, w, 1)\n",
        "    x_test = x_test.reshape(x_test.shape[0], h, w, 1)\n",
        "\n",
        "input_shape = (h, w, 1)\n",
        "x_train = x_train.astype('float32')\n",
        "x_train /= 255\n",
        "\n",
        "x_test = x_test.astype('float32')\n",
        "x_test /= 255\n",
        "print('x_train shape:', x_train.shape)\n",
        "print(x_train.shape[0], 'train samples')\n",
        "print(x_test.shape[0], 'test samples')\n"
      ],
      "execution_count": 194,
      "outputs": [
        {
          "output_type": "stream",
          "text": [
            "x_train shape: (60000, 28, 28, 1)\n",
            "60000 train samples\n",
            "10000 test samples\n"
          ],
          "name": "stdout"
        }
      ]
    },
    {
      "cell_type": "code",
      "metadata": {
        "id": "XmYD2gODKoM8",
        "colab_type": "code",
        "colab": {}
      },
      "source": [
        "M_over_N = 0.1\n",
        "w = 28\n",
        "h = 28\n",
        "B = 7\n",
        "l = 1\n",
        "n_B = M_over_N * l * B**2 #5\n",
        "n_B = math.ceil(n_B)\n",
        "print (n_B)\n",
        "\n",
        "model = Sequential()\n",
        "model.add(Conv2D(n_B, kernel_size = (B,B), strides=(B,B), activation=None, use_bias=False, input_shape=(28,28,1)))\n",
        "model.add(Conv2D(l*B**2, kernel_size = (1,1), strides=1, activation=None, use_bias=False))\n",
        "model.add(tf.compat.v2.keras.layers.Reshape((4,4,7,7,1), input_shape=(int(w/B),int(w/B),l*B**2)))\n",
        "\n",
        "#model.add(tf.compat.v2.keras.layers.Reshape((h,w,1), input_shape=(int(w/B),int(w/B),l*B**2)))"
      ],
      "execution_count": 0,
      "outputs": []
    },
    {
      "cell_type": "code",
      "metadata": {
        "id": "A5mIv9NRCrp8",
        "colab_type": "code",
        "colab": {
          "base_uri": "https://localhost:8080/",
          "height": 34
        },
        "outputId": "3b9874d4-b451-485f-d47a-68fd03a2b98f"
      },
      "source": [
        "M_over_N = 0.9\n",
        "w = 28\n",
        "h = 28\n",
        "B = 14\n",
        "l = 1\n",
        "n_B = M_over_N * l * B**2 #5\n",
        "n_B = math.ceil(n_B)\n",
        "print (n_B)\n",
        "\n",
        "model = Sequential()\n",
        "model.add(Conv2D(n_B, kernel_size = (B,B), strides=(B,B), activation=None, use_bias=False, input_shape=(28,28,1)))\n",
        "model.add(Conv2D(l*B**2, kernel_size = (1,1), strides=1, activation=None, use_bias=False))\n",
        "model.add(tf.compat.v2.keras.layers.Reshape((2,2,14,14,1), input_shape=(int(w/B),int(w/B),l*B**2)))"
      ],
      "execution_count": 184,
      "outputs": [
        {
          "output_type": "stream",
          "text": [
            "177\n"
          ],
          "name": "stdout"
        }
      ]
    },
    {
      "cell_type": "code",
      "metadata": {
        "id": "RYT3P7HILSpN",
        "colab_type": "code",
        "colab": {}
      },
      "source": [
        "model.compile(optimizer='rmsprop',\n",
        "              loss='mse',\n",
        "              metrics=['accuracy'])"
      ],
      "execution_count": 0,
      "outputs": []
    },
    {
      "cell_type": "code",
      "metadata": {
        "id": "G4movZYj5g3F",
        "colab_type": "code",
        "colab": {
          "base_uri": "https://localhost:8080/",
          "height": 50
        },
        "outputId": "cddcc497-b2fe-4036-cb00-446e8ee774e0"
      },
      "source": [
        "def tile_images_7(images):\n",
        "  #print(images.shape)\n",
        "  N = images.shape[0]\n",
        "  tiled = np.zeros((N,4,4,7,7,1))\n",
        "  for k, img in enumerate(images):\n",
        "    for i in range (4):\n",
        "      for j in range (4):\n",
        "        tiled[k,i,j,:,:] = img[i*7:(i+1)*7, j*7:(j+1)*7,:]\n",
        "  return tiled\n",
        "\n",
        "tiled_x_train = tile_images(x_train[0:2,:,:])\n",
        "print(tiled_x_train.shape)"
      ],
      "execution_count": 99,
      "outputs": [
        {
          "output_type": "stream",
          "text": [
            "(2, 28, 28, 1)\n",
            "(2, 4, 4, 7, 7, 1)\n"
          ],
          "name": "stdout"
        }
      ]
    },
    {
      "cell_type": "code",
      "metadata": {
        "id": "AUTN7w4MC9A4",
        "colab_type": "code",
        "colab": {
          "base_uri": "https://localhost:8080/",
          "height": 34
        },
        "outputId": "471e0cd1-3f88-42c7-c219-721247ea756e"
      },
      "source": [
        "def tile_images_14(images):\n",
        "  #print(images.shape)\n",
        "  N = images.shape[0]\n",
        "  tiled = np.zeros((N,2,2,14,14,1))\n",
        "  for k, img in enumerate(images):\n",
        "    for i in range (2):\n",
        "      for j in range (2):\n",
        "        tiled[k,i,j,:,:] = img[i*14:(i+1)*14, j*14:(j+1)*14,:]\n",
        "  return tiled\n",
        "\n",
        "tiled_x_train = tile_images_14(x_train[0:2,:,:])\n",
        "print(tiled_x_train.shape)"
      ],
      "execution_count": 151,
      "outputs": [
        {
          "output_type": "stream",
          "text": [
            "(2, 2, 2, 14, 14, 1)\n"
          ],
          "name": "stdout"
        }
      ]
    },
    {
      "cell_type": "code",
      "metadata": {
        "id": "TxYQfjG17dKF",
        "colab_type": "code",
        "colab": {}
      },
      "source": [
        "def plot_tiled_7(tiled_x_train):\n",
        "  plt.figure(figsize=(4,4))\n",
        "  for i in range(4):\n",
        "    for j in range(4):\n",
        "      plt.subplot(4,4,i*4+j+1)\n",
        "      plt.subplots_adjust( wspace=0, hspace=0)\n",
        "      plt.imshow(tiled_x_train[i,j,:,:,0])\n",
        "  plt.show()"
      ],
      "execution_count": 0,
      "outputs": []
    },
    {
      "cell_type": "code",
      "metadata": {
        "id": "5Lu0iiJTDlZw",
        "colab_type": "code",
        "colab": {}
      },
      "source": [
        "def plot_tiled_14(tiled_x_train):\n",
        "  plt.figure(figsize=(2,2))\n",
        "  for i in range(2):\n",
        "    for j in range(2):\n",
        "      plt.subplot(2,2,i*2+j+1)\n",
        "      plt.subplots_adjust( wspace=0, hspace=0)\n",
        "      plt.imshow(tiled_x_train[i,j,:,:,0])\n",
        "  plt.show()"
      ],
      "execution_count": 0,
      "outputs": []
    },
    {
      "cell_type": "code",
      "metadata": {
        "id": "GpJGbhHh9xTn",
        "colab_type": "code",
        "colab": {
          "base_uri": "https://localhost:8080/",
          "height": 34
        },
        "outputId": "b3c01ab1-c212-43eb-b719-e4f6adaa1aa4"
      },
      "source": [
        "tiled_x_train = tile_images_14(x_train[:,:,:])\n",
        "print(tiled_x_train.shape)"
      ],
      "execution_count": 152,
      "outputs": [
        {
          "output_type": "stream",
          "text": [
            "(60000, 2, 2, 14, 14, 1)\n"
          ],
          "name": "stdout"
        }
      ]
    },
    {
      "cell_type": "code",
      "metadata": {
        "id": "goGWUVJ1MS4X",
        "colab_type": "code",
        "colab": {
          "base_uri": "https://localhost:8080/",
          "height": 252
        },
        "outputId": "8ea3134a-8e92-469e-9638-8ab7bfa4997a"
      },
      "source": [
        "model.fit(x_train[:,:,:,:], tiled_x_train[:,:,:,:], epochs=6, batch_size = 128,  verbose=1)"
      ],
      "execution_count": 186,
      "outputs": [
        {
          "output_type": "stream",
          "text": [
            "Train on 60000 samples\n",
            "Epoch 1/6\n",
            "60000/60000 [==============================] - 2s 41us/sample - loss: 0.0076 - acc: 0.8151\n",
            "Epoch 2/6\n",
            "60000/60000 [==============================] - 2s 40us/sample - loss: 0.0020 - acc: 0.8155\n",
            "Epoch 3/6\n",
            "60000/60000 [==============================] - 2s 40us/sample - loss: 0.0013 - acc: 0.8155\n",
            "Epoch 4/6\n",
            "60000/60000 [==============================] - 2s 41us/sample - loss: 0.0010 - acc: 0.8155\n",
            "Epoch 5/6\n",
            "60000/60000 [==============================] - 2s 39us/sample - loss: 8.3612e-04 - acc: 0.8155\n",
            "Epoch 6/6\n",
            "60000/60000 [==============================] - 2s 40us/sample - loss: 7.3721e-04 - acc: 0.8155\n"
          ],
          "name": "stdout"
        },
        {
          "output_type": "execute_result",
          "data": {
            "text/plain": [
              "<tensorflow.python.keras.callbacks.History at 0x7f792afbbc50>"
            ]
          },
          "metadata": {
            "tags": []
          },
          "execution_count": 186
        }
      ]
    },
    {
      "cell_type": "code",
      "metadata": {
        "id": "L7arQXpNOyBv",
        "colab_type": "code",
        "colab": {
          "base_uri": "https://localhost:8080/",
          "height": 67
        },
        "outputId": "2f8e3353-bb4f-4d13-91ff-b32c008c6d4e"
      },
      "source": [
        "for layer in model.layers:\n",
        "    print(layer.output_shape)"
      ],
      "execution_count": 77,
      "outputs": [
        {
          "output_type": "stream",
          "text": [
            "(None, 4, 4, 5)\n",
            "(None, 4, 4, 49)\n",
            "(None, 4, 4, 7, 7)\n"
          ],
          "name": "stdout"
        }
      ]
    },
    {
      "cell_type": "code",
      "metadata": {
        "id": "m0Cnl6riO8EB",
        "colab_type": "code",
        "colab": {}
      },
      "source": [
        "import matplotlib.pyplot as plt\n",
        "\n",
        "r = model.predict(x_test[0:10])"
      ],
      "execution_count": 0,
      "outputs": []
    },
    {
      "cell_type": "code",
      "metadata": {
        "id": "KqDBBln8GO8i",
        "colab_type": "code",
        "colab": {
          "base_uri": "https://localhost:8080/",
          "height": 429
        },
        "outputId": "f68abfe5-34c7-4642-e21a-fef01eb25cfc"
      },
      "source": [
        "# M/N = 0.05\n",
        "img_idx = 7\n",
        "plot_tiled_14(r[img_idx])\n",
        "fig = plt.figure()\n",
        "plt.imshow(x_test[img_idx,:,:,0])\n"
      ],
      "execution_count": 173,
      "outputs": [
        {
          "output_type": "display_data",
          "data": {
            "image/png": "[encoded data removed]",
            "text/plain": [
              "<Figure size 144x144 with 4 Axes>"
            ]
          },
          "metadata": {
            "tags": []
          }
        },
        {
          "output_type": "execute_result",
          "data": {
            "text/plain": [
              "<matplotlib.image.AxesImage at 0x7f792a10d048>"
            ]
          },
          "metadata": {
            "tags": []
          },
          "execution_count": 173
        },
        {
          "output_type": "display_data",
          "data": {
            "image/png": "[encoded data removed]",
            "text/plain": [
              "<Figure size 432x288 with 1 Axes>"
            ]
          },
          "metadata": {
            "tags": []
          }
        }
      ]
    },
    {
      "cell_type": "code",
      "metadata": {
        "id": "VpDb0JTiBYfS",
        "colab_type": "code",
        "colab": {
          "base_uri": "https://localhost:8080/",
          "height": 429
        },
        "outputId": "c83d385c-9b0e-497c-ad30-c513a5372ae2"
      },
      "source": [
        "# M/N = 0.1\n",
        "img_idx = 7\n",
        "plot_tiled_14(r[img_idx])\n",
        "fig = plt.figure()\n",
        "plt.imshow(x_test[img_idx,:,:,0])"
      ],
      "execution_count": 163,
      "outputs": [
        {
          "output_type": "display_data",
          "data": {
            "image/png": "[encoded data removed]",
            "text/plain": [
              "<Figure size 144x144 with 4 Axes>"
            ]
          },
          "metadata": {
            "tags": []
          }
        },
        {
          "output_type": "execute_result",
          "data": {
            "text/plain": [
              "<matplotlib.image.AxesImage at 0x7f792b1943c8>"
            ]
          },
          "metadata": {
            "tags": []
          },
          "execution_count": 163
        },
        {
          "output_type": "display_data",
          "data": {
            "image/png": "[encoded data removed]",
            "text/plain": [
              "<Figure size 432x288 with 1 Axes>"
            ]
          },
          "metadata": {
            "tags": []
          }
        }
      ]
    },
    {
      "cell_type": "code",
      "metadata": {
        "id": "BDYAF02dbcgW",
        "colab_type": "code",
        "colab": {
          "base_uri": "https://localhost:8080/",
          "height": 429
        },
        "outputId": "c69cfeb0-82ec-4f38-bea3-014dcce191b3"
      },
      "source": [
        "# M/N = 0.9\n",
        "img_idx = 7\n",
        "plot_tiled_14(r[img_idx])\n",
        "fig = plt.figure()\n",
        "plt.imshow(x_test[img_idx,:,:,0])"
      ],
      "execution_count": 196,
      "outputs": [
        {
          "output_type": "display_data",
          "data": {
            "image/png": "[encoded data removed]",
            "text/plain": [
              "<Figure size 144x144 with 4 Axes>"
            ]
          },
          "metadata": {
            "tags": []
          }
        },
        {
          "output_type": "execute_result",
          "data": {
            "text/plain": [
              "<matplotlib.image.AxesImage at 0x7f7929c626d8>"
            ]
          },
          "metadata": {
            "tags": []
          },
          "execution_count": 196
        },
        {
          "output_type": "display_data",
          "data": {
            "image/png": "[encoded data removed]",
            "text/plain": [
              "<Figure size 432x288 with 1 Axes>"
            ]
          },
          "metadata": {
            "tags": []
          }
        }
      ]
    }
  ]
}