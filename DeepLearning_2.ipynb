{
  "nbformat": 4,
  "nbformat_minor": 0,
  "metadata": {
    "colab": {
      "name": "DeepLearning_2.ipynb",
      "provenance": [],
      "include_colab_link": true
    },
    "kernelspec": {
      "name": "python3",
      "display_name": "Python 3"
    }
  },
  "cells": [
    {
      "cell_type": "markdown",
      "metadata": {
        "id": "view-in-github",
        "colab_type": "text"
      },
      "source": [
        "<a href=\"https://colab.research.google.com/github/amamra-abdenour/Deep_Learning_Python/blob/master/DeepLearning_2.ipynb\" target=\"_parent\"><img src=\"https://colab.research.google.com/assets/colab-badge.svg\" alt=\"Open In Colab\"/></a>"
      ]
    },
    {
      "cell_type": "code",
      "metadata": {
        "id": "4mzi8lQ9UHJE",
        "colab_type": "code",
        "outputId": "a396b9a6-c2f9-4022-ee55-c30582c2a83f",
        "colab": {
          "base_uri": "https://localhost:8080/",
          "height": 287
        }
      },
      "source": [
        "import keras\n",
        "from keras.datasets import mnist\n",
        "import matplotlib.pyplot as plt\n",
        "\n",
        "(x_train, y_train), (x_test, y_test) = mnist.load_data()"
      ],
      "execution_count": 0,
      "outputs": [
        {
          "output_type": "execute_result",
          "data": {
            "text/plain": [
              "<matplotlib.image.AxesImage at 0x7f9fa38e0080>"
            ]
          },
          "metadata": {
            "tags": []
          },
          "execution_count": 6
        },
        {
          "output_type": "display_data",
          "data": {
            "image/png": "[encoded data removed]",
            "text/plain": [
              "<Figure size 432x288 with 1 Axes>"
            ]
          },
          "metadata": {
            "tags": []
          }
        }
      ]
    },
    {
      "cell_type": "code",
      "metadata": {
        "id": "dififFmhUlvn",
        "colab_type": "code",
        "outputId": "11ca27f0-b7cc-4a6d-cb60-e3e3b77a2ab0",
        "colab": {
          "base_uri": "https://localhost:8080/",
          "height": 287
        }
      },
      "source": [
        "print(x_train.ndim)\n",
        "plt.imshow(x_train[0], cmap = plt.cm.binary)\n",
        "plt.show()"
      ],
      "execution_count": 0,
      "outputs": [
        {
          "output_type": "stream",
          "text": [
            "3\n"
          ],
          "name": "stdout"
        },
        {
          "output_type": "display_data",
          "data": {
            "image/png": "[encoded data removed]",
            "text/plain": [
              "<Figure size 432x288 with 1 Axes>"
            ]
          },
          "metadata": {
            "tags": []
          }
        }
      ]
    },
    {
      "cell_type": "code",
      "metadata": {
        "id": "dbc-kY1-VjQI",
        "colab_type": "code",
        "outputId": "f92ee539-4770-4f9c-9678-11ca1c392efb",
        "colab": {
          "base_uri": "https://localhost:8080/",
          "height": 304
        }
      },
      "source": [
        "slice_10_100 = x_train[10:100]\n",
        "print(slice_10_100.shape)\n",
        "\n",
        "slice_10_100 = x_train[10:100, : , :]\n",
        "print(slice_10_100.shape)\n",
        "\n",
        "slice_10_100 = x_train[10:100, 14: , 14:]\n",
        "plt.imshow(slice_10_100[0], cmap = plt.cm.binary)\n",
        "plt.show()"
      ],
      "execution_count": 0,
      "outputs": [
        {
          "output_type": "stream",
          "text": [
            "(90, 28, 28)\n",
            "(90, 28, 28)\n"
          ],
          "name": "stdout"
        },
        {
          "output_type": "display_data",
          "data": {
            "image/png": "[encoded data removed]",
            "text/plain": [
              "<Figure size 432x288 with 1 Axes>"
            ]
          },
          "metadata": {
            "tags": []
          }
        }
      ]
    },
    {
      "cell_type": "code",
      "metadata": {
        "id": "6yJ5VWW4X_FA",
        "colab_type": "code",
        "outputId": "1f9cf42c-502f-4858-bf9e-d70dd954d96f",
        "colab": {
          "base_uri": "https://localhost:8080/",
          "height": 269
        }
      },
      "source": [
        "slice_10_100 = x_train[10:100, 7:-7 , 7:-7]\n",
        "plt.imshow(slice_10_100[0], cmap = plt.cm.binary)\n",
        "plt.show()"
      ],
      "execution_count": 0,
      "outputs": [
        {
          "output_type": "display_data",
          "data": {
            "image/png": "[encoded data removed]",
            "text/plain": [
              "<Figure size 432x288 with 1 Axes>"
            ]
          },
          "metadata": {
            "tags": []
          }
        }
      ]
    },
    {
      "cell_type": "code",
      "metadata": {
        "id": "LpJS5OL4YQNf",
        "colab_type": "code",
        "outputId": "d059820b-1550-40aa-bdf1-acb3df9d59ed",
        "colab": {
          "base_uri": "https://localhost:8080/",
          "height": 52
        }
      },
      "source": [
        "import math\n",
        "\n",
        "batch_size = 128\n",
        "n = math.floor(len(x_test) / 128)\n",
        "print(len(x_test), n, n*128, (n+1)*128)\n",
        "slice_128 = x_train[n*128:(n-1) * 128, : , :]\n",
        "print(slice_128.shape)"
      ],
      "execution_count": 0,
      "outputs": [
        {
          "output_type": "stream",
          "text": [
            "10000 78 9984 10112\n",
            "(0, 28, 28)\n"
          ],
          "name": "stdout"
        }
      ]
    },
    {
      "cell_type": "code",
      "metadata": {
        "id": "TRhdd1LTco1f",
        "colab_type": "code",
        "outputId": "f0e3e069-6d0e-4533-e2ab-ea3f152dc4a1",
        "colab": {
          "base_uri": "https://localhost:8080/",
          "height": 52
        }
      },
      "source": [
        "def naive_relu(x):\n",
        "  assert len(x.shape) == 2\n",
        "  x_relu = x.copy()\n",
        "  for i in range(x.shape[0]):\n",
        "    for j in range(x.shape[1]):\n",
        "      x_relu [i, j] = max(x [i, j],0 )\n",
        "  return x_relu\n",
        "import numpy as np\n",
        "#\n",
        "def naive_add(x, y):\n",
        "  assert len(x.shape) == 2\n",
        "  assert len(y.shape) == 2\n",
        "  assert (x.shape == y.shape)\n",
        "  r = np.ndarray(shape = (2,2),dtype = np.float32)\n",
        "  for i in range(x.shape[0]):\n",
        "    for j in range(x.shape[1]):\n",
        "      r [i, j] = x[i, j] + y[i, j]\n",
        "  return r\n",
        "\n",
        "import numpy as np\n",
        "#\n",
        "x = np.random.random((2,2))\n",
        "y = np.random.random((2,2))\n",
        "x_relu = naive_relu(x)\n",
        "r = naive_add(x,y)\n",
        "print('x = ',r)\n"
      ],
      "execution_count": 0,
      "outputs": [
        {
          "output_type": "stream",
          "text": [
            "x =  [[1.5505027 1.2934415]\n",
            " [0.7733166 1.012955 ]]\n"
          ],
          "name": "stdout"
        }
      ]
    },
    {
      "cell_type": "code",
      "metadata": {
        "id": "RWh7nUpOd2hC",
        "colab_type": "code",
        "outputId": "95071ec1-fe2d-4a36-f9b5-4fee1d9de156",
        "colab": {
          "base_uri": "https://localhost:8080/",
          "height": 69
        }
      },
      "source": [
        "x = np.random.random((2, 2))\n",
        "z = np.maximum(x,0)\n",
        "print(z)\n",
        "a = np.random.random(1)\n",
        "print(a.shape)"
      ],
      "execution_count": 0,
      "outputs": [
        {
          "output_type": "stream",
          "text": [
            "[[0.48476268 0.60252998]\n",
            " [0.89820741 0.4082539 ]]\n",
            "(1,)\n"
          ],
          "name": "stdout"
        }
      ]
    },
    {
      "cell_type": "code",
      "metadata": {
        "id": "JkEPOt2tmQuz",
        "colab_type": "code",
        "outputId": "6b54f5b2-b958-4c00-e9bb-004ea31b7c3e",
        "colab": {
          "base_uri": "https://localhost:8080/",
          "height": 35
        }
      },
      "source": [
        "x = np.random.random((64, 3, 32, 1))\n",
        "y = np.random.random((32, 10))\n",
        "z = np.maximum(x, y)\n",
        "print(z.shape, z[0,0,0,0], z[0,0,0,1], z[0,0,0,9])"
      ],
      "execution_count": 0,
      "outputs": [
        {
          "output_type": "stream",
          "text": [
            "(64, 3, 32, 10) 0.7099470642549515 0.9293764263273964 0.7099470642549515\n"
          ],
          "name": "stdout"
        }
      ]
    },
    {
      "cell_type": "code",
      "metadata": {
        "id": "CYUMX_Xqvpde",
        "colab_type": "code",
        "colab": {
          "base_uri": "https://localhost:8080/",
          "height": 35
        },
        "outputId": "dec56ae6-b595-48d4-d332-6f9cfa24cee7"
      },
      "source": [
        "import numpy as np\n",
        "x = np.random.random(10)\n",
        "y = np.random.random(10)\n",
        "def naive_dot(x, y):\n",
        "  assert len(x.shape) == 1\n",
        "  assert len(y.shape) == 1\n",
        "  assert x.shape == y.shape\n",
        "  z = 0.0\n",
        "  for i in range(x.shape[0]):\n",
        "    z += x[i] * y[i]\n",
        "  return z\n",
        "\n",
        "z = np.dot(x,y)\n",
        "print(z, naive_dot(x,y))"
      ],
      "execution_count": 3,
      "outputs": [
        {
          "output_type": "stream",
          "text": [
            "2.0144531551358376 2.0144531551358376\n"
          ],
          "name": "stdout"
        }
      ]
    },
    {
      "cell_type": "code",
      "metadata": {
        "id": "DK_CP9U8xaXC",
        "colab_type": "code",
        "colab": {
          "base_uri": "https://localhost:8080/",
          "height": 52
        },
        "outputId": "85950000-65a8-4e0d-ae0a-d882c442aec2"
      },
      "source": [
        "def naive_matrix_vector_dot(x, y):\n",
        "  assert len(x.shape) == 2\n",
        "  assert len(y.shape) == 1\n",
        "  assert x.shape[1] == y.shape[0]\n",
        "  z = np.zeros(x.shape[0])\n",
        "  for i in range(x.shape[0]):\n",
        "    for j in range(x.shape[1]):\n",
        "      z[i] += x[i, j] * y[j]\n",
        "  return z\n",
        "\n",
        "x = np.random.random((3,10))\n",
        "y = np.random.random(10)\n",
        "z = np.dot(x,y)\n",
        "print(z)  \n",
        "print(naive_matrix_vector_dot(x,y))"
      ],
      "execution_count": 9,
      "outputs": [
        {
          "output_type": "stream",
          "text": [
            "[2.65890929 3.4968235  3.06095988]\n",
            "[2.65890929 3.4968235  3.06095988]\n"
          ],
          "name": "stdout"
        }
      ]
    },
    {
      "cell_type": "code",
      "metadata": {
        "id": "48GwqfNpyvtg",
        "colab_type": "code",
        "colab": {
          "base_uri": "https://localhost:8080/",
          "height": 52
        },
        "outputId": "8792f544-8e72-41e0-b5d6-06ec0b08a2fd"
      },
      "source": [
        "def naive_matrix_vector_dot(x, y):\n",
        "  assert len(x.shape) == 2\n",
        "  assert len(y.shape) == 1\n",
        "  assert x.shape[1] == y.shape[0]\n",
        "  z = np.zeros(x.shape[0])\n",
        "  for i in range(x.shape[0]):\n",
        "    z[i] = np.dot(x[i,:], y)\n",
        "  return z\n",
        "\n",
        "x = np.random.random((3,10))\n",
        "y = np.random.random(10)\n",
        "z = np.dot(x,y)\n",
        "print(z)  \n",
        "print(naive_matrix_vector_dot(x,y))"
      ],
      "execution_count": 10,
      "outputs": [
        {
          "output_type": "stream",
          "text": [
            "[2.49698093 2.14451281 3.3604646 ]\n",
            "[2.49698093 2.14451281 3.3604646 ]\n"
          ],
          "name": "stdout"
        }
      ]
    },
    {
      "cell_type": "code",
      "metadata": {
        "id": "xl2V28gFzb0_",
        "colab_type": "code",
        "colab": {
          "base_uri": "https://localhost:8080/",
          "height": 121
        },
        "outputId": "73936b8c-76bd-4ac3-ddf6-78b83ccc0915"
      },
      "source": [
        "def naive_matrix_dot(x, y):\n",
        "  assert len(x.shape) == 2\n",
        "  assert len(y.shape) == 2\n",
        "  assert x.shape[1] == y.shape[0]\n",
        "  z = np.zeros((x.shape[0], y.shape[1]))\n",
        "  for i in range(x.shape[0]):\n",
        "    for j in range(y.shape[1]):\n",
        "      z[i, j] = np.dot(x[i,:], y[:,j])\n",
        "  return z\n",
        "\n",
        "x = np.random.random((3, 10))\n",
        "y = np.random.random((10, 2))\n",
        "z = np.dot(x,y)\n",
        "print(z)  \n",
        "print(naive_matrix_dot(x,y))"
      ],
      "execution_count": 14,
      "outputs": [
        {
          "output_type": "stream",
          "text": [
            "[[4.12081142 3.0734637 ]\n",
            " [2.38967432 1.94471689]\n",
            " [2.2177791  1.72536555]]\n",
            "[[4.12081142 3.0734637 ]\n",
            " [2.38967432 1.94471689]\n",
            " [2.2177791  1.72536555]]\n"
          ],
          "name": "stdout"
        }
      ]
    }
  ]
}