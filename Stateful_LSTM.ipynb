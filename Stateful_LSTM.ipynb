{
  "nbformat": 4,
  "nbformat_minor": 0,
  "metadata": {
    "colab": {
      "name": "Stateful LSTM.ipynb",
      "provenance": [],
      "include_colab_link": true
    },
    "kernelspec": {
      "name": "python3",
      "display_name": "Python 3"
    },
    "accelerator": "GPU"
  },
  "cells": [
    {
      "cell_type": "markdown",
      "metadata": {
        "id": "view-in-github",
        "colab_type": "text"
      },
      "source": [
        "<a href=\"https://colab.research.google.com/github/amamra-abdenour/Deep_Learning_Python/blob/master/Stateful_LSTM.ipynb\" target=\"_parent\"><img src=\"https://colab.research.google.com/assets/colab-badge.svg\" alt=\"Open In Colab\"/></a>"
      ]
    },
    {
      "cell_type": "code",
      "metadata": {
        "id": "r7KEuBEoT1sj",
        "colab_type": "code",
        "colab": {
          "base_uri": "https://localhost:8080/",
          "height": 332
        },
        "outputId": "0810a69f-1be3-4273-ea35-8dc691f5904e"
      },
      "source": [
        "from keras.models import Sequential\n",
        "from keras.layers import Dense, Dropout\n",
        "from keras.layers import Embedding\n",
        "from keras.layers import LSTM\n",
        "import numpy as np\n",
        "\n",
        "data_dim = 16\n",
        "timesteps = 8\n",
        "num_classes = 10\n",
        "batch_size = 32\n",
        "\n",
        "x_train = np.random.random((batch_size * 10, timesteps, data_dim))\n",
        "y_train = np.random.random((batch_size * 10, num_classes))\n",
        "\n",
        "x_val = np.random.random((batch_size * 5, timesteps, data_dim))\n",
        "y_val = np.random.random((batch_size * 5, num_classes))\n",
        "\n",
        "model = Sequential()\n",
        "model.add(LSTM(32, return_sequences = True, stateful = True,\n",
        "               batch_input_shape = (batch_size, timesteps, data_dim)))\n",
        "model.add(LSTM(32, return_sequences = True, stateful = True,))\n",
        "model.add(LSTM(32, stateful = True,))\n",
        "model.add(Dense(num_classes, activation='softmax'))\n",
        "\n",
        "\n",
        "model.compile(loss='categorical_crossentropy',\n",
        "              optimizer='rmsprop',\n",
        "              metrics=['accuracy'])\n",
        "\n",
        "model.fit(x_train, y_train, batch_size=batch_size, epochs=5, validation_data=(x_val, y_val))"
      ],
      "execution_count": 3,
      "outputs": [
        {
          "output_type": "stream",
          "text": [
            "WARNING:tensorflow:From /usr/local/lib/python3.6/dist-packages/tensorflow/python/ops/math_grad.py:1250: add_dispatch_support.<locals>.wrapper (from tensorflow.python.ops.array_ops) is deprecated and will be removed in a future version.\n",
            "Instructions for updating:\n",
            "Use tf.where in 2.0, which has the same broadcast rule as np.where\n",
            "WARNING:tensorflow:From /usr/local/lib/python3.6/dist-packages/keras/backend/tensorflow_backend.py:1033: The name tf.assign_add is deprecated. Please use tf.compat.v1.assign_add instead.\n",
            "\n",
            "Train on 320 samples, validate on 160 samples\n",
            "Epoch 1/5\n",
            "320/320 [==============================] - 6s 19ms/step - loss: 11.6088 - acc: 0.1125 - val_loss: 11.4721 - val_acc: 0.0813\n",
            "Epoch 2/5\n",
            "320/320 [==============================] - 1s 2ms/step - loss: 11.6068 - acc: 0.1000 - val_loss: 11.4606 - val_acc: 0.0813\n",
            "Epoch 3/5\n",
            "320/320 [==============================] - 1s 2ms/step - loss: 11.6052 - acc: 0.1062 - val_loss: 11.4592 - val_acc: 0.1437\n",
            "Epoch 4/5\n",
            "320/320 [==============================] - 1s 2ms/step - loss: 11.6035 - acc: 0.1062 - val_loss: 11.4615 - val_acc: 0.1625\n",
            "Epoch 5/5\n",
            "320/320 [==============================] - 1s 2ms/step - loss: 11.6032 - acc: 0.0906 - val_loss: 11.4606 - val_acc: 0.1500\n"
          ],
          "name": "stdout"
        },
        {
          "output_type": "execute_result",
          "data": {
            "text/plain": [
              "<keras.callbacks.History at 0x7f272c996278>"
            ]
          },
          "metadata": {
            "tags": []
          },
          "execution_count": 3
        }
      ]
    }
  ]
}