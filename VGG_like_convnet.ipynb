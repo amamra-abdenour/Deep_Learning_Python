{
  "nbformat": 4,
  "nbformat_minor": 0,
  "metadata": {
    "colab": {
      "name": "VGG-like convnet.ipynb",
      "provenance": [],
      "include_colab_link": true
    },
    "kernelspec": {
      "name": "python3",
      "display_name": "Python 3"
    },
    "accelerator": "GPU"
  },
  "cells": [
    {
      "cell_type": "markdown",
      "metadata": {
        "id": "view-in-github",
        "colab_type": "text"
      },
      "source": [
        "<a href=\"https://colab.research.google.com/github/amamra-abdenour/Deep_Learning_Python/blob/master/VGG_like_convnet.ipynb\" target=\"_parent\"><img src=\"https://colab.research.google.com/assets/colab-badge.svg\" alt=\"Open In Colab\"/></a>"
      ]
    },
    {
      "cell_type": "code",
      "metadata": {
        "id": "SGtfdzVIeCGM",
        "colab_type": "code",
        "colab": {
          "base_uri": "https://localhost:8080/",
          "height": 1000
        },
        "outputId": "c3bd5b94-e495-4a31-ff60-15f91739a6d8"
      },
      "source": [
        "import keras\n",
        "from keras.models import Sequential\n",
        "from keras.layers import Dense, Conv2D, Dropout, MaxPooling2D, Flatten\n",
        "from keras.optimizers import SGD\n",
        "import numpy as np\n",
        "\n",
        "# Step 1 data preparation\n",
        "x_train = np.random.rand(1000,100,100,3)\n",
        "y_train = np.random.randint(10, size=(1000,1))\n",
        "y_train = keras.utils.to_categorical(y_train, num_classes=10)\n",
        "print(x_train.shape,y_train.shape)\n",
        "x_test = np.random.rand(100,100,100,3)\n",
        "y_test = np.random.randint(10, size=(100,1))\n",
        "y_test = keras.utils.to_categorical(y_test, num_classes=10)\n",
        "print(x_test.shape,y_test.shape)\n",
        "# Step 2 architecture\n",
        "model = Sequential()\n",
        "\n",
        "model.add(Conv2D(32, (3,3), activation='relu', input_shape=(100,100,3)))\n",
        "model.add(Conv2D(32, (3,3), activation='relu'))\n",
        "model.add(MaxPooling2D(pool_size=(2,2)))\n",
        "model.add(Dropout(0.25))\n",
        "\n",
        "model.add(Conv2D(64, (3,3), activation='relu'))\n",
        "model.add(Conv2D(64, (3,3), activation='relu'))\n",
        "model.add(MaxPooling2D(pool_size=(2,2)))\n",
        "model.add(Dropout(0.25))\n",
        "\n",
        "model.add(Flatten())\n",
        "model.add(Dense(256,activation='relu'))\n",
        "model.add(Dropout(0.5))\n",
        "model.add(Dense(10,activation='softmax'))\n",
        "\n",
        "# Optimizer\n",
        "sgd = SGD(lr=0.01, decay=1e-5, momentum=0.9, nesterov=True)\n",
        "model.compile(optimizer=sgd,\n",
        "              loss = 'categorical_crossentropy',\n",
        "              metrics=['accuracy']    \n",
        ")\n",
        "\n",
        "# Training\n",
        "model.fit(x_train, y_train, epochs=20, batch_size= 64)\n",
        "\n",
        "# Evaluation\n",
        "model.evaluate(x_test, y_test, batch_size=64)"
      ],
      "execution_count": 1,
      "outputs": [
        {
          "output_type": "stream",
          "text": [
            "Using TensorFlow backend.\n"
          ],
          "name": "stderr"
        },
        {
          "output_type": "stream",
          "text": [
            "(1000, 100, 100, 3) (1000, 10)\n",
            "(100, 100, 100, 3) (100, 10)\n",
            "WARNING:tensorflow:From /usr/local/lib/python3.6/dist-packages/keras/backend/tensorflow_backend.py:66: The name tf.get_default_graph is deprecated. Please use tf.compat.v1.get_default_graph instead.\n",
            "\n",
            "WARNING:tensorflow:From /usr/local/lib/python3.6/dist-packages/keras/backend/tensorflow_backend.py:541: The name tf.placeholder is deprecated. Please use tf.compat.v1.placeholder instead.\n",
            "\n",
            "WARNING:tensorflow:From /usr/local/lib/python3.6/dist-packages/keras/backend/tensorflow_backend.py:4432: The name tf.random_uniform is deprecated. Please use tf.random.uniform instead.\n",
            "\n",
            "WARNING:tensorflow:From /usr/local/lib/python3.6/dist-packages/keras/backend/tensorflow_backend.py:4267: The name tf.nn.max_pool is deprecated. Please use tf.nn.max_pool2d instead.\n",
            "\n",
            "WARNING:tensorflow:From /usr/local/lib/python3.6/dist-packages/keras/backend/tensorflow_backend.py:148: The name tf.placeholder_with_default is deprecated. Please use tf.compat.v1.placeholder_with_default instead.\n",
            "\n",
            "WARNING:tensorflow:From /usr/local/lib/python3.6/dist-packages/keras/backend/tensorflow_backend.py:3733: calling dropout (from tensorflow.python.ops.nn_ops) with keep_prob is deprecated and will be removed in a future version.\n",
            "Instructions for updating:\n",
            "Please use `rate` instead of `keep_prob`. Rate should be set to `rate = 1 - keep_prob`.\n",
            "WARNING:tensorflow:From /usr/local/lib/python3.6/dist-packages/keras/optimizers.py:793: The name tf.train.Optimizer is deprecated. Please use tf.compat.v1.train.Optimizer instead.\n",
            "\n",
            "WARNING:tensorflow:From /usr/local/lib/python3.6/dist-packages/keras/backend/tensorflow_backend.py:3576: The name tf.log is deprecated. Please use tf.math.log instead.\n",
            "\n",
            "WARNING:tensorflow:From /usr/local/lib/python3.6/dist-packages/tensorflow/python/ops/math_grad.py:1250: add_dispatch_support.<locals>.wrapper (from tensorflow.python.ops.array_ops) is deprecated and will be removed in a future version.\n",
            "Instructions for updating:\n",
            "Use tf.where in 2.0, which has the same broadcast rule as np.where\n",
            "Epoch 1/20\n",
            "1000/1000 [==============================] - 10s 10ms/step - loss: 2.3156 - acc: 0.1230\n",
            "Epoch 2/20\n",
            "1000/1000 [==============================] - 1s 755us/step - loss: 2.3022 - acc: 0.1040\n",
            "Epoch 3/20\n",
            "1000/1000 [==============================] - 1s 751us/step - loss: 2.3006 - acc: 0.1090\n",
            "Epoch 4/20\n",
            "1000/1000 [==============================] - 1s 747us/step - loss: 2.3002 - acc: 0.1220\n",
            "Epoch 5/20\n",
            "1000/1000 [==============================] - 1s 754us/step - loss: 2.3000 - acc: 0.1200\n",
            "Epoch 6/20\n",
            "1000/1000 [==============================] - 1s 748us/step - loss: 2.2997 - acc: 0.1220\n",
            "Epoch 7/20\n",
            "1000/1000 [==============================] - 1s 757us/step - loss: 2.3009 - acc: 0.1230\n",
            "Epoch 8/20\n",
            "1000/1000 [==============================] - 1s 746us/step - loss: 2.2989 - acc: 0.1230\n",
            "Epoch 9/20\n",
            "1000/1000 [==============================] - 1s 756us/step - loss: 2.2987 - acc: 0.1230\n",
            "Epoch 10/20\n",
            "1000/1000 [==============================] - 1s 744us/step - loss: 2.2968 - acc: 0.1210\n",
            "Epoch 11/20\n",
            "1000/1000 [==============================] - 1s 754us/step - loss: 2.2992 - acc: 0.1200\n",
            "Epoch 12/20\n",
            "1000/1000 [==============================] - 1s 753us/step - loss: 2.2971 - acc: 0.1190\n",
            "Epoch 13/20\n",
            "1000/1000 [==============================] - 1s 751us/step - loss: 2.2996 - acc: 0.1210\n",
            "Epoch 14/20\n",
            "1000/1000 [==============================] - 1s 752us/step - loss: 2.2990 - acc: 0.1240\n",
            "Epoch 15/20\n",
            "1000/1000 [==============================] - 1s 747us/step - loss: 2.2976 - acc: 0.1220\n",
            "Epoch 16/20\n",
            "1000/1000 [==============================] - 1s 758us/step - loss: 2.2982 - acc: 0.1220\n",
            "Epoch 17/20\n",
            "1000/1000 [==============================] - 1s 762us/step - loss: 2.2998 - acc: 0.1220\n",
            "Epoch 18/20\n",
            "1000/1000 [==============================] - 1s 754us/step - loss: 2.2972 - acc: 0.1220\n",
            "Epoch 19/20\n",
            "1000/1000 [==============================] - 1s 756us/step - loss: 2.2964 - acc: 0.1220\n",
            "Epoch 20/20\n",
            "1000/1000 [==============================] - 1s 747us/step - loss: 2.2990 - acc: 0.1200\n",
            "100/100 [==============================] - 0s 2ms/step\n"
          ],
          "name": "stdout"
        },
        {
          "output_type": "execute_result",
          "data": {
            "text/plain": [
              "[2.3080580711364744, 0.0800000023841858]"
            ]
          },
          "metadata": {
            "tags": []
          },
          "execution_count": 1
        }
      ]
    }
  ]
}