{
  "nbformat": 4,
  "nbformat_minor": 0,
  "metadata": {
    "colab": {
      "name": "DeepLearning_9",
      "provenance": [],
      "collapsed_sections": [],
      "include_colab_link": true
    },
    "kernelspec": {
      "name": "python3",
      "display_name": "Python 3"
    }
  },
  "cells": [
    {
      "cell_type": "markdown",
      "metadata": {
        "id": "view-in-github",
        "colab_type": "text"
      },
      "source": [
        "<a href=\"https://colab.research.google.com/github/amamra-abdenour/Deep_Learning_Python/blob/master/DeepLearning_9.ipynb\" target=\"_parent\"><img src=\"https://colab.research.google.com/assets/colab-badge.svg\" alt=\"Open In Colab\"/></a>"
      ]
    },
    {
      "cell_type": "code",
      "metadata": {
        "id": "f_89cXghUF7R",
        "colab_type": "code",
        "colab": {
          "base_uri": "https://localhost:8080/",
          "height": 571
        },
        "outputId": "1802ddcb-e74e-4637-e677-3bca8325357e"
      },
      "source": [
        "import numpy as np\n",
        "\n",
        "samples = {'The cat ate my hat','The dog ate my homework'}\n",
        "token_index = {}\n",
        "print(type(token_index))\n",
        "for sample in samples:\n",
        "  for word in sample.split():\n",
        "    if word not in token_index:\n",
        "      token_index[word] = len(token_index) \n",
        "print(token_index)\n",
        "max_length = 10\n",
        "results = np.zeros(shape = (len(samples), max_length, max(token_index.values()) + 1))\n",
        "for i, sample in enumerate(samples):\n",
        "  for j, word in list(enumerate(sample.split()))[:max_length]:\n",
        "    print(list(enumerate(sample.split())))\n",
        "    index = token_index.get(word)\n",
        "    results[i, j, index] = 1.\n",
        "\n",
        "\n",
        "\n",
        "print(results)\n"
      ],
      "execution_count": 18,
      "outputs": [
        {
          "output_type": "stream",
          "text": [
            "<class 'dict'>\n",
            "{'The': 0, 'dog': 1, 'ate': 2, 'my': 3, 'homework': 4, 'cat': 5, 'hat': 6}\n",
            "[(0, 'The'), (1, 'dog'), (2, 'ate'), (3, 'my'), (4, 'homework')]\n",
            "[(0, 'The'), (1, 'dog'), (2, 'ate'), (3, 'my'), (4, 'homework')]\n",
            "[(0, 'The'), (1, 'dog'), (2, 'ate'), (3, 'my'), (4, 'homework')]\n",
            "[(0, 'The'), (1, 'dog'), (2, 'ate'), (3, 'my'), (4, 'homework')]\n",
            "[(0, 'The'), (1, 'dog'), (2, 'ate'), (3, 'my'), (4, 'homework')]\n",
            "[(0, 'The'), (1, 'cat'), (2, 'ate'), (3, 'my'), (4, 'hat')]\n",
            "[(0, 'The'), (1, 'cat'), (2, 'ate'), (3, 'my'), (4, 'hat')]\n",
            "[(0, 'The'), (1, 'cat'), (2, 'ate'), (3, 'my'), (4, 'hat')]\n",
            "[(0, 'The'), (1, 'cat'), (2, 'ate'), (3, 'my'), (4, 'hat')]\n",
            "[(0, 'The'), (1, 'cat'), (2, 'ate'), (3, 'my'), (4, 'hat')]\n",
            "[[[1. 0. 0. 0. 0. 0. 0.]\n",
            "  [0. 1. 0. 0. 0. 0. 0.]\n",
            "  [0. 0. 1. 0. 0. 0. 0.]\n",
            "  [0. 0. 0. 1. 0. 0. 0.]\n",
            "  [0. 0. 0. 0. 1. 0. 0.]\n",
            "  [0. 0. 0. 0. 0. 0. 0.]\n",
            "  [0. 0. 0. 0. 0. 0. 0.]\n",
            "  [0. 0. 0. 0. 0. 0. 0.]\n",
            "  [0. 0. 0. 0. 0. 0. 0.]\n",
            "  [0. 0. 0. 0. 0. 0. 0.]]\n",
            "\n",
            " [[1. 0. 0. 0. 0. 0. 0.]\n",
            "  [0. 0. 0. 0. 0. 1. 0.]\n",
            "  [0. 0. 1. 0. 0. 0. 0.]\n",
            "  [0. 0. 0. 1. 0. 0. 0.]\n",
            "  [0. 0. 0. 0. 0. 0. 1.]\n",
            "  [0. 0. 0. 0. 0. 0. 0.]\n",
            "  [0. 0. 0. 0. 0. 0. 0.]\n",
            "  [0. 0. 0. 0. 0. 0. 0.]\n",
            "  [0. 0. 0. 0. 0. 0. 0.]\n",
            "  [0. 0. 0. 0. 0. 0. 0.]]]\n"
          ],
          "name": "stdout"
        }
      ]
    },
    {
      "cell_type": "code",
      "metadata": {
        "id": "G527jIbJh30G",
        "colab_type": "code",
        "colab": {
          "base_uri": "https://localhost:8080/",
          "height": 202
        },
        "outputId": "02497a20-8ed5-4c3e-c34d-cb4757a7c38d"
      },
      "source": [
        "#dowload to colab\n",
        "#https://askubuntu.com/questions/207265/how-to-download-a-file-from-a-website-via-terminal\n",
        "!wget  -P /content/ 'http://yann.lecun.com/exdb/mnist/train-images-idx3-ubyte.gz'"
      ],
      "execution_count": 16,
      "outputs": [
        {
          "output_type": "stream",
          "text": [
            "--2019-10-07 14:05:49--  http://yann.lecun.com/exdb/mnist/train-images-idx3-ubyte.gz\n",
            "Resolving yann.lecun.com (yann.lecun.com)... 216.165.22.6\n",
            "Connecting to yann.lecun.com (yann.lecun.com)|216.165.22.6|:80... connected.\n",
            "HTTP request sent, awaiting response... 200 OK\n",
            "Length: 9912422 (9.5M) [application/x-gzip]\n",
            "Saving to: ‘/content/train-images-idx3-ubyte.gz’\n",
            "\n",
            "train-images-idx3-u 100%[===================>]   9.45M  11.0MB/s    in 0.9s    \n",
            "\n",
            "2019-10-07 14:05:50 (11.0 MB/s) - ‘/content/train-images-idx3-ubyte.gz’ saved [9912422/9912422]\n",
            "\n"
          ],
          "name": "stdout"
        }
      ]
    }
  ]
}