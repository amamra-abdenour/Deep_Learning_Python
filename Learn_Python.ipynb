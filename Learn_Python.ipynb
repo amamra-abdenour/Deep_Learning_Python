{
  "nbformat": 4,
  "nbformat_minor": 0,
  "metadata": {
    "colab": {
      "name": "Learn_Python.ipynb",
      "provenance": [],
      "collapsed_sections": [],
      "include_colab_link": true
    },
    "kernelspec": {
      "name": "python3",
      "display_name": "Python 3"
    },
    "accelerator": "GPU"
  },
  "cells": [
    {
      "cell_type": "markdown",
      "metadata": {
        "id": "view-in-github",
        "colab_type": "text"
      },
      "source": [
        "<a href=\"https://colab.research.google.com/github/amamra-abdenour/Deep_Learning_Python/blob/master/Learn_Python.ipynb\" target=\"_parent\"><img src=\"https://colab.research.google.com/assets/colab-badge.svg\" alt=\"Open In Colab\"/></a>"
      ]
    },
    {
      "cell_type": "code",
      "metadata": {
        "id": "4sH0upPlFFVh",
        "colab_type": "code",
        "colab": {}
      },
      "source": [
        "def fibonacci(a,b,n):\n",
        "\tprint (a)\n",
        "\treturn fibonacci(b,a+b,n) if b < n else print ('end')\n",
        "\n",
        "s = 'amamra abdenour'\n",
        "items = [1, 10, 7, 4, 5, 9]\n",
        "items[0:3] = ['A', 'B','C'] \n",
        "#print(items[-len(items)+2])\n",
        "\n",
        "a,b = 0,1\n",
        "#fibonacci(a,b,10)\n",
        "'''\n",
        "x= int (input(\"please enter an integer : \"))\n",
        "if x < 0 :\n",
        "\tx=0\n",
        "\tprint(\"negative changed to zero\")\n",
        "elif x == 0:\n",
        "\tprint(\"zero\")\n",
        "elif x == 1:\n",
        "\tprint(\"single\")\n",
        "else:\n",
        "\tprint(\"more\")\n",
        "words = ['kayfouh', 'lamine', 'nassim']\n",
        "h=0;\n",
        "for x in words[:]:\n",
        "\th = h + 1\n",
        "\tif (len(x) > 6 ):\n",
        "\t\twords.insert(len(words)+1,x)\n",
        "\n",
        "print(h,words)\n",
        "for x in range(10):\n",
        "\tprint(x)\n",
        "print(\"range(1,10)\")\n",
        "for x in range(1,10):\n",
        "\tprint(x)\n",
        "print(\"range(1,10,3)\")\n",
        "for x in range(1,10,3):\n",
        "\tprint(x)\n",
        "\n",
        "a = ['Mary', 'had', 'a', 'little', 'lamb']\n",
        "\n",
        "for i, x in enumerate(a):\n",
        "\tprint(i,x)\n",
        "knights = {'gallahad': 'the pure', 'robin': 'the brave'}\n",
        "for i,x in knights.items():\n",
        "\tprint('key : ',i,'value : ',x)\n",
        "\n",
        "questions = ['name', 'quest', 'favorite color']\n",
        "answers = ['lancelot', 'the holy grail', 'blue']\n",
        "for q,a in zip(questions,answers):\n",
        "\tprint('Question : ',q,'| Answer : ',a)\n",
        "\n",
        "for x in range(2,10):\n",
        "\tfor y in range(2,x):\n",
        "\t\tif (x%y == 0) :\n",
        "\t\t\tprint(x,' = ',y,' * ',x//y)\n",
        "\t\t\tbreak\n",
        "\telse:\n",
        "\t\tprint(x ,' is prime')\t\t\n",
        "\n",
        "for x in range(1,10):\n",
        "\tif x % 2 == 0:\n",
        "\t\tprint(x,'is even')\n",
        "\t\tcontinue\n",
        "\telse:\n",
        "\t\tprint(x, 'is odd number')\n",
        "\n",
        "def fib(n):\n",
        "\ta,b = 0,1 \n",
        "\tresult =[]\n",
        "\twhile a < n:\n",
        "\t\tresult = result + [a]\n",
        "\t\ta, b =  b, a+b\n",
        "\treturn result\n",
        "n = int (input(\"enter n:\"))\n",
        "print(fib(n))\n",
        "\n",
        "def ask_ok(prompt, retries=4, reminder='Please try again!'):\n",
        "\twhile True:\n",
        "\t\tok = input(prompt)\n",
        "\t\tif ok in ['y','yeah','ye','yes']:\n",
        "\t\t\treturn True\n",
        "\t\tif ok in ['n','no','np','nope','nop']:\n",
        "\t\t\treturn False\n",
        "\t\tretries = retries -1\n",
        "\t\tif retries < 0 :\n",
        "\t\t\traise ValueError('Invalid user response')\t\n",
        "\t\t\tprint('reminder')\n",
        "ask_ok(\"Do you want to continue ...\\n\")\n",
        "\n",
        "i=5\n",
        "def f(arg = i):\n",
        "\tprint(arg)\n",
        "\n",
        "i= 6\n",
        "f()\n",
        "\n",
        "def f(a,L=None):\n",
        "\tif L is None:\n",
        "\t\tL = []\n",
        "\tL.append(a)\n",
        "\treturn L\n",
        "\n",
        "Res = f(1)\n",
        "print(Res)\n",
        "print(f(1,Res))\n",
        "print(f(1))\n",
        "\n",
        "def f(arg1, arg2 = 'abdenour',arg3='amamra',arg4=10):\n",
        "\tprint('arg1 ',arg1)\n",
        "\tprint('arg2 ',arg2)\n",
        "\tprint('arg3 ',arg3)\n",
        "\tprint('arg4 ',arg4)\n",
        "\n",
        "f(10,arg2='amira',arg3='hennani')\n",
        "\n",
        "def f(arg1, *arg2 ,**arg3):\n",
        "\tprint(type(arg2),arg2)\n",
        "\tfor v in arg2:\n",
        "\t\tprint(v)\n",
        "\n",
        "\tprint(\"-\" * 40)\n",
        "\tprint(type(arg3),arg3)\n",
        "\tfor k,v in arg3.items():\n",
        "\t\tprint(k,' ',v)\n",
        "\n",
        "f('tuple and dictionary',1,2,3,k1='a',k2='b',k3='c')\n",
        "\n",
        "def f(arg0,arg1,arg2,arg3):\n",
        "\tprint(arg0)\n",
        "\tprint(arg1)\n",
        "\tprint(arg2)\n",
        "\tprint(arg3)\n",
        "\n",
        "arg = ('level0','level1','level2','level3')\n",
        "d= {'arg0':0,'arg1':1,'arg2':2,'arg3':3}\n",
        "f(**d)\n",
        "'''\n",
        "def make_increment(n: str,x: str=10) ->str:\n",
        "\t\"\"\" This function increment a number 'n' by 'x', hence giving n = n + x\n",
        "\n",
        "\tthis function is useful for quickly incrementing integers\n",
        "\n",
        "\tprint(make_increment.__annotations__)\n",
        "\treturn lambda x: x+n\n",
        "f= make_increment(42)\n",
        "print(make_increment(42)(x=1))\n",
        "\n",
        "pairs = [(1, 'one'), (2, 'two'), (3, 'three'), (4, 'four')]\n",
        "pairs.sort(key= lambda pair: pair[0])\n",
        "print(pairs)\n",
        "\t\n",
        "fruits = ['orange', 'apple', 'pear', 'banana', 'kiwi', 'apple', 'banana']\n",
        "#fruits.extend(range(5))\n",
        "fruits.sort()\n",
        "fruits.append('cherry')\n",
        "print (fruits.pop()) \n",
        "print (fruits)\n",
        "\n",
        "from collections import deque\n",
        "q = deque(range(5))\n",
        "q.append(0)\n",
        "print(q)\n",
        "q.append(-1)\n",
        "print(q)\n",
        "q.popleft()\n",
        "print(q)\n",
        "q.pop()\n",
        "print(q)\n",
        "\n",
        "L = []\n",
        "L.extend(range(10))\n",
        "print(L)\n",
        "squares= [x**2 for x in L]\n",
        "combination = [(x,y,z) for x in L for  y in L for z in ['x','y','z'] if x != y]\n",
        "print(combination)\n",
        "\n",
        "def f(x):\n",
        "\treturn abs(x)\n",
        "\n",
        "vec = [-4, -2, 0, 2, 4]\n",
        "vec_squared = [x*2 for x in vec]\n",
        "print(vec_squared)\n",
        "vec_squared_nnegative = [x for x in vec if x > 0]\n",
        "print(vec_squared_nnegative)\n",
        "vec_f = [f(x) for x in vec]\n",
        "print(vec_f)\n",
        "\n",
        "freshfruit = ['  banana', '  loganberry ', 'passion fruit  ']\n",
        "L = [weapon.upper() for weapon in freshfruit]\n",
        "L = [(x,x**2) for x in range(10)]\n",
        "vec = [[1,2,3], [4,5,6], [7,8,9]]\n",
        "L3 = [num for elem in vec for num in elem ]\n",
        "print(L3)\n",
        "\n",
        "matrix = [\n",
        "\t\t\t[12,25,33],\n",
        "\t\t\t[2,3,55],\n",
        "\t\t\t[10,10,12]\n",
        "\t\t]\n",
        "\n",
        "transpose = [[row[i] for row in matrix] for i in range(3)]\n",
        "print(transpose)\n",
        "\n",
        "transpose = []\n",
        "for i in range(3):\n",
        "\ttranspose.append([row[i] for row in matrix])\n",
        "\n",
        "matrix = [\n",
        "\t\t\t[12,25,33],\n",
        "\t\t\t[2,3,55],\n",
        "\t\t\t[10,10,12]\n",
        "\t\t]\n",
        "L = list(zip(*matrix))\n",
        "\n",
        "L = [12,25,33]\n",
        "print(L)\n",
        "del(L) \n",
        "print(L)\n",
        "\n",
        "v = 1,23,5\n",
        "v=[*v], [*v], [*v]\n",
        "x = y = z = 33\n",
        "v = x,y,z\n",
        "L = tuple([2*x for x in v])\n",
        "#L = list(L)\n",
        "x,y,z = L\n",
        "print(x,y,z,type(L))\n",
        "\n",
        "s1= {0,1,3,5}\n",
        "s2= {0,2,4,6}\n",
        "s3 = {(x,y) for x in s1 for y in s2  if x != y}\n",
        "print(s3)\n",
        "\n",
        "dict = {2:'a',2:'b', 22:'b'}\n",
        "#del (dict[1])\n",
        "L = sorted(dict)\n",
        "L = list(dict)\n",
        "print(dict, L, 3 in dict)\n",
        "\n",
        "dict = {x:x**2 for x in (5,1,2)}\n",
        "print(dict)\n",
        "T = ['a','b','c']\n",
        "for k,v in dict.items():\n",
        "\tprint(k,v)\n",
        "for x in enumerate(T):\n",
        "\tprint(x)\n",
        "\n",
        "questions = ['name', 'quest', 'favorite color']\n",
        "answers = ['lancelot', 'the holy grail', 'blue']\n",
        "for q,a in zip(questions,answers):\n",
        "\tprint('The answer to your question ({0}) is {1}'.format(q,a))\n",
        "for x in reversed(range(1,10)):\n",
        "\tprint(x)\n",
        "for x in sorted(reversed(range(1,10))):\n",
        "\tprint(x)\n",
        "\n",
        "import math\n",
        "raw_data = [56.2, float('NaN'), 51.7, 55.3, 52.5, float('NaN'), 47.8]\n",
        "filtered_data=[]\n",
        "for x in raw_data:\n",
        "\tif not math.isnan(x):\n",
        "\t\tfiltered_data.append(x)\n",
        "print(raw_data)\n",
        "print(filtered_data)\n",
        "\n",
        "str1,str2,str3 = 'ab','cd', 'ef'\n",
        "not_null = str1 and str2 and str3\n",
        "print(not_null)\n",
        "\n",
        "import fibonacci\n",
        "print(fibonacci.fibo(10))\n",
        "print(fibonacci.fibo_result(10))\n",
        "\n",
        "from fibonacci import fibo, fibo_result\n",
        "print(fibo(10))\n",
        "print(fibo_result(10))\n",
        "\n",
        "from fibonacci import *\n",
        "print(fibo(10))\n",
        "print(fibo_result(10))\n",
        "\n",
        "import fibonacci as fb\n",
        "print(fb.fibo(10))\n",
        "print(fb.fibo_result(10))\n",
        "\n",
        "from fibonacci import fibo as fb\n",
        "from fibonacci import fibo_result as fb_res\n",
        "print(fb(10))\n",
        "print(fb_res(10))\n",
        "\n",
        "year = 2016\n",
        "event = 'hallowean'\n",
        "print('the event {0} takes place in the year {1}'.format(year,event))\n",
        "\n",
        "s= 'Hello world'\n",
        "print(str(s))\n",
        "print(repr(s))\n",
        "print(str(1/7))\n",
        "x = 10 *10\n",
        "y = 4 * 12.25\n",
        "print('the value of x = '+repr(x)+ ' and value of y is '+repr(y) +' ....')\n",
        "\n",
        "hello = 'hello world \\n'\n",
        "hellos = repr(hello)\n",
        "print(hello)\n",
        "print(hellos)\n",
        "repr(hello)\n",
        "\n",
        "import math\n",
        "print(F\"the value of pi is : {math.pi:.3f}\")\n",
        "\n",
        "table = {'Sjoerd': 4127, 'Jack': 4098, 'Dcab': 7678}\n",
        "for name, phone in table.items():\n",
        "\tprint(f'{name:3} ==>{phone:3d}')\n",
        "\n",
        "animals = 'eels'\n",
        "print(f'my bag is full of {animals!r}')\n",
        "\n",
        "print ('We are the {food} who say {fee}'.format(food='nights',fee='Ni'))\n",
        "print ('We are the {0} who say {1}'.format('nights','Ni'))\n",
        "print ('We are the {1} who say {0}'.format('nights','Ni'))\n",
        "\n",
        "for x in range(1,10):\n",
        "\tprint('{0:2d},{1:3d},{2:4d}'.format(x,x*x,x*x*x))\n",
        "  \"\"\"\n",
        "with  open(\"/content/drive/My Drive/Colab Notebooks/workFile\",'w') as f:\n",
        "  f.write('The % operator can also be used for string formatting. It interprets\\n'+ \n",
        "          'the left argument much like a sprintf()-style format string to be applied\\n' +  \n",
        "          'to the right argument, and returns the string resulting from this\\n'+\n",
        "          'formatting operation. For example:\\n')\n",
        "f.close()\n"
      ],
      "execution_count": 0,
      "outputs": []
    },
    {
      "cell_type": "code",
      "metadata": {
        "id": "uKYfe0tYBpsX",
        "colab_type": "code",
        "outputId": "a1091c88-cb67-4851-8c09-3d4d61f18c48",
        "colab": {
          "base_uri": "https://localhost:8080/",
          "height": 121
        }
      },
      "source": [
        "with  open(\"/content/drive/My Drive/Colab Notebooks/workFile\",'r') as f:\n",
        "  read_data_1 = f.readline()\n",
        "  read_data_2 = f.readline()\n",
        "  read_data_3 = f.readline()\n",
        "  print(read_data_1)\n",
        "  print(read_data_2)\n",
        "  print(read_data_3)\n",
        "f.close()"
      ],
      "execution_count": 0,
      "outputs": [
        {
          "output_type": "stream",
          "text": [
            "The % operator can also be used for string formatting. It interprets\n",
            "\n",
            "the left argument much like a sprintf()-style format string to be applied\n",
            "\n",
            "to the right argument, and returns the string resulting from this\n",
            "\n"
          ],
          "name": "stdout"
        }
      ]
    },
    {
      "cell_type": "code",
      "metadata": {
        "id": "tjQU6ZbdC8TR",
        "colab_type": "code",
        "outputId": "389055fa-8549-44c3-d670-eeb5f0a9a9d8",
        "colab": {
          "base_uri": "https://localhost:8080/",
          "height": 156
        }
      },
      "source": [
        "f = open(\"/content/drive/My Drive/Colab Notebooks/workFile\",'r')\n",
        "#Lf = list(f)\n",
        "for line in f:\n",
        "  print(line)\n",
        "#print(Lf)\n",
        "f.close()"
      ],
      "execution_count": 0,
      "outputs": [
        {
          "output_type": "stream",
          "text": [
            "The % operator can also be used for string formatting. It interprets\n",
            "\n",
            "the left argument much like a sprintf()-style format string to be applied\n",
            "\n",
            "to the right argument, and returns the string resulting from this\n",
            "\n",
            "formatting operation. For example:\n",
            "\n"
          ],
          "name": "stdout"
        }
      ]
    },
    {
      "cell_type": "code",
      "metadata": {
        "id": "T4qVGwb7GHEq",
        "colab_type": "code",
        "colab": {}
      },
      "source": [
        "f = open(\"/content/drive/My Drive/Colab Notebooks/workFile\",'w')\n",
        "f.write(str(45))\n",
        "f.close()"
      ],
      "execution_count": 0,
      "outputs": []
    },
    {
      "cell_type": "code",
      "metadata": {
        "id": "M9sQneEEGoyD",
        "colab_type": "code",
        "outputId": "535a21c4-e8f3-499b-a369-c0a3f70efd79",
        "colab": {
          "base_uri": "https://localhost:8080/",
          "height": 208
        }
      },
      "source": [
        "f = open(\"/content/drive/My Drive/Colab Notebooks/workFile\",'r')\n",
        "line = f.readline()\n",
        "print(line)\n",
        "print(f.tell())\n",
        "f.seek(2)\n",
        "for line in f:\n",
        "  print(line)\n",
        "\n",
        "f.close()"
      ],
      "execution_count": 0,
      "outputs": [
        {
          "output_type": "stream",
          "text": [
            "The % operator can also be used for string formatting. It interprets\n",
            "\n",
            "69\n",
            "e % operator can also be used for string formatting. It interprets\n",
            "\n",
            "the left argument much like a sprintf()-style format string to be applied\n",
            "\n",
            "to the right argument, and returns the string resulting from this\n",
            "\n",
            "formatting operation. For example:\n",
            "\n"
          ],
          "name": "stdout"
        }
      ]
    },
    {
      "cell_type": "code",
      "metadata": {
        "id": "zLJEUR-9H_1m",
        "colab_type": "code",
        "outputId": "8c8d6478-d874-4a40-e494-5477711cc80a",
        "colab": {
          "base_uri": "https://localhost:8080/",
          "height": 35
        }
      },
      "source": [
        "#binary files\n",
        "f = open('workFileBinary','wb')\n",
        "print(f.write(b'0123456789abcdef'))\n",
        "f.close()"
      ],
      "execution_count": 0,
      "outputs": [
        {
          "output_type": "stream",
          "text": [
            "16\n"
          ],
          "name": "stdout"
        }
      ]
    },
    {
      "cell_type": "code",
      "metadata": {
        "id": "4UuOYhtEIXz0",
        "colab_type": "code",
        "outputId": "52a23f66-701d-4e68-983f-90a018f93609",
        "colab": {
          "base_uri": "https://localhost:8080/",
          "height": 35
        }
      },
      "source": [
        "f = open('workFileBinary','rb')\n",
        "l = f.readline()\n",
        "print(l)\n",
        "f.close()"
      ],
      "execution_count": 0,
      "outputs": [
        {
          "output_type": "stream",
          "text": [
            "b'0123456789abcdef'\n"
          ],
          "name": "stdout"
        }
      ]
    },
    {
      "cell_type": "code",
      "metadata": {
        "id": "ZYUiRtsjIwEV",
        "colab_type": "code",
        "outputId": "62f5e593-e6f8-4273-cd40-ebdc720ff55e",
        "colab": {
          "base_uri": "https://localhost:8080/",
          "height": 35
        }
      },
      "source": [
        "f = open('workFileBinary','rb')\n",
        "f.seek(10)\n",
        "w1 = f.read(1)\n",
        "print(w1)\n",
        "f.close()\n"
      ],
      "execution_count": 0,
      "outputs": [
        {
          "output_type": "stream",
          "text": [
            "b'a'\n"
          ],
          "name": "stdout"
        }
      ]
    },
    {
      "cell_type": "code",
      "metadata": {
        "id": "Bn9phQ4IKQL8",
        "colab_type": "code",
        "colab": {}
      },
      "source": [
        "import json\n",
        "f = open('workFile_Json','w')\n",
        "L = ['1','2','3']\n",
        "json.dump(L, f)\n",
        "f.close()"
      ],
      "execution_count": 0,
      "outputs": []
    },
    {
      "cell_type": "code",
      "metadata": {
        "id": "wGaYfrrCKfgo",
        "colab_type": "code",
        "outputId": "2a05b76c-7098-4370-a889-2b1d13590e29",
        "colab": {
          "base_uri": "https://localhost:8080/",
          "height": 35
        }
      },
      "source": [
        "import json\n",
        "f = open('workFile','r')\n",
        "L = json.load(f)\n",
        "f.close()\n",
        "print(L)"
      ],
      "execution_count": 0,
      "outputs": [
        {
          "output_type": "stream",
          "text": [
            "['1', '2', '3']\n"
          ],
          "name": "stdout"
        }
      ]
    },
    {
      "cell_type": "code",
      "metadata": {
        "id": "zPt5nA--LXPI",
        "colab_type": "code",
        "outputId": "8a85181b-f621-4483-86ff-d7a8c64847a0",
        "colab": {
          "base_uri": "https://localhost:8080/",
          "height": 139
        }
      },
      "source": [
        "while True:\n",
        "  try :\n",
        "    x = int(input(\"Entre a number : \"))\n",
        "    break\n",
        "  except ValueError:\n",
        "    print(\"That was not a valid number, try again ...\")"
      ],
      "execution_count": 0,
      "outputs": [
        {
          "output_type": "stream",
          "text": [
            "Entre a number : l\n",
            "That was not a valid number, try again ...\n",
            "Entre a number : l\n",
            "That was not a valid number, try again ...\n",
            "Entre a number : \n",
            "That was not a valid number, try again ...\n",
            "Entre a number : 15\n"
          ],
          "name": "stdout"
        }
      ]
    },
    {
      "cell_type": "code",
      "metadata": {
        "id": "1cTr8-WpCBIU",
        "colab_type": "code",
        "outputId": "bba2d8eb-0bb0-4cf1-ce3a-673d82c0198a",
        "colab": {
          "base_uri": "https://localhost:8080/",
          "height": 35
        }
      },
      "source": [
        "import numpy as np\n",
        "print('amamra'.format())"
      ],
      "execution_count": 0,
      "outputs": [
        {
          "output_type": "stream",
          "text": [
            "amamra\n"
          ],
          "name": "stdout"
        }
      ]
    },
    {
      "cell_type": "code",
      "metadata": {
        "id": "laa4Ejbp_UsZ",
        "colab_type": "code",
        "outputId": "df924c86-5f0f-4379-83a5-f814fea4d4e1",
        "colab": {
          "base_uri": "https://localhost:8080/",
          "height": 35
        }
      },
      "source": [
        "import sys \n",
        "try:\n",
        "  f = open('data.txt','r')\n",
        "  s = f.readline()\n",
        "  i = int(s.strip())\n",
        "  print(\"Read with success {0}\".format(i))\n",
        "except OSError as err:\n",
        "  print(\"OS erro : {0}\".format(err))\n",
        "except ValueError :\n",
        "  print(\"Could not convert value to int\")\n",
        "except :\n",
        "  print(\"Unexpected error\")\n",
        "  raise\n",
        "f.close()"
      ],
      "execution_count": 0,
      "outputs": [
        {
          "output_type": "stream",
          "text": [
            "Read with success 12\n"
          ],
          "name": "stdout"
        }
      ]
    },
    {
      "cell_type": "code",
      "metadata": {
        "id": "aZqkrEdhBFWa",
        "colab_type": "code",
        "outputId": "57f1cada-3020-4751-f45f-96f524b60bf8",
        "colab": {
          "base_uri": "https://localhost:8080/",
          "height": 52
        }
      },
      "source": [
        "for arg in sys.argv[1:]:\n",
        "  try:\n",
        "    f = open(arg, 'r')\n",
        "  except OSError as err:\n",
        "    print(\"OS error : {0}\".format(err))\n",
        "  else:\n",
        "    print(arg,' has ', len(f.readlines()),'lines' )\n",
        "    f.close()"
      ],
      "execution_count": 0,
      "outputs": [
        {
          "output_type": "stream",
          "text": [
            "OS error : [Errno 2] No such file or directory: '-f'\n",
            "/root/.local/share/jupyter/runtime/kernel-279bf421-3402-467c-a44b-8820c99d1b52.json  has  12 lines\n"
          ],
          "name": "stdout"
        }
      ]
    },
    {
      "cell_type": "code",
      "metadata": {
        "id": "IUEgbLZdDOJ7",
        "colab_type": "code",
        "outputId": "2c7b34cd-f580-491a-a9eb-b74fa52cd194",
        "colab": {
          "base_uri": "https://localhost:8080/",
          "height": 52
        }
      },
      "source": [
        "def this_fails():\n",
        "  return 1/0\n",
        "try:\n",
        "  this_fails()\n",
        "except ZeroDivisionError as err:\n",
        "  print(\"handling run time error : {}\".format(err))\n",
        "  print(\"handling run time error : \",err)\n"
      ],
      "execution_count": 0,
      "outputs": [
        {
          "output_type": "stream",
          "text": [
            "handling run time error : division by zero\n",
            "handling run time error :  division by zero\n"
          ],
          "name": "stdout"
        }
      ]
    },
    {
      "cell_type": "code",
      "metadata": {
        "id": "-vy8vo4DEFn6",
        "colab_type": "code",
        "outputId": "ab719fed-6c4b-44f5-96ba-a2e89d6bd4ee",
        "colab": {
          "base_uri": "https://localhost:8080/",
          "height": 166
        }
      },
      "source": [
        "#Rainsing exception\n",
        "raise NameError('Hi there')"
      ],
      "execution_count": 0,
      "outputs": [
        {
          "output_type": "error",
          "ename": "NameError",
          "evalue": "ignored",
          "traceback": [
            "\u001b[0;31m---------------------------------------------------------------------------\u001b[0m",
            "\u001b[0;31mNameError\u001b[0m                                 Traceback (most recent call last)",
            "\u001b[0;32m<ipython-input-18-8d5113bf2eff>\u001b[0m in \u001b[0;36m<module>\u001b[0;34m()\u001b[0m\n\u001b[0;32m----> 1\u001b[0;31m \u001b[0;32mraise\u001b[0m \u001b[0mNameError\u001b[0m\u001b[0;34m(\u001b[0m\u001b[0;34m'Hi there'\u001b[0m\u001b[0;34m)\u001b[0m\u001b[0;34m\u001b[0m\u001b[0;34m\u001b[0m\u001b[0m\n\u001b[0m",
            "\u001b[0;31mNameError\u001b[0m: Hi there"
          ]
        }
      ]
    },
    {
      "cell_type": "code",
      "metadata": {
        "id": "HHa2h2JnEZQa",
        "colab_type": "code",
        "outputId": "49f713dd-4d75-4caa-a648-957d46c1a369",
        "colab": {
          "base_uri": "https://localhost:8080/",
          "height": 166
        }
      },
      "source": [
        "raise ValueError('Raising value error')"
      ],
      "execution_count": 0,
      "outputs": [
        {
          "output_type": "error",
          "ename": "ValueError",
          "evalue": "ignored",
          "traceback": [
            "\u001b[0;31m---------------------------------------------------------------------------\u001b[0m",
            "\u001b[0;31mValueError\u001b[0m                                Traceback (most recent call last)",
            "\u001b[0;32m<ipython-input-20-e2ba18a87e92>\u001b[0m in \u001b[0;36m<module>\u001b[0;34m()\u001b[0m\n\u001b[0;32m----> 1\u001b[0;31m \u001b[0;32mraise\u001b[0m \u001b[0mValueError\u001b[0m\u001b[0;34m(\u001b[0m\u001b[0;34m'Raising value error'\u001b[0m\u001b[0;34m)\u001b[0m\u001b[0;34m\u001b[0m\u001b[0;34m\u001b[0m\u001b[0m\n\u001b[0m",
            "\u001b[0;31mValueError\u001b[0m: Raising value error"
          ]
        }
      ]
    },
    {
      "cell_type": "code",
      "metadata": {
        "id": "PPYj60DxFt4C",
        "colab_type": "code",
        "outputId": "3afc0c5e-d326-4abf-cff1-dcfdde4a7f60",
        "colab": {
          "base_uri": "https://localhost:8080/",
          "height": 121
        }
      },
      "source": [
        "def divide(x,y):\n",
        "  try:\n",
        "    result = x/y\n",
        "  except ZeroDivisionError as  err:\n",
        "    print(err)\n",
        "  except TypeError as err:\n",
        "    print(err)\n",
        "  else: \n",
        "    print(\"Result: \" , result)\n",
        "  finally:\n",
        "    print(\"Leaving function\")\n",
        "divide(8,7)\n",
        "divide(8,0)\n",
        "divide(8,'e')\n",
        "\n"
      ],
      "execution_count": 0,
      "outputs": [
        {
          "output_type": "stream",
          "text": [
            "Result:  1.1428571428571428\n",
            "Leaving function\n",
            "division by zero\n",
            "Leaving function\n",
            "unsupported operand type(s) for /: 'int' and 'str'\n",
            "Leaving function\n"
          ],
          "name": "stdout"
        }
      ]
    },
    {
      "cell_type": "code",
      "metadata": {
        "id": "iDtWedtTbfKP",
        "colab_type": "code",
        "colab": {
          "base_uri": "https://localhost:8080/",
          "height": 87
        },
        "outputId": "4c26595b-6dd8-4c6e-a193-5be6f6eed8b3"
      },
      "source": [
        "def scope_test():\n",
        "  def do_local():\n",
        "    spam = \"local spam\"\n",
        "\n",
        "  def do_nonlocal():\n",
        "    nonlocal spam\n",
        "    spam = \"nonlocal spam\"\n",
        "\n",
        "  def do_global():\n",
        "    global spam\n",
        "    spam = \"global spam\"\n",
        "\n",
        "  spam = \"test spam\"\n",
        "  do_local()\n",
        "  print(\"After local assignment\",spam)\n",
        "  do_nonlocal()\n",
        "  print(\"After non local assignment\",spam)\n",
        "  do_global()\n",
        "  print(\"After global assignment\",spam)\n",
        "\n",
        "scope_test()\n",
        "print(\"In global scope\",spam)"
      ],
      "execution_count": 7,
      "outputs": [
        {
          "output_type": "stream",
          "text": [
            "After local assignment test spam\n",
            "After non local assignment nonlocal spam\n",
            "After global assignment nonlocal spam\n",
            "In global scope global spam\n"
          ],
          "name": "stdout"
        }
      ]
    },
    {
      "cell_type": "code",
      "metadata": {
        "id": "iAV5kWt1fjgz",
        "colab_type": "code",
        "colab": {
          "base_uri": "https://localhost:8080/",
          "height": 69
        },
        "outputId": "ea2437be-4b55-4d72-f731-eb1a2629ad3d"
      },
      "source": [
        "class MyClass:\n",
        "  \"\"\"A simple class definition\"\"\"\n",
        "  def __init__(self):\n",
        "    self.data = []\n",
        "    print(\"Constructor call\")\n",
        "\n",
        "  i = 12\n",
        "  def f():\n",
        "    return \"f\"\n",
        "print(MyClass.i, MyClass.f)\n",
        "print(MyClass.__doc__)\n",
        "C = MyClass()"
      ],
      "execution_count": 10,
      "outputs": [
        {
          "output_type": "stream",
          "text": [
            "12 <function MyClass.f at 0x7fbbed59e950>\n",
            "A simple class definition\n",
            "Constructor call\n"
          ],
          "name": "stdout"
        }
      ]
    },
    {
      "cell_type": "code",
      "metadata": {
        "id": "OJJq-U1UkSU5",
        "colab_type": "code",
        "colab": {
          "base_uri": "https://localhost:8080/",
          "height": 35
        },
        "outputId": "771e30b7-473f-4718-9ed6-efa56fff9003"
      },
      "source": [
        "class Complex:\n",
        "  def __init__(self, realpart, imagpart):\n",
        "    self.r = realpart\n",
        "    self.i = imagpart\n",
        "\n",
        "x = Complex(5.0, 6.0)\n",
        "print(x.r, x.i)"
      ],
      "execution_count": 11,
      "outputs": [
        {
          "output_type": "stream",
          "text": [
            "5.0 6.2\n"
          ],
          "name": "stdout"
        }
      ]
    },
    {
      "cell_type": "code",
      "metadata": {
        "id": "xyRh5U42oN05",
        "colab_type": "code",
        "colab": {
          "base_uri": "https://localhost:8080/",
          "height": 52
        },
        "outputId": "60ac8e46-bdd2-48b6-d41e-26fefef0b258"
      },
      "source": [
        "class Dog:\n",
        "  kind = 'canine'\n",
        "  \n",
        "  def __init__(self, name):\n",
        "    self.name = name\n",
        "    self.tricks = []\n",
        "  \n",
        "  def add_trick(self, trick):\n",
        "    self.tricks.append(trick)\n",
        "  \n",
        "\n",
        "\n",
        "a = Dog('Rex')\n",
        "b = Dog('Jack')\n",
        "a.add_trick('Roll over')\n",
        "b.add_trick('Roll back')\n",
        "print(a.tricks)\n",
        "print(b.tricks)"
      ],
      "execution_count": 15,
      "outputs": [
        {
          "output_type": "stream",
          "text": [
            "['Roll over']\n",
            "['Roll back']\n"
          ],
          "name": "stdout"
        }
      ]
    },
    {
      "cell_type": "code",
      "metadata": {
        "id": "m63Ma-76s1ZH",
        "colab_type": "code",
        "colab": {
          "base_uri": "https://localhost:8080/",
          "height": 35
        },
        "outputId": "dde2a80c-20fc-402c-d78e-c5408ee57068"
      },
      "source": [
        "a = 13\n",
        "type(a)"
      ],
      "execution_count": 17,
      "outputs": [
        {
          "output_type": "execute_result",
          "data": {
            "text/plain": [
              "int"
            ]
          },
          "metadata": {
            "tags": []
          },
          "execution_count": 17
        }
      ]
    },
    {
      "cell_type": "code",
      "metadata": {
        "id": "9Iu_FSmLusr6",
        "colab_type": "code",
        "colab": {
          "base_uri": "https://localhost:8080/",
          "height": 35
        },
        "outputId": "d6f8915c-7a62-4f2f-cfeb-027ca1354923"
      },
      "source": [
        "class C:\n",
        "    @classmethod\n",
        "    def f(cls):\n",
        "      print(\"f\")\n",
        "\n",
        "C.f()"
      ],
      "execution_count": 32,
      "outputs": [
        {
          "output_type": "stream",
          "text": [
            "f\n"
          ],
          "name": "stdout"
        }
      ]
    },
    {
      "cell_type": "code",
      "metadata": {
        "id": "ZIahRYdkwTIu",
        "colab_type": "code",
        "colab": {
          "base_uri": "https://localhost:8080/",
          "height": 35
        },
        "outputId": "0444be8a-a3e3-4c98-f7b7-075d43ad3757"
      },
      "source": [
        "class SomeClass:\n",
        "    def create_arr(self): # An instance method\n",
        "        self.arr = []\n",
        "    \n",
        "    def insert_to_arr(self, value):  #An instance method\n",
        "        self.arr.append(value)\n",
        "        \n",
        "    @classmethod\n",
        "    def class_method(cls):\n",
        "        print(\"the class method was called\")\n",
        "SomeClass.class_method()"
      ],
      "execution_count": 26,
      "outputs": [
        {
          "output_type": "stream",
          "text": [
            "the class method was called\n"
          ],
          "name": "stdout"
        }
      ]
    }
  ]
}