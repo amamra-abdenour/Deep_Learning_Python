{
  "nbformat": 4,
  "nbformat_minor": 0,
  "metadata": {
    "colab": {
      "name": "Learn_Python.ipynb",
      "provenance": [],
      "collapsed_sections": [],
      "include_colab_link": true
    },
    "kernelspec": {
      "name": "python3",
      "display_name": "Python 3"
    },
    "accelerator": "GPU"
  },
  "cells": [
    {
      "cell_type": "markdown",
      "metadata": {
        "id": "view-in-github",
        "colab_type": "text"
      },
      "source": [
        "<a href=\"https://colab.research.google.com/github/amamra-abdenour/Deep_Learning_Python/blob/master/Learn_Python.ipynb\" target=\"_parent\"><img src=\"https://colab.research.google.com/assets/colab-badge.svg\" alt=\"Open In Colab\"/></a>"
      ]
    },
    {
      "cell_type": "code",
      "metadata": {
        "id": "4sH0upPlFFVh",
        "colab_type": "code",
        "colab": {}
      },
      "source": [
        "def fibonacci(a,b,n):\n",
        "\tprint (a)\n",
        "\treturn fibonacci(b,a+b,n) if b < n else print ('end')\n",
        "\n",
        "s = 'amamra abdenour'\n",
        "items = [1, 10, 7, 4, 5, 9]\n",
        "items[0:3] = ['A', 'B','C'] \n",
        "#print(items[-len(items)+2])\n",
        "\n",
        "a,b = 0,1\n",
        "#fibonacci(a,b,10)\n",
        "'''\n",
        "x= int (input(\"please enter an integer : \"))\n",
        "if x < 0 :\n",
        "\tx=0\n",
        "\tprint(\"negative changed to zero\")\n",
        "elif x == 0:\n",
        "\tprint(\"zero\")\n",
        "elif x == 1:\n",
        "\tprint(\"single\")\n",
        "else:\n",
        "\tprint(\"more\")\n",
        "words = ['kayfouh', 'lamine', 'nassim']\n",
        "h=0;\n",
        "for x in words[:]:\n",
        "\th = h + 1\n",
        "\tif (len(x) > 6 ):\n",
        "\t\twords.insert(len(words)+1,x)\n",
        "\n",
        "print(h,words)\n",
        "for x in range(10):\n",
        "\tprint(x)\n",
        "print(\"range(1,10)\")\n",
        "for x in range(1,10):\n",
        "\tprint(x)\n",
        "print(\"range(1,10,3)\")\n",
        "for x in range(1,10,3):\n",
        "\tprint(x)\n",
        "\n",
        "a = ['Mary', 'had', 'a', 'little', 'lamb']\n",
        "\n",
        "for i, x in enumerate(a):\n",
        "\tprint(i,x)\n",
        "knights = {'gallahad': 'the pure', 'robin': 'the brave'}\n",
        "for i,x in knights.items():\n",
        "\tprint('key : ',i,'value : ',x)\n",
        "\n",
        "questions = ['name', 'quest', 'favorite color']\n",
        "answers = ['lancelot', 'the holy grail', 'blue']\n",
        "for q,a in zip(questions,answers):\n",
        "\tprint('Question : ',q,'| Answer : ',a)\n",
        "\n",
        "for x in range(2,10):\n",
        "\tfor y in range(2,x):\n",
        "\t\tif (x%y == 0) :\n",
        "\t\t\tprint(x,' = ',y,' * ',x//y)\n",
        "\t\t\tbreak\n",
        "\telse:\n",
        "\t\tprint(x ,' is prime')\t\t\n",
        "\n",
        "for x in range(1,10):\n",
        "\tif x % 2 == 0:\n",
        "\t\tprint(x,'is even')\n",
        "\t\tcontinue\n",
        "\telse:\n",
        "\t\tprint(x, 'is odd number')\n",
        "\n",
        "def fib(n):\n",
        "\ta,b = 0,1 \n",
        "\tresult =[]\n",
        "\twhile a < n:\n",
        "\t\tresult = result + [a]\n",
        "\t\ta, b =  b, a+b\n",
        "\treturn result\n",
        "n = int (input(\"enter n:\"))\n",
        "print(fib(n))\n",
        "\n",
        "def ask_ok(prompt, retries=4, reminder='Please try again!'):\n",
        "\twhile True:\n",
        "\t\tok = input(prompt)\n",
        "\t\tif ok in ['y','yeah','ye','yes']:\n",
        "\t\t\treturn True\n",
        "\t\tif ok in ['n','no','np','nope','nop']:\n",
        "\t\t\treturn False\n",
        "\t\tretries = retries -1\n",
        "\t\tif retries < 0 :\n",
        "\t\t\traise ValueError('Invalid user response')\t\n",
        "\t\t\tprint('reminder')\n",
        "ask_ok(\"Do you want to continue ...\\n\")\n",
        "\n",
        "i=5\n",
        "def f(arg = i):\n",
        "\tprint(arg)\n",
        "\n",
        "i= 6\n",
        "f()\n",
        "\n",
        "def f(a,L=None):\n",
        "\tif L is None:\n",
        "\t\tL = []\n",
        "\tL.append(a)\n",
        "\treturn L\n",
        "\n",
        "Res = f(1)\n",
        "print(Res)\n",
        "print(f(1,Res))\n",
        "print(f(1))\n",
        "\n",
        "def f(arg1, arg2 = 'abdenour',arg3='amamra',arg4=10):\n",
        "\tprint('arg1 ',arg1)\n",
        "\tprint('arg2 ',arg2)\n",
        "\tprint('arg3 ',arg3)\n",
        "\tprint('arg4 ',arg4)\n",
        "\n",
        "f(10,arg2='amira',arg3='hennani')\n",
        "\n",
        "def f(arg1, *arg2 ,**arg3):\n",
        "\tprint(type(arg2),arg2)\n",
        "\tfor v in arg2:\n",
        "\t\tprint(v)\n",
        "\n",
        "\tprint(\"-\" * 40)\n",
        "\tprint(type(arg3),arg3)\n",
        "\tfor k,v in arg3.items():\n",
        "\t\tprint(k,' ',v)\n",
        "\n",
        "f('tuple and dictionary',1,2,3,k1='a',k2='b',k3='c')\n",
        "\n",
        "def f(arg0,arg1,arg2,arg3):\n",
        "\tprint(arg0)\n",
        "\tprint(arg1)\n",
        "\tprint(arg2)\n",
        "\tprint(arg3)\n",
        "\n",
        "arg = ('level0','level1','level2','level3')\n",
        "d= {'arg0':0,'arg1':1,'arg2':2,'arg3':3}\n",
        "f(**d)\n",
        "'''\n",
        "def make_increment(n: str,x: str=10) ->str:\n",
        "\t\"\"\" This function increment a number 'n' by 'x', hence giving n = n + x\n",
        "\n",
        "\tthis function is useful for quickly incrementing integers\n",
        "\n",
        "\tprint(make_increment.__annotations__)\n",
        "\treturn lambda x: x+n\n",
        "f= make_increment(42)\n",
        "print(make_increment(42)(x=1))\n",
        "\n",
        "pairs = [(1, 'one'), (2, 'two'), (3, 'three'), (4, 'four')]\n",
        "pairs.sort(key= lambda pair: pair[0])\n",
        "print(pairs)\n",
        "\t\n",
        "fruits = ['orange', 'apple', 'pear', 'banana', 'kiwi', 'apple', 'banana']\n",
        "#fruits.extend(range(5))\n",
        "fruits.sort()\n",
        "fruits.append('cherry')\n",
        "print (fruits.pop()) \n",
        "print (fruits)\n",
        "\n",
        "from collections import deque\n",
        "q = deque(range(5))\n",
        "q.append(0)\n",
        "print(q)\n",
        "q.append(-1)\n",
        "print(q)\n",
        "q.popleft()\n",
        "print(q)\n",
        "q.pop()\n",
        "print(q)\n",
        "\n",
        "L = []\n",
        "L.extend(range(10))\n",
        "print(L)\n",
        "squares= [x**2 for x in L]\n",
        "combination = [(x,y,z) for x in L for  y in L for z in ['x','y','z'] if x != y]\n",
        "print(combination)\n",
        "\n",
        "def f(x):\n",
        "\treturn abs(x)\n",
        "\n",
        "vec = [-4, -2, 0, 2, 4]\n",
        "vec_squared = [x*2 for x in vec]\n",
        "print(vec_squared)\n",
        "vec_squared_nnegative = [x for x in vec if x > 0]\n",
        "print(vec_squared_nnegative)\n",
        "vec_f = [f(x) for x in vec]\n",
        "print(vec_f)\n",
        "\n",
        "freshfruit = ['  banana', '  loganberry ', 'passion fruit  ']\n",
        "L = [weapon.upper() for weapon in freshfruit]\n",
        "L = [(x,x**2) for x in range(10)]\n",
        "vec = [[1,2,3], [4,5,6], [7,8,9]]\n",
        "L3 = [num for elem in vec for num in elem ]\n",
        "print(L3)\n",
        "\n",
        "matrix = [\n",
        "\t\t\t[12,25,33],\n",
        "\t\t\t[2,3,55],\n",
        "\t\t\t[10,10,12]\n",
        "\t\t]\n",
        "\n",
        "transpose = [[row[i] for row in matrix] for i in range(3)]\n",
        "print(transpose)\n",
        "\n",
        "transpose = []\n",
        "for i in range(3):\n",
        "\ttranspose.append([row[i] for row in matrix])\n",
        "\n",
        "matrix = [\n",
        "\t\t\t[12,25,33],\n",
        "\t\t\t[2,3,55],\n",
        "\t\t\t[10,10,12]\n",
        "\t\t]\n",
        "L = list(zip(*matrix))\n",
        "\n",
        "L = [12,25,33]\n",
        "print(L)\n",
        "del(L) \n",
        "print(L)\n",
        "\n",
        "v = 1,23,5\n",
        "v=[*v], [*v], [*v]\n",
        "x = y = z = 33\n",
        "v = x,y,z\n",
        "L = tuple([2*x for x in v])\n",
        "#L = list(L)\n",
        "x,y,z = L\n",
        "print(x,y,z,type(L))\n",
        "\n",
        "s1= {0,1,3,5}\n",
        "s2= {0,2,4,6}\n",
        "s3 = {(x,y) for x in s1 for y in s2  if x != y}\n",
        "print(s3)\n",
        "\n",
        "dict = {2:'a',2:'b', 22:'b'}\n",
        "#del (dict[1])\n",
        "L = sorted(dict)\n",
        "L = list(dict)\n",
        "print(dict, L, 3 in dict)\n",
        "\n",
        "dict = {x:x**2 for x in (5,1,2)}\n",
        "print(dict)\n",
        "T = ['a','b','c']\n",
        "for k,v in dict.items():\n",
        "\tprint(k,v)\n",
        "for x in enumerate(T):\n",
        "\tprint(x)\n",
        "\n",
        "questions = ['name', 'quest', 'favorite color']\n",
        "answers = ['lancelot', 'the holy grail', 'blue']\n",
        "for q,a in zip(questions,answers):\n",
        "\tprint('The answer to your question ({0}) is {1}'.format(q,a))\n",
        "for x in reversed(range(1,10)):\n",
        "\tprint(x)\n",
        "for x in sorted(reversed(range(1,10))):\n",
        "\tprint(x)\n",
        "\n",
        "import math\n",
        "raw_data = [56.2, float('NaN'), 51.7, 55.3, 52.5, float('NaN'), 47.8]\n",
        "filtered_data=[]\n",
        "for x in raw_data:\n",
        "\tif not math.isnan(x):\n",
        "\t\tfiltered_data.append(x)\n",
        "print(raw_data)\n",
        "print(filtered_data)\n",
        "\n",
        "str1,str2,str3 = 'ab','cd', 'ef'\n",
        "not_null = str1 and str2 and str3\n",
        "print(not_null)\n",
        "\n",
        "import fibonacci\n",
        "print(fibonacci.fibo(10))\n",
        "print(fibonacci.fibo_result(10))\n",
        "\n",
        "from fibonacci import fibo, fibo_result\n",
        "print(fibo(10))\n",
        "print(fibo_result(10))\n",
        "\n",
        "from fibonacci import *\n",
        "print(fibo(10))\n",
        "print(fibo_result(10))\n",
        "\n",
        "import fibonacci as fb\n",
        "print(fb.fibo(10))\n",
        "print(fb.fibo_result(10))\n",
        "\n",
        "from fibonacci import fibo as fb\n",
        "from fibonacci import fibo_result as fb_res\n",
        "print(fb(10))\n",
        "print(fb_res(10))\n",
        "\n",
        "year = 2016\n",
        "event = 'hallowean'\n",
        "print('the event {0} takes place in the year {1}'.format(year,event))\n",
        "\n",
        "s= 'Hello world'\n",
        "print(str(s))\n",
        "print(repr(s))\n",
        "print(str(1/7))\n",
        "x = 10 *10\n",
        "y = 4 * 12.25\n",
        "print('the value of x = '+repr(x)+ ' and value of y is '+repr(y) +' ....')\n",
        "\n",
        "hello = 'hello world \\n'\n",
        "hellos = repr(hello)\n",
        "print(hello)\n",
        "print(hellos)\n",
        "repr(hello)\n",
        "\n",
        "import math\n",
        "print(F\"the value of pi is : {math.pi:.3f}\")\n",
        "\n",
        "table = {'Sjoerd': 4127, 'Jack': 4098, 'Dcab': 7678}\n",
        "for name, phone in table.items():\n",
        "\tprint(f'{name:3} ==>{phone:3d}')\n",
        "\n",
        "animals = 'eels'\n",
        "print(f'my bag is full of {animals!r}')\n",
        "\n",
        "print ('We are the {food} who say {fee}'.format(food='nights',fee='Ni'))\n",
        "print ('We are the {0} who say {1}'.format('nights','Ni'))\n",
        "print ('We are the {1} who say {0}'.format('nights','Ni'))\n",
        "\n",
        "for x in range(1,10):\n",
        "\tprint('{0:2d},{1:3d},{2:4d}'.format(x,x*x,x*x*x))\n",
        "  \"\"\"\n",
        "with  open(\"/content/drive/My Drive/Colab Notebooks/workFile\",'w') as f:\n",
        "  f.write('The % operator can also be used for string formatting. It interprets\\n'+ \n",
        "          'the left argument much like a sprintf()-style format string to be applied\\n' +  \n",
        "          'to the right argument, and returns the string resulting from this\\n'+\n",
        "          'formatting operation. For example:\\n')\n",
        "f.close()\n"
      ],
      "execution_count": 0,
      "outputs": []
    },
    {
      "cell_type": "code",
      "metadata": {
        "id": "uKYfe0tYBpsX",
        "colab_type": "code",
        "outputId": "a1091c88-cb67-4851-8c09-3d4d61f18c48",
        "colab": {
          "base_uri": "https://localhost:8080/",
          "height": 121
        }
      },
      "source": [
        "with  open(\"/content/drive/My Drive/Colab Notebooks/workFile\",'r') as f:\n",
        "  read_data_1 = f.readline()\n",
        "  read_data_2 = f.readline()\n",
        "  read_data_3 = f.readline()\n",
        "  print(read_data_1)\n",
        "  print(read_data_2)\n",
        "  print(read_data_3)\n",
        "f.close()"
      ],
      "execution_count": 0,
      "outputs": [
        {
          "output_type": "stream",
          "text": [
            "The % operator can also be used for string formatting. It interprets\n",
            "\n",
            "the left argument much like a sprintf()-style format string to be applied\n",
            "\n",
            "to the right argument, and returns the string resulting from this\n",
            "\n"
          ],
          "name": "stdout"
        }
      ]
    },
    {
      "cell_type": "code",
      "metadata": {
        "id": "tjQU6ZbdC8TR",
        "colab_type": "code",
        "outputId": "389055fa-8549-44c3-d670-eeb5f0a9a9d8",
        "colab": {
          "base_uri": "https://localhost:8080/",
          "height": 156
        }
      },
      "source": [
        "f = open(\"/content/drive/My Drive/Colab Notebooks/workFile\",'r')\n",
        "#Lf = list(f)\n",
        "for line in f:\n",
        "  print(line)\n",
        "#print(Lf)\n",
        "f.close()"
      ],
      "execution_count": 0,
      "outputs": [
        {
          "output_type": "stream",
          "text": [
            "The % operator can also be used for string formatting. It interprets\n",
            "\n",
            "the left argument much like a sprintf()-style format string to be applied\n",
            "\n",
            "to the right argument, and returns the string resulting from this\n",
            "\n",
            "formatting operation. For example:\n",
            "\n"
          ],
          "name": "stdout"
        }
      ]
    },
    {
      "cell_type": "code",
      "metadata": {
        "id": "T4qVGwb7GHEq",
        "colab_type": "code",
        "colab": {}
      },
      "source": [
        "f = open(\"/content/drive/My Drive/Colab Notebooks/workFile\",'w')\n",
        "f.write(str(45))\n",
        "f.close()"
      ],
      "execution_count": 0,
      "outputs": []
    },
    {
      "cell_type": "code",
      "metadata": {
        "id": "M9sQneEEGoyD",
        "colab_type": "code",
        "outputId": "535a21c4-e8f3-499b-a369-c0a3f70efd79",
        "colab": {
          "base_uri": "https://localhost:8080/",
          "height": 208
        }
      },
      "source": [
        "f = open(\"/content/drive/My Drive/Colab Notebooks/workFile\",'r')\n",
        "line = f.readline()\n",
        "print(line)\n",
        "print(f.tell())\n",
        "f.seek(2)\n",
        "for line in f:\n",
        "  print(line)\n",
        "\n",
        "f.close()"
      ],
      "execution_count": 0,
      "outputs": [
        {
          "output_type": "stream",
          "text": [
            "The % operator can also be used for string formatting. It interprets\n",
            "\n",
            "69\n",
            "e % operator can also be used for string formatting. It interprets\n",
            "\n",
            "the left argument much like a sprintf()-style format string to be applied\n",
            "\n",
            "to the right argument, and returns the string resulting from this\n",
            "\n",
            "formatting operation. For example:\n",
            "\n"
          ],
          "name": "stdout"
        }
      ]
    },
    {
      "cell_type": "code",
      "metadata": {
        "id": "zLJEUR-9H_1m",
        "colab_type": "code",
        "outputId": "8c8d6478-d874-4a40-e494-5477711cc80a",
        "colab": {
          "base_uri": "https://localhost:8080/",
          "height": 35
        }
      },
      "source": [
        "#binary files\n",
        "f = open('workFileBinary','wb')\n",
        "print(f.write(b'0123456789abcdef'))\n",
        "f.close()"
      ],
      "execution_count": 0,
      "outputs": [
        {
          "output_type": "stream",
          "text": [
            "16\n"
          ],
          "name": "stdout"
        }
      ]
    },
    {
      "cell_type": "code",
      "metadata": {
        "id": "4UuOYhtEIXz0",
        "colab_type": "code",
        "outputId": "52a23f66-701d-4e68-983f-90a018f93609",
        "colab": {
          "base_uri": "https://localhost:8080/",
          "height": 35
        }
      },
      "source": [
        "f = open('workFileBinary','rb')\n",
        "l = f.readline()\n",
        "print(l)\n",
        "f.close()"
      ],
      "execution_count": 0,
      "outputs": [
        {
          "output_type": "stream",
          "text": [
            "b'0123456789abcdef'\n"
          ],
          "name": "stdout"
        }
      ]
    },
    {
      "cell_type": "code",
      "metadata": {
        "id": "ZYUiRtsjIwEV",
        "colab_type": "code",
        "outputId": "62f5e593-e6f8-4273-cd40-ebdc720ff55e",
        "colab": {
          "base_uri": "https://localhost:8080/",
          "height": 35
        }
      },
      "source": [
        "f = open('workFileBinary','rb')\n",
        "f.seek(10)\n",
        "w1 = f.read(1)\n",
        "print(w1)\n",
        "f.close()\n"
      ],
      "execution_count": 0,
      "outputs": [
        {
          "output_type": "stream",
          "text": [
            "b'a'\n"
          ],
          "name": "stdout"
        }
      ]
    },
    {
      "cell_type": "code",
      "metadata": {
        "id": "Bn9phQ4IKQL8",
        "colab_type": "code",
        "colab": {}
      },
      "source": [
        "import json\n",
        "f = open('workFile_Json','w')\n",
        "L = ['1','2','3']\n",
        "json.dump(L, f)\n",
        "f.close()"
      ],
      "execution_count": 0,
      "outputs": []
    },
    {
      "cell_type": "code",
      "metadata": {
        "id": "wGaYfrrCKfgo",
        "colab_type": "code",
        "outputId": "2a05b76c-7098-4370-a889-2b1d13590e29",
        "colab": {
          "base_uri": "https://localhost:8080/",
          "height": 35
        }
      },
      "source": [
        "import json\n",
        "f = open('workFile','r')\n",
        "L = json.load(f)\n",
        "f.close()\n",
        "print(L)"
      ],
      "execution_count": 0,
      "outputs": [
        {
          "output_type": "stream",
          "text": [
            "['1', '2', '3']\n"
          ],
          "name": "stdout"
        }
      ]
    },
    {
      "cell_type": "code",
      "metadata": {
        "id": "zPt5nA--LXPI",
        "colab_type": "code",
        "outputId": "8a85181b-f621-4483-86ff-d7a8c64847a0",
        "colab": {
          "base_uri": "https://localhost:8080/",
          "height": 139
        }
      },
      "source": [
        "while True:\n",
        "  try :\n",
        "    x = int(input(\"Entre a number : \"))\n",
        "    break\n",
        "  except ValueError:\n",
        "    print(\"That was not a valid number, try again ...\")"
      ],
      "execution_count": 0,
      "outputs": [
        {
          "output_type": "stream",
          "text": [
            "Entre a number : l\n",
            "That was not a valid number, try again ...\n",
            "Entre a number : l\n",
            "That was not a valid number, try again ...\n",
            "Entre a number : \n",
            "That was not a valid number, try again ...\n",
            "Entre a number : 15\n"
          ],
          "name": "stdout"
        }
      ]
    },
    {
      "cell_type": "code",
      "metadata": {
        "id": "1cTr8-WpCBIU",
        "colab_type": "code",
        "outputId": "bba2d8eb-0bb0-4cf1-ce3a-673d82c0198a",
        "colab": {
          "base_uri": "https://localhost:8080/",
          "height": 35
        }
      },
      "source": [
        "import numpy as np\n",
        "print('amamra'.format())"
      ],
      "execution_count": 0,
      "outputs": [
        {
          "output_type": "stream",
          "text": [
            "amamra\n"
          ],
          "name": "stdout"
        }
      ]
    },
    {
      "cell_type": "code",
      "metadata": {
        "id": "laa4Ejbp_UsZ",
        "colab_type": "code",
        "outputId": "df924c86-5f0f-4379-83a5-f814fea4d4e1",
        "colab": {
          "base_uri": "https://localhost:8080/",
          "height": 35
        }
      },
      "source": [
        "import sys \n",
        "try:\n",
        "  f = open('data.txt','r')\n",
        "  s = f.readline()\n",
        "  i = int(s.strip())\n",
        "  print(\"Read with success {0}\".format(i))\n",
        "except OSError as err:\n",
        "  print(\"OS erro : {0}\".format(err))\n",
        "except ValueError :\n",
        "  print(\"Could not convert value to int\")\n",
        "except :\n",
        "  print(\"Unexpected error\")\n",
        "  raise\n",
        "f.close()"
      ],
      "execution_count": 0,
      "outputs": [
        {
          "output_type": "stream",
          "text": [
            "Read with success 12\n"
          ],
          "name": "stdout"
        }
      ]
    },
    {
      "cell_type": "code",
      "metadata": {
        "id": "aZqkrEdhBFWa",
        "colab_type": "code",
        "outputId": "57f1cada-3020-4751-f45f-96f524b60bf8",
        "colab": {
          "base_uri": "https://localhost:8080/",
          "height": 52
        }
      },
      "source": [
        "for arg in sys.argv[1:]:\n",
        "  try:\n",
        "    f = open(arg, 'r')\n",
        "  except OSError as err:\n",
        "    print(\"OS error : {0}\".format(err))\n",
        "  else:\n",
        "    print(arg,' has ', len(f.readlines()),'lines' )\n",
        "    f.close()"
      ],
      "execution_count": 0,
      "outputs": [
        {
          "output_type": "stream",
          "text": [
            "OS error : [Errno 2] No such file or directory: '-f'\n",
            "/root/.local/share/jupyter/runtime/kernel-279bf421-3402-467c-a44b-8820c99d1b52.json  has  12 lines\n"
          ],
          "name": "stdout"
        }
      ]
    },
    {
      "cell_type": "code",
      "metadata": {
        "id": "IUEgbLZdDOJ7",
        "colab_type": "code",
        "outputId": "2c7b34cd-f580-491a-a9eb-b74fa52cd194",
        "colab": {
          "base_uri": "https://localhost:8080/",
          "height": 52
        }
      },
      "source": [
        "def this_fails():\n",
        "  return 1/0\n",
        "try:\n",
        "  this_fails()\n",
        "except ZeroDivisionError as err:\n",
        "  print(\"handling run time error : {}\".format(err))\n",
        "  print(\"handling run time error : \",err)\n"
      ],
      "execution_count": 0,
      "outputs": [
        {
          "output_type": "stream",
          "text": [
            "handling run time error : division by zero\n",
            "handling run time error :  division by zero\n"
          ],
          "name": "stdout"
        }
      ]
    },
    {
      "cell_type": "code",
      "metadata": {
        "id": "-vy8vo4DEFn6",
        "colab_type": "code",
        "outputId": "ab719fed-6c4b-44f5-96ba-a2e89d6bd4ee",
        "colab": {
          "base_uri": "https://localhost:8080/",
          "height": 166
        }
      },
      "source": [
        "#Rainsing exception\n",
        "raise NameError('Hi there')"
      ],
      "execution_count": 0,
      "outputs": [
        {
          "output_type": "error",
          "ename": "NameError",
          "evalue": "ignored",
          "traceback": [
            "\u001b[0;31m---------------------------------------------------------------------------\u001b[0m",
            "\u001b[0;31mNameError\u001b[0m                                 Traceback (most recent call last)",
            "\u001b[0;32m<ipython-input-18-8d5113bf2eff>\u001b[0m in \u001b[0;36m<module>\u001b[0;34m()\u001b[0m\n\u001b[0;32m----> 1\u001b[0;31m \u001b[0;32mraise\u001b[0m \u001b[0mNameError\u001b[0m\u001b[0;34m(\u001b[0m\u001b[0;34m'Hi there'\u001b[0m\u001b[0;34m)\u001b[0m\u001b[0;34m\u001b[0m\u001b[0;34m\u001b[0m\u001b[0m\n\u001b[0m",
            "\u001b[0;31mNameError\u001b[0m: Hi there"
          ]
        }
      ]
    },
    {
      "cell_type": "code",
      "metadata": {
        "id": "HHa2h2JnEZQa",
        "colab_type": "code",
        "outputId": "49f713dd-4d75-4caa-a648-957d46c1a369",
        "colab": {
          "base_uri": "https://localhost:8080/",
          "height": 166
        }
      },
      "source": [
        "raise ValueError('Raising value error')"
      ],
      "execution_count": 0,
      "outputs": [
        {
          "output_type": "error",
          "ename": "ValueError",
          "evalue": "ignored",
          "traceback": [
            "\u001b[0;31m---------------------------------------------------------------------------\u001b[0m",
            "\u001b[0;31mValueError\u001b[0m                                Traceback (most recent call last)",
            "\u001b[0;32m<ipython-input-20-e2ba18a87e92>\u001b[0m in \u001b[0;36m<module>\u001b[0;34m()\u001b[0m\n\u001b[0;32m----> 1\u001b[0;31m \u001b[0;32mraise\u001b[0m \u001b[0mValueError\u001b[0m\u001b[0;34m(\u001b[0m\u001b[0;34m'Raising value error'\u001b[0m\u001b[0;34m)\u001b[0m\u001b[0;34m\u001b[0m\u001b[0;34m\u001b[0m\u001b[0m\n\u001b[0m",
            "\u001b[0;31mValueError\u001b[0m: Raising value error"
          ]
        }
      ]
    },
    {
      "cell_type": "code",
      "metadata": {
        "id": "PPYj60DxFt4C",
        "colab_type": "code",
        "outputId": "3afc0c5e-d326-4abf-cff1-dcfdde4a7f60",
        "colab": {
          "base_uri": "https://localhost:8080/",
          "height": 121
        }
      },
      "source": [
        "def divide(x,y):\n",
        "  try:\n",
        "    result = x/y\n",
        "  except ZeroDivisionError as  err:\n",
        "    print(err)\n",
        "  except TypeError as err:\n",
        "    print(err)\n",
        "  else: \n",
        "    print(\"Result: \" , result)\n",
        "  finally:\n",
        "    print(\"Leaving function\")\n",
        "divide(8,7)\n",
        "divide(8,0)\n",
        "divide(8,'e')\n",
        "\n"
      ],
      "execution_count": 0,
      "outputs": [
        {
          "output_type": "stream",
          "text": [
            "Result:  1.1428571428571428\n",
            "Leaving function\n",
            "division by zero\n",
            "Leaving function\n",
            "unsupported operand type(s) for /: 'int' and 'str'\n",
            "Leaving function\n"
          ],
          "name": "stdout"
        }
      ]
    },
    {
      "cell_type": "code",
      "metadata": {
        "id": "iDtWedtTbfKP",
        "colab_type": "code",
        "outputId": "4c26595b-6dd8-4c6e-a193-5be6f6eed8b3",
        "colab": {
          "base_uri": "https://localhost:8080/",
          "height": 87
        }
      },
      "source": [
        "def scope_test():\n",
        "  def do_local():\n",
        "    spam = \"local spam\"\n",
        "\n",
        "  def do_nonlocal():\n",
        "    nonlocal spam\n",
        "    spam = \"nonlocal spam\"\n",
        "\n",
        "  def do_global():\n",
        "    global spam\n",
        "    spam = \"global spam\"\n",
        "\n",
        "  spam = \"test spam\"\n",
        "  do_local()\n",
        "  print(\"After local assignment\",spam)\n",
        "  do_nonlocal()\n",
        "  print(\"After non local assignment\",spam)\n",
        "  do_global()\n",
        "  print(\"After global assignment\",spam)\n",
        "\n",
        "scope_test()\n",
        "print(\"In global scope\",spam)"
      ],
      "execution_count": 0,
      "outputs": [
        {
          "output_type": "stream",
          "text": [
            "After local assignment test spam\n",
            "After non local assignment nonlocal spam\n",
            "After global assignment nonlocal spam\n",
            "In global scope global spam\n"
          ],
          "name": "stdout"
        }
      ]
    },
    {
      "cell_type": "code",
      "metadata": {
        "id": "iAV5kWt1fjgz",
        "colab_type": "code",
        "outputId": "ea2437be-4b55-4d72-f731-eb1a2629ad3d",
        "colab": {
          "base_uri": "https://localhost:8080/",
          "height": 69
        }
      },
      "source": [
        "class MyClass:\n",
        "  \"\"\"A simple class definition\"\"\"\n",
        "  def __init__(self):\n",
        "    self.data = []\n",
        "    print(\"Constructor call\")\n",
        "\n",
        "  i = 12\n",
        "  def f():\n",
        "    return \"f\"\n",
        "print(MyClass.i, MyClass.f)\n",
        "print(MyClass.__doc__)\n",
        "C = MyClass()"
      ],
      "execution_count": 0,
      "outputs": [
        {
          "output_type": "stream",
          "text": [
            "12 <function MyClass.f at 0x7fbbed59e950>\n",
            "A simple class definition\n",
            "Constructor call\n"
          ],
          "name": "stdout"
        }
      ]
    },
    {
      "cell_type": "code",
      "metadata": {
        "id": "OJJq-U1UkSU5",
        "colab_type": "code",
        "outputId": "771e30b7-473f-4718-9ed6-efa56fff9003",
        "colab": {
          "base_uri": "https://localhost:8080/",
          "height": 35
        }
      },
      "source": [
        "class Complex:\n",
        "  def __init__(self, realpart, imagpart):\n",
        "    self.r = realpart\n",
        "    self.i = imagpart\n",
        "\n",
        "x = Complex(5.0, 6.0)\n",
        "print(x.r, x.i)"
      ],
      "execution_count": 0,
      "outputs": [
        {
          "output_type": "stream",
          "text": [
            "5.0 6.2\n"
          ],
          "name": "stdout"
        }
      ]
    },
    {
      "cell_type": "code",
      "metadata": {
        "id": "xyRh5U42oN05",
        "colab_type": "code",
        "outputId": "60ac8e46-bdd2-48b6-d41e-26fefef0b258",
        "colab": {
          "base_uri": "https://localhost:8080/",
          "height": 52
        }
      },
      "source": [
        "class Dog:\n",
        "  kind = 'canine'\n",
        "  \n",
        "  def __init__(self, name):\n",
        "    self.name = name\n",
        "    self.tricks = []\n",
        "  \n",
        "  def add_trick(self, trick):\n",
        "    self.tricks.append(trick)\n",
        "  \n",
        "\n",
        "\n",
        "a = Dog('Rex')\n",
        "b = Dog('Jack')\n",
        "a.add_trick('Roll over')\n",
        "b.add_trick('Roll back')\n",
        "print(a.tricks)\n",
        "print(b.tricks)"
      ],
      "execution_count": 0,
      "outputs": [
        {
          "output_type": "stream",
          "text": [
            "['Roll over']\n",
            "['Roll back']\n"
          ],
          "name": "stdout"
        }
      ]
    },
    {
      "cell_type": "code",
      "metadata": {
        "id": "m63Ma-76s1ZH",
        "colab_type": "code",
        "outputId": "dde2a80c-20fc-402c-d78e-c5408ee57068",
        "colab": {
          "base_uri": "https://localhost:8080/",
          "height": 35
        }
      },
      "source": [
        "a = 13\n",
        "type(a)"
      ],
      "execution_count": 0,
      "outputs": [
        {
          "output_type": "execute_result",
          "data": {
            "text/plain": [
              "int"
            ]
          },
          "metadata": {
            "tags": []
          },
          "execution_count": 17
        }
      ]
    },
    {
      "cell_type": "code",
      "metadata": {
        "id": "9Iu_FSmLusr6",
        "colab_type": "code",
        "outputId": "d6f8915c-7a62-4f2f-cfeb-027ca1354923",
        "colab": {
          "base_uri": "https://localhost:8080/",
          "height": 35
        }
      },
      "source": [
        "class C:\n",
        "    @classmethod\n",
        "    def f(cls):\n",
        "      print(\"f\")\n",
        "\n",
        "C.f()"
      ],
      "execution_count": 0,
      "outputs": [
        {
          "output_type": "stream",
          "text": [
            "f\n"
          ],
          "name": "stdout"
        }
      ]
    },
    {
      "cell_type": "code",
      "metadata": {
        "id": "ZIahRYdkwTIu",
        "colab_type": "code",
        "outputId": "0444be8a-a3e3-4c98-f7b7-075d43ad3757",
        "colab": {
          "base_uri": "https://localhost:8080/",
          "height": 35
        }
      },
      "source": [
        "class SomeClass:\n",
        "    def create_arr(self): # An instance method\n",
        "        self.arr = []\n",
        "    \n",
        "    def insert_to_arr(self, value):  #An instance method\n",
        "        self.arr.append(value)\n",
        "        \n",
        "    @classmethod\n",
        "    def class_method(cls):\n",
        "        print(\"the class method was called\")\n",
        "SomeClass.class_method()"
      ],
      "execution_count": 0,
      "outputs": [
        {
          "output_type": "stream",
          "text": [
            "the class method was called\n"
          ],
          "name": "stdout"
        }
      ]
    },
    {
      "cell_type": "code",
      "metadata": {
        "id": "Bnm5jcSFAX3o",
        "colab_type": "code",
        "outputId": "96066e6c-cfee-4d8b-d4d5-364becb1e689",
        "colab": {
          "base_uri": "https://localhost:8080/",
          "height": 69
        }
      },
      "source": [
        "res_1 = (x for x in range(10))\n",
        "res_2 = (x*x for x in range(10))\n",
        "res_3 = ((x,y) for x,y in zip(range(2),range(2)))\n",
        "print(*res_1)\n",
        "print(*res_2)\n",
        "print(*res_3)"
      ],
      "execution_count": 0,
      "outputs": [
        {
          "output_type": "stream",
          "text": [
            "0 1 2 3 4 5 6 7 8 9\n",
            "0 1 4 9 16 25 36 49 64 81\n",
            "(0, 0) (1, 1)\n"
          ],
          "name": "stdout"
        }
      ]
    },
    {
      "cell_type": "code",
      "metadata": {
        "id": "8-J79NLMBT6e",
        "colab_type": "code",
        "outputId": "82755784-8125-4390-e1bc-332f169867cf",
        "colab": {
          "base_uri": "https://localhost:8080/",
          "height": 55
        }
      },
      "source": [
        "from math import sin, pi\n",
        "sin_table = {x:sin(x*pi/180) for x in range(0,10)}\n",
        "print(sin_table)"
      ],
      "execution_count": 0,
      "outputs": [
        {
          "output_type": "stream",
          "text": [
            "{0: 0.0, 1: 0.01745240643728351, 2: 0.03489949670250097, 3: 0.05233595624294383, 4: 0.0697564737441253, 5: 0.08715574274765817, 6: 0.10452846326765346, 7: 0.12186934340514748, 8: 0.13917310096006544, 9: 0.15643446504023087}\n"
          ],
          "name": "stdout"
        }
      ]
    },
    {
      "cell_type": "code",
      "metadata": {
        "id": "Y33cU4B3B9Ib",
        "colab_type": "code",
        "outputId": "40275104-1878-4b71-e584-8f488b0f0c23",
        "colab": {
          "base_uri": "https://localhost:8080/",
          "height": 35
        }
      },
      "source": [
        "res_3 = set((x,y) for x,y in zip(range(2),range(2)))\n",
        "print(res_3.__class__)"
      ],
      "execution_count": 0,
      "outputs": [
        {
          "output_type": "stream",
          "text": [
            "<class 'set'>\n"
          ],
          "name": "stdout"
        }
      ]
    },
    {
      "cell_type": "code",
      "metadata": {
        "id": "P9uaKpg_D6ak",
        "colab_type": "code",
        "outputId": "ccbc300c-19e6-400e-818e-1a2fcdb78087",
        "colab": {
          "base_uri": "https://localhost:8080/",
          "height": 191
        }
      },
      "source": [
        "def reverse_data(data):\n",
        "  for index in range(len(data)-1, -1, -1):\n",
        "    yield data[index]\n",
        "L = range(10)\n",
        "for l in reverse_data(L):\n",
        "  print(l)"
      ],
      "execution_count": 0,
      "outputs": [
        {
          "output_type": "stream",
          "text": [
            "9\n",
            "8\n",
            "7\n",
            "6\n",
            "5\n",
            "4\n",
            "3\n",
            "2\n",
            "1\n",
            "0\n"
          ],
          "name": "stdout"
        }
      ]
    },
    {
      "cell_type": "code",
      "metadata": {
        "id": "AcpRyd0zFXtI",
        "colab_type": "code",
        "outputId": "56dd3da1-0a7d-49a3-9bd0-cb2502c06039",
        "colab": {
          "base_uri": "https://localhost:8080/",
          "height": 87
        }
      },
      "source": [
        "for element in [1,2,3,4]:\n",
        "  print(element)"
      ],
      "execution_count": 0,
      "outputs": [
        {
          "output_type": "stream",
          "text": [
            "1\n",
            "2\n",
            "3\n",
            "4\n"
          ],
          "name": "stdout"
        }
      ]
    },
    {
      "cell_type": "code",
      "metadata": {
        "id": "3kNsGFnZFgZe",
        "colab_type": "code",
        "outputId": "6c8acece-f53f-4361-e54a-71017eab7f87",
        "colab": {
          "base_uri": "https://localhost:8080/",
          "height": 87
        }
      },
      "source": [
        "for element in (1,2,3,4):\n",
        "  print(element)"
      ],
      "execution_count": 0,
      "outputs": [
        {
          "output_type": "stream",
          "text": [
            "1\n",
            "2\n",
            "3\n",
            "4\n"
          ],
          "name": "stdout"
        }
      ]
    },
    {
      "cell_type": "code",
      "metadata": {
        "id": "cooqIiCUFkMU",
        "colab_type": "code",
        "outputId": "076228ad-a21b-456c-8e33-188f72d1966a",
        "colab": {
          "base_uri": "https://localhost:8080/",
          "height": 87
        }
      },
      "source": [
        "for k, v in {1:'a',2:'b',3:'c',4:'d'}.items():\n",
        "  print(k,v)"
      ],
      "execution_count": 0,
      "outputs": [
        {
          "output_type": "stream",
          "text": [
            "1 a\n",
            "2 b\n",
            "3 c\n",
            "4 d\n"
          ],
          "name": "stdout"
        }
      ]
    },
    {
      "cell_type": "code",
      "metadata": {
        "id": "bhlUBGI7GrWJ",
        "colab_type": "code",
        "outputId": "7acc2ac7-725e-439b-c225-9575e100e8c1",
        "colab": {
          "base_uri": "https://localhost:8080/",
          "height": 35
        }
      },
      "source": [
        "L = range(10)\n",
        "print(list(enumerate(L)))"
      ],
      "execution_count": 0,
      "outputs": [
        {
          "output_type": "stream",
          "text": [
            "[(0, 0), (1, 1), (2, 2), (3, 3), (4, 4), (5, 5), (6, 6), (7, 7), (8, 8), (9, 9)]\n"
          ],
          "name": "stdout"
        }
      ]
    },
    {
      "cell_type": "code",
      "metadata": {
        "id": "5F1Dq8i5HBnl",
        "colab_type": "code",
        "outputId": "2900a84e-f021-4e64-e045-1aba5950180f",
        "colab": {
          "base_uri": "https://localhost:8080/",
          "height": 69
        }
      },
      "source": [
        "L = [\"a\",\"b\",\"c\"]\n",
        "for idx, elem in enumerate(L):\n",
        "  print(idx,elem)"
      ],
      "execution_count": 0,
      "outputs": [
        {
          "output_type": "stream",
          "text": [
            "0 a\n",
            "1 b\n",
            "2 c\n"
          ],
          "name": "stdout"
        }
      ]
    },
    {
      "cell_type": "code",
      "metadata": {
        "id": "wFBKgVTOMQAe",
        "colab_type": "code",
        "outputId": "da87a1b1-0b66-4cf9-9036-e2c222f8e089",
        "colab": {
          "base_uri": "https://localhost:8080/",
          "height": 235
        }
      },
      "source": [
        "#List to array\n",
        "from array import array\n",
        "L = list(range(10))\n",
        "L.append('a')\n",
        "print(str(L))\n",
        "A_L = array('i',L)\n",
        "print(A_L)"
      ],
      "execution_count": 0,
      "outputs": [
        {
          "output_type": "stream",
          "text": [
            "[0, 1, 2, 3, 4, 5, 6, 7, 8, 9, 'a']\n"
          ],
          "name": "stdout"
        },
        {
          "output_type": "error",
          "ename": "TypeError",
          "evalue": "ignored",
          "traceback": [
            "\u001b[0;31m---------------------------------------------------------------------------\u001b[0m",
            "\u001b[0;31mTypeError\u001b[0m                                 Traceback (most recent call last)",
            "\u001b[0;32m<ipython-input-25-784afb019c9e>\u001b[0m in \u001b[0;36m<module>\u001b[0;34m()\u001b[0m\n\u001b[1;32m      4\u001b[0m \u001b[0mprint\u001b[0m\u001b[0;34m(\u001b[0m\u001b[0mstr\u001b[0m\u001b[0;34m(\u001b[0m\u001b[0mL\u001b[0m\u001b[0;34m)\u001b[0m\u001b[0;34m)\u001b[0m\u001b[0;34m\u001b[0m\u001b[0;34m\u001b[0m\u001b[0m\n\u001b[1;32m      5\u001b[0m \u001b[0;34m\u001b[0m\u001b[0m\n\u001b[0;32m----> 6\u001b[0;31m \u001b[0mA_L\u001b[0m \u001b[0;34m=\u001b[0m \u001b[0marray\u001b[0m\u001b[0;34m(\u001b[0m\u001b[0;34m'i'\u001b[0m\u001b[0;34m,\u001b[0m\u001b[0mL\u001b[0m\u001b[0;34m)\u001b[0m\u001b[0;34m\u001b[0m\u001b[0;34m\u001b[0m\u001b[0m\n\u001b[0m\u001b[1;32m      7\u001b[0m \u001b[0mprint\u001b[0m\u001b[0;34m(\u001b[0m\u001b[0mA_L\u001b[0m\u001b[0;34m)\u001b[0m\u001b[0;34m\u001b[0m\u001b[0;34m\u001b[0m\u001b[0m\n",
            "\u001b[0;31mTypeError\u001b[0m: an integer is required (got type str)"
          ]
        }
      ]
    },
    {
      "cell_type": "code",
      "metadata": {
        "id": "hOPCZatNQx8w",
        "colab_type": "code",
        "outputId": "0a6d8154-a39b-4b2c-ae6a-521137c1b011",
        "colab": {
          "base_uri": "https://localhost:8080/",
          "height": 253
        }
      },
      "source": [
        "s= \"ama\"\n",
        "it = iter(s)\n",
        "print(next(it))\n",
        "print(next(it))\n",
        "print(next(it))\n",
        "print(next(it))"
      ],
      "execution_count": 0,
      "outputs": [
        {
          "output_type": "stream",
          "text": [
            "a\n",
            "m\n",
            "a\n"
          ],
          "name": "stdout"
        },
        {
          "output_type": "error",
          "ename": "StopIteration",
          "evalue": "ignored",
          "traceback": [
            "\u001b[0;31m---------------------------------------------------------------------------\u001b[0m",
            "\u001b[0;31mStopIteration\u001b[0m                             Traceback (most recent call last)",
            "\u001b[0;32m<ipython-input-30-5732c6737673>\u001b[0m in \u001b[0;36m<module>\u001b[0;34m()\u001b[0m\n\u001b[1;32m      4\u001b[0m \u001b[0mprint\u001b[0m\u001b[0;34m(\u001b[0m\u001b[0mnext\u001b[0m\u001b[0;34m(\u001b[0m\u001b[0mit\u001b[0m\u001b[0;34m)\u001b[0m\u001b[0;34m)\u001b[0m\u001b[0;34m\u001b[0m\u001b[0;34m\u001b[0m\u001b[0m\n\u001b[1;32m      5\u001b[0m \u001b[0mprint\u001b[0m\u001b[0;34m(\u001b[0m\u001b[0mnext\u001b[0m\u001b[0;34m(\u001b[0m\u001b[0mit\u001b[0m\u001b[0;34m)\u001b[0m\u001b[0;34m)\u001b[0m\u001b[0;34m\u001b[0m\u001b[0;34m\u001b[0m\u001b[0m\n\u001b[0;32m----> 6\u001b[0;31m \u001b[0mprint\u001b[0m\u001b[0;34m(\u001b[0m\u001b[0mnext\u001b[0m\u001b[0;34m(\u001b[0m\u001b[0mit\u001b[0m\u001b[0;34m)\u001b[0m\u001b[0;34m)\u001b[0m\u001b[0;34m\u001b[0m\u001b[0;34m\u001b[0m\u001b[0m\n\u001b[0m",
            "\u001b[0;31mStopIteration\u001b[0m: "
          ]
        }
      ]
    },
    {
      "cell_type": "code",
      "metadata": {
        "id": "WeHivrFQRUyE",
        "colab_type": "code",
        "outputId": "45adc642-d93e-4b64-b545-fb538655744c",
        "colab": {
          "base_uri": "https://localhost:8080/",
          "height": 69
        }
      },
      "source": [
        "class Reverse:\n",
        "  def __init__(self, data):\n",
        "    self.data = data\n",
        "    self.index = len(data)\n",
        "  \n",
        "  def __iter__(self):\n",
        "    return self\n",
        "\n",
        "  def __next__(self):\n",
        "    if self.index == 0 :\n",
        "      raise StopIteration\n",
        "    self.index -=  1\n",
        "    return self.data[self.index]\n",
        "  next = __next__\n",
        "s = \"hello\"\n",
        "rev = Reverse(s)\n",
        "#print(iter(rev))\n",
        "#it = iter(rev)\n",
        "print(rev.next())\n",
        "print(rev.next())\n",
        "print(rev.next())"
      ],
      "execution_count": 0,
      "outputs": [
        {
          "output_type": "stream",
          "text": [
            "o\n",
            "l\n",
            "l\n"
          ],
          "name": "stdout"
        }
      ]
    },
    {
      "cell_type": "code",
      "metadata": {
        "id": "AL1e4hDoXBm8",
        "colab_type": "code",
        "outputId": "67c7cbfa-0c51-4d4a-8a34-87aaa8252022",
        "colab": {
          "base_uri": "https://localhost:8080/",
          "height": 52
        }
      },
      "source": [
        "import os\n",
        "print(os.getcwd())\n",
        "f = os.system('ls')\n",
        "print(f)"
      ],
      "execution_count": 0,
      "outputs": [
        {
          "output_type": "stream",
          "text": [
            "/content\n",
            "0\n"
          ],
          "name": "stdout"
        }
      ]
    },
    {
      "cell_type": "code",
      "metadata": {
        "id": "wHsFsla9ZIyJ",
        "colab_type": "code",
        "outputId": "d7c5a2ab-d7b0-4615-c3ca-20b4c4af455b",
        "colab": {
          "base_uri": "https://localhost:8080/",
          "height": 124
        }
      },
      "source": [
        "from google.colab import drive\n",
        "drive.mount('/content/drive')"
      ],
      "execution_count": 0,
      "outputs": [
        {
          "output_type": "stream",
          "text": [
            "Go to this URL in a browser: https://accounts.google.com/o/oauth2/auth?client_id=947318989803-6bn6qk8qdgf4n4g3pfee6491hc0brc4i.apps.googleusercontent.com&redirect_uri=urn%3Aietf%3Awg%3Aoauth%3A2.0%3Aoob&scope=email%20https%3A%2F%2Fwww.googleapis.com%2Fauth%2Fdocs.test%20https%3A%2F%2Fwww.googleapis.com%2Fauth%2Fdrive%20https%3A%2F%2Fwww.googleapis.com%2Fauth%2Fdrive.photos.readonly%20https%3A%2F%2Fwww.googleapis.com%2Fauth%2Fpeopleapi.readonly&response_type=code\n",
            "\n",
            "Enter your authorization code:\n",
            "··········\n",
            "Mounted at /content/drive\n"
          ],
          "name": "stdout"
        }
      ]
    },
    {
      "cell_type": "code",
      "metadata": {
        "id": "Rq8kLsmTcx7Y",
        "colab_type": "code",
        "outputId": "b7dbdf01-c13b-4f22-9dd0-ffffee49e1cc",
        "colab": {
          "base_uri": "https://localhost:8080/",
          "height": 1000
        }
      },
      "source": [
        "for dir in os.walk(os.getcwd()):\n",
        "  print(dir)"
      ],
      "execution_count": 0,
      "outputs": [
        {
          "output_type": "stream",
          "text": [
            "('/content', ['.config', 'drive', 'sample_data'], [])\n",
            "('/content/.config', ['configurations', 'logs'], ['active_config', 'gce', '.last_update_check.json', 'config_sentinel', '.metricsUUID'])\n",
            "('/content/.config/configurations', [], ['config_default'])\n",
            "('/content/.config/logs', ['2019.08.27'], [])\n",
            "('/content/.config/logs/2019.08.27', [], ['16.17.00.530950.log', '16.17.22.686467.log', '16.17.21.663235.log', '16.17.17.407104.log', '16.17.07.367707.log'])\n",
            "('/content/drive', ['My Drive', '.Trash'], [])\n",
            "('/content/drive/My Drive', ['THESIS2015', 'FilterRegistration', 'Hotels', 'Shared', 'TRAVEL', 'SIVP', 'SCANNED DOC', 'AMIRA', 'ABDENOUR', 'Smooth Real Time Head Tracking for Virtual Reality Applications_2', 'Colab Notebooks', 'FEDCSIS2019', 'vopo.easyhomefinance'], ['Thesis2014Lounisfinal.docx', 'LounisChermakThesis2014.docx', 'Thesis2014Lounisfinal.docx.gdoc', 'Nouveau Programme Ingénieur Genie Informatique.pdf', 'DACPR001_DACI-JPA14817_0040_001.pdf', 'VFS Response Mail.pdf', 'VFS Response Mail (1).pdf', 'DACPR001_DACI-JPA14817_0056_001.pdf', 'DACPR001_DACI-JPA14817_0055_001.pdf', 'DACPR001_DACI-JPA14817_0054_001.pdf', 'DACPR001_DACI-JPA14817_0053_001.pdf', 'DACPR001_DACI-JPA14817_0052_001.pdf', 'DACPR001_DACI-JPA14817_0051_001.pdf', 'DACPR001_DACI-JPA14817_0050_001.pdf', 'DACPR001_DACI-JPA14817_0049_001.pdf', 'DACPR001_DACI-JPA14817_0048_001.pdf', '2015-07-01 17-42.pdf', 'Eticket_1.pdf', 'PhD certificate0001.PDF', 'PhD certificate0002.PDF', 'standardisation CLSI 2015.pdf', 'Brucella -Francisella-Pasteurella rÃ_sidanat 2013.doc', 'ToCranfield.rar', 'kinect_For_Windows_2_BOX.jpg', 'data_out.pdf', 'Attendance Letter_AMAMRA ABDENOUR.pdf', 'CASFM_EUCAST_V1_0_2014(1).pdf', 'rapport13 (2).pdf', 'mémoire_finale.pdf', '11760_2016_984_Article.pdf', 'PrevisionConferences 2017.xlsx', 'fiche  Conference 2017 MERABTI sans entetes.doc', 'Rapport_v1.pdf', 'prevision 2018.docx', 'Kerry Koitzsch (auth.)-Pro Hadoop Data Analytics _ Designing and Building Big Data Systems using the Hadoop Ecosystem -Apress (2017).pdf', 'code_coorige_CNN_avec_et_sans_Transfer_diff_initialisation_sans_Shuffle.m', '24544.pdf', 'mimoire PFE - Chapitre 2  (expérimentale corrigée).docx', 'toc.docx', 'S. Kevin Zhou, Hayit Greenspan and Dinggang Shen (Eds.)-Deep Learning for Medical Image Analysis- Academic Press  (2017) (1).pdf', 'demoMacro.wmv', '[Adrian_Rosebrock]_Deep_Learning_for_Computer_Visi(zlibraryexau2g3p.onion).pdf', 'foo-compressed.pdf', 'output (1).pdf', 'Your big idea.gslides', '20180919.pdf', 'PFE.pdf', 'output.pdf', '[Adaptive Computation and Machine Learning series] Bengio, Yoshua_ Courville, Aaron_ Goodfellow, Ian J - Deep learning_ adaptive computation and machine learning (2016, The MIT Press).pdf', 'An Introduction to Statistical Learning.pdf', '[Francois_Chollet]_Deep_Learning_with_Python(b-ok.xyz).pdf', \"Bharath Ramsundar - Tensorflow for Deep Learning_ From Linear Regression to Reinforcement Learning (2018, O'Reilly Media).pdf\", 'Abdenour_AMAMRA.rar', 'HDR_AMAMRA_Final.pptx', 'HDR_AMAMRA_Final (1).pptx', 'Traffic_Sign_Classifier (5) (1).ipynb', 'S. Kevin Zhou, Hayit Greenspan and Dinggang Shen (Eds.)-Deep Learning for Medical Image Analysis- Academic Press  (2017).pdf', '00 Guide to Medical Image Analysis_ Methods and Algorithms(2017)_5.pdf', 'PFE-master.rar', '[Francois_Chollet]_Deep_Learning_with_Python(b-ok.xyz) (1).pdf', 'Adrian Rosebrock - Deep Learning for Computer Vision with Python 3-ImageNetBundle(2017, PyImageSearch).pdf', 'تسليم الشهادات.m4a', 'real_data.ipynb'])\n",
            "('/content/drive/My Drive/THESIS2015', ['Chapter3', 'Chapter2', 'Chapter5', 'Chapter7', 'Chapter1', 'Chapter6', '0Templates', 'Chapter4', 'To Review', 'VIVA preparation material', 'ANTHONY work', 'Presentation'], ['Thesis_Template.docx', 'Thesis_Template.dotm', 'Chapter_Template.docx', '~$apter_Template.dotm', 'Chapter_Template.dotm', '~$apter_Template.dotx', 'Chapter_Template.dotx', 'Thesis_Template.dotx', '~$esis_Template.dotx', 'Capter_Template_CMU.dotm', 'Abstract_CMU.docx', '~WRL2899.tmp', '~$esis_CMU_.docx', '~$esis_CMU_Error.docx', '~WRD1792.tmp', '~WRL1865.tmp', 'Thesis_CMU_PlagiarismCheck.pdf', 'Thesis_CMU_FINAL.pdf', 'Errata.docx', 'Thesis_CMU_.docx', '~$VIVA.pptx', 'VIVA.pptx', 'Robust 3D registration and tracking with RGBD sensors.pdf'])\n",
            "('/content/drive/My Drive/THESIS2015/Chapter3', ['Code', 'Figures'], ['3C681B48.tmp', '~$Presentation8.pptx', 'Chapter_3.pdf', 'Presentation8.pptx', '~$apter_3_CMU.docx', '~WRL1292.tmp', 'Chapter_3.docx', 'Chapter_3_CMU_.pdf', 'Chapter_3_CMU.pdf', '~$apter_3.docx', 'Figures_3.rar', 'Chapter_3_CMU.docx', 'Presentation_3.pptx'])\n",
            "('/content/drive/My Drive/THESIS2015/Chapter3/Code', [], ['BellCurve.m'])\n",
            "('/content/drive/My Drive/THESIS2015/Chapter3/Figures', [], ['3_1_a.png', '3_1_b.png', '3_5_a.png', '3_7_a.png', '3_7_b.png', '3_11_b.png', '3_8_c.png', '3_11_a.png', '3_11_c.png', '3_13_a.png', '3_13_b.png', '3_15_a.png', '3_15_b.png', '3_20_b.png', '3_20_a.png', '3_21_a.png', '3_21_b.png', '3_8_a.png', '3_8_b.png', '3_9_a.png', '3_9_b.png', '3_10_a.png', '3_10_b.png', '3_14.png', '3_26_a.png', '3_26_b.png', '3_27_a.png', '3_27_b.png', '3_23_a.png', '3_23_b.png', '3_24_a.png', '3_24_b.png', '3_31_a_1.png', '3_31_a_2.png', '3_31_a_3.png', '3_31_a_4.png', '3_31_b_1.png', '3_31_b_2.png', '3_31_b_3.png', '3_31_b_4.png', '3_31_c_1.png', '3_31_c_4.png', '3_33_11.jpg', '3_33_12.png', '3_33_13.png', '3_33_21.png', '3_33_22.png', '3_33_23.png', '3_33_31.png', '3_33_32.png', '3_33_33.png', '3_33_41.png', '3_33_42.png', '3_33_43.png', '3_31_c_2.png', '3_31_c_3.png', '3_5_c.png', '3_2.png', '3_4_a.png', '3_19.png', '3_22.png', '3_25.png', '3_5_b.png', '3_17_b.png', '3_18.png', '3_17.png', '3_4_b.png', '3_4_c.png', '3_30.png', '3_17_a.png', '3_6.png', '3_16.png', '3_3.png', '3_32.png', '3_12_a.png', '3_12_b.png', '3_20_a_.png', '3_20_b__.png'])\n",
            "('/content/drive/My Drive/THESIS2015/Chapter2', ['Code', 'Figures'], ['Chapter_2.docx', '~$Presentation_2.pptx', '~WRL1202.tmp', '~WRL0090.tmp', 'Figures_2.rar', 'Chapter_2_CMU[Conflict].docx', 'Chapter_2_CMU (1).pdf', 'Chapter_2_CMU.pdf', '~$apter_2_CMU.docx', 'Chapter_2_CMU.docx', 'Presentation_2.pptx'])\n",
            "('/content/drive/My Drive/THESIS2015/Chapter2/Code', [], [])\n",
            "('/content/drive/My Drive/THESIS2015/Chapter2/Figures', ['OptiTrack', '25022015Captured images'], ['New Picture (6).bmp', 'New Picture (4).bmp', 'Picture12.png', 'Picture13.png', 'New Picture (10).bmp', 'New Picture (11).bmp', 'New Picture (12).bmp', 'Visualisation_VR_1.jpg', 'VR_1_VisCG_Urban City Planning in Semi.png', 'VR_2_Ophthamology EyeSi_05_0.jpg', 'Picture1.png', 'IMG_1298.jpg', 'IMG_1284.jpg', 'IMG_1293.jpg', 'IMG_1265.jpg', 'IMG_1265 (1).jpg', 'IMG_1271.jpg', 'IMG_1274.jpg', 'IMG_1281.jpg', 'Picture253.png', 'prime17wPerspectiveLarge.png', 'New Picture (13).bmp', 'pittsburgh_11.jpg', 'Picture125.png', 'Picture22.png', 'Picture12o.png', 'Picture12v.png', 'New Picture.bmp', 'Picture153.png', 'New Picture (1).bmp', 'download.jpg', 'MultiView.png', 'Picture1f25.png', 'KP.png', 'Harris_1.png', 'Harris_2.png', 'Harris_3.png', 'Thrift_1.png', 'Thrift_2.png', 'Thrift_3.png', 'ErrorSiftVSHARRIS.png', 'TimeSiftVSHARRIS.png', 'cuda_hard.png', 'Picture2 (1).png', 'DiscreteDepth.bmp', 'Depth.bmp', 'Picture15k.png', 'Kinect2.png', 'kinect.png', 'Picture15kl.png', 'Picture154.png', 'Picture11.png', 'Picture123.png', 'Picture1l5.png', 'GPU1.png', 'New Picture (5).bmp', 'Picture156.png', 'Picture121.png', 'Picture2.png', 'Picture15l.png'])\n",
            "('/content/drive/My Drive/THESIS2015/Chapter2/Figures/OptiTrack', [], ['IMG_1264.JPG', 'IMG_1264 (1).JPG', 'IMG_1265.JPG', 'IMG_1266.JPG', 'IMG_1267.JPG', 'IMG_1268.JPG', 'IMG_1269.JPG', 'IMG_1270.JPG', 'IMG_1271.JPG', 'IMG_1272.JPG', 'IMG_1273.JPG', 'IMG_1274.JPG', 'IMG_1275.JPG', 'IMG_1276.JPG', 'IMG_1277.JPG', 'IMG_1278.JPG', 'IMG_1279.JPG', 'IMG_1280.JPG', 'IMG_1281.JPG', 'IMG_1282.JPG', 'IMG_1283 (1).JPG', 'IMG_1283.JPG', 'IMG_1284 (1).JPG', 'IMG_1284.JPG', 'IMG_1285 (1).JPG', 'IMG_1285.JPG', 'IMG_1286 (1).JPG', 'IMG_1286.JPG', 'IMG_1287 (1).JPG', 'IMG_1287.JPG', 'IMG_1288 (1).JPG', 'IMG_1288.JPG', 'IMG_1289 (1).JPG', 'IMG_1289.JPG', 'IMG_1290 (1).JPG', 'IMG_1290.JPG', 'IMG_1291 (1).JPG', 'IMG_1291.JPG', 'IMG_1292.JPG', 'IMG_1292 (1).JPG', 'IMG_1293.JPG', 'IMG_1293 (1).JPG', 'IMG_1294.JPG', 'IMG_1295.JPG', 'IMG_1296.JPG', 'IMG_1297.JPG', 'IMG_1298.JPG', 'IMG_1299.JPG', 'IMG_1300.JPG', 'IMG_1301.JPG', 'IMG_1302.JPG', 'IMG_1303.JPG', 'IMG_1304.JPG', 'IMG_1305.JPG', 'IMG_1306.JPG', 'IMG_1281.png'])\n",
            "('/content/drive/My Drive/THESIS2015/Chapter2/Figures/25022015Captured images', ['NewKinect', 'Images', 'OldKinect'], ['IMG_1359.JPG', 'IMG_1359 (1).JPG', 'IMG_1388.JPG', 'IMG_1384.JPG', 'IMG_1384 (1).JPG'])\n",
            "('/content/drive/My Drive/THESIS2015/Chapter2/Figures/25022015Captured images/NewKinect', [], ['KinectScreenshot-Infrared-04-09-19.png', 'KinectScreenshot-Color-05-00-56.png', 'KinectScreenshot-Depth-05-01-03.png', 'KinectScreenshot-Infrared-05-01-08.png', 'KinectScreenshot-Infrared-05-07-38.png', 'KinectScreenshot-Depth-05-07-45.png', 'KinectScreenshot-Color-05-07-51.png', 'KinectScreenshot-Color-05-16-01.png', 'KinectScreenshot-Depth-05-25-52.png', 'KinectScreenshot-Depth-06-46-34.png', 'KinectScreenshot-Color-06-47-34.png', 'KinFusion.png', 'SurfaceNormals.png'])\n",
            "('/content/drive/My Drive/THESIS2015/Chapter2/Figures/25022015Captured images/Images', [], ['IMG_1353.JPG', 'IMG_1354.JPG', 'IMG_1355.JPG', 'IMG_1360.JPG', 'IMG_1361.JPG', 'IMG_1363.JPG', 'IMG_1362.JPG', 'IMG_1364.JPG', 'IMG_1365.JPG', 'IMG_1366.JPG', 'IMG_1367.JPG', 'IMG_1368.JPG', 'IMG_1369.JPG', 'IMG_1371.JPG', 'IMG_1370.JPG', 'IMG_1372.JPG', 'IMG_1373.JPG', 'IMG_1374.JPG', 'IMG_1375.JPG', 'IMG_1376.JPG', 'IMG_1377.JPG', 'IMG_1378.JPG', 'IMG_1379.JPG', 'IMG_1381.JPG', 'IMG_1380.JPG', 'IMG_1383.JPG', 'IMG_1385.JPG', 'IMG_1386.JPG', 'IMG_1387.JPG', 'IMG_1389.JPG', 'IMG_1390.JPG', 'IMG_1391.JPG', 'IMG_1392.JPG', 'IMG_1393.JPG', 'IMG_1394.JPG', 'IMG_1382.JPG', 'IMG_1384.JPG', 'IMG_1388.JPG', 'IMG_1357.JPG', 'IMG_1358.JPG', 'IMG_1359.JPG', 'IMG_1356.JPG'])\n",
            "('/content/drive/My Drive/THESIS2015/Chapter2/Figures/25022015Captured images/OldKinect', [], ['New Picture (70).bmp', 'New Picture (8).bmp', 'New Picture (7).bmp', 'New Picture.bmp', 'New Picture (73).bmp', 'New Picture (9).bmp', 'New Picture (71).bmp', 'New Picture (72).bmp', 'New Picture (74).bmp', 'New Picture (62).bmp', 'New Picture (63).bmp', 'New Picture (64).bmp', 'New Picture (68).bmp', 'New Picture (69).bmp', 'New Picture (65).bmp', 'New Picture (66).bmp', 'New Picture (67).bmp'])\n",
            "('/content/drive/My Drive/THESIS2015/Chapter5', ['Code', 'Figures'], ['~$apter_5_CMU.docx', 'Chapter_5_CMU_.docx', 'Markers extraction.docx', 'Real.docx', '2F6FF03D.tmp', '785C811A.tmp', 'pptEDF4.tmp', 'Chapter_5_CMU_.pdf', 'page.pdf', 'Presentation1.pptx', '~$Presentation.pptx', 'Presentation_5.pptx', 'Presentation.pptx', 'Chapter_5_CMU.pdf', 'Figures_5.rar', 'Chapter_5_CMU.docx'])\n",
            "('/content/drive/My Drive/THESIS2015/Chapter5/Code', [], [])\n",
            "('/content/drive/My Drive/THESIS2015/Chapter5/Figures', [], ['1_1.png', '1_1_a.png', '1_1_a (1).png', '1_1_b.png', '1_1_b (1).png', '24.png', '24 (1).png', '50.png', '30.png', '51.png', '3MarkersRGB.bmp', '34.png', '26.png', '49.png', '45.png', '44.png', '39.png', '25.png', '3MarkersBin.bmp', '3MarkersHSV.png', '40.png', '26 (1).png', '52.png', '53.png', '31.png', '36.png', '35.png', '25 (1).png', '41.png', '46.png', '5.png', '4.png', '29.png', '54.png', '27.png', '27 (1).png', '28.png', '28 (1).png', '32.png', '33.png', '37.png', '38.png', '42.png', '43.png', '47.png', '48.png', '1_1 (1).jpg', '1_1.jpg', '5_3_a.png', '5_3_b.png', '5_6.png', '5_9_b.png', '5_9_c.png', '5_9_d.png', '5_7.png', '5_17.png', '5_10.png', '5_4.png', '23 (1).png', '23.png', '5_11.png', '5_9_a.png', '22 (1).png', '22.png', '21 (1).png', '21.png', '1_15_d (1).png', '1_15_d.png', '1_16_d (1).png', '1_16_d.png', '1_17_d (1).png', '1_17_d.png', '1_18_d (1).png', '1_18_d.png', '1_19_d (1).png', '1_19_d.png', '1_15_e (1).png', '1_15_e.png', '1_16_e (1).png', '1_16_e.png', '1_17_e (1).png', '1_17_e.png', '1_18_e (1).png', '1_18_e.png', '1_19_e (1).png', '1_19_e.png', '5_20.png', '5_21_a.png', '5_21_b.png', '5_21_c.png', '5_21_d.png', '5_21_e.png', '5_19_a.png', '5_19_b.png', '5_19_c.png', '5_19_d.png', '5_19_e.png', '5_18_a.png', '5_18_b.png', '5_18_c.png', '5_18_d.png', '5_18_e.png', '5_17_a.png', '5_17_b.png', '5_17_c.png', '5_17_d.png', '5_17_e.png', '5_16_a.png', '5_16_b.png', '5_16_c.png', '5_16_d.png', '5_16_e.png', '5_15_a.png', '5_15_b.png', '5_15_c.png', '5_15_d.png', '5_15_e.png', '5_14.png', '5_13.png', '5_12_a.png', '5_12_b.png', '5_11_a.png', '5_11_b.png', '5_10_a.png', '5_10_b.png', '5_8.png', '5_5_a.png', '5_5_b.png', '5_4_a.png', '5_4_b.png', '5_2_a.png', '5_2_b.png', '5_1.png', '5_22.png', '5_3.png', '5_9.png'])\n",
            "('/content/drive/My Drive/THESIS2015/Chapter7', ['Code', 'Figures'], ['Chapter_7_CMU.docx'])\n",
            "('/content/drive/My Drive/THESIS2015/Chapter7/Code', [], [])\n",
            "('/content/drive/My Drive/THESIS2015/Chapter7/Figures', [], [])\n",
            "('/content/drive/My Drive/THESIS2015/Chapter1', ['Code', 'Figures'], ['Chapter_1.dotx', 'New Text Document.txt', '~WRL3898.tmp', '~$apter_1_CMU.docx', '~$apter_1.dotx', 'Chapter_1_CMU.docx'])\n",
            "('/content/drive/My Drive/THESIS2015/Chapter1/Code', [], [])\n",
            "('/content/drive/My Drive/THESIS2015/Chapter1/Figures', [], [])\n",
            "('/content/drive/My Drive/THESIS2015/Chapter6', ['Code', 'Figures'], ['Chapter_6_CMU.docx.gdoc', '~$Presentation_6.pptx', 'Chapter_6_CMU_.docx', '~$apter_6_CMU.docx', 'Chapter_6_CMU.pdf', 'Figures_6.rar', 'Chapter_6_CMU.docx', 'Presentation_6.pptx'])\n",
            "('/content/drive/My Drive/THESIS2015/Chapter6/Code', [], [])\n",
            "('/content/drive/My Drive/THESIS2015/Chapter6/Figures', [], ['Picture1.png', 'Picture5.png', 'Picture4.png', 'Picture2.png', 'Picture3.png', 'Picture6a.png', 'Visual3.png', 'Visual2.png', 'Visual1.png', 'Picture625.png', 'Picture12.png', 'Picture14.png', 'Picture15.png', 'Picture13.png'])\n",
            "('/content/drive/My Drive/THESIS2015/0Templates', [], ['Thesis_Template.docx', 'Thesis_Template.dotm', 'Chapter_Template.docx', 'Chapter_Template.dotm', 'Chapter_Template.dotx', 'Thesis_Template.dotx'])\n",
            "('/content/drive/My Drive/THESIS2015/Chapter4', ['Code', 'Figures'], ['Chapter_4.docx', '~$Presentation_4.pptx', '~$apter_4_CMU.docx', 'Figures_4.rar', 'Chapter_4_CMU.pdf', 'Chapter_4_CMU.docx', 'Thesis_CMU_Draft.pdf', 'Thesis_CMU_ Final.pdf', 'Presentation_4.pptx'])\n",
            "('/content/drive/My Drive/THESIS2015/Chapter4/Code', [], [])\n",
            "('/content/drive/My Drive/THESIS2015/Chapter4/Figures', [], ['IMG_0478.JPG', 'Presentation1.pptx', 'Picture1.png', 'Depth data.png', 'IMG_0472.JPG', 'Picture2.png', 'Picture3.png', '3.90.jpg', 'Picture25.png', 'Picture18.png', 'Picture125.png', 'Picture1 df fd.png', 'Picture1 df fd2.png', 'Picture146.png', 'Picture1124.png', 'Picture1765.png', 'Picture153.png', '4_11_d.png', '4_11_f.png', '4_11_e.png', 'X-Error.png', 'Z-Error.png', 'Y-Error.png', '321.png', '3212.png', '243.png', 'Picture195l.png', 'Picture1954.png', '4_1_a.png', '4_1_b.png', '4_2_a.png', '4_2_b.png', '4_3_a.png', '4_3_b.png', '4_3_c.png', '4_4_a.png', '4_4_b.png', '4_4_c.png', '4_7_a.png', '4_7_b.png', '4_7_c.png', '4_7_d.png', '4_8_a.png', '4_8_b.png', '4_9_a.png', '4_9_b.png', '4_10_a.png', '4_10_b.png', '4_10_c.png', '4_11_a.png', '4_11_b.png', '4_11_c.png', '4_12_a.png', '4_12_b.png', '4_13_a.png', '4_13_b.png', '4_14_a.png', '4_14_b.png', '4_15_a.png', '4_15_b.png', '4_16_a.png', '4_16_b.png', '4_16_c.png', '4_17_a.png', '4_17_b.png', '4_17_c.png', '4_18_a.png', '4_18_b.png', '4_19_a.png', '4_19_b.png', '4_19_c.png', '4_20_a.png', '4_20_b.png', '4_21.png', 'GMM_Example.png', 'GP learning.png', '4_5.png', '4_6.png'])\n",
            "('/content/drive/My Drive/THESIS2015/To Review', [], ['GPtutorial.pdf', 'RW.pdf', 'quaternions-cs520.pdf', 'HedjaziMoghari_Mehdi_200809_PhD.pdf', 'springer_54401.pdf', 'WhatsReal.pdf', 'TR-186-2-96-06Paper.pdf', '04650967.pdf', 'art%3A10.1007%2Fs11263-011-0466-7.pdf', 'iros2012.pdf', '67_13_3DV.pdf', 'DecorAR-Surveyon3DShapedescriptors.pdf', 'isprsannals-II-3-57-2014.pdf', 'VISAPP2014.pdf', 'bok%3A978-1-4471-5283-5.pdf', 'lozano-medioni-carroch-jmiv_IMPORTANT.pdf', '10.1.1.42.9338_ICP.pdf', 'OptiTrack.pdf', 'Low-latency localization by Active LED Markers tracking.pdf', 'Tutorial of OptiTrack Arena Motion Capture System.pdf', 'NaturalPoint Tracking Tools.pdf', 'IR Marker Extraction and Image Registration using Stereo.pdf', 'Closed-Form Solution of Absolute Orientation.pdf', 'Marker-less 3D F eature T racking for Mesh-based.pdf', 'A Low-cost Real-time Tracking Infrastructure.pdf', 'A Comparative Evaluation of 3D Keypoint Detectors in a RGB-D Object.pdf', 'COMPARISON OF 3D INTEREST POINT DETECTORS AND DESCRIPTORS.pdf', 'Evaluation of 3D Feature Descriptors for Multi-modal Data Registration.pdf', '3D Descriptors for Object and Category Recognition a Comparative.pdf', 'Gaussian Processes for Regression.pdf', 'New Algorithms in Rigid-Body Registration and.pdf', 'Quaternions and Rotations.pdf', 'Mixed Reality A Survey.pdf', 'What’s Real About VR.pdf', 'Dense versus Sparse Approaches for Estimating.pdf', 'Virtual Reality.pdf', 'Aligning Point Cloud V ie ws using Persistent Feature Histograms.pdf', 'Evaluation of 3D Feature Descriptors for Multimodal Data Registration.pdf', 'A Comparative Evaluation of 3D Keypoint Detectors in a RGBD Object.pdf', 'Registration of 2D Points Using Geometric Algebra and Tensor.pdf', 'Optimization for Computer Vision.pdf', 'ICP gistration of Free-Form Curves.pdf', 'Survey on the Registration of 3D Point Clouds and Meshes.pdf', 'RAPID - A Video Rate Object Tracker.pdf', 'lect6.pdf', 'A Method for Predicting Marker Tracking Error.pdf', 'Augmented Reality a practical guide.pdf', 'A Tutorial On Camera Models.pdf', '3D Reconstruction from Multiple Images.pdf', 'Stereo Vision.pdf', 'Performance and Motion Capture Using Multiple Xbox.pdf', 'Multikinects.pdf', 'multikinects_1.pdf', 'Virtual Reality History, Applications, Technology and Future.pdf', 'Marker-less 3D Feature Tracking for Mesh-based.pdf', 'mannberg_thesis10_version1.pdf', 'Marker-less Detection of Virtual Objects using Augmented Reality.pdf', 'A_Survey_of_Augmented_Reality_Challenges_and_Tracking.pdf', 'Markerless Augmented Reality with a Real-time Affine Region Tracker.pdf', 'Unique Signatures of Histograms for Local Surface.pdf', 'Multiview Imaging 3DTV.pdf', 'PROGRAMMING HIGH-PERFORMANCE PARALLEL.pdf', 'StructuredLight.pdf', 'CS6320-CV-S2012-StructuredLight.pdf', 'Real-Time, Full 3-D Reconstruction of.pdf', 'Time-of-Flight Camera – An Introduction.pdf'])\n",
            "('/content/drive/My Drive/THESIS2015/VIVA preparation material', [], [])\n",
            "('/content/drive/My Drive/THESIS2015/ANTHONY work', [], ['Adaptive Behavior-2000-Pipe-173-203.pdf'])\n",
            "('/content/drive/My Drive/THESIS2015/Presentation', [], ['Kinect Working Principle.wmv'])\n",
            "('/content/drive/My Drive/FilterRegistration', ['IEEE Transaction on pattern analysis and machine intelligence', 'Figures', 'Images', 'CODE'], ['~WRL3460.tmp', '~$Recursive Filtering Approach for Robust 3D Registration.docx', '~WRL3956.tmp', '~$List2.docx', 'fully_automatic_registration_of_d_point_clouds.pdf', 'List2.docx', 'Presentation2.pptx', 'Presentation1.pptx', '~$sults And Discussions.docx', 'Results And Discussions.docx', 'Presentation3.pptx', 'A Recursive Filtering Approach for Robust 3D Registration.docx', 'A Recursive Filtering Approach for Robust 3D Registration_ForRevision.docx', 'A Recursive Filtering Approach for Robust 3D Registration_ForRevision_Luke.docx', 'Results and discussion_2.docx', 'Presentation4.pptx', 'A Recursive Filtering Approach for Robust 3D Registration_ForRevision_Luke_Grammarly.docx', 'A Recursive Filtering Approach for Robust 3D Registration.pdf', '~$Recursive Filtering Approach for Robust 3D Registration_ForRevision_Luke_Grammarly.docx', '~$Recursive Filtering Approach for Robust 3D Registration_ChapterForm.docx', '~$Presentation2.pptx', '~$Presentation1.pptx', '~$Recursive Filtering Approach for Robust 3D Registration_1.docx', 'A Recursive Filtering Approach for Robust 3D Registration_1.pdf', 'CoverLetter.docx', '~$verLetter.docx', 'CoverLetter.pdf', 'A Recursive Filtering Approach for Robust 3D Registration_ChapterForm.docx', 'A Recursive Filtering Approach for Robust 3D Registration_1.docx', '~WRL3346.tmp', '~$Recursive Filtering Approach for Robust 3D Registration_12.docx', 'A Recursive Filtering Approach for Robust 3D Registration_12.pdf', 'A Recursive Filtering Approach for Robust 3D Registration_12_.docx', 'A Recursive Filtering Approach for Robust 3D Registration_12_.pdf', 'A Recursive Filtering Approach for Robust 3D Registration_12.docx'])\n",
            "('/content/drive/My Drive/FilterRegistration/IEEE Transaction on pattern analysis and machine intelligence', [], [])\n",
            "('/content/drive/My Drive/FilterRegistration/Figures', ['Result 1', 'Result FINAL', 'Results 2'], ['UncertaintyXYZ.png', 'ZY.png', 'ZX.png', 'YX.png', 'Picture1.png', 'Picture2.png', 'Picture3.png', 'result.png', 'Time_1.png', 'X_2.png', 'Time_2.png', 'Y_2.png', 'XYZ_2.png', 'Z_2.png', 'XYZ_3.png', 'Z_3.png', 'Y_3.png', 'X_3.png', 'X_1.png', 'Y_1.png', 'Z_1.png', 'XYZ_1.png', 'Time_3.png', 'X_4.png', 'Y_4.png', 'Y_4 (1).png', 'Z_4.png', 'XYZ_4.png', 'Time_4.png', 'X_5.png', 'Y_5.png', 'Y_5 (1).png', 'Z_5.png', 'XYZ_5.png', 'Time_5.png', 'Kinect.png', 'Picture4.png', 'UncertaintyEllipsoid.png', 'Kinect_2.png'])\n",
            "('/content/drive/My Drive/FilterRegistration/Figures/Result 1', [], [])\n",
            "('/content/drive/My Drive/FilterRegistration/Figures/Result FINAL', [], ['Time_0002.png', 'Time_008.png', 'Time_03.png', 'Time_Kin_0002.png', 'X_0002.png', 'X_008.png', 'X_03.png', 'X_Kin_0002.png', 'X_Kin_02.png', 'XYZ_0002.png', 'XYZ_03.png', 'XYZ_Kin_0002.png', 'XYZ_Kin_02.png', 'Y_0002.png', 'Y_008.png', 'Y_03.png', 'Y_Kin_0002.png', 'Y_Kin_02.png', 'Z_0002.png', 'Z_008.png', 'Z_03.png', 'Z_Kin_0002.png', 'Z_Kin_02.png', 'Time_Kin_02.png', 'XYZ_008.png', 'Visual3.png', 'Visual2.png', 'Visual1.png'])\n",
            "('/content/drive/My Drive/FilterRegistration/Figures/Results 2', [], ['Time_1.png', 'X_1.png', 'Y_1.png', 'Z_1.png', 'XYZ_1.png', 'X_2.png', 'Y_2.png', 'Z_2.png', 'XYZ_2.png', 'Time_2.png', 'X_3.png', 'Y_3.png', 'Z_3.png', 'XYZ_3.png', 'Time_3.png', 'X_4.png', 'Y_4.png', 'Z_4.png', 'XYZ_4.png', 'Time_4.png'])\n",
            "('/content/drive/My Drive/FilterRegistration/Images', [], ['UncertaintyXY.png', 'UncertaintyXZ.png', 'UncertaintyYZ.png', 'UncertaintyXYZ.png', 'Triaxial_Ellipsoid.jpg'])\n",
            "('/content/drive/My Drive/FilterRegistration/CODE', ['New folder'], ['readme.txt', 'icpCpp.m', 'icpCpp.cpp', 'kdtree.m', 'kdtree.cc', 'kdtree_common.cc', 'icpCpp.dll', 'kdtree_common.h', 'make.m', 'icp_demo.m', 'kdtree.dll', 'fminlbfgs.m', 'movepoints.m', 'license.txt', 'absor.m', 'demo.m', 'TestCov.m', 'error_ellipse.m', 'ellipse3D.m', 'plot_gaussian_ellipsoid.m', 'uncertaintyPlotExample.asv', 'UncertaintyPlot.asv', 'uncertaintyPlotExample.m', 'UncertaintyPlot.m', 'KalmanRegistration.asv', 'RobustRegistration.asv', 'HornICP.asv', 'KalmanRegistration.m', 'R.mat', 'rigidICP.m', 'Preall.m', 'ICPmanu_allign2.m', 'HornICP.m', 'RMS_pointcloud.asv', 'RobustRegistration.m', 'X_Kin_005.png', 'Y_Kin_005.png', 'Z_Kin_005.png', 'XYZ_Kin_005.png', 'Time_Kin_005.png', 'X_Kin_00005.png', 'Y_Kin_00005.png', 'Z_Kin_00005.png', 'XYZ_Kin_00005.png', 'Time_Kin_00005.png', 'X_00.png', 'Y_00.png', 'Z_00.png', 'XYZ_00.png', 'Time_00.png', 'X_08.png', 'Y_08.png', 'Z_08.png', 'XYZ_08.png', 'Time_08.png', 'X_02.png', 'Y_02.png', 'Z_02.png', 'XYZ_02.png', 'Time_02.png', 'GenerateTransformations.m', 'TR.mat', 'icpCpp.mexw64', 'kdtree.mexw64', 'icp.m', 'RMS_pointcloud.m', 'ICP_finite.m', 'FiltersBased3DRegistration.asv', 'FiltersBased3DRegistration.m'])\n",
            "('/content/drive/My Drive/FilterRegistration/CODE/New folder', ['Others'], ['Z_0005.png', 'Info.txt', '3Dview example.png', 'X_03.png', 'X_008.png', 'X_0002.png', 'Time_008.png', 'Time_0002.png', 'Time_03.png', 'Y_03.png', 'XYZ_03.png', 'Y_008.png', 'Y_0002.png', 'XYZ_008.png', 'Z_0002.png', 'Z_03.png', 'Z_008.png', 'XYZ_0002.png', 'X_Kin_02.png', 'Y_Kin_02.png', 'Z_Kin_02.png', 'XYZ_Kin_02.png', 'X_Kin_0002.png', 'Y_Kin_0002.png', 'Z_Kin_0002.png', 'XYZ_Kin_0002.png', 'Time_Kin_0002.png', 'Time_Kin_02.png'])\n",
            "('/content/drive/My Drive/FilterRegistration/CODE/New folder/Others', [], ['X_02.png', 'Y_02.png', 'Z_02.png', 'XYZ_02.png', 'Time_02.png', 'X_0002.png', 'Y_0002.png', 'Z_0002.png', 'XYZ_0002.png', 'Time_0002.png', 'X_0202.png', 'Y_0202.png', 'Z_0202.png', 'XYZ_0202.png', 'Time_0202.png', 'X_0005.png', 'Y_0005.png', 'Z_0005.png', 'XYZ_0005.png', 'Time_0005.png'])\n",
            "('/content/drive/My Drive/Hotels', [], ['Manage your bookings - Booking.com.pdf'])\n",
            "('/content/drive/My Drive/Shared', [], ['WorkPresentation.pptx'])\n",
            "('/content/drive/My Drive/TRAVEL', [], ['2015-05-03 12-35.pdf', 'New Picture (2).bmp', 'New Picture (3).bmp', '2015-05-03 12-35 (1).pdf'])\n",
            "('/content/drive/My Drive/SIVP', ['Figures'], ['SIVP_Reviews.docx', 'AnswerToReviewer.docx', 'trans_jour (1).docx', 'A Recursive Filtering Approach for Robust 3D Registration_Corrected.docx', 'Presentation1.pptx', '~$Presentation1.pptx'])\n",
            "('/content/drive/My Drive/SIVP/Figures', [], ['Time_0002.png', 'XYZ_Kin_02.png', 'XYZ_Kin_0002.png', 'XYZ_008.png', 'XYZ_003.png', 'XYZ_0002.png', 'Time_03.png', 'Time_08.png', 'Time_Kin_0002.png', 'Time_Kin_02.png'])\n",
            "('/content/drive/My Drive/SCANNED DOC', [], ['DACPR001_DACI-JPA14817_0039_001.pdf', 'DACPR001_DACI-JPA14817_0041_001.pdf', 'DACPR001_DACI-JPA14817_0042_001.pdf'])\n",
            "('/content/drive/My Drive/AMIRA', [], ['Membership Card_AMIRA.pdf'])\n",
            "('/content/drive/My Drive/ABDENOUR', [], ['20180919.pdf', 'habilitation-Amamra.pdf'])\n",
            "('/content/drive/My Drive/Smooth Real Time Head Tracking for Virtual Reality Applications_2', [], ['Smooth Real Time Head Tracking for Virtual Reality Applications_REVIEW_1.docx', 'Smooth Real Time Head Tracking for Virtual Reality Applications_REVIEW_1_2.pdf', 'AnswersToReviewrs.pdf', '894E4A67.tmp', 'PythagoreanHodograph.m', 'RVIEW.docx', 'AnswersToReviewrs.docx', 'AnswersToReviewrs_2.docx', 'Smooth Real Time Head Tracking for Virtual Reality Applications_2.docx', 'Smooth Real Time Head Tracking for Virtual Reality Applications_4.docx', 'Smooth Real Time Head Tracking for Virtual Reality Applications.docx', 'Presentation1.pptx', 'Smooth Real Time Head Tracking for Virtual Reality Applications yy.pdf', 'Doc1.pdf', 'Smooth Real Time Head Tracking for Virtual Reality Applications (Repaired).docx'])\n",
            "('/content/drive/My Drive/Colab Notebooks', [], ['workFile', 'DeepLearning_0.ipynb', 'DeepLearning_1.ipynb', 'Pickle_Images.ipynb', 'Multilayer Perceptron (MLP) for multi-class softmax classification.ipynb', 'MLP for binary classification.ipynb', 'VGG-like convnet.ipynb', 'Stateful LSTM.ipynb', 'Stacked LSTM.ipynb', 'Sequence with 1D CNN.ipynb', 'DeepLearning_2.ipynb', 'DeepLearning_3.ipynb', 'DeepLearning_4.ipynb', 'Untitled0.ipynb', 'Learn_Python.ipynb'])\n",
            "('/content/drive/My Drive/FEDCSIS2019', [], ['CrimeScene.pdf', 'Crowd.pdf', 'Road.pdf', 'FEDCSIS_2019_CROWD.pptx', 'FEDCSIS_19_CrimeScene (1).pptx', 'FEDCSIS_2019_CROWD (1).pptx', 'FEDCSIS_19_CrimeScene.pptx', 'FEDCSIS_19_CrimeScene (2).pptx', 'FEDCSIS_19_CrimeScene (2) (1).pptx'])\n",
            "('/content/drive/My Drive/vopo.easyhomefinance', [], ['VOPO_EASYHOMEFINANCE.DB'])\n",
            "('/content/drive/.Trash', [], [])\n",
            "('/content/sample_data', [], ['anscombe.json', 'README.md', 'california_housing_test.csv', 'california_housing_train.csv', 'mnist_train_small.csv', 'mnist_test.csv'])\n"
          ],
          "name": "stdout"
        }
      ]
    },
    {
      "cell_type": "code",
      "metadata": {
        "id": "v-37lYZMdOU1",
        "colab_type": "code",
        "outputId": "7c95c18f-b17f-494c-b4bf-b970b469e667",
        "colab": {
          "base_uri": "https://localhost:8080/",
          "height": 35
        }
      },
      "source": [
        "from pathlib import Path\n",
        "wd_path = Path(os.getcwd())\n",
        "wd_path_parent = wd_path.parent\n",
        "print(wd_path_parent.parent)"
      ],
      "execution_count": 0,
      "outputs": [
        {
          "output_type": "stream",
          "text": [
            "/\n"
          ],
          "name": "stdout"
        }
      ]
    },
    {
      "cell_type": "code",
      "metadata": {
        "id": "3b6pA-nyY024",
        "colab_type": "code",
        "outputId": "afc26fc7-0123-4c0a-bcc7-2a0e07bbc918",
        "colab": {
          "base_uri": "https://localhost:8080/",
          "height": 139
        }
      },
      "source": [
        "#CS231 Python\n",
        "x = 10.0\n",
        "print(type(x))\n",
        "print(x + 1)\n",
        "print(x - 1)\n",
        "print(x**2)\n",
        "x += 1\n",
        "print(x)\n",
        "x *= 2\n",
        "print(x)\n",
        "print(x, 2*x,x**3)"
      ],
      "execution_count": 0,
      "outputs": [
        {
          "output_type": "stream",
          "text": [
            "<class 'float'>\n",
            "11.0\n",
            "9.0\n",
            "100.0\n",
            "11.0\n",
            "22.0\n",
            "22.0 44.0 10648.0\n"
          ],
          "name": "stdout"
        }
      ]
    },
    {
      "cell_type": "code",
      "metadata": {
        "id": "4wETrEZyZihO",
        "colab_type": "code",
        "outputId": "a55febe3-b04a-47c8-aba2-a7dbadacc656",
        "colab": {
          "base_uri": "https://localhost:8080/",
          "height": 104
        }
      },
      "source": [
        "b1 = True\n",
        "b2 = False\n",
        "print(type(b1))\n",
        "print(b1 and b1)\n",
        "print(b1 or b2)\n",
        "print(not True)\n",
        "t = not b1\n",
        "print(b1 != t)"
      ],
      "execution_count": 0,
      "outputs": [
        {
          "output_type": "stream",
          "text": [
            "<class 'bool'>\n",
            "True\n",
            "True\n",
            "False\n",
            "True\n"
          ],
          "name": "stdout"
        }
      ]
    },
    {
      "cell_type": "code",
      "metadata": {
        "id": "jbIOv3XKaIfY",
        "colab_type": "code",
        "outputId": "7715b776-65fa-455b-e09e-b6a085e4455a",
        "colab": {
          "base_uri": "https://localhost:8080/",
          "height": 52
        }
      },
      "source": [
        "s1 = 'hello'\n",
        "s2 = 'world'\n",
        "print(s1 +' '+ s2)\n",
        "h = '%s %s %d'%(s1, s2, 12)\n",
        "print(h)"
      ],
      "execution_count": 0,
      "outputs": [
        {
          "output_type": "stream",
          "text": [
            "hello world\n",
            "hello world 12\n"
          ],
          "name": "stdout"
        }
      ]
    },
    {
      "cell_type": "code",
      "metadata": {
        "id": "PTO3WjJja7iz",
        "colab_type": "code",
        "outputId": "1815f7d4-d0fd-420c-c534-16dc547ebb41",
        "colab": {
          "base_uri": "https://localhost:8080/",
          "height": 69
        }
      },
      "source": [
        "l = [1, 2, 3]\n",
        "l.append('abc')\n",
        "print(l[-1])\n",
        "print(l.pop())\n",
        "print(l)"
      ],
      "execution_count": 0,
      "outputs": [
        {
          "output_type": "stream",
          "text": [
            "abc\n",
            "abc\n",
            "[1, 2, 3]\n"
          ],
          "name": "stdout"
        }
      ]
    },
    {
      "cell_type": "code",
      "metadata": {
        "id": "_IYB9OjIbQCS",
        "colab_type": "code",
        "outputId": "77d0380f-b6ea-4e8a-9b6a-50ab8e2410f3",
        "colab": {
          "base_uri": "https://localhost:8080/",
          "height": 104
        }
      },
      "source": [
        "l = list(range(3))\n",
        "print(l)\n",
        "print(l[:])\n",
        "print(l[0:])\n",
        "print(l[:-1])\n",
        "l[0:1] = ['a', 'b']\n",
        "print(l)"
      ],
      "execution_count": 0,
      "outputs": [
        {
          "output_type": "stream",
          "text": [
            "[0, 1, 2]\n",
            "[0, 1, 2]\n",
            "[0, 1, 2]\n",
            "[0, 1]\n",
            "['a', 'b', 1, 2]\n"
          ],
          "name": "stdout"
        }
      ]
    },
    {
      "cell_type": "code",
      "metadata": {
        "id": "HKbCew5zbuSL",
        "colab_type": "code",
        "outputId": "f02a24e4-89d9-4f37-ee17-6f06704bde65",
        "colab": {
          "base_uri": "https://localhost:8080/",
          "height": 69
        }
      },
      "source": [
        "animals= ['dog', 'cat', 'monkey']\n",
        "for animal in animals:\n",
        "  print(animal)"
      ],
      "execution_count": 0,
      "outputs": [
        {
          "output_type": "stream",
          "text": [
            "dog\n",
            "cat\n",
            "monkey\n"
          ],
          "name": "stdout"
        }
      ]
    },
    {
      "cell_type": "code",
      "metadata": {
        "id": "jkP-7np8b4ja",
        "colab_type": "code",
        "outputId": "baee2216-5883-464d-f668-2e4dc5ca5b08",
        "colab": {
          "base_uri": "https://localhost:8080/",
          "height": 69
        }
      },
      "source": [
        "for i, animal in enumerate(animals):\n",
        "  print('idx %d corresponds to %s'%(i, animal))"
      ],
      "execution_count": 0,
      "outputs": [
        {
          "output_type": "stream",
          "text": [
            "idx 0 corresponds to dog\n",
            "idx 1 corresponds to cat\n",
            "idx 2 corresponds to monkey\n"
          ],
          "name": "stdout"
        }
      ]
    },
    {
      "cell_type": "code",
      "metadata": {
        "id": "I6tJ3XSqckvH",
        "colab_type": "code",
        "outputId": "a7de8aba-a264-45b8-e7e4-aa60a2faf18e",
        "colab": {
          "base_uri": "https://localhost:8080/",
          "height": 35
        }
      },
      "source": [
        "l = list(range(5))\n",
        "squares = []\n",
        "for e in l:\n",
        "  squares.append(e**2)\n",
        "print(squares)"
      ],
      "execution_count": 0,
      "outputs": [
        {
          "output_type": "stream",
          "text": [
            "[0, 1, 4, 9, 16]\n"
          ],
          "name": "stdout"
        }
      ]
    },
    {
      "cell_type": "code",
      "metadata": {
        "id": "H4ZBG9dic7AB",
        "colab_type": "code",
        "outputId": "dcac4702-910f-447c-c59c-50dcdeaab67a",
        "colab": {
          "base_uri": "https://localhost:8080/",
          "height": 35
        }
      },
      "source": [
        "squares = [x**2 for x in l]\n",
        "print(squares)"
      ],
      "execution_count": 0,
      "outputs": [
        {
          "output_type": "stream",
          "text": [
            "[0, 1, 4, 9, 16]\n"
          ],
          "name": "stdout"
        }
      ]
    },
    {
      "cell_type": "code",
      "metadata": {
        "id": "wzmWzFzRdFQH",
        "colab_type": "code",
        "outputId": "1a2b1549-9270-4499-fdeb-31b7d2a1bcc3",
        "colab": {
          "base_uri": "https://localhost:8080/",
          "height": 35
        }
      },
      "source": [
        "squares_odd=[]\n",
        "squares_odd = [x**2 for x in l if x % 2 == 0]\n",
        "print(squares_odd)"
      ],
      "execution_count": 0,
      "outputs": [
        {
          "output_type": "stream",
          "text": [
            "[0, 4, 16]\n"
          ],
          "name": "stdout"
        }
      ]
    },
    {
      "cell_type": "code",
      "metadata": {
        "id": "drd2cpckdntY",
        "colab_type": "code",
        "outputId": "27e11021-86c1-400a-eabe-d279a74db521",
        "colab": {
          "base_uri": "https://localhost:8080/",
          "height": 104
        }
      },
      "source": [
        "dict = {1:'cat', 2:'dog', 3:'horse'}\n",
        "for key, value in dict.items():\n",
        "  print(key, value)\n",
        "print(dict[1])\n",
        "print(2 in dict)"
      ],
      "execution_count": 0,
      "outputs": [
        {
          "output_type": "stream",
          "text": [
            "1 cat\n",
            "2 dog\n",
            "3 horse\n",
            "cat\n",
            "True\n"
          ],
          "name": "stdout"
        }
      ]
    },
    {
      "cell_type": "code",
      "metadata": {
        "id": "L-6n1_sTfma8",
        "colab_type": "code",
        "outputId": "0cfc00c3-a0a5-44e2-c81c-5ea736f7ad2c",
        "colab": {
          "base_uri": "https://localhost:8080/",
          "height": 35
        }
      },
      "source": [
        "d = {x:x**2 for x in range(10) if x % 2 != 0}\n",
        "print(d)"
      ],
      "execution_count": 0,
      "outputs": [
        {
          "output_type": "stream",
          "text": [
            "{1: 1, 3: 9, 5: 25, 7: 49, 9: 81}\n"
          ],
          "name": "stdout"
        }
      ]
    },
    {
      "cell_type": "code",
      "metadata": {
        "id": "ENp39m3jf4cO",
        "colab_type": "code",
        "outputId": "31e34679-054a-4040-a52e-244b32e7f056",
        "colab": {
          "base_uri": "https://localhost:8080/",
          "height": 87
        }
      },
      "source": [
        "s = {x for x in range(10)}\n",
        "print(s, type(s))\n",
        "print(2 in s)\n",
        "s.add(12)\n",
        "print(s)\n",
        "s.remove(2)\n",
        "print(len(s))"
      ],
      "execution_count": 0,
      "outputs": [
        {
          "output_type": "stream",
          "text": [
            "{0, 1, 2, 3, 4, 5, 6, 7, 8, 9} <class 'set'>\n",
            "True\n",
            "{0, 1, 2, 3, 4, 5, 6, 7, 8, 9, 12}\n",
            "10\n"
          ],
          "name": "stdout"
        }
      ]
    },
    {
      "cell_type": "code",
      "metadata": {
        "id": "rliWIsw3ggbH",
        "colab_type": "code",
        "outputId": "404882e5-6788-44f0-dc8d-9041482dca0e",
        "colab": {
          "base_uri": "https://localhost:8080/",
          "height": 139
        }
      },
      "source": [
        "s = {x**2 for x in range(10) if x // 5 > 0}\n",
        "print(s)\n",
        "print(s)\n",
        "for i, x in enumerate(s):\n",
        "  print(i, x)"
      ],
      "execution_count": 0,
      "outputs": [
        {
          "output_type": "stream",
          "text": [
            "{64, 36, 81, 49, 25}\n",
            "{64, 36, 81, 49, 25}\n",
            "0 64\n",
            "1 36\n",
            "2 81\n",
            "3 49\n",
            "4 25\n"
          ],
          "name": "stdout"
        }
      ]
    },
    {
      "cell_type": "code",
      "metadata": {
        "id": "H_t4Y1kyhROx",
        "colab_type": "code",
        "outputId": "d1721ebc-aa34-4dfb-a3cc-13359304e177",
        "colab": {
          "base_uri": "https://localhost:8080/",
          "height": 35
        }
      },
      "source": [
        "t = (1,2,2)\n",
        "print(type(t),t)"
      ],
      "execution_count": 0,
      "outputs": [
        {
          "output_type": "stream",
          "text": [
            "<class 'tuple'> (1, 2, 2)\n"
          ],
          "name": "stdout"
        }
      ]
    },
    {
      "cell_type": "code",
      "metadata": {
        "id": "_TUF66-Yhyl3",
        "colab_type": "code",
        "outputId": "0d15b4f7-38b0-4b1d-de91-98ed3201fa90",
        "colab": {
          "base_uri": "https://localhost:8080/",
          "height": 69
        }
      },
      "source": [
        "def sign(x, do=True):\n",
        "  if do:\n",
        "    if x > 0 :\n",
        "      return 'positive' \n",
        "    elif x < 0 :\n",
        "      return 'negative' \n",
        "    else :\n",
        "      return 'zero'\n",
        "  else:\n",
        "    return '?'\n",
        "\n",
        "for x in [-1, 0, 1]:\n",
        "  print(sign(x, False))"
      ],
      "execution_count": 0,
      "outputs": [
        {
          "output_type": "stream",
          "text": [
            "?\n",
            "?\n",
            "?\n"
          ],
          "name": "stdout"
        }
      ]
    },
    {
      "cell_type": "code",
      "metadata": {
        "id": "sjWDoniGi2M-",
        "colab_type": "code",
        "outputId": "fb1f90fb-d798-4c63-9659-dc6f79d951ad",
        "colab": {
          "base_uri": "https://localhost:8080/",
          "height": 52
        }
      },
      "source": [
        "class Greeter(object):\n",
        "  def __init__(self, name):\n",
        "    self.name = name\n",
        "  \n",
        "  def greet(self, loud=False):\n",
        "    if loud:\n",
        "      print('HELLO %s'%(self.name.upper()))\n",
        "    else:\n",
        "      print('hello %s'%(self.name))\n",
        "f = Greeter(\"Fred\")\n",
        "f.greet()\n",
        "f.greet(True)\n"
      ],
      "execution_count": 0,
      "outputs": [
        {
          "output_type": "stream",
          "text": [
            "hello Fred\n",
            "HELLO FRED\n"
          ],
          "name": "stdout"
        }
      ]
    },
    {
      "cell_type": "code",
      "metadata": {
        "id": "Zli3um-Zpgov",
        "colab_type": "code",
        "colab": {
          "base_uri": "https://localhost:8080/",
          "height": 126
        },
        "outputId": "b6303c1a-1bd7-4188-d1a4-159ad67bc0d5"
      },
      "source": [
        "import numpy as np\n",
        "a = np.array([1, 2, 3])\n",
        "print(a)\n",
        "print(a.shape)\n",
        "print(a[0])\n",
        "B = np.array([[1, 2], [3, 2]])\n",
        "print(B)\n",
        "print(B[0,0])"
      ],
      "execution_count": 3,
      "outputs": [
        {
          "output_type": "stream",
          "text": [
            "[1 2 3]\n",
            "(3,)\n",
            "1\n",
            "[[1 2]\n",
            " [3 2]]\n",
            "1\n"
          ],
          "name": "stdout"
        }
      ]
    },
    {
      "cell_type": "code",
      "metadata": {
        "id": "XwmN-TATqKRM",
        "colab_type": "code",
        "colab": {
          "base_uri": "https://localhost:8080/",
          "height": 272
        },
        "outputId": "04bba8f2-6dfc-4bff-f65c-006e695f4d08"
      },
      "source": [
        "from numpy.random import random\n",
        "a = np.zeros((3,3))\n",
        "print(a)\n",
        "\n",
        "a = np.ones((3,3))\n",
        "print(a)\n",
        "\n",
        "a = np.eye((3))\n",
        "print(a)\n",
        "\n",
        "a = np.random.random((3,3))\n",
        "print(a)\n",
        "\n",
        "a = np.full((2, 2), 7.)\n",
        "print(a)"
      ],
      "execution_count": 6,
      "outputs": [
        {
          "output_type": "stream",
          "text": [
            "[[0. 0. 0.]\n",
            " [0. 0. 0.]\n",
            " [0. 0. 0.]]\n",
            "[[1. 1. 1.]\n",
            " [1. 1. 1.]\n",
            " [1. 1. 1.]]\n",
            "[[1. 0. 0.]\n",
            " [0. 1. 0.]\n",
            " [0. 0. 1.]]\n",
            "[[0.98856932 0.52735122 0.13143576]\n",
            " [0.77249162 0.37565219 0.70532493]\n",
            " [0.25278001 0.04541928 0.34616581]]\n",
            "[[7. 7.]\n",
            " [7. 7.]]\n"
          ],
          "name": "stdout"
        }
      ]
    },
    {
      "cell_type": "code",
      "metadata": {
        "id": "uTRmI4x4rLH_",
        "colab_type": "code",
        "colab": {
          "base_uri": "https://localhost:8080/",
          "height": 163
        },
        "outputId": "f63e7cd1-88bf-4210-ecd0-65272b58c154"
      },
      "source": [
        "a = np.array([[1,2,3,4], [5,6,7,8], [9,10,11,12]  ])\n",
        "print(a)\n",
        "b = a[:2,1:3]\n",
        "b[0, 0] = 0\n",
        "print(b)\n",
        "print(a)"
      ],
      "execution_count": 8,
      "outputs": [
        {
          "output_type": "stream",
          "text": [
            "[[ 1  2  3  4]\n",
            " [ 5  6  7  8]\n",
            " [ 9 10 11 12]]\n",
            "[[0 3]\n",
            " [6 7]]\n",
            "[[ 1  0  3  4]\n",
            " [ 5  6  7  8]\n",
            " [ 9 10 11 12]]\n"
          ],
          "name": "stdout"
        }
      ]
    },
    {
      "cell_type": "code",
      "metadata": {
        "id": "n5n8bWUKsGaJ",
        "colab_type": "code",
        "colab": {
          "base_uri": "https://localhost:8080/",
          "height": 126
        },
        "outputId": "7a5d5d7a-cddf-4d30-a67e-5e048f810b3e"
      },
      "source": [
        "r_1 = a[1, :]\n",
        "r_2 = a[1:2, :]\n",
        "print(r_1, r_1.shape)\n",
        "print(r_2, r_2.shape)\n",
        "\n",
        "c_1 = a[:, 1]\n",
        "c_2 = a[:, 1:2]\n",
        "print(c_1, c_1.shape)\n",
        "print(c_2, c_2.shape)"
      ],
      "execution_count": 11,
      "outputs": [
        {
          "output_type": "stream",
          "text": [
            "[5 6 7 8] (4,)\n",
            "[[5 6 7 8]] (1, 4)\n",
            "[ 0  6 10] (3,)\n",
            "[[ 0]\n",
            " [ 6]\n",
            " [10]] (3, 1)\n"
          ],
          "name": "stdout"
        }
      ]
    },
    {
      "cell_type": "code",
      "metadata": {
        "id": "y6xuIfACtG3X",
        "colab_type": "code",
        "colab": {
          "base_uri": "https://localhost:8080/",
          "height": 72
        },
        "outputId": "b7e03504-79a2-407e-d068-84ae91fa04c6"
      },
      "source": [
        "a = np.array([[1,2], [3, 4], [5, 6]])\n",
        "print(a.shape)\n",
        "print(a[[0,1,2],[0,1,0]])\n",
        "print(a[[0,0], [1,1]])"
      ],
      "execution_count": 14,
      "outputs": [
        {
          "output_type": "stream",
          "text": [
            "(3, 2)\n",
            "[1 4 5]\n",
            "[2 2]\n"
          ],
          "name": "stdout"
        }
      ]
    },
    {
      "cell_type": "code",
      "metadata": {
        "id": "rrPcd15FxJyh",
        "colab_type": "code",
        "colab": {
          "base_uri": "https://localhost:8080/",
          "height": 108
        },
        "outputId": "77681c71-96dd-4ed5-c0c7-24a911140dc8"
      },
      "source": [
        "a = np.array([[1,2,3], [4,5,6], [7,8,9], [10, 11, 12]])\n",
        "b = np.array([0, 2, 0, 1])\n",
        "print(a[np.arange(4), b])\n",
        "a[np.arange(4), b] *= 100\n",
        "print(a)"
      ],
      "execution_count": 20,
      "outputs": [
        {
          "output_type": "stream",
          "text": [
            "[ 1  6  7 11]\n",
            "[[ 100    2    3]\n",
            " [   4    5  600]\n",
            " [ 700    8    9]\n",
            " [  10 1100   12]]\n"
          ],
          "name": "stdout"
        }
      ]
    },
    {
      "cell_type": "code",
      "metadata": {
        "id": "qhYB8-LixUpQ",
        "colab_type": "code",
        "colab": {
          "base_uri": "https://localhost:8080/",
          "height": 35
        },
        "outputId": "f75fdf13-f006-4b53-f238-b6034d7794e9"
      },
      "source": [
        "print(a[a > 4])"
      ],
      "execution_count": 22,
      "outputs": [
        {
          "output_type": "stream",
          "text": [
            "[ 100    5  600  700    8    9   10 1100   12]\n"
          ],
          "name": "stdout"
        }
      ]
    }
  ]
}